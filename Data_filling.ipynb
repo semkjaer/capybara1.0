{
 "cells": [
  {
   "cell_type": "code",
   "execution_count": 9,
   "id": "f9a2e9ba",
   "metadata": {},
   "outputs": [],
   "source": [
    "import numpy as np\n",
    "import pandas as pd\n",
    "import geopandas as gpd\n",
    "\n",
    "\n",
    "file = pd.ExcelFile('Wijkdata_Jeugdhulp_in_de_wijk.ods')\n",
    "\n",
    "sheet_names = file.sheet_names\n",
    "\n",
    "wijk = pd.read_excel(file, sheet_name=sheet_names[-3])  # wijk\n",
    "gebr = pd.read_excel(file, sheet_name=sheet_names[-2])  # gebruik\n",
    "det = pd.read_excel(file, sheet_name=sheet_names[-1])  # determinanten\n",
    "\n",
    "file.close()\n",
    "\n",
    "df = det.copy()\n",
    "# als je wijk en gemeentecode hebt heb je wijkcode en gemeentenaam niet nodig\n",
    "df = df.merge(wijk[['wijk', 'gemeentecode']], on='wijk', how='left')\n",
    "# per_jhzv : aandeel jeugdigen met jeugdhulp zonder verblijf, waargenomen -> target variable\n",
    "df = df.merge(gebr[['wijk', 'perc_jhzv']], on='wijk', how='left')\n",
    "\n",
    "for col in df.columns:\n",
    "    df[col] = df[col].apply(lambda x: x if x != '.' else np.nan)\n",
    "\n",
    "# TODO is nu missig values vullen met gemiddelde hoe willen we dat doen?\n",
    "df.fillna(df.mean(), inplace=True)\n",
    "\n",
    "# hun schatting root mean squared error (residu = schatting - waargenomen)\n",
    "for col in gebr.columns:\n",
    "    gebr[col] = gebr[col].apply(lambda x: x if x != '.' else np.nan)\n",
    "\n",
    "# drop missende schattingen en bereken RMSE\n",
    "original_rmse = str((gebr.dropna(subset='residu')['residu']**2).mean()**0.5)\n",
    "\n",
    "# buurt_geo = gpd.read_file('./WijkBuurtkaart_2022_v1/buurt_2022_v1.shp')\n",
    "wijk_geo = gpd.read_file('./WijkBuurtkaart_2022_v1/wijk_2022_v1.shp')\n",
    "# gemeente_geo = gpd.read_file('./WijkBuurtkaart_2022_v1/gemeente_2022_v1.shp')\n",
    "\n",
    "wijk_geo = gpd.read_file('./WijkBuurtkaart_2022_v1/wijk_2022_v1.shp')\n",
    "wijk_geo['WK_CODE'] = wijk_geo['WK_CODE'].apply(lambda x: x[2:]).astype('float')\n",
    "wijk_geo['GM_CODE'] = wijk_geo['GM_CODE'].apply(lambda x: x[2:]).astype('float')\n",
    "wijk_final = df.merge(wijk_geo, left_on=['wijk', 'gemeentecode'], right_on=['WK_CODE', 'GM_CODE'], how='left')\n",
    "for col in wijk_final.columns:\n",
    "    wijk_final[col] = wijk_final[col].apply(lambda x: x if x != int(-99999999) else np.nan)\n",
    "\n",
    "\n",
    "df = wijk_final\n",
    "df = df.drop(['JRSTATCODE', 'JAAR', 'Shape_Leng', 'Shape_Area', 'geometry', 'wijk', 'WK_CODE', 'WK_NAAM', 'GM_CODE', 'GM_NAAM', 'gemeentecode', 'H2O'], axis=1)\n",
    "train_df = df.drop('perc_jhzv', axis=1)"
   ]
  },
  {
   "cell_type": "code",
   "execution_count": 35,
   "id": "d89a7898",
   "metadata": {},
   "outputs": [
    {
     "name": "stdout",
     "output_type": "stream",
     "text": [
      "Linear regression RMSE :  2.81100313186846\n",
      "Original RMSE:  2.2551381084753688\n"
     ]
    }
   ],
   "source": [
    "from sklearn.linear_model import LinearRegression\n",
    "from sklearn.model_selection import train_test_split\n",
    "from sklearn.metrics import mean_squared_error\n",
    "from impyute.imputation.cs import fast_knn, mice\n",
    "from sklearn.linear_model import TweedieRegressor\n",
    "\n",
    "# start the KNN training\n",
    "X_mean = train_df.fillna(train_df.mean())\n",
    "X_median = train_df.fillna(train_df.median())\n",
    "X_interpolate = train_df.interpolate(method='linear').fillna(0)\n",
    "X_knn = fast_knn(train_df.values, k=30)\n",
    "y = df['perc_jhzv']\n",
    "\n",
    "X_train, X_test, y_train, y_test = train_test_split(X_median, y, test_size=0.2, random_state=42)\n",
    "\n",
    "# Instantiate the model\n",
    "model = LinearRegression()\n",
    "\n",
    "# Train the model\n",
    "model.fit(X_train, y_train)\n",
    "\n",
    "# Predict the test data\n",
    "y_pred = model.predict(X_test)\n",
    "\n",
    "# Calculate RMSE of the model\n",
    "linear_rmse = np.sqrt(mean_squared_error(y_test, y_pred))\n",
    "print(\"Linear regression RMSE : \", linear_rmse)\n",
    "print(\"Original RMSE: \", original_rmse)"
   ]
  },
  {
   "cell_type": "code",
   "execution_count": 32,
   "id": "73a6b9e1",
   "metadata": {},
   "outputs": [],
   "source": [
    "# DOCUMENTATIE -----------------------------------------------------------------------------------------------------------------\n",
    "\n",
    "# Er is geprobeerd de waardes in te vullen door middel van het nemen van het gemiddelde, het nemen van de mediaan (deze\n",
    "# is overigens hetzelfde als 0 invullen voor elke missende waarde), door middel van interpolatie, of door middel van k-nearest neighbours. \n",
    "# De eerste methode brengt een RMSE van 2.8433 bij linear regression, de tweede methode een RMSE van 2.8110, \n",
    "# de derde methode een RMSE van 2.8394, en de vierde methode een RMSE van 2.8576"
   ]
  }
 ],
 "metadata": {
  "kernelspec": {
   "display_name": "Python 3 (ipykernel)",
   "language": "python",
   "name": "python3"
  },
  "language_info": {
   "codemirror_mode": {
    "name": "ipython",
    "version": 3
   },
   "file_extension": ".py",
   "mimetype": "text/x-python",
   "name": "python",
   "nbconvert_exporter": "python",
   "pygments_lexer": "ipython3",
   "version": "3.9.12"
  }
 },
 "nbformat": 4,
 "nbformat_minor": 5
}
