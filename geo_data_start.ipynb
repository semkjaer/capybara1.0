{
 "cells": [
  {
   "cell_type": "code",
   "execution_count": null,
   "metadata": {},
   "outputs": [],
   "source": [
    "import numpy as np\n",
    "import pandas as pd\n",
    "import geopandas as gpd\n",
    "\n",
    "\n",
    "file = pd.ExcelFile('Wijkdata_Jeugdhulp_in_de_wijk.ods')\n",
    "\n",
    "sheet_names = file.sheet_names\n",
    "\n",
    "wijk = pd.read_excel(file, sheet_name=sheet_names[-3])  # wijk\n",
    "gebr = pd.read_excel(file, sheet_name=sheet_names[-2])  # gebruik\n",
    "det = pd.read_excel(file, sheet_name=sheet_names[-1])  # determinanten\n",
    "\n",
    "file.close()\n",
    "\n",
    "df = det.copy()\n",
    "# als je wijk en gemeentecode hebt heb je wijkcode en gemeentenaam niet nodig\n",
    "df = df.merge(wijk[['wijk', 'gemeentecode']], on='wijk', how='left')\n",
    "# per_jhzv : aandeel jeugdigen met jeugdhulp zonder verblijf, waargenomen -> target variable\n",
    "df = df.merge(gebr[['wijk', 'perc_jhzv']], on='wijk', how='left')\n",
    "\n",
    "for col in df.columns:\n",
    "    df[col] = df[col].apply(lambda x: x if x != '.' else np.nan)\n",
    "\n",
    "# TODO is nu missig values vullen met gemiddelde hoe willen we dat doen?\n",
    "df.fillna(df.mean(), inplace=True)\n",
    "\n",
    "# hun schatting root mean squared error (residu = schatting - waargenomen)\n",
    "for col in gebr.columns:\n",
    "    gebr[col] = gebr[col].apply(lambda x: x if x != '.' else np.nan)\n",
    "\n",
    "# drop missende schattingen en bereken RMSE\n",
    "original_rmse = str((gebr.dropna(subset='residu')['residu']**2).mean()**0.5)\n",
    "\n",
    "# buurt_geo = gpd.read_file('./WijkBuurtkaart_2022_v1/buurt_2022_v1.shp')\n",
    "wijk_geo = gpd.read_file('./WijkBuurtkaart_2022_v1/wijk_2022_v1.shp')\n",
    "# gemeente_geo = gpd.read_file('./WijkBuurtkaart_2022_v1/gemeente_2022_v1.shp')\n",
    "\n",
    "print(wijk_geo.head())"
   ]
  }
 ],
 "metadata": {
  "language_info": {
   "name": "python"
  },
  "orig_nbformat": 4
 },
 "nbformat": 4,
 "nbformat_minor": 2
}
