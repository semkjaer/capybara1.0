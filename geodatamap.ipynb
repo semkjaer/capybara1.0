{
 "cells": [
  {
   "cell_type": "code",
   "execution_count": 1,
   "metadata": {},
   "outputs": [
    {
     "ename": "ModuleNotFoundError",
     "evalue": "No module named 'geopandas'",
     "output_type": "error",
     "traceback": [
      "\u001b[1;31m---------------------------------------------------------------------------\u001b[0m",
      "\u001b[1;31mModuleNotFoundError\u001b[0m                       Traceback (most recent call last)",
      "\u001b[1;32m~\\AppData\\Local\\Temp/ipykernel_19780/3763950452.py\u001b[0m in \u001b[0;36m<module>\u001b[1;34m\u001b[0m\n\u001b[0;32m      1\u001b[0m \u001b[1;32mimport\u001b[0m \u001b[0mnumpy\u001b[0m \u001b[1;32mas\u001b[0m \u001b[0mnp\u001b[0m\u001b[1;33m\u001b[0m\u001b[1;33m\u001b[0m\u001b[0m\n\u001b[0;32m      2\u001b[0m \u001b[1;32mimport\u001b[0m \u001b[0mpandas\u001b[0m \u001b[1;32mas\u001b[0m \u001b[0mpd\u001b[0m\u001b[1;33m\u001b[0m\u001b[1;33m\u001b[0m\u001b[0m\n\u001b[1;32m----> 3\u001b[1;33m \u001b[1;32mimport\u001b[0m \u001b[0mgeopandas\u001b[0m \u001b[1;32mas\u001b[0m \u001b[0mgpd\u001b[0m\u001b[1;33m\u001b[0m\u001b[1;33m\u001b[0m\u001b[0m\n\u001b[0m\u001b[0;32m      4\u001b[0m \u001b[1;33m\u001b[0m\u001b[0m\n\u001b[0;32m      5\u001b[0m \u001b[1;33m\u001b[0m\u001b[0m\n",
      "\u001b[1;31mModuleNotFoundError\u001b[0m: No module named 'geopandas'"
     ]
    }
   ],
   "source": [
    "import numpy as np\n",
    "import pandas as pd\n",
    "import geopandas as gpd\n",
    "\n",
    "\n",
    "file = pd.ExcelFile('Wijkdata_Jeugdhulp_in_de_wijk.ods')\n",
    "\n",
    "sheet_names = file.sheet_names\n",
    "\n",
    "wijk = pd.read_excel(file, sheet_name=sheet_names[-3])  # wijk\n",
    "gebr = pd.read_excel(file, sheet_name=sheet_names[-2])  # gebruik\n",
    "det = pd.read_excel(file, sheet_name=sheet_names[-1])  # determinanten\n",
    "\n",
    "file.close()\n",
    "\n",
    "df = det.copy()\n",
    "# als je wijk en gemeentecode hebt heb je wijkcode en gemeentenaam niet nodig\n",
    "df = df.merge(wijk[['wijk', 'gemeentecode']], on='wijk', how='left')\n",
    "# per_jhzv : aandeel jeugdigen met jeugdhulp zonder verblijf, waargenomen -> target variable\n",
    "df = df.merge(gebr[['wijk', 'perc_jhzv']], on='wijk', how='left')\n",
    "\n",
    "for col in df.columns:\n",
    "    df[col] = df[col].apply(lambda x: x if x != '.' else np.nan)\n",
    "\n",
    "# TODO is nu missig values vullen met gemiddelde hoe willen we dat doen?\n",
    "df.fillna(df.mean(), inplace=True)\n",
    "\n",
    "# hun schatting root mean squared error (residu = schatting - waargenomen)\n",
    "for col in gebr.columns:\n",
    "    gebr[col] = gebr[col].apply(lambda x: x if x != '.' else np.nan)\n",
    "\n",
    "# drop missende schattingen en bereken RMSE\n",
    "original_rmse = str((gebr.dropna(subset='residu')['residu']**2).mean()**0.5)\n",
    "\n",
    "# buurt_geo = gpd.read_file('./WijkBuurtkaart_2022_v1/buurt_2022_v1.shp')\n",
    "wijk_geo = gpd.read_file('./WijkBuurtkaart_2022_v1/wijk_2022_v1.shp')\n",
    "# gemeente_geo = gpd.read_file('./WijkBuurtkaart_2022_v1/gemeente_2022_v1.shp')\n",
    "\n",
    "wijk_geo = gpd.read_file('./WijkBuurtkaart_2022_v1/wijk_2022_v1.shp')\n",
    "wijk_geo['WK_CODE'] = wijk_geo['WK_CODE'].apply(lambda x: x[2:]).astype('float')\n",
    "wijk_geo['GM_CODE'] = wijk_geo['GM_CODE'].apply(lambda x: x[2:]).astype('float')\n",
    "wijk_final = wijk[['wijk', 'gemeentecode']].merge(wijk_geo, left_on=['wijk', 'gemeentecode'], right_on=['WK_CODE', 'GM_CODE'], how='left')"
   ]
  },
  {
   "cell_type": "code",
   "execution_count": null,
   "metadata": {},
   "outputs": [],
   "source": []
  }
 ],
 "metadata": {
  "kernelspec": {
   "display_name": "base",
   "language": "python",
   "name": "python3"
  },
  "language_info": {
   "codemirror_mode": {
    "name": "ipython",
    "version": 3
   },
   "file_extension": ".py",
   "mimetype": "text/x-python",
   "name": "python",
   "nbconvert_exporter": "python",
   "pygments_lexer": "ipython3",
   "version": "3.9.13"
  },
  "orig_nbformat": 4
 },
 "nbformat": 4,
 "nbformat_minor": 2
}
