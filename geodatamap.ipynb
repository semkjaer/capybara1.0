{
 "cells": [
  {
   "cell_type": "code",
   "execution_count": 13,
   "metadata": {},
   "outputs": [],
   "source": [
    "import numpy as np\n",
    "import pandas as pd\n",
    "import geopandas as gpd\n",
    "import shapefile as shp\n",
    "import matplotlib.pyplot as plt\n",
    "\n",
    "file = pd.ExcelFile('Wijkdata_Jeugdhulp_in_de_wijk.ods')\n",
    "\n",
    "sheet_names = file.sheet_names\n",
    "\n",
    "wijk = pd.read_excel(file, sheet_name=sheet_names[-3])  # wijk\n",
    "gebr = pd.read_excel(file, sheet_name=sheet_names[-2])  # gebruik\n",
    "det = pd.read_excel(file, sheet_name=sheet_names[-1])  # determinanten\n",
    "\n",
    "file.close()\n",
    "\n",
    "df = det.copy()\n",
    "# als je wijk en gemeentecode hebt heb je wijkcode en gemeentenaam niet nodig\n",
    "df = df.merge(wijk[['wijk', 'gemeentecode']], on='wijk', how='left')\n",
    "# per_jhzv : aandeel jeugdigen met jeugdhulp zonder verblijf, waargenomen -> target variable\n",
    "df = df.merge(gebr[['wijk', 'perc_jhzv']], on='wijk', how='left')\n",
    "\n",
    "for col in df.columns:\n",
    "    df[col] = df[col].apply(lambda x: x if x != '.' else np.nan)\n",
    "\n",
    "# TODO is nu missig values vullen met gemiddelde hoe willen we dat doen?\n",
    "df.fillna(df.mean(), inplace=True)\n",
    "\n",
    "# hun schatting root mean squared error (residu = schatting - waargenomen)\n",
    "for col in gebr.columns:\n",
    "    gebr[col] = gebr[col].apply(lambda x: x if x != '.' else np.nan)\n",
    "\n",
    "# drop missende schattingen en bereken RMSE\n",
    "# original_rmse = str((gebr.dropna(subset='residu')['residu']**2).mean()**0.5)\n",
    "\n",
    "# buurt_geo = gpd.read_file('./WijkBuurtkaart_2022_v1/buurt_2022_v1.shp')\n",
    "wijk_geo = gpd.read_file('./WijkBuurtkaart_2022_v1/wijk_2022_v1.shp')\n",
    "# gemeente_geo = gpd.read_file('./WijkBuurtkaart_2022_v1/gemeente_2022_v1.shp')\n",
    "\n",
    "wijk_geo['WK_CODE'] = wijk_geo['WK_CODE'].apply(lambda x: x[2:]).astype('float')\n",
    "wijk_geo['GM_CODE'] = wijk_geo['GM_CODE'].apply(lambda x: x[2:]).astype('float')\n",
    "wijk_final = df.merge(wijk_geo, left_on=['wijk', 'gemeentecode'], right_on=['WK_CODE', 'GM_CODE'], how='left')\n",
    "for col in wijk_final.columns:\n",
    "    wijk_final[col] = wijk_final[col].apply(lambda x: x if x != int(-99999999) else np.nan)\n",
    "\n",
    "df = wijk_final.fillna(wijk_final.mean())\n",
    "# df = df.drop(['JRSTATCODE', 'JAAR', 'Shape_Leng', 'Shape_Area', 'geometry', 'wijk', 'WK_CODE', 'WK_NAAM', 'GM_CODE', 'GM_NAAM', 'gemeentecode', 'H2O'], axis=1)\n",
    "df"
   ]
  },
  {
   "cell_type": "code",
   "execution_count": null,
   "metadata": {},
   "outputs": [],
   "source": [
    "\n",
    "wijk_geo.crs\n",
    "gdf = gpd.GeoDataFrame(df, crs=\"EPSG:28992\", geometry=df.geometry)\n",
    "gdf.columns"
   ]
  },
  {
   "cell_type": "code",
   "execution_count": null,
   "metadata": {},
   "outputs": [],
   "source": [
    "%matplotlib inline\n",
    "fig, ax = plt.subplots(figsize = (12,12))\n",
    "gdf.plot(ax=ax, column=\"AANT_INW\",legend=True, legend_kwds={\"label\": \"Aantal mensen per gemeente\", \"orientation\": \"horizontal\"}, edgecolor=\"black\")\n",
    "print(gdf[gdf.gemeentecode == 363].WK_NAAM)"
   ]
  },
  {
   "cell_type": "code",
   "execution_count": null,
   "metadata": {},
   "outputs": [],
   "source": [
    "gdf.crs"
   ]
  },
  {
   "cell_type": "code",
   "execution_count": null,
   "metadata": {},
   "outputs": [],
   "source": [
    "import plotly.express as px\n",
    "import pyproj\n",
    "\n",
    "gdf.to_crs(pyproj.CRS.from_epsg(28992), inplace=True)\n",
    "fig = px.choropleth(gdf,\n",
    "                   geojson=gdf.geometry,\n",
    "                   locations=gdf.index,\n",
    "                   color=\"woonwaarde\",\n",
    "                   projection=\"mercator\")\n",
    "\n",
    "fig.show()"
   ]
  },
  {
   "cell_type": "code",
   "execution_count": null,
   "metadata": {},
   "outputs": [],
   "source": []
  }
 ],
 "metadata": {
  "kernelspec": {
   "display_name": "base",
   "language": "python",
   "name": "python3"
  },
  "language_info": {
   "codemirror_mode": {
    "name": "ipython",
    "version": 3
   },
   "file_extension": ".py",
   "mimetype": "text/x-python",
   "name": "python",
   "nbconvert_exporter": "python",
   "pygments_lexer": "ipython3",
   "version": "3.9.13"
  },
  "orig_nbformat": 4
 },
 "nbformat": 4,
 "nbformat_minor": 2
}
