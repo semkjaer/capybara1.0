{
 "cells": [
  {
   "attachments": {},
   "cell_type": "markdown",
   "metadata": {},
   "source": [
    "# XGBOOST 2020, 2021, 2022"
   ]
  },
  {
   "cell_type": "code",
   "execution_count": 24,
   "metadata": {},
   "outputs": [],
   "source": [
    "# Deze code is al gerund, dus opnieuw runnen heeft geen zin.\n",
    "\n",
    "def append_str_to_columns(df, str, exclude_columns):\n",
    "    new_columns = []\n",
    "    for column in df.columns:\n",
    "        if column not in exclude_columns:\n",
    "            new_columns.append(column + '{}'.format(str))\n",
    "        else:\n",
    "            new_columns.append(column)\n",
    "    df.columns = new_columns\n",
    "    return df\n",
    "\n",
    "# stringlist = [\"_2019\",\"_2020\",\"_2021\",\"_2022\"]\n",
    "# dflist = [\"./data/kwb-2019.xlsx\",\"./data/kwb-2020.xls\",\"./data/kwb-2021.xls\", \"./data/kwb-2022.xls\"]\n",
    "\n",
    "# exclude_columns = ['gwb_code_10', 'gwb_code_8', 'regio', 'gm_naam', 'recs', 'gwb_code']\n",
    "\n",
    "# for i in range(len(stringlist)):\n",
    "#     df = append_str_to_columns(pd.read_excel(dflist[i]), stringlist[i], exclude_columns)\n",
    "#     savestring = '{}.csv'.format(dflist[i][:15])\n",
    "#     df.to_csv(savestring, index=False)\n",
    "\n",
    "\n",
    "# datasets = [\"./data/kwb-2021.xls\", \"./data/kwb-2022.xls\"]\n",
    "# stringlist = [\"_2021\",\"_2022\"]\n",
    "# exclude_columns = ['gwb_code_10', 'gwb_code_8', 'regio', 'gm_naam', 'recs', 'gwb_code']\n",
    "\n",
    "# Dit is ook uitgevoerd dus hoeft niet nog een keer.\n",
    "\n",
    "zorg21 = zorg21[zorg21['VormenVanJeugdzorg'] == 'T001203']\n",
    "zorg21 = zorg21[zorg21['Wijken'].str[:2] != 'BU']\n",
    "kern21 = pd.read_excel('./data/kwb-2021.xls')\n",
    "kern21 = kern21.applymap(lambda x: x.strip() if isinstance(x, str) else x)\n",
    "kern21 = kern21[kern21['gwb_code_10'].str[:2] != 'BU']\n",
    "df = kern21.merge(zorg21, left_on='gwb_code_10', right_on='Wijken', how='left')\n",
    "df = df.replace('.', np.nan)\n",
    "\n",
    "\n",
    "df = pd.read_excel(\"./data/kwb-2022.xls\")\n",
    "zorg = pd.read_csv('./data/zorg22.csv')\n",
    "zorg = zorg[['Wijken', 'p_jz_tn']]\n",
    "\n",
    "df = df.drop('p_jz_tn', axis=1)\n",
    "df = pd.merge(df, zorg, left_on='gwb_code_10', right_on='Wijken', how='left')\n",
    "df.to_csv(\"./data/kwb-2022.csv\", index=False)"
   ]
  },
  {
   "cell_type": "code",
   "execution_count": 20,
   "metadata": {},
   "outputs": [],
   "source": [
    "import pandas as pd\n",
    "import xgboost as xgb\n",
    "import numpy as np\n",
    "from sklearn.model_selection import train_test_split\n",
    "from sklearn.metrics import mean_squared_error, r2_score\n",
    "\n",
    "kwb_20 = pd.read_excel('./data/kwb-2020.xls')\n",
    "zorg21 = pd.read_csv('./data/zorg21.csv')\n",
    "zorg22 = pd.read_csv('./data/zorg22.csv')\n",
    "kwb_20 = kwb_20[['gwb_code_10', 'p_jz_tn']]\n",
    "zorg21 = zorg21[['Wijken', 'p_jz_tn']]\n",
    "zorg22 = zorg22[['Wijken', 'p_jz_tn']]\n",
    "df = pd.merge(kwb_20, zorg21, left_on='gwb_code_10', right_on='Wijken', how='inner')\n",
    "df = pd.merge(df, zorg22, on='Wijken', how='inner')\n",
    "df.columns = ['gwb_code_10', 'p_jz_tn_20', 'Wijken', 'p_jz_tn_21', 'p_jz_tn_22']"
   ]
  },
  {
   "cell_type": "code",
   "execution_count": null,
   "metadata": {},
   "outputs": [
    {
     "name": "stdout",
     "output_type": "stream",
     "text": [
      "MSE: 9752.4761\n",
      "R2: 0.0522\n"
     ]
    }
   ],
   "source": [
    "model = xgb.XGBRegressor()\n",
    "# print(df['p_jz_tn_20'].value_counts())\n",
    "# df = df.drop(df[df['p_jz_tn_20'] == '.'].index) # drop rows with '.' in p_jz_tn_20\n",
    "df['p_jz_tn_20'] = df['p_jz_tn_20'].replace('.', 0) # replace '.' with 0\n",
    "\n",
    "df['p_jz_tn_20'] = df['p_jz_tn_20'].astype(str)\n",
    "df['p_jz_tn_20'] = df['p_jz_tn_20'].str.replace(',', '.').astype(float)\n",
    "X = df[['p_jz_tn_20', 'p_jz_tn_21']]\n",
    "y = df['p_jz_tn_22']\n",
    "# y = y[np.isfinite(y)] # drop non-finite values from y\n",
    "y = np.nan_to_num(y) # fill non-finite values with 0\n",
    "\n",
    "\n",
    "X_train, X_test, y_train, y_test = train_test_split(X, y, test_size=0.2, random_state=42)\n",
    "model.fit(X_train, y_train)\n",
    "y_pred = model.predict(X_test)\n",
    "mse = mean_squared_error(y_test, y_pred)\n",
    "r2 = r2_score(y_test, y_pred)\n",
    "\n",
    "print(f'MSE: {mse:.4f}')\n",
    "print(f'R2: {r2:.4f}')\n",
    "\n",
    "predictions = pd.DataFrame({'Predictions': y_pred})\n",
    "zorg22_with_predictions = pd.concat([zorg22, predictions], axis=1)\n",
    "zorg22_with_predictions.to_csv('./data/zorg22_w_pred.csv', index=False)"
   ]
  },
  {
   "cell_type": "code",
   "execution_count": null,
   "metadata": {},
   "outputs": [],
   "source": []
  }
 ],
 "metadata": {
  "kernelspec": {
   "display_name": "Python 3",
   "language": "python",
   "name": "python3"
  },
  "language_info": {
   "codemirror_mode": {
    "name": "ipython",
    "version": 3
   },
   "file_extension": ".py",
   "mimetype": "text/x-python",
   "name": "python",
   "nbconvert_exporter": "python",
   "pygments_lexer": "ipython3",
   "version": "3.9.13"
  },
  "orig_nbformat": 4
 },
 "nbformat": 4,
 "nbformat_minor": 2
}
