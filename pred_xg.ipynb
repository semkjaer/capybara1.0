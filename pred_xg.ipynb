{
 "cells": [
  {
   "attachments": {},
   "cell_type": "markdown",
   "metadata": {},
   "source": [
    "# Data conversion, XGB and RANDOM FOREST!"
   ]
  },
  {
   "cell_type": "code",
   "execution_count": 51,
   "metadata": {},
   "outputs": [
    {
     "data": {
      "text/html": [
       "<div>\n",
       "<style scoped>\n",
       "    .dataframe tbody tr th:only-of-type {\n",
       "        vertical-align: middle;\n",
       "    }\n",
       "\n",
       "    .dataframe tbody tr th {\n",
       "        vertical-align: top;\n",
       "    }\n",
       "\n",
       "    .dataframe thead th {\n",
       "        text-align: right;\n",
       "    }\n",
       "</style>\n",
       "<table border=\"1\" class=\"dataframe\">\n",
       "  <thead>\n",
       "    <tr style=\"text-align: right;\">\n",
       "      <th></th>\n",
       "      <th>gwb_code_10</th>\n",
       "      <th>gwb_code_8</th>\n",
       "      <th>regio</th>\n",
       "      <th>gm_naam</th>\n",
       "      <th>recs</th>\n",
       "      <th>gwb_code</th>\n",
       "      <th>ind_wbi</th>\n",
       "      <th>a_inw</th>\n",
       "      <th>a_man</th>\n",
       "      <th>a_vrouw</th>\n",
       "      <th>...</th>\n",
       "      <th>g_afs_sc</th>\n",
       "      <th>g_3km_sc</th>\n",
       "      <th>a_opp_ha</th>\n",
       "      <th>a_lan_ha</th>\n",
       "      <th>a_wat_ha</th>\n",
       "      <th>pst_mvp</th>\n",
       "      <th>pst_dekp</th>\n",
       "      <th>ste_mvs</th>\n",
       "      <th>ste_oad</th>\n",
       "      <th>a_00_24</th>\n",
       "    </tr>\n",
       "  </thead>\n",
       "  <tbody>\n",
       "    <tr>\n",
       "      <th>0</th>\n",
       "      <td>NL00</td>\n",
       "      <td>0</td>\n",
       "      <td>Nederland</td>\n",
       "      <td>Nederland</td>\n",
       "      <td>Land</td>\n",
       "      <td>NL00</td>\n",
       "      <td>.</td>\n",
       "      <td>17475415</td>\n",
       "      <td>8686536</td>\n",
       "      <td>8788879</td>\n",
       "      <td>...</td>\n",
       "      <td>0,7</td>\n",
       "      <td>10,7</td>\n",
       "      <td>4154338</td>\n",
       "      <td>3367109</td>\n",
       "      <td>787228</td>\n",
       "      <td>.</td>\n",
       "      <td>.</td>\n",
       "      <td>2</td>\n",
       "      <td>2024</td>\n",
       "      <td>4850952</td>\n",
       "    </tr>\n",
       "    <tr>\n",
       "      <th>1</th>\n",
       "      <td>GM0014</td>\n",
       "      <td>14</td>\n",
       "      <td>Groningen</td>\n",
       "      <td>Groningen</td>\n",
       "      <td>Gemeente</td>\n",
       "      <td>GM0014</td>\n",
       "      <td>.</td>\n",
       "      <td>233273</td>\n",
       "      <td>116177</td>\n",
       "      <td>117096</td>\n",
       "      <td>...</td>\n",
       "      <td>0,7</td>\n",
       "      <td>9,6</td>\n",
       "      <td>19796</td>\n",
       "      <td>18560</td>\n",
       "      <td>1236</td>\n",
       "      <td>.</td>\n",
       "      <td>.</td>\n",
       "      <td>1</td>\n",
       "      <td>3312</td>\n",
       "      <td>77975</td>\n",
       "    </tr>\n",
       "    <tr>\n",
       "      <th>2</th>\n",
       "      <td>WK001400</td>\n",
       "      <td>1400</td>\n",
       "      <td>Centrum</td>\n",
       "      <td>Groningen</td>\n",
       "      <td>Wijk</td>\n",
       "      <td>WK001400</td>\n",
       "      <td>1</td>\n",
       "      <td>22735</td>\n",
       "      <td>11875</td>\n",
       "      <td>10860</td>\n",
       "      <td>...</td>\n",
       "      <td>0,6</td>\n",
       "      <td>15,9</td>\n",
       "      <td>241</td>\n",
       "      <td>226</td>\n",
       "      <td>16</td>\n",
       "      <td>.</td>\n",
       "      <td>.</td>\n",
       "      <td>1</td>\n",
       "      <td>6353</td>\n",
       "      <td>10375</td>\n",
       "    </tr>\n",
       "    <tr>\n",
       "      <th>11</th>\n",
       "      <td>WK001401</td>\n",
       "      <td>1401</td>\n",
       "      <td>Oud-Zuid</td>\n",
       "      <td>Groningen</td>\n",
       "      <td>Wijk</td>\n",
       "      <td>WK001401</td>\n",
       "      <td>1</td>\n",
       "      <td>19695</td>\n",
       "      <td>9745</td>\n",
       "      <td>9950</td>\n",
       "      <td>...</td>\n",
       "      <td>0,5</td>\n",
       "      <td>13,8</td>\n",
       "      <td>387</td>\n",
       "      <td>370</td>\n",
       "      <td>17</td>\n",
       "      <td>.</td>\n",
       "      <td>.</td>\n",
       "      <td>1</td>\n",
       "      <td>4047</td>\n",
       "      <td>7385</td>\n",
       "    </tr>\n",
       "    <tr>\n",
       "      <th>22</th>\n",
       "      <td>WK001402</td>\n",
       "      <td>1402</td>\n",
       "      <td>Oud-West</td>\n",
       "      <td>Groningen</td>\n",
       "      <td>Wijk</td>\n",
       "      <td>WK001402</td>\n",
       "      <td>1</td>\n",
       "      <td>14055</td>\n",
       "      <td>6905</td>\n",
       "      <td>7150</td>\n",
       "      <td>...</td>\n",
       "      <td>0,6</td>\n",
       "      <td>15,7</td>\n",
       "      <td>118</td>\n",
       "      <td>112</td>\n",
       "      <td>6</td>\n",
       "      <td>.</td>\n",
       "      <td>.</td>\n",
       "      <td>1</td>\n",
       "      <td>5280</td>\n",
       "      <td>5435</td>\n",
       "    </tr>\n",
       "    <tr>\n",
       "      <th>...</th>\n",
       "      <td>...</td>\n",
       "      <td>...</td>\n",
       "      <td>...</td>\n",
       "      <td>...</td>\n",
       "      <td>...</td>\n",
       "      <td>...</td>\n",
       "      <td>...</td>\n",
       "      <td>...</td>\n",
       "      <td>...</td>\n",
       "      <td>...</td>\n",
       "      <td>...</td>\n",
       "      <td>...</td>\n",
       "      <td>...</td>\n",
       "      <td>...</td>\n",
       "      <td>...</td>\n",
       "      <td>...</td>\n",
       "      <td>...</td>\n",
       "      <td>...</td>\n",
       "      <td>...</td>\n",
       "      <td>...</td>\n",
       "      <td>...</td>\n",
       "    </tr>\n",
       "    <tr>\n",
       "      <th>17653</th>\n",
       "      <td>WK197915</td>\n",
       "      <td>197915</td>\n",
       "      <td>Buitengebied Zuid-Appingedam</td>\n",
       "      <td>Eemsdelta</td>\n",
       "      <td>Wijk</td>\n",
       "      <td>WK197915</td>\n",
       "      <td>3</td>\n",
       "      <td>105</td>\n",
       "      <td>60</td>\n",
       "      <td>50</td>\n",
       "      <td>...</td>\n",
       "      <td>2,7</td>\n",
       "      <td>2,7</td>\n",
       "      <td>579</td>\n",
       "      <td>554</td>\n",
       "      <td>24</td>\n",
       "      <td>.</td>\n",
       "      <td>.</td>\n",
       "      <td>5</td>\n",
       "      <td>76</td>\n",
       "      <td>25</td>\n",
       "    </tr>\n",
       "    <tr>\n",
       "      <th>17657</th>\n",
       "      <td>WK197916</td>\n",
       "      <td>197916</td>\n",
       "      <td>Buitengebied Noord-Loppersum</td>\n",
       "      <td>Eemsdelta</td>\n",
       "      <td>Wijk</td>\n",
       "      <td>WK197916</td>\n",
       "      <td>2</td>\n",
       "      <td>3380</td>\n",
       "      <td>1670</td>\n",
       "      <td>1705</td>\n",
       "      <td>...</td>\n",
       "      <td>1,9</td>\n",
       "      <td>1,6</td>\n",
       "      <td>2679</td>\n",
       "      <td>2647</td>\n",
       "      <td>32</td>\n",
       "      <td>.</td>\n",
       "      <td>.</td>\n",
       "      <td>5</td>\n",
       "      <td>289</td>\n",
       "      <td>790</td>\n",
       "    </tr>\n",
       "    <tr>\n",
       "      <th>17662</th>\n",
       "      <td>WK197917</td>\n",
       "      <td>197917</td>\n",
       "      <td>Buitengebied Noord-Stedum</td>\n",
       "      <td>Eemsdelta</td>\n",
       "      <td>Wijk</td>\n",
       "      <td>WK197917</td>\n",
       "      <td>2</td>\n",
       "      <td>1585</td>\n",
       "      <td>820</td>\n",
       "      <td>765</td>\n",
       "      <td>...</td>\n",
       "      <td>1,1</td>\n",
       "      <td>0,9</td>\n",
       "      <td>2472</td>\n",
       "      <td>2459</td>\n",
       "      <td>13</td>\n",
       "      <td>.</td>\n",
       "      <td>.</td>\n",
       "      <td>5</td>\n",
       "      <td>97</td>\n",
       "      <td>400</td>\n",
       "    </tr>\n",
       "    <tr>\n",
       "      <th>17667</th>\n",
       "      <td>WK197918</td>\n",
       "      <td>197918</td>\n",
       "      <td>Buitengebied Noord-Middelstum</td>\n",
       "      <td>Eemsdelta</td>\n",
       "      <td>Wijk</td>\n",
       "      <td>WK197918</td>\n",
       "      <td>2</td>\n",
       "      <td>2570</td>\n",
       "      <td>1290</td>\n",
       "      <td>1275</td>\n",
       "      <td>...</td>\n",
       "      <td>0,7</td>\n",
       "      <td>3,7</td>\n",
       "      <td>2554</td>\n",
       "      <td>2529</td>\n",
       "      <td>25</td>\n",
       "      <td>.</td>\n",
       "      <td>.</td>\n",
       "      <td>5</td>\n",
       "      <td>306</td>\n",
       "      <td>690</td>\n",
       "    </tr>\n",
       "    <tr>\n",
       "      <th>17673</th>\n",
       "      <td>WK197919</td>\n",
       "      <td>197919</td>\n",
       "      <td>Buitengebied Noord-'t Zandt</td>\n",
       "      <td>Eemsdelta</td>\n",
       "      <td>Wijk</td>\n",
       "      <td>WK197919</td>\n",
       "      <td>2</td>\n",
       "      <td>1965</td>\n",
       "      <td>1045</td>\n",
       "      <td>920</td>\n",
       "      <td>...</td>\n",
       "      <td>1,7</td>\n",
       "      <td>1,3</td>\n",
       "      <td>3495</td>\n",
       "      <td>3469</td>\n",
       "      <td>26</td>\n",
       "      <td>.</td>\n",
       "      <td>.</td>\n",
       "      <td>5</td>\n",
       "      <td>63</td>\n",
       "      <td>485</td>\n",
       "    </tr>\n",
       "  </tbody>\n",
       "</table>\n",
       "<p>3601 rows × 121 columns</p>\n",
       "</div>"
      ],
      "text/plain": [
       "      gwb_code_10  gwb_code_8                          regio    gm_naam  \\\n",
       "0            NL00           0                      Nederland  Nederland   \n",
       "1          GM0014          14                      Groningen  Groningen   \n",
       "2        WK001400        1400                        Centrum  Groningen   \n",
       "11       WK001401        1401                       Oud-Zuid  Groningen   \n",
       "22       WK001402        1402                       Oud-West  Groningen   \n",
       "...           ...         ...                            ...        ...   \n",
       "17653    WK197915      197915   Buitengebied Zuid-Appingedam  Eemsdelta   \n",
       "17657    WK197916      197916   Buitengebied Noord-Loppersum  Eemsdelta   \n",
       "17662    WK197917      197917      Buitengebied Noord-Stedum  Eemsdelta   \n",
       "17667    WK197918      197918  Buitengebied Noord-Middelstum  Eemsdelta   \n",
       "17673    WK197919      197919    Buitengebied Noord-'t Zandt  Eemsdelta   \n",
       "\n",
       "           recs  gwb_code ind_wbi     a_inw    a_man  a_vrouw  ...  g_afs_sc  \\\n",
       "0          Land      NL00       .  17475415  8686536  8788879  ...       0,7   \n",
       "1      Gemeente    GM0014       .    233273   116177   117096  ...       0,7   \n",
       "2          Wijk  WK001400       1     22735    11875    10860  ...       0,6   \n",
       "11         Wijk  WK001401       1     19695     9745     9950  ...       0,5   \n",
       "22         Wijk  WK001402       1     14055     6905     7150  ...       0,6   \n",
       "...         ...       ...     ...       ...      ...      ...  ...       ...   \n",
       "17653      Wijk  WK197915       3       105       60       50  ...       2,7   \n",
       "17657      Wijk  WK197916       2      3380     1670     1705  ...       1,9   \n",
       "17662      Wijk  WK197917       2      1585      820      765  ...       1,1   \n",
       "17667      Wijk  WK197918       2      2570     1290     1275  ...       0,7   \n",
       "17673      Wijk  WK197919       2      1965     1045      920  ...       1,7   \n",
       "\n",
       "       g_3km_sc  a_opp_ha  a_lan_ha  a_wat_ha  pst_mvp  pst_dekp  ste_mvs  \\\n",
       "0          10,7   4154338   3367109    787228        .         .        2   \n",
       "1           9,6     19796     18560      1236        .         .        1   \n",
       "2          15,9       241       226        16        .         .        1   \n",
       "11         13,8       387       370        17        .         .        1   \n",
       "22         15,7       118       112         6        .         .        1   \n",
       "...         ...       ...       ...       ...      ...       ...      ...   \n",
       "17653       2,7       579       554        24        .         .        5   \n",
       "17657       1,6      2679      2647        32        .         .        5   \n",
       "17662       0,9      2472      2459        13        .         .        5   \n",
       "17667       3,7      2554      2529        25        .         .        5   \n",
       "17673       1,3      3495      3469        26        .         .        5   \n",
       "\n",
       "       ste_oad  a_00_24  \n",
       "0         2024  4850952  \n",
       "1         3312    77975  \n",
       "2         6353    10375  \n",
       "11        4047     7385  \n",
       "22        5280     5435  \n",
       "...        ...      ...  \n",
       "17653       76       25  \n",
       "17657      289      790  \n",
       "17662       97      400  \n",
       "17667      306      690  \n",
       "17673       63      485  \n",
       "\n",
       "[3601 rows x 121 columns]"
      ]
     },
     "metadata": {},
     "output_type": "display_data"
    }
   ],
   "source": [
    "# Gewoon alle code runnen, dan krijg je een file met alle predictions, je moet zorgen dat je de zorg21  en zorg 22  datasets hebt, en alle kwb files van 2018-2022\n",
    "import pandas as pd\n",
    "import xgboost as xgb\n",
    "import numpy as np\n",
    "from sklearn.model_selection import train_test_split\n",
    "from sklearn.metrics import mean_squared_error, r2_score\n",
    "from IPython.display import display\n",
    "\n",
    "kwb_21 = pd.read_excel('./data/kwb-2021.xls')\n",
    "kwb_22 = pd.read_excel('./data/kwb-2022.xls')\n",
    "zorg21 = pd.read_csv('./data/85075NED_UntypedDataSet_15062023_115649.csv', delimiter=';')\n",
    "zorg22 = pd.read_csv('./data/85335NED_UntypedDataSet_15062023_115413.csv', delimiter=';')\n",
    "\n",
    "kwb_21['a_00_24'] = kwb_21['a_00_14'] + kwb_21['a_15_24']\n",
    "kwb_22['a_00_24'] = kwb_22['a_00_14'] + kwb_22['a_15_24']\n",
    "\n",
    "#  The zorg set has a column namen 'VormenVanJeugdzorg' that contains different types of jeugdzorg. We only want the total jeugdzorg so we are filtering the data where this column is equal to 'T001203'\n",
    "zorg21 = zorg21[zorg21['VormenVanJeugdzorg'] == 'T001203']\n",
    "zorg22 = zorg22[zorg22['VormenVanJeugdzorg'] == 'T001203']\n",
    "\n",
    "zorg21['Wijken'] = zorg21['Wijken'].str.strip()  # Removing leading/trailing whitespaces\n",
    "kwb_21['gwb_code_10'] = kwb_21['gwb_code_10'].str.strip()\n",
    "zorg22['Wijken'] = zorg22['Wijken'].str.strip()\n",
    "kwb_22['gwb_code_10'] = kwb_22['gwb_code_10'].str.strip()\n",
    "kwb_21 = kwb_21[kwb_21['gwb_code_10'].str[:2] != 'BU']\n",
    "kwb_22 = kwb_22[kwb_22['gwb_code_10'].str[:2] != 'BU']\n",
    "\n",
    "# now adding this new column 'a_00_24' to the zorg datasets respectively by merging on the 'gwb_code_10' column for kwb and on the 'Wijken' column for zorg\n",
    "zorg21 = zorg21.merge(kwb_21[['gwb_code_10', 'a_00_24']], left_on='Wijken', right_on='gwb_code_10', how='left')\n",
    "zorg22 = zorg22.merge(kwb_22[['gwb_code_10', 'a_00_24']], left_on='Wijken', right_on='gwb_code_10', how='left')\n",
    "\n",
    "# now we can calculate the percentage of youth till 24 in the total population by dividing the column 'a_00_24' by the column 'TotaalJongerenMetJeugdzorgInNatura_1' that is present in the zorg datasets\n",
    "# we are adding a new column named 'p_jz_tn' to the zorg datasets \n",
    "\n",
    "zorg21['TotaalJongerenMetJeugdzorgInNatura_1'] = pd.to_numeric(zorg21['TotaalJongerenMetJeugdzorgInNatura_1'], errors='coerce')\n",
    "zorg22['TotaalJongerenMetJeugdzorgInNatura_1'] = pd.to_numeric(zorg22['TotaalJongerenMetJeugdzorgInNatura_1'], errors='coerce')\n",
    "zorg21['TotaalJongerenMetJeugdzorgInNatura_1'] = zorg21['TotaalJongerenMetJeugdzorgInNatura_1'].astype(float)\n",
    "zorg22['TotaalJongerenMetJeugdzorgInNatura_1'] = zorg22['TotaalJongerenMetJeugdzorgInNatura_1'].astype(float)\n",
    "\n",
    "zorg21['p_jz_tn'] = (zorg21['TotaalJongerenMetJeugdzorgInNatura_1'] / zorg21['a_00_24'])*100\n",
    "zorg22['p_jz_tn'] = (zorg22['TotaalJongerenMetJeugdzorgInNatura_1'] / zorg22['a_00_24'])*100"
   ]
  },
  {
   "cell_type": "code",
   "execution_count": 52,
   "metadata": {},
   "outputs": [],
   "source": [
    "def append_str_to_columns(df, str):\n",
    "    new_columns = []\n",
    "    for column in df.columns:\n",
    "        if column != \"gwb_code_10\":\n",
    "            new_columns.append(column + '{}'.format(str))\n",
    "        else:\n",
    "            new_columns.append(column)\n",
    "    df.columns = new_columns\n",
    "    return df\n",
    "\n",
    "# adding data about youth care to 2021 and 2022 datasets, because they did not exist before\n",
    "\n",
    "zorg21 = zorg21[['Wijken', 'p_jz_tn']]\n",
    "kwb_2021 = pd.read_excel('./data/kwb-2021.xls')\n",
    "kwb_2021 = kwb_2021.applymap(lambda x: x.strip() if isinstance(x, str) else x)\n",
    "kwb_2021 = kwb_2021[kwb_2021['gwb_code_10'].str[:2] != 'BU']\n",
    "kwb_2021 = kwb_2021[[x for x in kwb_2021.columns if \"p_jz_tn\" not in x ]]\n",
    "kwb_2021= kwb_2021.merge(zorg21, left_on='gwb_code_10', right_on='Wijken', how='left')\n",
    "\n",
    "zorg22 = zorg22[['Wijken', 'p_jz_tn']]\n",
    "kwb_2022 = pd.read_excel('./data/kwb-2022.xls')\n",
    "kwb_2022 = kwb_2022.applymap(lambda x: x.strip() if isinstance(x, str) else x)\n",
    "kwb_2022 = kwb_2022[kwb_2022['gwb_code_10'].str[:2] != 'BU']\n",
    "kwb_2022 = kwb_2022[[x for x in kwb_2022.columns if \"p_jz_tn\" not in x ]]\n",
    "kwb_2022= kwb_2022.merge(zorg22, left_on='gwb_code_10', right_on='Wijken', how='left')"
   ]
  },
  {
   "cell_type": "code",
   "execution_count": 53,
   "metadata": {},
   "outputs": [
    {
     "name": "stdout",
     "output_type": "stream",
     "text": [
      "./data/kwb-2018.xls\n"
     ]
    },
    {
     "name": "stderr",
     "output_type": "stream",
     "text": [
      "C:\\Users\\stanf\\AppData\\Local\\Temp/ipykernel_16796/1406392611.py:21: FutureWarning:\n",
      "\n",
      "Dropping of nuisance columns in DataFrame reductions (with 'numeric_only=None') is deprecated; in a future version this will raise TypeError.  Select only valid columns before calling the reduction.\n",
      "\n"
     ]
    },
    {
     "name": "stdout",
     "output_type": "stream",
     "text": [
      "./data/kwb-2019.xlsx\n",
      "./data/kwb-2020.xls\n"
     ]
    }
   ],
   "source": [
    "dflist = [\"./data/kwb-2018.xls\", \"./data/kwb-2019.xlsx\",\"./data/kwb-2020.xls\", kwb_2021, kwb_2022]\n",
    "columnlist = [\"gwb_code_10\", \"p_00_14\",\t\"p_15_24\",\t\"p_25_44\",\t\"p_45_64\",\t\"p_65_oo\",\t\"p_ongeh\",\t\"p_gehuwd\",\t\"p_gesch\",\t\"p_verwed\",\t\"p_marok\", \"p_jz_tn\", \"p_antaru\",\t\"p_suri\",\"p_tur\", \"p_hh_z_k\",\t\"p_hh_m_k\", \"bev_dich\", \"p_koopw\",\t\"p_huurw\", \"g_ink_po\",\t\"g_ink_pi\",\t\"p_ink_li\",\t\"p_ink_hi\",\t\"p_n_act\",\t\"p_hh_li\",\t\"p_hh_hi\",\t\"p_hh_lkk\",\t\"p_hh_osm\",\t\"a_soz_wb\",\t\"a_soz_ao\",\t\"a_soz_ww\",\t\"a_soz_ow\"]\n",
    "stringlist = [\"_2018\", \"_2019\", \"_2020\", \"_2021\", \"_2022\"]\n",
    "\n",
    "# getting all data and combining into dfs, also performing stripping, and turning useless values into nan\n",
    "\n",
    "dfs = pd.DataFrame\n",
    "for i in range(len(dflist)):\n",
    "    if i == 0:\n",
    "        print(dflist[i])\n",
    "        df = pd.read_excel(dflist[i])\n",
    "        df = df[df['gwb_code_10'].str[:2] != 'BU']\n",
    "        df = df[df['gwb_code_10'].str[:2] != 'GM']\n",
    "        df = df[df['gwb_code_10'].str[:2] != 'NL']\n",
    "        df = df[[x for x in df.columns if x in columnlist]]\n",
    "        df = df.applymap(lambda x: x.strip() if isinstance(x, str) else x)\n",
    "        df = df.replace([np.inf, -np.inf, np.nan, \".\", \"-\"], np.nan)\n",
    "        # comma to dot because the dutch system is stupid!\n",
    "        df = df.applymap(lambda x: str(x.replace(',','.')) if isinstance(x, str) else x)\n",
    "        df = df.apply(pd.to_numeric, errors='ignore')\n",
    "        df = df.fillna(df.mean())\n",
    "        df = append_str_to_columns(df, stringlist[i])\n",
    "        dfs = df\n",
    "    elif 0 < i < 3:\n",
    "        print(dflist[i])\n",
    "        df = pd.read_excel(dflist[i])\n",
    "        df = df[df['gwb_code_10'].str[:2] != 'BU']\n",
    "        df = df[df['gwb_code_10'].str[:2] != 'GM']\n",
    "        df = df[df['gwb_code_10'].str[:2] != 'NL']\n",
    "        df = df[[x for x in df.columns if x in columnlist]]\n",
    "        df = df.applymap(lambda x: x.strip() if isinstance(x, str) else x)\n",
    "        df = df.replace([np.inf, -np.inf, np.nan, \".\", \"-\"], np.nan)\n",
    "        df = df.applymap(lambda x: str(x.replace(',','.')) if isinstance(x, str) else x)\n",
    "        df = append_str_to_columns(df, stringlist[i])\n",
    "        dfs = pd.merge(dfs, df, on='gwb_code_10', how='outer')\n",
    "    else:\n",
    "        df = dflist[i]\n",
    "        df = df[df['gwb_code_10'].str[:2] != 'BU']\n",
    "        df = df[df['gwb_code_10'].str[:2] != 'GM']\n",
    "        df = df[df['gwb_code_10'].str[:2] != 'NL']\n",
    "        df = df[[x for x in df.columns if x in columnlist]]\n",
    "        df = df.applymap(lambda x: x.strip() if isinstance(x, str) else x)\n",
    "        df = df.replace([np.inf, -np.inf, np.nan, \".\", \"-\"], np.nan)\n",
    "        df = df.applymap(lambda x: str(x.replace(',','.')) if isinstance(x, str) else x)\n",
    "        df = append_str_to_columns(df, stringlist[i])\n",
    "        dfs = pd.merge(dfs, df, on='gwb_code_10', how='outer')"
   ]
  },
  {
   "cell_type": "code",
   "execution_count": 54,
   "metadata": {},
   "outputs": [
    {
     "data": {
      "text/html": [
       "<div>\n",
       "<style scoped>\n",
       "    .dataframe tbody tr th:only-of-type {\n",
       "        vertical-align: middle;\n",
       "    }\n",
       "\n",
       "    .dataframe tbody tr th {\n",
       "        vertical-align: top;\n",
       "    }\n",
       "\n",
       "    .dataframe thead th {\n",
       "        text-align: right;\n",
       "    }\n",
       "</style>\n",
       "<table border=\"1\" class=\"dataframe\">\n",
       "  <thead>\n",
       "    <tr style=\"text-align: right;\">\n",
       "      <th></th>\n",
       "      <th>gwb_code_10</th>\n",
       "      <th>a_soz_ao_2018</th>\n",
       "      <th>a_soz_ao_2019</th>\n",
       "      <th>a_soz_ao_2020</th>\n",
       "      <th>a_soz_ao_2021</th>\n",
       "      <th>a_soz_ao_2022</th>\n",
       "      <th>a_soz_ow_2018</th>\n",
       "      <th>a_soz_ow_2019</th>\n",
       "      <th>a_soz_ow_2020</th>\n",
       "      <th>a_soz_ow_2021</th>\n",
       "      <th>...</th>\n",
       "      <th>p_jz_tn_2018</th>\n",
       "      <th>p_jz_tn_2019</th>\n",
       "      <th>p_jz_tn_2020</th>\n",
       "      <th>p_jz_tn_2021</th>\n",
       "      <th>p_jz_tn_2022</th>\n",
       "      <th>p_koopw_2018</th>\n",
       "      <th>p_koopw_2019</th>\n",
       "      <th>p_koopw_2020</th>\n",
       "      <th>p_koopw_2021</th>\n",
       "      <th>p_koopw_2022</th>\n",
       "    </tr>\n",
       "  </thead>\n",
       "  <tbody>\n",
       "    <tr>\n",
       "      <th>0</th>\n",
       "      <td>WK000300</td>\n",
       "      <td>710.000000</td>\n",
       "      <td>730.000000</td>\n",
       "      <td>710.000000</td>\n",
       "      <td>710.000000</td>\n",
       "      <td>710.000000</td>\n",
       "      <td>2670.000000</td>\n",
       "      <td>2670.000000</td>\n",
       "      <td>2750.000000</td>\n",
       "      <td>2750.000000</td>\n",
       "      <td>...</td>\n",
       "      <td>9.900000</td>\n",
       "      <td>11.500000</td>\n",
       "      <td>10.200000</td>\n",
       "      <td>10.200000</td>\n",
       "      <td>10.200000</td>\n",
       "      <td>49.000000</td>\n",
       "      <td>48.000000</td>\n",
       "      <td>48.000000</td>\n",
       "      <td>48.000000</td>\n",
       "      <td>48.0</td>\n",
       "    </tr>\n",
       "    <tr>\n",
       "      <th>1</th>\n",
       "      <td>WK000500</td>\n",
       "      <td>580.000000</td>\n",
       "      <td>580.000000</td>\n",
       "      <td>580.000000</td>\n",
       "      <td>580.000000</td>\n",
       "      <td>580.000000</td>\n",
       "      <td>2080.000000</td>\n",
       "      <td>2080.000000</td>\n",
       "      <td>2080.000000</td>\n",
       "      <td>2080.000000</td>\n",
       "      <td>...</td>\n",
       "      <td>9.900000</td>\n",
       "      <td>9.900000</td>\n",
       "      <td>9.900000</td>\n",
       "      <td>9.900000</td>\n",
       "      <td>9.900000</td>\n",
       "      <td>69.000000</td>\n",
       "      <td>69.000000</td>\n",
       "      <td>69.000000</td>\n",
       "      <td>69.000000</td>\n",
       "      <td>69.0</td>\n",
       "    </tr>\n",
       "    <tr>\n",
       "      <th>2</th>\n",
       "      <td>WK000900</td>\n",
       "      <td>150.000000</td>\n",
       "      <td>150.000000</td>\n",
       "      <td>150.000000</td>\n",
       "      <td>150.000000</td>\n",
       "      <td>150.000000</td>\n",
       "      <td>1170.000000</td>\n",
       "      <td>1170.000000</td>\n",
       "      <td>1170.000000</td>\n",
       "      <td>1170.000000</td>\n",
       "      <td>...</td>\n",
       "      <td>9.000000</td>\n",
       "      <td>9.000000</td>\n",
       "      <td>9.000000</td>\n",
       "      <td>9.000000</td>\n",
       "      <td>9.000000</td>\n",
       "      <td>76.000000</td>\n",
       "      <td>76.000000</td>\n",
       "      <td>76.000000</td>\n",
       "      <td>76.000000</td>\n",
       "      <td>76.0</td>\n",
       "    </tr>\n",
       "    <tr>\n",
       "      <th>3</th>\n",
       "      <td>WK000901</td>\n",
       "      <td>50.000000</td>\n",
       "      <td>50.000000</td>\n",
       "      <td>50.000000</td>\n",
       "      <td>50.000000</td>\n",
       "      <td>50.000000</td>\n",
       "      <td>190.000000</td>\n",
       "      <td>190.000000</td>\n",
       "      <td>190.000000</td>\n",
       "      <td>190.000000</td>\n",
       "      <td>...</td>\n",
       "      <td>9.600000</td>\n",
       "      <td>9.600000</td>\n",
       "      <td>9.600000</td>\n",
       "      <td>9.600000</td>\n",
       "      <td>9.600000</td>\n",
       "      <td>78.000000</td>\n",
       "      <td>78.000000</td>\n",
       "      <td>78.000000</td>\n",
       "      <td>78.000000</td>\n",
       "      <td>78.0</td>\n",
       "    </tr>\n",
       "    <tr>\n",
       "      <th>4</th>\n",
       "      <td>WK001000</td>\n",
       "      <td>870.000000</td>\n",
       "      <td>870.000000</td>\n",
       "      <td>870.000000</td>\n",
       "      <td>870.000000</td>\n",
       "      <td>870.000000</td>\n",
       "      <td>4230.000000</td>\n",
       "      <td>4230.000000</td>\n",
       "      <td>4230.000000</td>\n",
       "      <td>4230.000000</td>\n",
       "      <td>...</td>\n",
       "      <td>10.600000</td>\n",
       "      <td>10.600000</td>\n",
       "      <td>10.600000</td>\n",
       "      <td>10.600000</td>\n",
       "      <td>10.600000</td>\n",
       "      <td>55.000000</td>\n",
       "      <td>55.000000</td>\n",
       "      <td>55.000000</td>\n",
       "      <td>55.000000</td>\n",
       "      <td>55.0</td>\n",
       "    </tr>\n",
       "    <tr>\n",
       "      <th>...</th>\n",
       "      <td>...</td>\n",
       "      <td>...</td>\n",
       "      <td>...</td>\n",
       "      <td>...</td>\n",
       "      <td>...</td>\n",
       "      <td>...</td>\n",
       "      <td>...</td>\n",
       "      <td>...</td>\n",
       "      <td>...</td>\n",
       "      <td>...</td>\n",
       "      <td>...</td>\n",
       "      <td>...</td>\n",
       "      <td>...</td>\n",
       "      <td>...</td>\n",
       "      <td>...</td>\n",
       "      <td>...</td>\n",
       "      <td>...</td>\n",
       "      <td>...</td>\n",
       "      <td>...</td>\n",
       "      <td>...</td>\n",
       "      <td>...</td>\n",
       "    </tr>\n",
       "    <tr>\n",
       "      <th>3705</th>\n",
       "      <td>WK199102</td>\n",
       "      <td>244.602329</td>\n",
       "      <td>244.602329</td>\n",
       "      <td>244.602329</td>\n",
       "      <td>244.602329</td>\n",
       "      <td>244.602329</td>\n",
       "      <td>1011.044925</td>\n",
       "      <td>1011.044925</td>\n",
       "      <td>1011.044925</td>\n",
       "      <td>1011.044925</td>\n",
       "      <td>...</td>\n",
       "      <td>8.408712</td>\n",
       "      <td>8.408712</td>\n",
       "      <td>8.408712</td>\n",
       "      <td>8.408712</td>\n",
       "      <td>5.789474</td>\n",
       "      <td>66.486352</td>\n",
       "      <td>66.486352</td>\n",
       "      <td>66.486352</td>\n",
       "      <td>66.486352</td>\n",
       "      <td>73.0</td>\n",
       "    </tr>\n",
       "    <tr>\n",
       "      <th>3706</th>\n",
       "      <td>WK199103</td>\n",
       "      <td>244.602329</td>\n",
       "      <td>244.602329</td>\n",
       "      <td>244.602329</td>\n",
       "      <td>244.602329</td>\n",
       "      <td>244.602329</td>\n",
       "      <td>1011.044925</td>\n",
       "      <td>1011.044925</td>\n",
       "      <td>1011.044925</td>\n",
       "      <td>1011.044925</td>\n",
       "      <td>...</td>\n",
       "      <td>8.408712</td>\n",
       "      <td>8.408712</td>\n",
       "      <td>8.408712</td>\n",
       "      <td>8.408712</td>\n",
       "      <td>8.333333</td>\n",
       "      <td>66.486352</td>\n",
       "      <td>66.486352</td>\n",
       "      <td>66.486352</td>\n",
       "      <td>66.486352</td>\n",
       "      <td>76.0</td>\n",
       "    </tr>\n",
       "    <tr>\n",
       "      <th>3707</th>\n",
       "      <td>WK199104</td>\n",
       "      <td>244.602329</td>\n",
       "      <td>244.602329</td>\n",
       "      <td>244.602329</td>\n",
       "      <td>244.602329</td>\n",
       "      <td>244.602329</td>\n",
       "      <td>1011.044925</td>\n",
       "      <td>1011.044925</td>\n",
       "      <td>1011.044925</td>\n",
       "      <td>1011.044925</td>\n",
       "      <td>...</td>\n",
       "      <td>8.408712</td>\n",
       "      <td>8.408712</td>\n",
       "      <td>8.408712</td>\n",
       "      <td>8.408712</td>\n",
       "      <td>5.974026</td>\n",
       "      <td>66.486352</td>\n",
       "      <td>66.486352</td>\n",
       "      <td>66.486352</td>\n",
       "      <td>66.486352</td>\n",
       "      <td>74.0</td>\n",
       "    </tr>\n",
       "    <tr>\n",
       "      <th>3708</th>\n",
       "      <td>WK199105</td>\n",
       "      <td>244.602329</td>\n",
       "      <td>244.602329</td>\n",
       "      <td>244.602329</td>\n",
       "      <td>244.602329</td>\n",
       "      <td>244.602329</td>\n",
       "      <td>1011.044925</td>\n",
       "      <td>1011.044925</td>\n",
       "      <td>1011.044925</td>\n",
       "      <td>1011.044925</td>\n",
       "      <td>...</td>\n",
       "      <td>8.408712</td>\n",
       "      <td>8.408712</td>\n",
       "      <td>8.408712</td>\n",
       "      <td>8.408712</td>\n",
       "      <td>9.090909</td>\n",
       "      <td>66.486352</td>\n",
       "      <td>66.486352</td>\n",
       "      <td>66.486352</td>\n",
       "      <td>66.486352</td>\n",
       "      <td>74.0</td>\n",
       "    </tr>\n",
       "    <tr>\n",
       "      <th>3709</th>\n",
       "      <td>WK199106</td>\n",
       "      <td>244.602329</td>\n",
       "      <td>244.602329</td>\n",
       "      <td>244.602329</td>\n",
       "      <td>244.602329</td>\n",
       "      <td>244.602329</td>\n",
       "      <td>1011.044925</td>\n",
       "      <td>1011.044925</td>\n",
       "      <td>1011.044925</td>\n",
       "      <td>1011.044925</td>\n",
       "      <td>...</td>\n",
       "      <td>8.408712</td>\n",
       "      <td>8.408712</td>\n",
       "      <td>8.408712</td>\n",
       "      <td>8.408712</td>\n",
       "      <td>7.258065</td>\n",
       "      <td>66.486352</td>\n",
       "      <td>66.486352</td>\n",
       "      <td>66.486352</td>\n",
       "      <td>66.486352</td>\n",
       "      <td>73.0</td>\n",
       "    </tr>\n",
       "  </tbody>\n",
       "</table>\n",
       "<p>3710 rows × 81 columns</p>\n",
       "</div>"
      ],
      "text/plain": [
       "     gwb_code_10  a_soz_ao_2018  a_soz_ao_2019  a_soz_ao_2020  a_soz_ao_2021  \\\n",
       "0       WK000300     710.000000     730.000000     710.000000     710.000000   \n",
       "1       WK000500     580.000000     580.000000     580.000000     580.000000   \n",
       "2       WK000900     150.000000     150.000000     150.000000     150.000000   \n",
       "3       WK000901      50.000000      50.000000      50.000000      50.000000   \n",
       "4       WK001000     870.000000     870.000000     870.000000     870.000000   \n",
       "...          ...            ...            ...            ...            ...   \n",
       "3705    WK199102     244.602329     244.602329     244.602329     244.602329   \n",
       "3706    WK199103     244.602329     244.602329     244.602329     244.602329   \n",
       "3707    WK199104     244.602329     244.602329     244.602329     244.602329   \n",
       "3708    WK199105     244.602329     244.602329     244.602329     244.602329   \n",
       "3709    WK199106     244.602329     244.602329     244.602329     244.602329   \n",
       "\n",
       "      a_soz_ao_2022  a_soz_ow_2018  a_soz_ow_2019  a_soz_ow_2020  \\\n",
       "0        710.000000    2670.000000    2670.000000    2750.000000   \n",
       "1        580.000000    2080.000000    2080.000000    2080.000000   \n",
       "2        150.000000    1170.000000    1170.000000    1170.000000   \n",
       "3         50.000000     190.000000     190.000000     190.000000   \n",
       "4        870.000000    4230.000000    4230.000000    4230.000000   \n",
       "...             ...            ...            ...            ...   \n",
       "3705     244.602329    1011.044925    1011.044925    1011.044925   \n",
       "3706     244.602329    1011.044925    1011.044925    1011.044925   \n",
       "3707     244.602329    1011.044925    1011.044925    1011.044925   \n",
       "3708     244.602329    1011.044925    1011.044925    1011.044925   \n",
       "3709     244.602329    1011.044925    1011.044925    1011.044925   \n",
       "\n",
       "      a_soz_ow_2021  ...  p_jz_tn_2018  p_jz_tn_2019  p_jz_tn_2020  \\\n",
       "0       2750.000000  ...      9.900000     11.500000     10.200000   \n",
       "1       2080.000000  ...      9.900000      9.900000      9.900000   \n",
       "2       1170.000000  ...      9.000000      9.000000      9.000000   \n",
       "3        190.000000  ...      9.600000      9.600000      9.600000   \n",
       "4       4230.000000  ...     10.600000     10.600000     10.600000   \n",
       "...             ...  ...           ...           ...           ...   \n",
       "3705    1011.044925  ...      8.408712      8.408712      8.408712   \n",
       "3706    1011.044925  ...      8.408712      8.408712      8.408712   \n",
       "3707    1011.044925  ...      8.408712      8.408712      8.408712   \n",
       "3708    1011.044925  ...      8.408712      8.408712      8.408712   \n",
       "3709    1011.044925  ...      8.408712      8.408712      8.408712   \n",
       "\n",
       "      p_jz_tn_2021  p_jz_tn_2022  p_koopw_2018  p_koopw_2019  p_koopw_2020  \\\n",
       "0        10.200000     10.200000     49.000000     48.000000     48.000000   \n",
       "1         9.900000      9.900000     69.000000     69.000000     69.000000   \n",
       "2         9.000000      9.000000     76.000000     76.000000     76.000000   \n",
       "3         9.600000      9.600000     78.000000     78.000000     78.000000   \n",
       "4        10.600000     10.600000     55.000000     55.000000     55.000000   \n",
       "...            ...           ...           ...           ...           ...   \n",
       "3705      8.408712      5.789474     66.486352     66.486352     66.486352   \n",
       "3706      8.408712      8.333333     66.486352     66.486352     66.486352   \n",
       "3707      8.408712      5.974026     66.486352     66.486352     66.486352   \n",
       "3708      8.408712      9.090909     66.486352     66.486352     66.486352   \n",
       "3709      8.408712      7.258065     66.486352     66.486352     66.486352   \n",
       "\n",
       "      p_koopw_2021  p_koopw_2022  \n",
       "0        48.000000          48.0  \n",
       "1        69.000000          69.0  \n",
       "2        76.000000          76.0  \n",
       "3        78.000000          78.0  \n",
       "4        55.000000          55.0  \n",
       "...            ...           ...  \n",
       "3705     66.486352          73.0  \n",
       "3706     66.486352          76.0  \n",
       "3707     66.486352          74.0  \n",
       "3708     66.486352          74.0  \n",
       "3709     66.486352          73.0  \n",
       "\n",
       "[3710 rows x 81 columns]"
      ]
     },
     "metadata": {},
     "output_type": "display_data"
    }
   ],
   "source": [
    "# handling missing data, and sorting columns for forward fill\n",
    "\n",
    "cols = sorted(dfs.columns)\n",
    "cols.remove(\"gwb_code_10\")\n",
    "cols = [\"gwb_code_10\"] + cols\n",
    "dfs = dfs[cols]\n",
    "\n",
    "for x in dfs.columns:\n",
    "    if \"2018\" in x:\n",
    "        dfs[x] = dfs[x].fillna(dfs[x].mean())\n",
    "\n",
    "dfs = dfs.ffill(axis='columns')\n",
    "dfs = dfs.apply(pd.to_numeric, errors='ignore')\n",
    "\n",
    "display(dfs)"
   ]
  },
  {
   "cell_type": "code",
   "execution_count": 55,
   "metadata": {},
   "outputs": [],
   "source": [
    "# percentages to log\n",
    "# dfs[[x for x in dfs.columns if \"p_\" in x]] = np.log2(dfs[[x for x in dfs.columns if \"p_\" in x]].div(100))\n",
    "# dfs = dfs.replace([np.inf, -np.inf, np.nan, \".\", \"-\"], np.nan)\n",
    "# dfs[[x for x in dfs.columns if \"p_\" in x]] = dfs[[x for x in dfs.columns if \"p_\" in x]].fillna(-5000)\n",
    "# display(dfs)"
   ]
  },
  {
   "cell_type": "code",
   "execution_count": 56,
   "metadata": {},
   "outputs": [],
   "source": [
    "# Extract features and target variable\n",
    "target = dfs['p_jz_tn_2022']\n",
    "features = dfs[[x for x in dfs.columns if \"2022\" not in x]]\n",
    "features = features[[x for x in features.columns if \"gwb_code_10\" not in x]]\n",
    "pred_set = dfs[[x for x in dfs.columns if \"2018\" not in x]]\n",
    "pred_set = pred_set[[x for x in pred_set.columns if \"gwb_code_10\" not in x]]\n",
    "pred_set.columns = features.columns"
   ]
  },
  {
   "cell_type": "code",
   "execution_count": 57,
   "metadata": {},
   "outputs": [
    {
     "name": "stdout",
     "output_type": "stream",
     "text": [
      "Mean Squared Error: 2.585862872240392\n",
      "R^2 Score: 0.6985671630494916\n"
     ]
    }
   ],
   "source": [
    "# Split data into training and testing sets\n",
    "X_train, X_test, y_train, y_test = train_test_split(features, target, test_size=0.2, random_state=42)\n",
    "\n",
    "# Train XGBoost model\n",
    "xgb_model = xgb.XGBRegressor()\n",
    "xgb_model.fit(X_train, y_train)\n",
    "\n",
    "# Make predictions on the testing set\n",
    "y_pred = xgb_model.predict(X_test)\n",
    "\n",
    "# Calculate evaluation metrics\n",
    "mse = mean_squared_error(y_test, y_pred)\n",
    "r2 = r2_score(y_test, y_pred)\n",
    "\n",
    "print(\"Mean Squared Error:\", mse)\n",
    "print(\"R^2 Score:\", r2)"
   ]
  },
  {
   "cell_type": "code",
   "execution_count": 58,
   "metadata": {},
   "outputs": [
    {
     "data": {
      "image/png": "[encoded data removed]",
      "text/plain": [
       "<Figure size 432x288 with 1 Axes>"
      ]
     },
     "metadata": {
      "needs_background": "light"
     },
     "output_type": "display_data"
    }
   ],
   "source": [
    "import matplotlib.pyplot as plt\n",
    "feature_importance = sorted(xgb_model.get_booster().get_score(importance_type=\"gain\").items(), key=lambda x:x[1], reverse=True)\n",
    "\n",
    "features_imp = list(zip(*feature_importance))[0]\n",
    "importances = list(zip(*feature_importance))[1]\n",
    "\n",
    "plt.bar(range(len(feature_importance[:15])), importances[:15], tick_label=features_imp[:15])\n",
    "plt.xticks(rotation = 90)\n",
    "plt.show()"
   ]
  },
  {
   "cell_type": "code",
   "execution_count": 59,
   "metadata": {},
   "outputs": [],
   "source": [
    "prediction_xgb = xgb_model.predict(pred_set)\n",
    "dfs[\"prediction_xgb\"] = prediction_xgb"
   ]
  },
  {
   "cell_type": "code",
   "execution_count": 60,
   "metadata": {},
   "outputs": [
    {
     "name": "stdout",
     "output_type": "stream",
     "text": [
      "RMSE: 1.5831535535834413\n"
     ]
    }
   ],
   "source": [
    "import numpy as np\n",
    "from sklearn.ensemble import RandomForestRegressor\n",
    "from sklearn.model_selection import train_test_split\n",
    "from sklearn.metrics import mean_squared_error\n",
    "\n",
    "# Split the dataset into training and testing sets\n",
    "X_train, X_test, y_train, y_test = train_test_split(features, target, test_size=0.2, random_state=42)\n",
    "\n",
    "# Create a Random Forest regressor\n",
    "rf_regressor = RandomForestRegressor(n_estimators=100, random_state=42)\n",
    "\n",
    "# Train the regressor\n",
    "rf_regressor.fit(X_train, y_train)\n",
    "\n",
    "# Make predictions on the test set\n",
    "y_pred = rf_regressor.predict(X_test)\n",
    "\n",
    "# Calculate the root mean squared error (RMSE) of the model\n",
    "rmse = np.sqrt(mean_squared_error(y_test, y_pred))\n",
    "print(\"RMSE:\", rmse)"
   ]
  },
  {
   "cell_type": "code",
   "execution_count": 61,
   "metadata": {},
   "outputs": [],
   "source": [
    "prediction_rf = rf_regressor.predict(pred_set)\n",
    "dfs[\"prediction_rf\"] = prediction_rf"
   ]
  },
  {
   "cell_type": "code",
   "execution_count": 62,
   "metadata": {},
   "outputs": [
    {
     "data": {
      "text/html": [
       "<div>\n",
       "<style scoped>\n",
       "    .dataframe tbody tr th:only-of-type {\n",
       "        vertical-align: middle;\n",
       "    }\n",
       "\n",
       "    .dataframe tbody tr th {\n",
       "        vertical-align: top;\n",
       "    }\n",
       "\n",
       "    .dataframe thead th {\n",
       "        text-align: right;\n",
       "    }\n",
       "</style>\n",
       "<table border=\"1\" class=\"dataframe\">\n",
       "  <thead>\n",
       "    <tr style=\"text-align: right;\">\n",
       "      <th></th>\n",
       "      <th>gwb_code_10</th>\n",
       "      <th>a_soz_ao_2018</th>\n",
       "      <th>a_soz_ao_2019</th>\n",
       "      <th>a_soz_ao_2020</th>\n",
       "      <th>a_soz_ao_2021</th>\n",
       "      <th>a_soz_ao_2022</th>\n",
       "      <th>a_soz_ow_2018</th>\n",
       "      <th>a_soz_ow_2019</th>\n",
       "      <th>a_soz_ow_2020</th>\n",
       "      <th>a_soz_ow_2021</th>\n",
       "      <th>...</th>\n",
       "      <th>p_jz_tn_2020</th>\n",
       "      <th>p_jz_tn_2021</th>\n",
       "      <th>p_jz_tn_2022</th>\n",
       "      <th>p_koopw_2018</th>\n",
       "      <th>p_koopw_2019</th>\n",
       "      <th>p_koopw_2020</th>\n",
       "      <th>p_koopw_2021</th>\n",
       "      <th>p_koopw_2022</th>\n",
       "      <th>prediction_xgb</th>\n",
       "      <th>prediction_rf</th>\n",
       "    </tr>\n",
       "  </thead>\n",
       "  <tbody>\n",
       "    <tr>\n",
       "      <th>0</th>\n",
       "      <td>WK000300</td>\n",
       "      <td>710.000000</td>\n",
       "      <td>730.000000</td>\n",
       "      <td>710.000000</td>\n",
       "      <td>710.000000</td>\n",
       "      <td>710.000000</td>\n",
       "      <td>2670.000000</td>\n",
       "      <td>2670.000000</td>\n",
       "      <td>2750.000000</td>\n",
       "      <td>2750.000000</td>\n",
       "      <td>...</td>\n",
       "      <td>10.200000</td>\n",
       "      <td>10.200000</td>\n",
       "      <td>10.200000</td>\n",
       "      <td>49.000000</td>\n",
       "      <td>48.000000</td>\n",
       "      <td>48.000000</td>\n",
       "      <td>48.000000</td>\n",
       "      <td>48.0</td>\n",
       "      <td>9.778097</td>\n",
       "      <td>10.011940</td>\n",
       "    </tr>\n",
       "    <tr>\n",
       "      <th>1</th>\n",
       "      <td>WK000500</td>\n",
       "      <td>580.000000</td>\n",
       "      <td>580.000000</td>\n",
       "      <td>580.000000</td>\n",
       "      <td>580.000000</td>\n",
       "      <td>580.000000</td>\n",
       "      <td>2080.000000</td>\n",
       "      <td>2080.000000</td>\n",
       "      <td>2080.000000</td>\n",
       "      <td>2080.000000</td>\n",
       "      <td>...</td>\n",
       "      <td>9.900000</td>\n",
       "      <td>9.900000</td>\n",
       "      <td>9.900000</td>\n",
       "      <td>69.000000</td>\n",
       "      <td>69.000000</td>\n",
       "      <td>69.000000</td>\n",
       "      <td>69.000000</td>\n",
       "      <td>69.0</td>\n",
       "      <td>9.806551</td>\n",
       "      <td>9.889182</td>\n",
       "    </tr>\n",
       "    <tr>\n",
       "      <th>2</th>\n",
       "      <td>WK000900</td>\n",
       "      <td>150.000000</td>\n",
       "      <td>150.000000</td>\n",
       "      <td>150.000000</td>\n",
       "      <td>150.000000</td>\n",
       "      <td>150.000000</td>\n",
       "      <td>1170.000000</td>\n",
       "      <td>1170.000000</td>\n",
       "      <td>1170.000000</td>\n",
       "      <td>1170.000000</td>\n",
       "      <td>...</td>\n",
       "      <td>9.000000</td>\n",
       "      <td>9.000000</td>\n",
       "      <td>9.000000</td>\n",
       "      <td>76.000000</td>\n",
       "      <td>76.000000</td>\n",
       "      <td>76.000000</td>\n",
       "      <td>76.000000</td>\n",
       "      <td>76.0</td>\n",
       "      <td>8.954511</td>\n",
       "      <td>8.981468</td>\n",
       "    </tr>\n",
       "    <tr>\n",
       "      <th>3</th>\n",
       "      <td>WK000901</td>\n",
       "      <td>50.000000</td>\n",
       "      <td>50.000000</td>\n",
       "      <td>50.000000</td>\n",
       "      <td>50.000000</td>\n",
       "      <td>50.000000</td>\n",
       "      <td>190.000000</td>\n",
       "      <td>190.000000</td>\n",
       "      <td>190.000000</td>\n",
       "      <td>190.000000</td>\n",
       "      <td>...</td>\n",
       "      <td>9.600000</td>\n",
       "      <td>9.600000</td>\n",
       "      <td>9.600000</td>\n",
       "      <td>78.000000</td>\n",
       "      <td>78.000000</td>\n",
       "      <td>78.000000</td>\n",
       "      <td>78.000000</td>\n",
       "      <td>78.0</td>\n",
       "      <td>9.446232</td>\n",
       "      <td>9.677288</td>\n",
       "    </tr>\n",
       "    <tr>\n",
       "      <th>4</th>\n",
       "      <td>WK001000</td>\n",
       "      <td>870.000000</td>\n",
       "      <td>870.000000</td>\n",
       "      <td>870.000000</td>\n",
       "      <td>870.000000</td>\n",
       "      <td>870.000000</td>\n",
       "      <td>4230.000000</td>\n",
       "      <td>4230.000000</td>\n",
       "      <td>4230.000000</td>\n",
       "      <td>4230.000000</td>\n",
       "      <td>...</td>\n",
       "      <td>10.600000</td>\n",
       "      <td>10.600000</td>\n",
       "      <td>10.600000</td>\n",
       "      <td>55.000000</td>\n",
       "      <td>55.000000</td>\n",
       "      <td>55.000000</td>\n",
       "      <td>55.000000</td>\n",
       "      <td>55.0</td>\n",
       "      <td>10.665432</td>\n",
       "      <td>10.447089</td>\n",
       "    </tr>\n",
       "    <tr>\n",
       "      <th>...</th>\n",
       "      <td>...</td>\n",
       "      <td>...</td>\n",
       "      <td>...</td>\n",
       "      <td>...</td>\n",
       "      <td>...</td>\n",
       "      <td>...</td>\n",
       "      <td>...</td>\n",
       "      <td>...</td>\n",
       "      <td>...</td>\n",
       "      <td>...</td>\n",
       "      <td>...</td>\n",
       "      <td>...</td>\n",
       "      <td>...</td>\n",
       "      <td>...</td>\n",
       "      <td>...</td>\n",
       "      <td>...</td>\n",
       "      <td>...</td>\n",
       "      <td>...</td>\n",
       "      <td>...</td>\n",
       "      <td>...</td>\n",
       "      <td>...</td>\n",
       "    </tr>\n",
       "    <tr>\n",
       "      <th>3705</th>\n",
       "      <td>WK199102</td>\n",
       "      <td>244.602329</td>\n",
       "      <td>244.602329</td>\n",
       "      <td>244.602329</td>\n",
       "      <td>244.602329</td>\n",
       "      <td>244.602329</td>\n",
       "      <td>1011.044925</td>\n",
       "      <td>1011.044925</td>\n",
       "      <td>1011.044925</td>\n",
       "      <td>1011.044925</td>\n",
       "      <td>...</td>\n",
       "      <td>8.408712</td>\n",
       "      <td>8.408712</td>\n",
       "      <td>5.789474</td>\n",
       "      <td>66.486352</td>\n",
       "      <td>66.486352</td>\n",
       "      <td>66.486352</td>\n",
       "      <td>66.486352</td>\n",
       "      <td>73.0</td>\n",
       "      <td>6.563620</td>\n",
       "      <td>6.389380</td>\n",
       "    </tr>\n",
       "    <tr>\n",
       "      <th>3706</th>\n",
       "      <td>WK199103</td>\n",
       "      <td>244.602329</td>\n",
       "      <td>244.602329</td>\n",
       "      <td>244.602329</td>\n",
       "      <td>244.602329</td>\n",
       "      <td>244.602329</td>\n",
       "      <td>1011.044925</td>\n",
       "      <td>1011.044925</td>\n",
       "      <td>1011.044925</td>\n",
       "      <td>1011.044925</td>\n",
       "      <td>...</td>\n",
       "      <td>8.408712</td>\n",
       "      <td>8.408712</td>\n",
       "      <td>8.333333</td>\n",
       "      <td>66.486352</td>\n",
       "      <td>66.486352</td>\n",
       "      <td>66.486352</td>\n",
       "      <td>66.486352</td>\n",
       "      <td>76.0</td>\n",
       "      <td>8.352372</td>\n",
       "      <td>8.310010</td>\n",
       "    </tr>\n",
       "    <tr>\n",
       "      <th>3707</th>\n",
       "      <td>WK199104</td>\n",
       "      <td>244.602329</td>\n",
       "      <td>244.602329</td>\n",
       "      <td>244.602329</td>\n",
       "      <td>244.602329</td>\n",
       "      <td>244.602329</td>\n",
       "      <td>1011.044925</td>\n",
       "      <td>1011.044925</td>\n",
       "      <td>1011.044925</td>\n",
       "      <td>1011.044925</td>\n",
       "      <td>...</td>\n",
       "      <td>8.408712</td>\n",
       "      <td>8.408712</td>\n",
       "      <td>5.974026</td>\n",
       "      <td>66.486352</td>\n",
       "      <td>66.486352</td>\n",
       "      <td>66.486352</td>\n",
       "      <td>66.486352</td>\n",
       "      <td>74.0</td>\n",
       "      <td>6.962126</td>\n",
       "      <td>6.651279</td>\n",
       "    </tr>\n",
       "    <tr>\n",
       "      <th>3708</th>\n",
       "      <td>WK199105</td>\n",
       "      <td>244.602329</td>\n",
       "      <td>244.602329</td>\n",
       "      <td>244.602329</td>\n",
       "      <td>244.602329</td>\n",
       "      <td>244.602329</td>\n",
       "      <td>1011.044925</td>\n",
       "      <td>1011.044925</td>\n",
       "      <td>1011.044925</td>\n",
       "      <td>1011.044925</td>\n",
       "      <td>...</td>\n",
       "      <td>8.408712</td>\n",
       "      <td>8.408712</td>\n",
       "      <td>9.090909</td>\n",
       "      <td>66.486352</td>\n",
       "      <td>66.486352</td>\n",
       "      <td>66.486352</td>\n",
       "      <td>66.486352</td>\n",
       "      <td>74.0</td>\n",
       "      <td>8.822793</td>\n",
       "      <td>9.018450</td>\n",
       "    </tr>\n",
       "    <tr>\n",
       "      <th>3709</th>\n",
       "      <td>WK199106</td>\n",
       "      <td>244.602329</td>\n",
       "      <td>244.602329</td>\n",
       "      <td>244.602329</td>\n",
       "      <td>244.602329</td>\n",
       "      <td>244.602329</td>\n",
       "      <td>1011.044925</td>\n",
       "      <td>1011.044925</td>\n",
       "      <td>1011.044925</td>\n",
       "      <td>1011.044925</td>\n",
       "      <td>...</td>\n",
       "      <td>8.408712</td>\n",
       "      <td>8.408712</td>\n",
       "      <td>7.258065</td>\n",
       "      <td>66.486352</td>\n",
       "      <td>66.486352</td>\n",
       "      <td>66.486352</td>\n",
       "      <td>66.486352</td>\n",
       "      <td>73.0</td>\n",
       "      <td>7.440940</td>\n",
       "      <td>7.449199</td>\n",
       "    </tr>\n",
       "  </tbody>\n",
       "</table>\n",
       "<p>3710 rows × 83 columns</p>\n",
       "</div>"
      ],
      "text/plain": [
       "     gwb_code_10  a_soz_ao_2018  a_soz_ao_2019  a_soz_ao_2020  a_soz_ao_2021  \\\n",
       "0       WK000300     710.000000     730.000000     710.000000     710.000000   \n",
       "1       WK000500     580.000000     580.000000     580.000000     580.000000   \n",
       "2       WK000900     150.000000     150.000000     150.000000     150.000000   \n",
       "3       WK000901      50.000000      50.000000      50.000000      50.000000   \n",
       "4       WK001000     870.000000     870.000000     870.000000     870.000000   \n",
       "...          ...            ...            ...            ...            ...   \n",
       "3705    WK199102     244.602329     244.602329     244.602329     244.602329   \n",
       "3706    WK199103     244.602329     244.602329     244.602329     244.602329   \n",
       "3707    WK199104     244.602329     244.602329     244.602329     244.602329   \n",
       "3708    WK199105     244.602329     244.602329     244.602329     244.602329   \n",
       "3709    WK199106     244.602329     244.602329     244.602329     244.602329   \n",
       "\n",
       "      a_soz_ao_2022  a_soz_ow_2018  a_soz_ow_2019  a_soz_ow_2020  \\\n",
       "0        710.000000    2670.000000    2670.000000    2750.000000   \n",
       "1        580.000000    2080.000000    2080.000000    2080.000000   \n",
       "2        150.000000    1170.000000    1170.000000    1170.000000   \n",
       "3         50.000000     190.000000     190.000000     190.000000   \n",
       "4        870.000000    4230.000000    4230.000000    4230.000000   \n",
       "...             ...            ...            ...            ...   \n",
       "3705     244.602329    1011.044925    1011.044925    1011.044925   \n",
       "3706     244.602329    1011.044925    1011.044925    1011.044925   \n",
       "3707     244.602329    1011.044925    1011.044925    1011.044925   \n",
       "3708     244.602329    1011.044925    1011.044925    1011.044925   \n",
       "3709     244.602329    1011.044925    1011.044925    1011.044925   \n",
       "\n",
       "      a_soz_ow_2021  ...  p_jz_tn_2020  p_jz_tn_2021  p_jz_tn_2022  \\\n",
       "0       2750.000000  ...     10.200000     10.200000     10.200000   \n",
       "1       2080.000000  ...      9.900000      9.900000      9.900000   \n",
       "2       1170.000000  ...      9.000000      9.000000      9.000000   \n",
       "3        190.000000  ...      9.600000      9.600000      9.600000   \n",
       "4       4230.000000  ...     10.600000     10.600000     10.600000   \n",
       "...             ...  ...           ...           ...           ...   \n",
       "3705    1011.044925  ...      8.408712      8.408712      5.789474   \n",
       "3706    1011.044925  ...      8.408712      8.408712      8.333333   \n",
       "3707    1011.044925  ...      8.408712      8.408712      5.974026   \n",
       "3708    1011.044925  ...      8.408712      8.408712      9.090909   \n",
       "3709    1011.044925  ...      8.408712      8.408712      7.258065   \n",
       "\n",
       "      p_koopw_2018  p_koopw_2019  p_koopw_2020  p_koopw_2021  p_koopw_2022  \\\n",
       "0        49.000000     48.000000     48.000000     48.000000          48.0   \n",
       "1        69.000000     69.000000     69.000000     69.000000          69.0   \n",
       "2        76.000000     76.000000     76.000000     76.000000          76.0   \n",
       "3        78.000000     78.000000     78.000000     78.000000          78.0   \n",
       "4        55.000000     55.000000     55.000000     55.000000          55.0   \n",
       "...            ...           ...           ...           ...           ...   \n",
       "3705     66.486352     66.486352     66.486352     66.486352          73.0   \n",
       "3706     66.486352     66.486352     66.486352     66.486352          76.0   \n",
       "3707     66.486352     66.486352     66.486352     66.486352          74.0   \n",
       "3708     66.486352     66.486352     66.486352     66.486352          74.0   \n",
       "3709     66.486352     66.486352     66.486352     66.486352          73.0   \n",
       "\n",
       "      prediction_xgb  prediction_rf  \n",
       "0           9.778097      10.011940  \n",
       "1           9.806551       9.889182  \n",
       "2           8.954511       8.981468  \n",
       "3           9.446232       9.677288  \n",
       "4          10.665432      10.447089  \n",
       "...              ...            ...  \n",
       "3705        6.563620       6.389380  \n",
       "3706        8.352372       8.310010  \n",
       "3707        6.962126       6.651279  \n",
       "3708        8.822793       9.018450  \n",
       "3709        7.440940       7.449199  \n",
       "\n",
       "[3710 rows x 83 columns]"
      ]
     },
     "metadata": {},
     "output_type": "display_data"
    }
   ],
   "source": [
    "display(dfs)\n",
    "dfs.to_csv(\"data_predictions.csv\")"
   ]
  },
  {
   "attachments": {},
   "cell_type": "markdown",
   "metadata": {},
   "source": [
    "# Visualising"
   ]
  },
  {
   "attachments": {},
   "cell_type": "markdown",
   "metadata": {},
   "source": [
    "This is not needed for the prediction, merely some visualisations for checking."
   ]
  },
  {
   "cell_type": "code",
   "execution_count": 63,
   "metadata": {},
   "outputs": [],
   "source": [
    "df = pd.read_excel(\"./data/kwb-2018.xls\")\n",
    "df = df[['gwb_code_10', 'gm_naam', 'regio']]\n",
    "dfs = pd.merge(dfs, df, on='gwb_code_10', how='left')"
   ]
  },
  {
   "cell_type": "code",
   "execution_count": 64,
   "metadata": {},
   "outputs": [
    {
     "name": "stderr",
     "output_type": "stream",
     "text": [
      "C:\\Users\\stanf\\AppData\\Local\\Packages\\PythonSoftwareFoundation.Python.3.9_qbz5n2kfra8p0\\LocalCache\\local-packages\\Python39\\site-packages\\pandas\\core\\indexing.py:1667: SettingWithCopyWarning:\n",
      "\n",
      "\n",
      "A value is trying to be set on a copy of a slice from a DataFrame.\n",
      "Try using .loc[row_indexer,col_indexer] = value instead\n",
      "\n",
      "See the caveats in the documentation: https://pandas.pydata.org/pandas-docs/stable/user_guide/indexing.html#returning-a-view-versus-a-copy\n",
      "\n"
     ]
    }
   ],
   "source": [
    "ts_total, ts_2018, ts_2019, ts_2020, ts_2021, ts_2022, ts_2023 = pd.DataFrame(), pd.DataFrame(), pd.DataFrame(), pd.DataFrame(), pd.DataFrame(), pd.DataFrame(), pd.DataFrame()\n",
    "dflist = [ts_2018, ts_2019, ts_2020, ts_2021, ts_2022, ts_2023]\n",
    "\n",
    "form = \"prediction_xgb\"\n",
    "for df in range(len(dflist)):\n",
    "    if df != 5:\n",
    "        dflist[df] = dfs[['gwb_code_10', 'gm_naam', 'regio'] + [x for x in dfs.columns if \"{}\".format(2018+df) in x]]\n",
    "        dflist[df].columns = pd.Index(map(lambda x : str(x)[:-5], dflist[df].columns[3:])).insert(0, \"gwb_code_10\").insert(1, 'gm_naam').insert(2, 'regio')\n",
    "        dflist[df].loc[:, 'year'] = pd.to_datetime('{}'.format(2018+df))\n",
    "        ts_total = pd.concat([ts_total, dflist[df]])\n",
    "    elif form == \"prediction_rf\":\n",
    "        dflist[df] = dfs[['gwb_code_10', 'gm_naam', 'regio', \"prediction_rf\"] + [x for x in dfs.columns if \"2022\" in x]]\n",
    "        dflist[df].columns = pd.Index(map(lambda x : str(x)[:-5], dflist[df].columns[4:])).insert(0, \"gwb_code_10\").insert(1, 'gm_naam').insert(2, 'regio').insert(3, \"prediction_rf\")\n",
    "        dflist[df] = dflist[df].drop(\"p_jz_tn\", axis=1)\n",
    "        dflist[df] = dflist[df].rename(columns={\"prediction_rf\" : \"p_jz_tn\"})\n",
    "        dflist[df].loc[:, 'year'] = pd.to_datetime('{}'.format(2018+df))\n",
    "        ts_total = pd.concat([ts_total, dflist[df]])\n",
    "    elif form == \"prediction_xgb\":\n",
    "        dflist[df] = dfs[['gwb_code_10', 'gm_naam', 'regio', \"prediction_xgb\"] + [x for x in dfs.columns if \"2022\" in x]]\n",
    "        dflist[df].columns = pd.Index(map(lambda x : str(x)[:-5], dflist[df].columns[4:])).insert(0, \"gwb_code_10\").insert(1, 'gm_naam').insert(2, 'regio').insert(3, \"prediction_xgb\")\n",
    "        dflist[df] = dflist[df].drop(\"p_jz_tn\", axis=1)\n",
    "        dflist[df] = dflist[df].rename(columns={\"prediction_xgb\" : \"p_jz_tn\"})\n",
    "        dflist[df].loc[:, 'year'] = pd.to_datetime('{}'.format(2018+df))\n",
    "        ts_total = pd.concat([ts_total, dflist[df]])\n",
    "        \n",
    "\n",
    "# ts_total[[x for x in ts_total.columns if \"p_\" in x]] = np.exp(ts_total[[x for x in ts_total.columns if \"p_\" in x]]).multiply(100)"
   ]
  },
  {
   "cell_type": "code",
   "execution_count": 69,
   "metadata": {},
   "outputs": [],
   "source": [
    "ts_amsterdam = ts_total[ts_total.gm_naam == \"Haarlem\"]"
   ]
  },
  {
   "cell_type": "code",
   "execution_count": 70,
   "metadata": {},
   "outputs": [
    {
     "data": {
      "application/vnd.plotly.v1+json": {
       "config": {
        "plotlyServerURL": "https://plot.ly"
       },
       "data": [
        {
         "hovertemplate": "regio=Oude Stad<br>year=%{x}<br>p_jz_tn=%{y}<extra></extra>",
         "legendgroup": "Oude Stad",
         "line": {
          "color": "#636efa",
          "dash": "solid"
         },
         "marker": {
          "symbol": "circle"
         },
         "mode": "lines",
         "name": "Oude Stad",
         "orientation": "v",
         "showlegend": true,
         "type": "scatter",
         "x": [
          "2018-01-01T00:00:00",
          "2019-01-01T00:00:00",
          "2020-01-01T00:00:00",
          "2021-01-01T00:00:00",
          "2022-01-01T00:00:00",
          "2023-01-01T00:00:00"
         ],
         "xaxis": "x",
         "y": [
          6.7,
          7,
          6,
          6.493506493506493,
          6.741573033707865,
          6.408688545227051
         ],
         "yaxis": "y"
        },
        {
         "hovertemplate": "regio=Haarlemmerhoutkwartier<br>year=%{x}<br>p_jz_tn=%{y}<extra></extra>",
         "legendgroup": "Haarlemmerhoutkwartier",
         "line": {
          "color": "#EF553B",
          "dash": "solid"
         },
         "marker": {
          "symbol": "circle"
         },
         "mode": "lines",
         "name": "Haarlemmerhoutkwartier",
         "orientation": "v",
         "showlegend": true,
         "type": "scatter",
         "x": [
          "2018-01-01T00:00:00",
          "2019-01-01T00:00:00",
          "2020-01-01T00:00:00",
          "2021-01-01T00:00:00",
          "2022-01-01T00:00:00",
          "2023-01-01T00:00:00"
         ],
         "xaxis": "x",
         "y": [
          5.9,
          6.2,
          6.4,
          7.07070707070707,
          7.669616519174041,
          7.625305652618408
         ],
         "yaxis": "y"
        },
        {
         "hovertemplate": "regio=Zijlwegkwartier<br>year=%{x}<br>p_jz_tn=%{y}<extra></extra>",
         "legendgroup": "Zijlwegkwartier",
         "line": {
          "color": "#00cc96",
          "dash": "solid"
         },
         "marker": {
          "symbol": "circle"
         },
         "mode": "lines",
         "name": "Zijlwegkwartier",
         "orientation": "v",
         "showlegend": true,
         "type": "scatter",
         "x": [
          "2018-01-01T00:00:00",
          "2019-01-01T00:00:00",
          "2020-01-01T00:00:00",
          "2021-01-01T00:00:00",
          "2022-01-01T00:00:00",
          "2023-01-01T00:00:00"
         ],
         "xaxis": "x",
         "y": [
          6.5,
          7.6,
          7.5,
          7.52212389380531,
          7.882882882882883,
          7.711512565612793
         ],
         "yaxis": "y"
        },
        {
         "hovertemplate": "regio=Houtvaartkwartier<br>year=%{x}<br>p_jz_tn=%{y}<extra></extra>",
         "legendgroup": "Houtvaartkwartier",
         "line": {
          "color": "#ab63fa",
          "dash": "solid"
         },
         "marker": {
          "symbol": "circle"
         },
         "mode": "lines",
         "name": "Houtvaartkwartier",
         "orientation": "v",
         "showlegend": true,
         "type": "scatter",
         "x": [
          "2018-01-01T00:00:00",
          "2019-01-01T00:00:00",
          "2020-01-01T00:00:00",
          "2021-01-01T00:00:00",
          "2022-01-01T00:00:00",
          "2023-01-01T00:00:00"
         ],
         "xaxis": "x",
         "y": [
          6,
          7.4,
          8.2,
          8.267716535433072,
          8.030592734225621,
          8.315690994262695
         ],
         "yaxis": "y"
        },
        {
         "hovertemplate": "regio=Duinwijk<br>year=%{x}<br>p_jz_tn=%{y}<extra></extra>",
         "legendgroup": "Duinwijk",
         "line": {
          "color": "#FFA15A",
          "dash": "solid"
         },
         "marker": {
          "symbol": "circle"
         },
         "mode": "lines",
         "name": "Duinwijk",
         "orientation": "v",
         "showlegend": true,
         "type": "scatter",
         "x": [
          "2018-01-01T00:00:00",
          "2019-01-01T00:00:00",
          "2020-01-01T00:00:00",
          "2021-01-01T00:00:00",
          "2022-01-01T00:00:00",
          "2023-01-01T00:00:00"
         ],
         "xaxis": "x",
         "y": [
          5,
          6.6,
          6.7,
          7.605633802816901,
          7.780979827089338,
          8.325800895690918
         ],
         "yaxis": "y"
        },
        {
         "hovertemplate": "regio=Waarder- en Veerpolder<br>year=%{x}<br>p_jz_tn=%{y}<extra></extra>",
         "legendgroup": "Waarder- en Veerpolder",
         "line": {
          "color": "#19d3f3",
          "dash": "solid"
         },
         "marker": {
          "symbol": "circle"
         },
         "mode": "lines",
         "name": "Waarder- en Veerpolder",
         "orientation": "v",
         "showlegend": true,
         "type": "scatter",
         "x": [
          "2018-01-01T00:00:00",
          "2019-01-01T00:00:00",
          "2020-01-01T00:00:00",
          "2021-01-01T00:00:00",
          "2022-01-01T00:00:00",
          "2023-01-01T00:00:00"
         ],
         "xaxis": "x",
         "y": [
          6.9,
          8.2,
          8.1,
          8.333333333333332,
          11.956521739130435,
          12.334403991699219
         ],
         "yaxis": "y"
        },
        {
         "hovertemplate": "regio=Amsterdamsewijk<br>year=%{x}<br>p_jz_tn=%{y}<extra></extra>",
         "legendgroup": "Amsterdamsewijk",
         "line": {
          "color": "#FF6692",
          "dash": "solid"
         },
         "marker": {
          "symbol": "circle"
         },
         "mode": "lines",
         "name": "Amsterdamsewijk",
         "orientation": "v",
         "showlegend": true,
         "type": "scatter",
         "x": [
          "2018-01-01T00:00:00",
          "2019-01-01T00:00:00",
          "2020-01-01T00:00:00",
          "2021-01-01T00:00:00",
          "2022-01-01T00:00:00",
          "2023-01-01T00:00:00"
         ],
         "xaxis": "x",
         "y": [
          7.7,
          9.3,
          9.3,
          8.94308943089431,
          8.136482939632545,
          7.969019412994385
         ],
         "yaxis": "y"
        },
        {
         "hovertemplate": "regio=Slachthuiswijk<br>year=%{x}<br>p_jz_tn=%{y}<extra></extra>",
         "legendgroup": "Slachthuiswijk",
         "line": {
          "color": "#B6E880",
          "dash": "solid"
         },
         "marker": {
          "symbol": "circle"
         },
         "mode": "lines",
         "name": "Slachthuiswijk",
         "orientation": "v",
         "showlegend": true,
         "type": "scatter",
         "x": [
          "2018-01-01T00:00:00",
          "2019-01-01T00:00:00",
          "2020-01-01T00:00:00",
          "2021-01-01T00:00:00",
          "2022-01-01T00:00:00",
          "2023-01-01T00:00:00"
         ],
         "xaxis": "x",
         "y": [
          10.5,
          10.1,
          10.2,
          10.606060606060606,
          10.638297872340425,
          9.881043434143066
         ],
         "yaxis": "y"
        },
        {
         "hovertemplate": "regio=Parkwijk<br>year=%{x}<br>p_jz_tn=%{y}<extra></extra>",
         "legendgroup": "Parkwijk",
         "line": {
          "color": "#FF97FF",
          "dash": "solid"
         },
         "marker": {
          "symbol": "circle"
         },
         "mode": "lines",
         "name": "Parkwijk",
         "orientation": "v",
         "showlegend": true,
         "type": "scatter",
         "x": [
          "2018-01-01T00:00:00",
          "2019-01-01T00:00:00",
          "2020-01-01T00:00:00",
          "2021-01-01T00:00:00",
          "2022-01-01T00:00:00",
          "2023-01-01T00:00:00"
         ],
         "xaxis": "x",
         "y": [
          7.2,
          8.3,
          9.1,
          9.06148867313916,
          7.78816199376947,
          7.788500785827637
         ],
         "yaxis": "y"
        },
        {
         "hovertemplate": "regio=Transvaalwijk<br>year=%{x}<br>p_jz_tn=%{y}<extra></extra>",
         "legendgroup": "Transvaalwijk",
         "line": {
          "color": "#FECB52",
          "dash": "solid"
         },
         "marker": {
          "symbol": "circle"
         },
         "mode": "lines",
         "name": "Transvaalwijk",
         "orientation": "v",
         "showlegend": true,
         "type": "scatter",
         "x": [
          "2018-01-01T00:00:00",
          "2019-01-01T00:00:00",
          "2020-01-01T00:00:00",
          "2021-01-01T00:00:00",
          "2022-01-01T00:00:00",
          "2023-01-01T00:00:00"
         ],
         "xaxis": "x",
         "y": [
          6.9,
          7.3,
          6.2,
          6.526315789473684,
          6.794055201698514,
          6.588616371154785
         ],
         "yaxis": "y"
        },
        {
         "hovertemplate": "regio=Indischewijk<br>year=%{x}<br>p_jz_tn=%{y}<extra></extra>",
         "legendgroup": "Indischewijk",
         "line": {
          "color": "#636efa",
          "dash": "solid"
         },
         "marker": {
          "symbol": "circle"
         },
         "mode": "lines",
         "name": "Indischewijk",
         "orientation": "v",
         "showlegend": true,
         "type": "scatter",
         "x": [
          "2018-01-01T00:00:00",
          "2019-01-01T00:00:00",
          "2020-01-01T00:00:00",
          "2021-01-01T00:00:00",
          "2022-01-01T00:00:00",
          "2023-01-01T00:00:00"
         ],
         "xaxis": "x",
         "y": [
          7.3,
          8.2,
          8.2,
          9.293680297397769,
          9.426987060998151,
          9.842674255371094
         ],
         "yaxis": "y"
        },
        {
         "hovertemplate": "regio=Ter Kleefkwartier<br>year=%{x}<br>p_jz_tn=%{y}<extra></extra>",
         "legendgroup": "Ter Kleefkwartier",
         "line": {
          "color": "#EF553B",
          "dash": "solid"
         },
         "marker": {
          "symbol": "circle"
         },
         "mode": "lines",
         "name": "Ter Kleefkwartier",
         "orientation": "v",
         "showlegend": true,
         "type": "scatter",
         "x": [
          "2018-01-01T00:00:00",
          "2019-01-01T00:00:00",
          "2020-01-01T00:00:00",
          "2021-01-01T00:00:00",
          "2022-01-01T00:00:00",
          "2023-01-01T00:00:00"
         ],
         "xaxis": "x",
         "y": [
          7.2,
          7.1,
          6.9,
          8.782201405152225,
          8.953488372093023,
          8.597962379455566
         ],
         "yaxis": "y"
        },
        {
         "hovertemplate": "regio=Te Zaanenkwartier<br>year=%{x}<br>p_jz_tn=%{y}<extra></extra>",
         "legendgroup": "Te Zaanenkwartier",
         "line": {
          "color": "#00cc96",
          "dash": "solid"
         },
         "marker": {
          "symbol": "circle"
         },
         "mode": "lines",
         "name": "Te Zaanenkwartier",
         "orientation": "v",
         "showlegend": true,
         "type": "scatter",
         "x": [
          "2018-01-01T00:00:00",
          "2019-01-01T00:00:00",
          "2020-01-01T00:00:00",
          "2021-01-01T00:00:00",
          "2022-01-01T00:00:00",
          "2023-01-01T00:00:00"
         ],
         "xaxis": "x",
         "y": [
          7.5,
          8.7,
          8.6,
          8.555133079847907,
          9.14179104477612,
          9.320732116699219
         ],
         "yaxis": "y"
        },
        {
         "hovertemplate": "regio=Vogelenwijk<br>year=%{x}<br>p_jz_tn=%{y}<extra></extra>",
         "legendgroup": "Vogelenwijk",
         "line": {
          "color": "#ab63fa",
          "dash": "solid"
         },
         "marker": {
          "symbol": "circle"
         },
         "mode": "lines",
         "name": "Vogelenwijk",
         "orientation": "v",
         "showlegend": true,
         "type": "scatter",
         "x": [
          "2018-01-01T00:00:00",
          "2019-01-01T00:00:00",
          "2020-01-01T00:00:00",
          "2021-01-01T00:00:00",
          "2022-01-01T00:00:00",
          "2023-01-01T00:00:00"
         ],
         "xaxis": "x",
         "y": [
          7.4,
          7.9,
          8.7,
          9.35483870967742,
          8.524590163934425,
          8.211806297302246
         ],
         "yaxis": "y"
        },
        {
         "hovertemplate": "regio=Delftwijk<br>year=%{x}<br>p_jz_tn=%{y}<extra></extra>",
         "legendgroup": "Delftwijk",
         "line": {
          "color": "#FFA15A",
          "dash": "solid"
         },
         "marker": {
          "symbol": "circle"
         },
         "mode": "lines",
         "name": "Delftwijk",
         "orientation": "v",
         "showlegend": true,
         "type": "scatter",
         "x": [
          "2018-01-01T00:00:00",
          "2019-01-01T00:00:00",
          "2020-01-01T00:00:00",
          "2021-01-01T00:00:00",
          "2022-01-01T00:00:00",
          "2023-01-01T00:00:00"
         ],
         "xaxis": "x",
         "y": [
          8.3,
          8.1,
          9.6,
          10.36036036036036,
          9.417040358744394,
          9.203271865844727
         ],
         "yaxis": "y"
        },
        {
         "hovertemplate": "regio=Vondelkwartier<br>year=%{x}<br>p_jz_tn=%{y}<extra></extra>",
         "legendgroup": "Vondelkwartier",
         "line": {
          "color": "#19d3f3",
          "dash": "solid"
         },
         "marker": {
          "symbol": "circle"
         },
         "mode": "lines",
         "name": "Vondelkwartier",
         "orientation": "v",
         "showlegend": true,
         "type": "scatter",
         "x": [
          "2018-01-01T00:00:00",
          "2019-01-01T00:00:00",
          "2020-01-01T00:00:00",
          "2021-01-01T00:00:00",
          "2022-01-01T00:00:00",
          "2023-01-01T00:00:00"
         ],
         "xaxis": "x",
         "y": [
          8.7,
          10.3,
          9.6,
          9.798270893371757,
          9.649122807017543,
          9.509529113769531
         ],
         "yaxis": "y"
        },
        {
         "hovertemplate": "regio=Spaarndam<br>year=%{x}<br>p_jz_tn=%{y}<extra></extra>",
         "legendgroup": "Spaarndam",
         "line": {
          "color": "#FF6692",
          "dash": "solid"
         },
         "marker": {
          "symbol": "circle"
         },
         "mode": "lines",
         "name": "Spaarndam",
         "orientation": "v",
         "showlegend": true,
         "type": "scatter",
         "x": [
          "2018-01-01T00:00:00",
          "2019-01-01T00:00:00",
          "2020-01-01T00:00:00",
          "2021-01-01T00:00:00",
          "2022-01-01T00:00:00",
          "2023-01-01T00:00:00"
         ],
         "xaxis": "x",
         "y": [
          7.9,
          11,
          14.1,
          13.793103448275861,
          10,
          10.4131498336792
         ],
         "yaxis": "y"
        },
        {
         "hovertemplate": "regio=Europawijk<br>year=%{x}<br>p_jz_tn=%{y}<extra></extra>",
         "legendgroup": "Europawijk",
         "line": {
          "color": "#B6E880",
          "dash": "solid"
         },
         "marker": {
          "symbol": "circle"
         },
         "mode": "lines",
         "name": "Europawijk",
         "orientation": "v",
         "showlegend": true,
         "type": "scatter",
         "x": [
          "2018-01-01T00:00:00",
          "2019-01-01T00:00:00",
          "2020-01-01T00:00:00",
          "2021-01-01T00:00:00",
          "2022-01-01T00:00:00",
          "2023-01-01T00:00:00"
         ],
         "xaxis": "x",
         "y": [
          6.9,
          7.4,
          9.4,
          9.418837675350701,
          8.433734939759036,
          8.267562866210938
         ],
         "yaxis": "y"
        },
        {
         "hovertemplate": "regio=Boerhaavewijk<br>year=%{x}<br>p_jz_tn=%{y}<extra></extra>",
         "legendgroup": "Boerhaavewijk",
         "line": {
          "color": "#FF97FF",
          "dash": "solid"
         },
         "marker": {
          "symbol": "circle"
         },
         "mode": "lines",
         "name": "Boerhaavewijk",
         "orientation": "v",
         "showlegend": true,
         "type": "scatter",
         "x": [
          "2018-01-01T00:00:00",
          "2019-01-01T00:00:00",
          "2020-01-01T00:00:00",
          "2021-01-01T00:00:00",
          "2022-01-01T00:00:00",
          "2023-01-01T00:00:00"
         ],
         "xaxis": "x",
         "y": [
          5.9,
          6.6,
          7.3,
          7.042253521126761,
          7.535641547861507,
          8.044257164001465
         ],
         "yaxis": "y"
        },
        {
         "hovertemplate": "regio=Molenwijk<br>year=%{x}<br>p_jz_tn=%{y}<extra></extra>",
         "legendgroup": "Molenwijk",
         "line": {
          "color": "#FECB52",
          "dash": "solid"
         },
         "marker": {
          "symbol": "circle"
         },
         "mode": "lines",
         "name": "Molenwijk",
         "orientation": "v",
         "showlegend": true,
         "type": "scatter",
         "x": [
          "2018-01-01T00:00:00",
          "2019-01-01T00:00:00",
          "2020-01-01T00:00:00",
          "2021-01-01T00:00:00",
          "2022-01-01T00:00:00",
          "2023-01-01T00:00:00"
         ],
         "xaxis": "x",
         "y": [
          9,
          9.3,
          10.7,
          10.443864229765012,
          10.75268817204301,
          11.047076225280762
         ],
         "yaxis": "y"
        },
        {
         "hovertemplate": "regio=Meerwijk<br>year=%{x}<br>p_jz_tn=%{y}<extra></extra>",
         "legendgroup": "Meerwijk",
         "line": {
          "color": "#636efa",
          "dash": "solid"
         },
         "marker": {
          "symbol": "circle"
         },
         "mode": "lines",
         "name": "Meerwijk",
         "orientation": "v",
         "showlegend": true,
         "type": "scatter",
         "x": [
          "2018-01-01T00:00:00",
          "2019-01-01T00:00:00",
          "2020-01-01T00:00:00",
          "2021-01-01T00:00:00",
          "2022-01-01T00:00:00",
          "2023-01-01T00:00:00"
         ],
         "xaxis": "x",
         "y": [
          7,
          7.1,
          8,
          7.874015748031496,
          6.902985074626866,
          6.475049018859863
         ],
         "yaxis": "y"
        }
       ],
       "layout": {
        "legend": {
         "title": {
          "text": "regio"
         },
         "tracegroupgap": 0
        },
        "margin": {
         "t": 60
        },
        "template": {
         "data": {
          "bar": [
           {
            "error_x": {
             "color": "#2a3f5f"
            },
            "error_y": {
             "color": "#2a3f5f"
            },
            "marker": {
             "line": {
              "color": "#E5ECF6",
              "width": 0.5
             },
             "pattern": {
              "fillmode": "overlay",
              "size": 10,
              "solidity": 0.2
             }
            },
            "type": "bar"
           }
          ],
          "barpolar": [
           {
            "marker": {
             "line": {
              "color": "#E5ECF6",
              "width": 0.5
             },
             "pattern": {
              "fillmode": "overlay",
              "size": 10,
              "solidity": 0.2
             }
            },
            "type": "barpolar"
           }
          ],
          "carpet": [
           {
            "aaxis": {
             "endlinecolor": "#2a3f5f",
             "gridcolor": "white",
             "linecolor": "white",
             "minorgridcolor": "white",
             "startlinecolor": "#2a3f5f"
            },
            "baxis": {
             "endlinecolor": "#2a3f5f",
             "gridcolor": "white",
             "linecolor": "white",
             "minorgridcolor": "white",
             "startlinecolor": "#2a3f5f"
            },
            "type": "carpet"
           }
          ],
          "choropleth": [
           {
            "colorbar": {
             "outlinewidth": 0,
             "ticks": ""
            },
            "type": "choropleth"
           }
          ],
          "contour": [
           {
            "colorbar": {
             "outlinewidth": 0,
             "ticks": ""
            },
            "colorscale": [
             [
              0,
              "#0d0887"
             ],
             [
              0.1111111111111111,
              "#46039f"
             ],
             [
              0.2222222222222222,
              "#7201a8"
             ],
             [
              0.3333333333333333,
              "#9c179e"
             ],
             [
              0.4444444444444444,
              "#bd3786"
             ],
             [
              0.5555555555555556,
              "#d8576b"
             ],
             [
              0.6666666666666666,
              "#ed7953"
             ],
             [
              0.7777777777777778,
              "#fb9f3a"
             ],
             [
              0.8888888888888888,
              "#fdca26"
             ],
             [
              1,
              "#f0f921"
             ]
            ],
            "type": "contour"
           }
          ],
          "contourcarpet": [
           {
            "colorbar": {
             "outlinewidth": 0,
             "ticks": ""
            },
            "type": "contourcarpet"
           }
          ],
          "heatmap": [
           {
            "colorbar": {
             "outlinewidth": 0,
             "ticks": ""
            },
            "colorscale": [
             [
              0,
              "#0d0887"
             ],
             [
              0.1111111111111111,
              "#46039f"
             ],
             [
              0.2222222222222222,
              "#7201a8"
             ],
             [
              0.3333333333333333,
              "#9c179e"
             ],
             [
              0.4444444444444444,
              "#bd3786"
             ],
             [
              0.5555555555555556,
              "#d8576b"
             ],
             [
              0.6666666666666666,
              "#ed7953"
             ],
             [
              0.7777777777777778,
              "#fb9f3a"
             ],
             [
              0.8888888888888888,
              "#fdca26"
             ],
             [
              1,
              "#f0f921"
             ]
            ],
            "type": "heatmap"
           }
          ],
          "heatmapgl": [
           {
            "colorbar": {
             "outlinewidth": 0,
             "ticks": ""
            },
            "colorscale": [
             [
              0,
              "#0d0887"
             ],
             [
              0.1111111111111111,
              "#46039f"
             ],
             [
              0.2222222222222222,
              "#7201a8"
             ],
             [
              0.3333333333333333,
              "#9c179e"
             ],
             [
              0.4444444444444444,
              "#bd3786"
             ],
             [
              0.5555555555555556,
              "#d8576b"
             ],
             [
              0.6666666666666666,
              "#ed7953"
             ],
             [
              0.7777777777777778,
              "#fb9f3a"
             ],
             [
              0.8888888888888888,
              "#fdca26"
             ],
             [
              1,
              "#f0f921"
             ]
            ],
            "type": "heatmapgl"
           }
          ],
          "histogram": [
           {
            "marker": {
             "pattern": {
              "fillmode": "overlay",
              "size": 10,
              "solidity": 0.2
             }
            },
            "type": "histogram"
           }
          ],
          "histogram2d": [
           {
            "colorbar": {
             "outlinewidth": 0,
             "ticks": ""
            },
            "colorscale": [
             [
              0,
              "#0d0887"
             ],
             [
              0.1111111111111111,
              "#46039f"
             ],
             [
              0.2222222222222222,
              "#7201a8"
             ],
             [
              0.3333333333333333,
              "#9c179e"
             ],
             [
              0.4444444444444444,
              "#bd3786"
             ],
             [
              0.5555555555555556,
              "#d8576b"
             ],
             [
              0.6666666666666666,
              "#ed7953"
             ],
             [
              0.7777777777777778,
              "#fb9f3a"
             ],
             [
              0.8888888888888888,
              "#fdca26"
             ],
             [
              1,
              "#f0f921"
             ]
            ],
            "type": "histogram2d"
           }
          ],
          "histogram2dcontour": [
           {
            "colorbar": {
             "outlinewidth": 0,
             "ticks": ""
            },
            "colorscale": [
             [
              0,
              "#0d0887"
             ],
             [
              0.1111111111111111,
              "#46039f"
             ],
             [
              0.2222222222222222,
              "#7201a8"
             ],
             [
              0.3333333333333333,
              "#9c179e"
             ],
             [
              0.4444444444444444,
              "#bd3786"
             ],
             [
              0.5555555555555556,
              "#d8576b"
             ],
             [
              0.6666666666666666,
              "#ed7953"
             ],
             [
              0.7777777777777778,
              "#fb9f3a"
             ],
             [
              0.8888888888888888,
              "#fdca26"
             ],
             [
              1,
              "#f0f921"
             ]
            ],
            "type": "histogram2dcontour"
           }
          ],
          "mesh3d": [
           {
            "colorbar": {
             "outlinewidth": 0,
             "ticks": ""
            },
            "type": "mesh3d"
           }
          ],
          "parcoords": [
           {
            "line": {
             "colorbar": {
              "outlinewidth": 0,
              "ticks": ""
             }
            },
            "type": "parcoords"
           }
          ],
          "pie": [
           {
            "automargin": true,
            "type": "pie"
           }
          ],
          "scatter": [
           {
            "fillpattern": {
             "fillmode": "overlay",
             "size": 10,
             "solidity": 0.2
            },
            "type": "scatter"
           }
          ],
          "scatter3d": [
           {
            "line": {
             "colorbar": {
              "outlinewidth": 0,
              "ticks": ""
             }
            },
            "marker": {
             "colorbar": {
              "outlinewidth": 0,
              "ticks": ""
             }
            },
            "type": "scatter3d"
           }
          ],
          "scattercarpet": [
           {
            "marker": {
             "colorbar": {
              "outlinewidth": 0,
              "ticks": ""
             }
            },
            "type": "scattercarpet"
           }
          ],
          "scattergeo": [
           {
            "marker": {
             "colorbar": {
              "outlinewidth": 0,
              "ticks": ""
             }
            },
            "type": "scattergeo"
           }
          ],
          "scattergl": [
           {
            "marker": {
             "colorbar": {
              "outlinewidth": 0,
              "ticks": ""
             }
            },
            "type": "scattergl"
           }
          ],
          "scattermapbox": [
           {
            "marker": {
             "colorbar": {
              "outlinewidth": 0,
              "ticks": ""
             }
            },
            "type": "scattermapbox"
           }
          ],
          "scatterpolar": [
           {
            "marker": {
             "colorbar": {
              "outlinewidth": 0,
              "ticks": ""
             }
            },
            "type": "scatterpolar"
           }
          ],
          "scatterpolargl": [
           {
            "marker": {
             "colorbar": {
              "outlinewidth": 0,
              "ticks": ""
             }
            },
            "type": "scatterpolargl"
           }
          ],
          "scatterternary": [
           {
            "marker": {
             "colorbar": {
              "outlinewidth": 0,
              "ticks": ""
             }
            },
            "type": "scatterternary"
           }
          ],
          "surface": [
           {
            "colorbar": {
             "outlinewidth": 0,
             "ticks": ""
            },
            "colorscale": [
             [
              0,
              "#0d0887"
             ],
             [
              0.1111111111111111,
              "#46039f"
             ],
             [
              0.2222222222222222,
              "#7201a8"
             ],
             [
              0.3333333333333333,
              "#9c179e"
             ],
             [
              0.4444444444444444,
              "#bd3786"
             ],
             [
              0.5555555555555556,
              "#d8576b"
             ],
             [
              0.6666666666666666,
              "#ed7953"
             ],
             [
              0.7777777777777778,
              "#fb9f3a"
             ],
             [
              0.8888888888888888,
              "#fdca26"
             ],
             [
              1,
              "#f0f921"
             ]
            ],
            "type": "surface"
           }
          ],
          "table": [
           {
            "cells": {
             "fill": {
              "color": "#EBF0F8"
             },
             "line": {
              "color": "white"
             }
            },
            "header": {
             "fill": {
              "color": "#C8D4E3"
             },
             "line": {
              "color": "white"
             }
            },
            "type": "table"
           }
          ]
         },
         "layout": {
          "annotationdefaults": {
           "arrowcolor": "#2a3f5f",
           "arrowhead": 0,
           "arrowwidth": 1
          },
          "autotypenumbers": "strict",
          "coloraxis": {
           "colorbar": {
            "outlinewidth": 0,
            "ticks": ""
           }
          },
          "colorscale": {
           "diverging": [
            [
             0,
             "#8e0152"
            ],
            [
             0.1,
             "#c51b7d"
            ],
            [
             0.2,
             "#de77ae"
            ],
            [
             0.3,
             "#f1b6da"
            ],
            [
             0.4,
             "#fde0ef"
            ],
            [
             0.5,
             "#f7f7f7"
            ],
            [
             0.6,
             "#e6f5d0"
            ],
            [
             0.7,
             "#b8e186"
            ],
            [
             0.8,
             "#7fbc41"
            ],
            [
             0.9,
             "#4d9221"
            ],
            [
             1,
             "#276419"
            ]
           ],
           "sequential": [
            [
             0,
             "#0d0887"
            ],
            [
             0.1111111111111111,
             "#46039f"
            ],
            [
             0.2222222222222222,
             "#7201a8"
            ],
            [
             0.3333333333333333,
             "#9c179e"
            ],
            [
             0.4444444444444444,
             "#bd3786"
            ],
            [
             0.5555555555555556,
             "#d8576b"
            ],
            [
             0.6666666666666666,
             "#ed7953"
            ],
            [
             0.7777777777777778,
             "#fb9f3a"
            ],
            [
             0.8888888888888888,
             "#fdca26"
            ],
            [
             1,
             "#f0f921"
            ]
           ],
           "sequentialminus": [
            [
             0,
             "#0d0887"
            ],
            [
             0.1111111111111111,
             "#46039f"
            ],
            [
             0.2222222222222222,
             "#7201a8"
            ],
            [
             0.3333333333333333,
             "#9c179e"
            ],
            [
             0.4444444444444444,
             "#bd3786"
            ],
            [
             0.5555555555555556,
             "#d8576b"
            ],
            [
             0.6666666666666666,
             "#ed7953"
            ],
            [
             0.7777777777777778,
             "#fb9f3a"
            ],
            [
             0.8888888888888888,
             "#fdca26"
            ],
            [
             1,
             "#f0f921"
            ]
           ]
          },
          "colorway": [
           "#636efa",
           "#EF553B",
           "#00cc96",
           "#ab63fa",
           "#FFA15A",
           "#19d3f3",
           "#FF6692",
           "#B6E880",
           "#FF97FF",
           "#FECB52"
          ],
          "font": {
           "color": "#2a3f5f"
          },
          "geo": {
           "bgcolor": "white",
           "lakecolor": "white",
           "landcolor": "#E5ECF6",
           "showlakes": true,
           "showland": true,
           "subunitcolor": "white"
          },
          "hoverlabel": {
           "align": "left"
          },
          "hovermode": "closest",
          "mapbox": {
           "style": "light"
          },
          "paper_bgcolor": "white",
          "plot_bgcolor": "#E5ECF6",
          "polar": {
           "angularaxis": {
            "gridcolor": "white",
            "linecolor": "white",
            "ticks": ""
           },
           "bgcolor": "#E5ECF6",
           "radialaxis": {
            "gridcolor": "white",
            "linecolor": "white",
            "ticks": ""
           }
          },
          "scene": {
           "xaxis": {
            "backgroundcolor": "#E5ECF6",
            "gridcolor": "white",
            "gridwidth": 2,
            "linecolor": "white",
            "showbackground": true,
            "ticks": "",
            "zerolinecolor": "white"
           },
           "yaxis": {
            "backgroundcolor": "#E5ECF6",
            "gridcolor": "white",
            "gridwidth": 2,
            "linecolor": "white",
            "showbackground": true,
            "ticks": "",
            "zerolinecolor": "white"
           },
           "zaxis": {
            "backgroundcolor": "#E5ECF6",
            "gridcolor": "white",
            "gridwidth": 2,
            "linecolor": "white",
            "showbackground": true,
            "ticks": "",
            "zerolinecolor": "white"
           }
          },
          "shapedefaults": {
           "line": {
            "color": "#2a3f5f"
           }
          },
          "ternary": {
           "aaxis": {
            "gridcolor": "white",
            "linecolor": "white",
            "ticks": ""
           },
           "baxis": {
            "gridcolor": "white",
            "linecolor": "white",
            "ticks": ""
           },
           "bgcolor": "#E5ECF6",
           "caxis": {
            "gridcolor": "white",
            "linecolor": "white",
            "ticks": ""
           }
          },
          "title": {
           "x": 0.05
          },
          "xaxis": {
           "automargin": true,
           "gridcolor": "white",
           "linecolor": "white",
           "ticks": "",
           "title": {
            "standoff": 15
           },
           "zerolinecolor": "white",
           "zerolinewidth": 2
          },
          "yaxis": {
           "automargin": true,
           "gridcolor": "white",
           "linecolor": "white",
           "ticks": "",
           "title": {
            "standoff": 15
           },
           "zerolinecolor": "white",
           "zerolinewidth": 2
          }
         }
        },
        "xaxis": {
         "anchor": "y",
         "domain": [
          0,
          1
         ],
         "title": {
          "text": "year"
         }
        },
        "yaxis": {
         "anchor": "x",
         "domain": [
          0,
          1
         ],
         "title": {
          "text": "p_jz_tn"
         }
        }
       }
      }
     },
     "metadata": {},
     "output_type": "display_data"
    }
   ],
   "source": [
    "import plotly.io as pio\n",
    "pio.renderers.default = \"vscode\"\n",
    "import plotly.express as px\n",
    "fig = px.line(ts_amsterdam, x=\"year\", y=\"p_jz_tn\", color=\"regio\")\n",
    "fig.show()"
   ]
  },
  {
   "cell_type": "code",
   "execution_count": null,
   "metadata": {},
   "outputs": [],
   "source": []
  }
 ],
 "metadata": {
  "kernelspec": {
   "display_name": "Python 3",
   "language": "python",
   "name": "python3"
  },
  "language_info": {
   "codemirror_mode": {
    "name": "ipython",
    "version": 3
   },
   "file_extension": ".py",
   "mimetype": "text/x-python",
   "name": "python",
   "nbconvert_exporter": "python",
   "pygments_lexer": "ipython3",
   "version": "3.9.13"
  },
  "orig_nbformat": 4
 },
 "nbformat": 4,
 "nbformat_minor": 2
}
