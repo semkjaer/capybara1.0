{
 "cells": [
  {
   "attachments": {},
   "cell_type": "markdown",
   "metadata": {},
   "source": [
    "# Data conversion, XGB and RANDOM FOREST!"
   ]
  },
  {
   "cell_type": "code",
   "execution_count": 73,
   "metadata": {},
   "outputs": [],
   "source": [
    "# Gewoon alle code runnen, dan krijg je een file met alle predictions, je moet zorgen dat je de zorg21  en zorg 22  datasets hebt, en alle kwb files van 2018-2022\n",
    "import pandas as pd\n",
    "import xgboost as xgb\n",
    "import numpy as np\n",
    "from sklearn.model_selection import train_test_split\n",
    "from sklearn.metrics import mean_squared_error, r2_score\n",
    "from IPython.display import display\n",
    "\n",
    "kwb_21 = pd.read_excel('./data/kwb-2021.xls')\n",
    "kwb_22 = pd.read_excel('./data/kwb-2022.xls')\n",
    "zorg21 = pd.read_csv('./data/85075NED_UntypedDataSet_15062023_115649.csv', delimiter=';')\n",
    "zorg22 = pd.read_csv('./data/85335NED_UntypedDataSet_15062023_115413.csv', delimiter=';')\n",
    "\n",
    "kwb_21['a_00_24'] = kwb_21['a_00_14'] + kwb_21['a_15_24']\n",
    "kwb_22['a_00_24'] = kwb_22['a_00_14'] + kwb_22['a_15_24']\n",
    "\n",
    "#  The zorg set has a column namen 'VormenVanJeugdzorg' that contains different types of jeugdzorg. We only want the total jeugdzorg so we are filtering the data where this column is equal to 'T001203'\n",
    "zorg21 = zorg21[zorg21['VormenVanJeugdzorg'] == 'T001203']\n",
    "zorg22 = zorg22[zorg22['VormenVanJeugdzorg'] == 'T001203']\n",
    "\n",
    "zorg21['Wijken'] = zorg21['Wijken'].str.strip()  # Removing leading/trailing whitespaces\n",
    "kwb_21['gwb_code_10'] = kwb_21['gwb_code_10'].str.strip()\n",
    "zorg22['Wijken'] = zorg22['Wijken'].str.strip()\n",
    "kwb_22['gwb_code_10'] = kwb_22['gwb_code_10'].str.strip()\n",
    "kwb_21 = kwb_21[kwb_21['gwb_code_10'].str[:2] != 'BU']\n",
    "kwb_22 = kwb_22[kwb_22['gwb_code_10'].str[:2] != 'BU']\n",
    "\n",
    "# now adding this new column 'a_00_24' to the zorg datasets respectively by merging on the 'gwb_code_10' column for kwb and on the 'Wijken' column for zorg\n",
    "zorg21 = zorg21.merge(kwb_21[['gwb_code_10', 'a_00_24']], left_on='Wijken', right_on='gwb_code_10', how='left')\n",
    "zorg22 = zorg22.merge(kwb_22[['gwb_code_10', 'a_00_24']], left_on='Wijken', right_on='gwb_code_10', how='left')\n",
    "\n",
    "# now we can calculate the percentage of youth till 24 in the total population by dividing the column 'a_00_24' by the column 'TotaalJongerenMetJeugdzorgInNatura_1' that is present in the zorg datasets\n",
    "# we are adding a new column named 'p_jz_tn' to the zorg datasets \n",
    "\n",
    "zorg21['TotaalJongerenMetJeugdzorgInNatura_1'] = pd.to_numeric(zorg21['TotaalJongerenMetJeugdzorgInNatura_1'], errors='coerce')\n",
    "zorg22['TotaalJongerenMetJeugdzorgInNatura_1'] = pd.to_numeric(zorg22['TotaalJongerenMetJeugdzorgInNatura_1'], errors='coerce')\n",
    "zorg21['TotaalJongerenMetJeugdzorgInNatura_1'] = zorg21['TotaalJongerenMetJeugdzorgInNatura_1'].astype(float)\n",
    "zorg22['TotaalJongerenMetJeugdzorgInNatura_1'] = zorg22['TotaalJongerenMetJeugdzorgInNatura_1'].astype(float)\n",
    "\n",
    "zorg21['p_jz_tn'] = (zorg21['TotaalJongerenMetJeugdzorgInNatura_1'] / zorg21['a_00_24'])*100\n",
    "zorg22['p_jz_tn'] = (zorg22['TotaalJongerenMetJeugdzorgInNatura_1'] / zorg22['a_00_24'])*100"
   ]
  },
  {
   "cell_type": "code",
   "execution_count": 74,
   "metadata": {},
   "outputs": [],
   "source": [
    "def append_str_to_columns(df, str):\n",
    "    new_columns = []\n",
    "    for column in df.columns:\n",
    "        if column != \"gwb_code_10\":\n",
    "            new_columns.append(column + '{}'.format(str))\n",
    "        else:\n",
    "            new_columns.append(column)\n",
    "    df.columns = new_columns\n",
    "    return df\n",
    "\n",
    "# adding data about youth care to 2021 and 2022 datasets, because they did not exist before\n",
    "\n",
    "zorg21 = zorg21[['Wijken', 'p_jz_tn']]\n",
    "kwb_2021 = pd.read_excel('./data/kwb-2021.xls')\n",
    "kwb_2021 = kwb_2021.applymap(lambda x: x.strip() if isinstance(x, str) else x)\n",
    "kwb_2021 = kwb_2021[kwb_2021['gwb_code_10'].str[:2] != 'BU']\n",
    "kwb_2021 = kwb_2021[[x for x in kwb_2021.columns if \"p_jz_tn\" not in x ]]\n",
    "kwb_2021= kwb_2021.merge(zorg21, left_on='gwb_code_10', right_on='Wijken', how='left')\n",
    "\n",
    "zorg22 = zorg22[['Wijken', 'p_jz_tn']]\n",
    "kwb_2022 = pd.read_excel('./data/kwb-2022.xls')\n",
    "kwb_2022 = kwb_2022.applymap(lambda x: x.strip() if isinstance(x, str) else x)\n",
    "kwb_2022 = kwb_2022[kwb_2022['gwb_code_10'].str[:2] != 'BU']\n",
    "kwb_2022 = kwb_2022[[x for x in kwb_2022.columns if \"p_jz_tn\" not in x ]]\n",
    "kwb_2022= kwb_2022.merge(zorg22, left_on='gwb_code_10', right_on='Wijken', how='left')"
   ]
  },
  {
   "cell_type": "code",
   "execution_count": 75,
   "metadata": {},
   "outputs": [
    {
     "name": "stdout",
     "output_type": "stream",
     "text": [
      "./data/kwb-2018.xls\n"
     ]
    },
    {
     "name": "stderr",
     "output_type": "stream",
     "text": [
      "C:\\Users\\stanf\\AppData\\Local\\Temp/ipykernel_16796/1406392611.py:21: FutureWarning:\n",
      "\n",
      "Dropping of nuisance columns in DataFrame reductions (with 'numeric_only=None') is deprecated; in a future version this will raise TypeError.  Select only valid columns before calling the reduction.\n",
      "\n"
     ]
    },
    {
     "name": "stdout",
     "output_type": "stream",
     "text": [
      "./data/kwb-2019.xlsx\n",
      "./data/kwb-2020.xls\n"
     ]
    }
   ],
   "source": [
    "dflist = [\"./data/kwb-2018.xls\", \"./data/kwb-2019.xlsx\",\"./data/kwb-2020.xls\", kwb_2021, kwb_2022]\n",
    "columnlist = [\"gwb_code_10\", \"p_00_14\",\t\"p_15_24\",\t\"p_25_44\",\t\"p_45_64\",\t\"p_65_oo\",\t\"p_ongeh\",\t\"p_gehuwd\",\t\"p_gesch\",\t\"p_verwed\",\t\"p_marok\", \"p_jz_tn\", \"p_antaru\",\t\"p_suri\",\"p_tur\", \"p_hh_z_k\",\t\"p_hh_m_k\", \"bev_dich\", \"p_koopw\",\t\"p_huurw\", \"g_ink_po\",\t\"g_ink_pi\",\t\"p_ink_li\",\t\"p_ink_hi\",\t\"p_n_act\",\t\"p_hh_li\",\t\"p_hh_hi\",\t\"p_hh_lkk\",\t\"p_hh_osm\",\t\"a_soz_wb\",\t\"a_soz_ao\",\t\"a_soz_ww\",\t\"a_soz_ow\"]\n",
    "stringlist = [\"_2018\", \"_2019\", \"_2020\", \"_2021\", \"_2022\"]\n",
    "\n",
    "# getting all data and combining into dfs, also performing stripping, and turning useless values into nan\n",
    "\n",
    "dfs = pd.DataFrame\n",
    "for i in range(len(dflist)):\n",
    "    if i == 0:\n",
    "        print(dflist[i])\n",
    "        df = pd.read_excel(dflist[i])\n",
    "        df = df[df['gwb_code_10'].str[:2] != 'BU']\n",
    "        df = df[df['gwb_code_10'].str[:2] != 'GM']\n",
    "        df = df[df['gwb_code_10'].str[:2] != 'NL']\n",
    "        df = df[[x for x in df.columns if x in columnlist]]\n",
    "        df = df.applymap(lambda x: x.strip() if isinstance(x, str) else x)\n",
    "        df = df.replace([np.inf, -np.inf, np.nan, \".\", \"-\"], np.nan)\n",
    "        # comma to dot because the dutch system is stupid!\n",
    "        df = df.applymap(lambda x: str(x.replace(',','.')) if isinstance(x, str) else x)\n",
    "        df = df.apply(pd.to_numeric, errors='ignore')\n",
    "        df = df.fillna(df.mean())\n",
    "        df = append_str_to_columns(df, stringlist[i])\n",
    "        dfs = df\n",
    "    elif 0 < i < 3:\n",
    "        print(dflist[i])\n",
    "        df = pd.read_excel(dflist[i])\n",
    "        df = df[df['gwb_code_10'].str[:2] != 'BU']\n",
    "        df = df[df['gwb_code_10'].str[:2] != 'GM']\n",
    "        df = df[df['gwb_code_10'].str[:2] != 'NL']\n",
    "        df = df[[x for x in df.columns if x in columnlist]]\n",
    "        df = df.applymap(lambda x: x.strip() if isinstance(x, str) else x)\n",
    "        df = df.replace([np.inf, -np.inf, np.nan, \".\", \"-\"], np.nan)\n",
    "        df = df.applymap(lambda x: str(x.replace(',','.')) if isinstance(x, str) else x)\n",
    "        df = append_str_to_columns(df, stringlist[i])\n",
    "        dfs = pd.merge(dfs, df, on='gwb_code_10', how='outer')\n",
    "    else:\n",
    "        df = dflist[i]\n",
    "        df = df[df['gwb_code_10'].str[:2] != 'BU']\n",
    "        df = df[df['gwb_code_10'].str[:2] != 'GM']\n",
    "        df = df[df['gwb_code_10'].str[:2] != 'NL']\n",
    "        df = df[[x for x in df.columns if x in columnlist]]\n",
    "        df = df.applymap(lambda x: x.strip() if isinstance(x, str) else x)\n",
    "        df = df.replace([np.inf, -np.inf, np.nan, \".\", \"-\"], np.nan)\n",
    "        df = df.applymap(lambda x: str(x.replace(',','.')) if isinstance(x, str) else x)\n",
    "        df = append_str_to_columns(df, stringlist[i])\n",
    "        dfs = pd.merge(dfs, df, on='gwb_code_10', how='outer')"
   ]
  },
  {
   "cell_type": "code",
   "execution_count": 76,
   "metadata": {},
   "outputs": [
    {
     "data": {
      "text/html": [
       "<div>\n",
       "<style scoped>\n",
       "    .dataframe tbody tr th:only-of-type {\n",
       "        vertical-align: middle;\n",
       "    }\n",
       "\n",
       "    .dataframe tbody tr th {\n",
       "        vertical-align: top;\n",
       "    }\n",
       "\n",
       "    .dataframe thead th {\n",
       "        text-align: right;\n",
       "    }\n",
       "</style>\n",
       "<table border=\"1\" class=\"dataframe\">\n",
       "  <thead>\n",
       "    <tr style=\"text-align: right;\">\n",
       "      <th></th>\n",
       "      <th>gwb_code_10</th>\n",
       "      <th>a_soz_ao_2018</th>\n",
       "      <th>a_soz_ao_2019</th>\n",
       "      <th>a_soz_ao_2020</th>\n",
       "      <th>a_soz_ao_2021</th>\n",
       "      <th>a_soz_ao_2022</th>\n",
       "      <th>a_soz_ow_2018</th>\n",
       "      <th>a_soz_ow_2019</th>\n",
       "      <th>a_soz_ow_2020</th>\n",
       "      <th>a_soz_ow_2021</th>\n",
       "      <th>...</th>\n",
       "      <th>p_jz_tn_2018</th>\n",
       "      <th>p_jz_tn_2019</th>\n",
       "      <th>p_jz_tn_2020</th>\n",
       "      <th>p_jz_tn_2021</th>\n",
       "      <th>p_jz_tn_2022</th>\n",
       "      <th>p_koopw_2018</th>\n",
       "      <th>p_koopw_2019</th>\n",
       "      <th>p_koopw_2020</th>\n",
       "      <th>p_koopw_2021</th>\n",
       "      <th>p_koopw_2022</th>\n",
       "    </tr>\n",
       "  </thead>\n",
       "  <tbody>\n",
       "    <tr>\n",
       "      <th>0</th>\n",
       "      <td>WK000300</td>\n",
       "      <td>710.000000</td>\n",
       "      <td>730.000000</td>\n",
       "      <td>710.000000</td>\n",
       "      <td>710.000000</td>\n",
       "      <td>710.000000</td>\n",
       "      <td>2670.000000</td>\n",
       "      <td>2670.000000</td>\n",
       "      <td>2750.000000</td>\n",
       "      <td>2750.000000</td>\n",
       "      <td>...</td>\n",
       "      <td>9.900000</td>\n",
       "      <td>11.500000</td>\n",
       "      <td>10.200000</td>\n",
       "      <td>10.200000</td>\n",
       "      <td>10.200000</td>\n",
       "      <td>49.000000</td>\n",
       "      <td>48.000000</td>\n",
       "      <td>48.000000</td>\n",
       "      <td>48.000000</td>\n",
       "      <td>48.0</td>\n",
       "    </tr>\n",
       "    <tr>\n",
       "      <th>1</th>\n",
       "      <td>WK000500</td>\n",
       "      <td>580.000000</td>\n",
       "      <td>580.000000</td>\n",
       "      <td>580.000000</td>\n",
       "      <td>580.000000</td>\n",
       "      <td>580.000000</td>\n",
       "      <td>2080.000000</td>\n",
       "      <td>2080.000000</td>\n",
       "      <td>2080.000000</td>\n",
       "      <td>2080.000000</td>\n",
       "      <td>...</td>\n",
       "      <td>9.900000</td>\n",
       "      <td>9.900000</td>\n",
       "      <td>9.900000</td>\n",
       "      <td>9.900000</td>\n",
       "      <td>9.900000</td>\n",
       "      <td>69.000000</td>\n",
       "      <td>69.000000</td>\n",
       "      <td>69.000000</td>\n",
       "      <td>69.000000</td>\n",
       "      <td>69.0</td>\n",
       "    </tr>\n",
       "    <tr>\n",
       "      <th>2</th>\n",
       "      <td>WK000900</td>\n",
       "      <td>150.000000</td>\n",
       "      <td>150.000000</td>\n",
       "      <td>150.000000</td>\n",
       "      <td>150.000000</td>\n",
       "      <td>150.000000</td>\n",
       "      <td>1170.000000</td>\n",
       "      <td>1170.000000</td>\n",
       "      <td>1170.000000</td>\n",
       "      <td>1170.000000</td>\n",
       "      <td>...</td>\n",
       "      <td>9.000000</td>\n",
       "      <td>9.000000</td>\n",
       "      <td>9.000000</td>\n",
       "      <td>9.000000</td>\n",
       "      <td>9.000000</td>\n",
       "      <td>76.000000</td>\n",
       "      <td>76.000000</td>\n",
       "      <td>76.000000</td>\n",
       "      <td>76.000000</td>\n",
       "      <td>76.0</td>\n",
       "    </tr>\n",
       "    <tr>\n",
       "      <th>3</th>\n",
       "      <td>WK000901</td>\n",
       "      <td>50.000000</td>\n",
       "      <td>50.000000</td>\n",
       "      <td>50.000000</td>\n",
       "      <td>50.000000</td>\n",
       "      <td>50.000000</td>\n",
       "      <td>190.000000</td>\n",
       "      <td>190.000000</td>\n",
       "      <td>190.000000</td>\n",
       "      <td>190.000000</td>\n",
       "      <td>...</td>\n",
       "      <td>9.600000</td>\n",
       "      <td>9.600000</td>\n",
       "      <td>9.600000</td>\n",
       "      <td>9.600000</td>\n",
       "      <td>9.600000</td>\n",
       "      <td>78.000000</td>\n",
       "      <td>78.000000</td>\n",
       "      <td>78.000000</td>\n",
       "      <td>78.000000</td>\n",
       "      <td>78.0</td>\n",
       "    </tr>\n",
       "    <tr>\n",
       "      <th>4</th>\n",
       "      <td>WK001000</td>\n",
       "      <td>870.000000</td>\n",
       "      <td>870.000000</td>\n",
       "      <td>870.000000</td>\n",
       "      <td>870.000000</td>\n",
       "      <td>870.000000</td>\n",
       "      <td>4230.000000</td>\n",
       "      <td>4230.000000</td>\n",
       "      <td>4230.000000</td>\n",
       "      <td>4230.000000</td>\n",
       "      <td>...</td>\n",
       "      <td>10.600000</td>\n",
       "      <td>10.600000</td>\n",
       "      <td>10.600000</td>\n",
       "      <td>10.600000</td>\n",
       "      <td>10.600000</td>\n",
       "      <td>55.000000</td>\n",
       "      <td>55.000000</td>\n",
       "      <td>55.000000</td>\n",
       "      <td>55.000000</td>\n",
       "      <td>55.0</td>\n",
       "    </tr>\n",
       "    <tr>\n",
       "      <th>...</th>\n",
       "      <td>...</td>\n",
       "      <td>...</td>\n",
       "      <td>...</td>\n",
       "      <td>...</td>\n",
       "      <td>...</td>\n",
       "      <td>...</td>\n",
       "      <td>...</td>\n",
       "      <td>...</td>\n",
       "      <td>...</td>\n",
       "      <td>...</td>\n",
       "      <td>...</td>\n",
       "      <td>...</td>\n",
       "      <td>...</td>\n",
       "      <td>...</td>\n",
       "      <td>...</td>\n",
       "      <td>...</td>\n",
       "      <td>...</td>\n",
       "      <td>...</td>\n",
       "      <td>...</td>\n",
       "      <td>...</td>\n",
       "      <td>...</td>\n",
       "    </tr>\n",
       "    <tr>\n",
       "      <th>3705</th>\n",
       "      <td>WK199102</td>\n",
       "      <td>244.602329</td>\n",
       "      <td>244.602329</td>\n",
       "      <td>244.602329</td>\n",
       "      <td>244.602329</td>\n",
       "      <td>244.602329</td>\n",
       "      <td>1011.044925</td>\n",
       "      <td>1011.044925</td>\n",
       "      <td>1011.044925</td>\n",
       "      <td>1011.044925</td>\n",
       "      <td>...</td>\n",
       "      <td>8.408712</td>\n",
       "      <td>8.408712</td>\n",
       "      <td>8.408712</td>\n",
       "      <td>8.408712</td>\n",
       "      <td>5.789474</td>\n",
       "      <td>66.486352</td>\n",
       "      <td>66.486352</td>\n",
       "      <td>66.486352</td>\n",
       "      <td>66.486352</td>\n",
       "      <td>73.0</td>\n",
       "    </tr>\n",
       "    <tr>\n",
       "      <th>3706</th>\n",
       "      <td>WK199103</td>\n",
       "      <td>244.602329</td>\n",
       "      <td>244.602329</td>\n",
       "      <td>244.602329</td>\n",
       "      <td>244.602329</td>\n",
       "      <td>244.602329</td>\n",
       "      <td>1011.044925</td>\n",
       "      <td>1011.044925</td>\n",
       "      <td>1011.044925</td>\n",
       "      <td>1011.044925</td>\n",
       "      <td>...</td>\n",
       "      <td>8.408712</td>\n",
       "      <td>8.408712</td>\n",
       "      <td>8.408712</td>\n",
       "      <td>8.408712</td>\n",
       "      <td>8.333333</td>\n",
       "      <td>66.486352</td>\n",
       "      <td>66.486352</td>\n",
       "      <td>66.486352</td>\n",
       "      <td>66.486352</td>\n",
       "      <td>76.0</td>\n",
       "    </tr>\n",
       "    <tr>\n",
       "      <th>3707</th>\n",
       "      <td>WK199104</td>\n",
       "      <td>244.602329</td>\n",
       "      <td>244.602329</td>\n",
       "      <td>244.602329</td>\n",
       "      <td>244.602329</td>\n",
       "      <td>244.602329</td>\n",
       "      <td>1011.044925</td>\n",
       "      <td>1011.044925</td>\n",
       "      <td>1011.044925</td>\n",
       "      <td>1011.044925</td>\n",
       "      <td>...</td>\n",
       "      <td>8.408712</td>\n",
       "      <td>8.408712</td>\n",
       "      <td>8.408712</td>\n",
       "      <td>8.408712</td>\n",
       "      <td>5.974026</td>\n",
       "      <td>66.486352</td>\n",
       "      <td>66.486352</td>\n",
       "      <td>66.486352</td>\n",
       "      <td>66.486352</td>\n",
       "      <td>74.0</td>\n",
       "    </tr>\n",
       "    <tr>\n",
       "      <th>3708</th>\n",
       "      <td>WK199105</td>\n",
       "      <td>244.602329</td>\n",
       "      <td>244.602329</td>\n",
       "      <td>244.602329</td>\n",
       "      <td>244.602329</td>\n",
       "      <td>244.602329</td>\n",
       "      <td>1011.044925</td>\n",
       "      <td>1011.044925</td>\n",
       "      <td>1011.044925</td>\n",
       "      <td>1011.044925</td>\n",
       "      <td>...</td>\n",
       "      <td>8.408712</td>\n",
       "      <td>8.408712</td>\n",
       "      <td>8.408712</td>\n",
       "      <td>8.408712</td>\n",
       "      <td>9.090909</td>\n",
       "      <td>66.486352</td>\n",
       "      <td>66.486352</td>\n",
       "      <td>66.486352</td>\n",
       "      <td>66.486352</td>\n",
       "      <td>74.0</td>\n",
       "    </tr>\n",
       "    <tr>\n",
       "      <th>3709</th>\n",
       "      <td>WK199106</td>\n",
       "      <td>244.602329</td>\n",
       "      <td>244.602329</td>\n",
       "      <td>244.602329</td>\n",
       "      <td>244.602329</td>\n",
       "      <td>244.602329</td>\n",
       "      <td>1011.044925</td>\n",
       "      <td>1011.044925</td>\n",
       "      <td>1011.044925</td>\n",
       "      <td>1011.044925</td>\n",
       "      <td>...</td>\n",
       "      <td>8.408712</td>\n",
       "      <td>8.408712</td>\n",
       "      <td>8.408712</td>\n",
       "      <td>8.408712</td>\n",
       "      <td>7.258065</td>\n",
       "      <td>66.486352</td>\n",
       "      <td>66.486352</td>\n",
       "      <td>66.486352</td>\n",
       "      <td>66.486352</td>\n",
       "      <td>73.0</td>\n",
       "    </tr>\n",
       "  </tbody>\n",
       "</table>\n",
       "<p>3710 rows × 81 columns</p>\n",
       "</div>"
      ],
      "text/plain": [
       "     gwb_code_10  a_soz_ao_2018  a_soz_ao_2019  a_soz_ao_2020  a_soz_ao_2021  \\\n",
       "0       WK000300     710.000000     730.000000     710.000000     710.000000   \n",
       "1       WK000500     580.000000     580.000000     580.000000     580.000000   \n",
       "2       WK000900     150.000000     150.000000     150.000000     150.000000   \n",
       "3       WK000901      50.000000      50.000000      50.000000      50.000000   \n",
       "4       WK001000     870.000000     870.000000     870.000000     870.000000   \n",
       "...          ...            ...            ...            ...            ...   \n",
       "3705    WK199102     244.602329     244.602329     244.602329     244.602329   \n",
       "3706    WK199103     244.602329     244.602329     244.602329     244.602329   \n",
       "3707    WK199104     244.602329     244.602329     244.602329     244.602329   \n",
       "3708    WK199105     244.602329     244.602329     244.602329     244.602329   \n",
       "3709    WK199106     244.602329     244.602329     244.602329     244.602329   \n",
       "\n",
       "      a_soz_ao_2022  a_soz_ow_2018  a_soz_ow_2019  a_soz_ow_2020  \\\n",
       "0        710.000000    2670.000000    2670.000000    2750.000000   \n",
       "1        580.000000    2080.000000    2080.000000    2080.000000   \n",
       "2        150.000000    1170.000000    1170.000000    1170.000000   \n",
       "3         50.000000     190.000000     190.000000     190.000000   \n",
       "4        870.000000    4230.000000    4230.000000    4230.000000   \n",
       "...             ...            ...            ...            ...   \n",
       "3705     244.602329    1011.044925    1011.044925    1011.044925   \n",
       "3706     244.602329    1011.044925    1011.044925    1011.044925   \n",
       "3707     244.602329    1011.044925    1011.044925    1011.044925   \n",
       "3708     244.602329    1011.044925    1011.044925    1011.044925   \n",
       "3709     244.602329    1011.044925    1011.044925    1011.044925   \n",
       "\n",
       "      a_soz_ow_2021  ...  p_jz_tn_2018  p_jz_tn_2019  p_jz_tn_2020  \\\n",
       "0       2750.000000  ...      9.900000     11.500000     10.200000   \n",
       "1       2080.000000  ...      9.900000      9.900000      9.900000   \n",
       "2       1170.000000  ...      9.000000      9.000000      9.000000   \n",
       "3        190.000000  ...      9.600000      9.600000      9.600000   \n",
       "4       4230.000000  ...     10.600000     10.600000     10.600000   \n",
       "...             ...  ...           ...           ...           ...   \n",
       "3705    1011.044925  ...      8.408712      8.408712      8.408712   \n",
       "3706    1011.044925  ...      8.408712      8.408712      8.408712   \n",
       "3707    1011.044925  ...      8.408712      8.408712      8.408712   \n",
       "3708    1011.044925  ...      8.408712      8.408712      8.408712   \n",
       "3709    1011.044925  ...      8.408712      8.408712      8.408712   \n",
       "\n",
       "      p_jz_tn_2021  p_jz_tn_2022  p_koopw_2018  p_koopw_2019  p_koopw_2020  \\\n",
       "0        10.200000     10.200000     49.000000     48.000000     48.000000   \n",
       "1         9.900000      9.900000     69.000000     69.000000     69.000000   \n",
       "2         9.000000      9.000000     76.000000     76.000000     76.000000   \n",
       "3         9.600000      9.600000     78.000000     78.000000     78.000000   \n",
       "4        10.600000     10.600000     55.000000     55.000000     55.000000   \n",
       "...            ...           ...           ...           ...           ...   \n",
       "3705      8.408712      5.789474     66.486352     66.486352     66.486352   \n",
       "3706      8.408712      8.333333     66.486352     66.486352     66.486352   \n",
       "3707      8.408712      5.974026     66.486352     66.486352     66.486352   \n",
       "3708      8.408712      9.090909     66.486352     66.486352     66.486352   \n",
       "3709      8.408712      7.258065     66.486352     66.486352     66.486352   \n",
       "\n",
       "      p_koopw_2021  p_koopw_2022  \n",
       "0        48.000000          48.0  \n",
       "1        69.000000          69.0  \n",
       "2        76.000000          76.0  \n",
       "3        78.000000          78.0  \n",
       "4        55.000000          55.0  \n",
       "...            ...           ...  \n",
       "3705     66.486352          73.0  \n",
       "3706     66.486352          76.0  \n",
       "3707     66.486352          74.0  \n",
       "3708     66.486352          74.0  \n",
       "3709     66.486352          73.0  \n",
       "\n",
       "[3710 rows x 81 columns]"
      ]
     },
     "metadata": {},
     "output_type": "display_data"
    }
   ],
   "source": [
    "# handling missing data, and sorting columns for forward fill\n",
    "\n",
    "cols = sorted(dfs.columns)\n",
    "cols.remove(\"gwb_code_10\")\n",
    "cols = [\"gwb_code_10\"] + cols\n",
    "dfs = dfs[cols]\n",
    "\n",
    "for x in dfs.columns:\n",
    "    if \"2018\" in x:\n",
    "        dfs[x] = dfs[x].fillna(dfs[x].mean())\n",
    "\n",
    "dfs = dfs.ffill(axis='columns')\n",
    "dfs = dfs.apply(pd.to_numeric, errors='ignore')\n",
    "\n",
    "display(dfs)"
   ]
  },
  {
   "cell_type": "code",
   "execution_count": 77,
   "metadata": {},
   "outputs": [
    {
     "data": {
      "text/html": [
       "<div>\n",
       "<style scoped>\n",
       "    .dataframe tbody tr th:only-of-type {\n",
       "        vertical-align: middle;\n",
       "    }\n",
       "\n",
       "    .dataframe tbody tr th {\n",
       "        vertical-align: top;\n",
       "    }\n",
       "\n",
       "    .dataframe thead th {\n",
       "        text-align: right;\n",
       "    }\n",
       "</style>\n",
       "<table border=\"1\" class=\"dataframe\">\n",
       "  <thead>\n",
       "    <tr style=\"text-align: right;\">\n",
       "      <th></th>\n",
       "      <th>gwb_code_10</th>\n",
       "      <th>a_soz_ao_2018</th>\n",
       "      <th>a_soz_ao_2019</th>\n",
       "      <th>a_soz_ao_2020</th>\n",
       "      <th>a_soz_ao_2021</th>\n",
       "      <th>a_soz_ao_2022</th>\n",
       "      <th>a_soz_ow_2018</th>\n",
       "      <th>a_soz_ow_2019</th>\n",
       "      <th>a_soz_ow_2020</th>\n",
       "      <th>a_soz_ow_2021</th>\n",
       "      <th>...</th>\n",
       "      <th>p_jz_tn_2018</th>\n",
       "      <th>p_jz_tn_2019</th>\n",
       "      <th>p_jz_tn_2020</th>\n",
       "      <th>p_jz_tn_2021</th>\n",
       "      <th>p_jz_tn_2022</th>\n",
       "      <th>p_koopw_2018</th>\n",
       "      <th>p_koopw_2019</th>\n",
       "      <th>p_koopw_2020</th>\n",
       "      <th>p_koopw_2021</th>\n",
       "      <th>p_koopw_2022</th>\n",
       "    </tr>\n",
       "  </thead>\n",
       "  <tbody>\n",
       "    <tr>\n",
       "      <th>0</th>\n",
       "      <td>WK000300</td>\n",
       "      <td>710.000000</td>\n",
       "      <td>730.000000</td>\n",
       "      <td>710.000000</td>\n",
       "      <td>710.000000</td>\n",
       "      <td>710.000000</td>\n",
       "      <td>2670.000000</td>\n",
       "      <td>2670.000000</td>\n",
       "      <td>2750.000000</td>\n",
       "      <td>2750.000000</td>\n",
       "      <td>...</td>\n",
       "      <td>-3.336428</td>\n",
       "      <td>-3.120294</td>\n",
       "      <td>-3.293359</td>\n",
       "      <td>-3.293359</td>\n",
       "      <td>-3.293359</td>\n",
       "      <td>-1.029146</td>\n",
       "      <td>-1.058894</td>\n",
       "      <td>-1.058894</td>\n",
       "      <td>-1.058894</td>\n",
       "      <td>-1.058894</td>\n",
       "    </tr>\n",
       "    <tr>\n",
       "      <th>1</th>\n",
       "      <td>WK000500</td>\n",
       "      <td>580.000000</td>\n",
       "      <td>580.000000</td>\n",
       "      <td>580.000000</td>\n",
       "      <td>580.000000</td>\n",
       "      <td>580.000000</td>\n",
       "      <td>2080.000000</td>\n",
       "      <td>2080.000000</td>\n",
       "      <td>2080.000000</td>\n",
       "      <td>2080.000000</td>\n",
       "      <td>...</td>\n",
       "      <td>-3.336428</td>\n",
       "      <td>-3.336428</td>\n",
       "      <td>-3.336428</td>\n",
       "      <td>-3.336428</td>\n",
       "      <td>-3.336428</td>\n",
       "      <td>-0.535332</td>\n",
       "      <td>-0.535332</td>\n",
       "      <td>-0.535332</td>\n",
       "      <td>-0.535332</td>\n",
       "      <td>-0.535332</td>\n",
       "    </tr>\n",
       "    <tr>\n",
       "      <th>2</th>\n",
       "      <td>WK000900</td>\n",
       "      <td>150.000000</td>\n",
       "      <td>150.000000</td>\n",
       "      <td>150.000000</td>\n",
       "      <td>150.000000</td>\n",
       "      <td>150.000000</td>\n",
       "      <td>1170.000000</td>\n",
       "      <td>1170.000000</td>\n",
       "      <td>1170.000000</td>\n",
       "      <td>1170.000000</td>\n",
       "      <td>...</td>\n",
       "      <td>-3.473931</td>\n",
       "      <td>-3.473931</td>\n",
       "      <td>-3.473931</td>\n",
       "      <td>-3.473931</td>\n",
       "      <td>-3.473931</td>\n",
       "      <td>-0.395929</td>\n",
       "      <td>-0.395929</td>\n",
       "      <td>-0.395929</td>\n",
       "      <td>-0.395929</td>\n",
       "      <td>-0.395929</td>\n",
       "    </tr>\n",
       "    <tr>\n",
       "      <th>3</th>\n",
       "      <td>WK000901</td>\n",
       "      <td>50.000000</td>\n",
       "      <td>50.000000</td>\n",
       "      <td>50.000000</td>\n",
       "      <td>50.000000</td>\n",
       "      <td>50.000000</td>\n",
       "      <td>190.000000</td>\n",
       "      <td>190.000000</td>\n",
       "      <td>190.000000</td>\n",
       "      <td>190.000000</td>\n",
       "      <td>...</td>\n",
       "      <td>-3.380822</td>\n",
       "      <td>-3.380822</td>\n",
       "      <td>-3.380822</td>\n",
       "      <td>-3.380822</td>\n",
       "      <td>-3.380822</td>\n",
       "      <td>-0.358454</td>\n",
       "      <td>-0.358454</td>\n",
       "      <td>-0.358454</td>\n",
       "      <td>-0.358454</td>\n",
       "      <td>-0.358454</td>\n",
       "    </tr>\n",
       "    <tr>\n",
       "      <th>4</th>\n",
       "      <td>WK001000</td>\n",
       "      <td>870.000000</td>\n",
       "      <td>870.000000</td>\n",
       "      <td>870.000000</td>\n",
       "      <td>870.000000</td>\n",
       "      <td>870.000000</td>\n",
       "      <td>4230.000000</td>\n",
       "      <td>4230.000000</td>\n",
       "      <td>4230.000000</td>\n",
       "      <td>4230.000000</td>\n",
       "      <td>...</td>\n",
       "      <td>-3.237864</td>\n",
       "      <td>-3.237864</td>\n",
       "      <td>-3.237864</td>\n",
       "      <td>-3.237864</td>\n",
       "      <td>-3.237864</td>\n",
       "      <td>-0.862496</td>\n",
       "      <td>-0.862496</td>\n",
       "      <td>-0.862496</td>\n",
       "      <td>-0.862496</td>\n",
       "      <td>-0.862496</td>\n",
       "    </tr>\n",
       "    <tr>\n",
       "      <th>...</th>\n",
       "      <td>...</td>\n",
       "      <td>...</td>\n",
       "      <td>...</td>\n",
       "      <td>...</td>\n",
       "      <td>...</td>\n",
       "      <td>...</td>\n",
       "      <td>...</td>\n",
       "      <td>...</td>\n",
       "      <td>...</td>\n",
       "      <td>...</td>\n",
       "      <td>...</td>\n",
       "      <td>...</td>\n",
       "      <td>...</td>\n",
       "      <td>...</td>\n",
       "      <td>...</td>\n",
       "      <td>...</td>\n",
       "      <td>...</td>\n",
       "      <td>...</td>\n",
       "      <td>...</td>\n",
       "      <td>...</td>\n",
       "      <td>...</td>\n",
       "    </tr>\n",
       "    <tr>\n",
       "      <th>3705</th>\n",
       "      <td>WK199102</td>\n",
       "      <td>244.602329</td>\n",
       "      <td>244.602329</td>\n",
       "      <td>244.602329</td>\n",
       "      <td>244.602329</td>\n",
       "      <td>244.602329</td>\n",
       "      <td>1011.044925</td>\n",
       "      <td>1011.044925</td>\n",
       "      <td>1011.044925</td>\n",
       "      <td>1011.044925</td>\n",
       "      <td>...</td>\n",
       "      <td>-3.571971</td>\n",
       "      <td>-3.571971</td>\n",
       "      <td>-3.571971</td>\n",
       "      <td>-3.571971</td>\n",
       "      <td>-4.110424</td>\n",
       "      <td>-0.588870</td>\n",
       "      <td>-0.588870</td>\n",
       "      <td>-0.588870</td>\n",
       "      <td>-0.588870</td>\n",
       "      <td>-0.454032</td>\n",
       "    </tr>\n",
       "    <tr>\n",
       "      <th>3706</th>\n",
       "      <td>WK199103</td>\n",
       "      <td>244.602329</td>\n",
       "      <td>244.602329</td>\n",
       "      <td>244.602329</td>\n",
       "      <td>244.602329</td>\n",
       "      <td>244.602329</td>\n",
       "      <td>1011.044925</td>\n",
       "      <td>1011.044925</td>\n",
       "      <td>1011.044925</td>\n",
       "      <td>1011.044925</td>\n",
       "      <td>...</td>\n",
       "      <td>-3.571971</td>\n",
       "      <td>-3.571971</td>\n",
       "      <td>-3.571971</td>\n",
       "      <td>-3.571971</td>\n",
       "      <td>-3.584963</td>\n",
       "      <td>-0.588870</td>\n",
       "      <td>-0.588870</td>\n",
       "      <td>-0.588870</td>\n",
       "      <td>-0.588870</td>\n",
       "      <td>-0.395929</td>\n",
       "    </tr>\n",
       "    <tr>\n",
       "      <th>3707</th>\n",
       "      <td>WK199104</td>\n",
       "      <td>244.602329</td>\n",
       "      <td>244.602329</td>\n",
       "      <td>244.602329</td>\n",
       "      <td>244.602329</td>\n",
       "      <td>244.602329</td>\n",
       "      <td>1011.044925</td>\n",
       "      <td>1011.044925</td>\n",
       "      <td>1011.044925</td>\n",
       "      <td>1011.044925</td>\n",
       "      <td>...</td>\n",
       "      <td>-3.571971</td>\n",
       "      <td>-3.571971</td>\n",
       "      <td>-3.571971</td>\n",
       "      <td>-3.571971</td>\n",
       "      <td>-4.065153</td>\n",
       "      <td>-0.588870</td>\n",
       "      <td>-0.588870</td>\n",
       "      <td>-0.588870</td>\n",
       "      <td>-0.588870</td>\n",
       "      <td>-0.434403</td>\n",
       "    </tr>\n",
       "    <tr>\n",
       "      <th>3708</th>\n",
       "      <td>WK199105</td>\n",
       "      <td>244.602329</td>\n",
       "      <td>244.602329</td>\n",
       "      <td>244.602329</td>\n",
       "      <td>244.602329</td>\n",
       "      <td>244.602329</td>\n",
       "      <td>1011.044925</td>\n",
       "      <td>1011.044925</td>\n",
       "      <td>1011.044925</td>\n",
       "      <td>1011.044925</td>\n",
       "      <td>...</td>\n",
       "      <td>-3.571971</td>\n",
       "      <td>-3.571971</td>\n",
       "      <td>-3.571971</td>\n",
       "      <td>-3.571971</td>\n",
       "      <td>-3.459432</td>\n",
       "      <td>-0.588870</td>\n",
       "      <td>-0.588870</td>\n",
       "      <td>-0.588870</td>\n",
       "      <td>-0.588870</td>\n",
       "      <td>-0.434403</td>\n",
       "    </tr>\n",
       "    <tr>\n",
       "      <th>3709</th>\n",
       "      <td>WK199106</td>\n",
       "      <td>244.602329</td>\n",
       "      <td>244.602329</td>\n",
       "      <td>244.602329</td>\n",
       "      <td>244.602329</td>\n",
       "      <td>244.602329</td>\n",
       "      <td>1011.044925</td>\n",
       "      <td>1011.044925</td>\n",
       "      <td>1011.044925</td>\n",
       "      <td>1011.044925</td>\n",
       "      <td>...</td>\n",
       "      <td>-3.571971</td>\n",
       "      <td>-3.571971</td>\n",
       "      <td>-3.571971</td>\n",
       "      <td>-3.571971</td>\n",
       "      <td>-3.784271</td>\n",
       "      <td>-0.588870</td>\n",
       "      <td>-0.588870</td>\n",
       "      <td>-0.588870</td>\n",
       "      <td>-0.588870</td>\n",
       "      <td>-0.454032</td>\n",
       "    </tr>\n",
       "  </tbody>\n",
       "</table>\n",
       "<p>3710 rows × 81 columns</p>\n",
       "</div>"
      ],
      "text/plain": [
       "     gwb_code_10  a_soz_ao_2018  a_soz_ao_2019  a_soz_ao_2020  a_soz_ao_2021  \\\n",
       "0       WK000300     710.000000     730.000000     710.000000     710.000000   \n",
       "1       WK000500     580.000000     580.000000     580.000000     580.000000   \n",
       "2       WK000900     150.000000     150.000000     150.000000     150.000000   \n",
       "3       WK000901      50.000000      50.000000      50.000000      50.000000   \n",
       "4       WK001000     870.000000     870.000000     870.000000     870.000000   \n",
       "...          ...            ...            ...            ...            ...   \n",
       "3705    WK199102     244.602329     244.602329     244.602329     244.602329   \n",
       "3706    WK199103     244.602329     244.602329     244.602329     244.602329   \n",
       "3707    WK199104     244.602329     244.602329     244.602329     244.602329   \n",
       "3708    WK199105     244.602329     244.602329     244.602329     244.602329   \n",
       "3709    WK199106     244.602329     244.602329     244.602329     244.602329   \n",
       "\n",
       "      a_soz_ao_2022  a_soz_ow_2018  a_soz_ow_2019  a_soz_ow_2020  \\\n",
       "0        710.000000    2670.000000    2670.000000    2750.000000   \n",
       "1        580.000000    2080.000000    2080.000000    2080.000000   \n",
       "2        150.000000    1170.000000    1170.000000    1170.000000   \n",
       "3         50.000000     190.000000     190.000000     190.000000   \n",
       "4        870.000000    4230.000000    4230.000000    4230.000000   \n",
       "...             ...            ...            ...            ...   \n",
       "3705     244.602329    1011.044925    1011.044925    1011.044925   \n",
       "3706     244.602329    1011.044925    1011.044925    1011.044925   \n",
       "3707     244.602329    1011.044925    1011.044925    1011.044925   \n",
       "3708     244.602329    1011.044925    1011.044925    1011.044925   \n",
       "3709     244.602329    1011.044925    1011.044925    1011.044925   \n",
       "\n",
       "      a_soz_ow_2021  ...  p_jz_tn_2018  p_jz_tn_2019  p_jz_tn_2020  \\\n",
       "0       2750.000000  ...     -3.336428     -3.120294     -3.293359   \n",
       "1       2080.000000  ...     -3.336428     -3.336428     -3.336428   \n",
       "2       1170.000000  ...     -3.473931     -3.473931     -3.473931   \n",
       "3        190.000000  ...     -3.380822     -3.380822     -3.380822   \n",
       "4       4230.000000  ...     -3.237864     -3.237864     -3.237864   \n",
       "...             ...  ...           ...           ...           ...   \n",
       "3705    1011.044925  ...     -3.571971     -3.571971     -3.571971   \n",
       "3706    1011.044925  ...     -3.571971     -3.571971     -3.571971   \n",
       "3707    1011.044925  ...     -3.571971     -3.571971     -3.571971   \n",
       "3708    1011.044925  ...     -3.571971     -3.571971     -3.571971   \n",
       "3709    1011.044925  ...     -3.571971     -3.571971     -3.571971   \n",
       "\n",
       "      p_jz_tn_2021  p_jz_tn_2022  p_koopw_2018  p_koopw_2019  p_koopw_2020  \\\n",
       "0        -3.293359     -3.293359     -1.029146     -1.058894     -1.058894   \n",
       "1        -3.336428     -3.336428     -0.535332     -0.535332     -0.535332   \n",
       "2        -3.473931     -3.473931     -0.395929     -0.395929     -0.395929   \n",
       "3        -3.380822     -3.380822     -0.358454     -0.358454     -0.358454   \n",
       "4        -3.237864     -3.237864     -0.862496     -0.862496     -0.862496   \n",
       "...            ...           ...           ...           ...           ...   \n",
       "3705     -3.571971     -4.110424     -0.588870     -0.588870     -0.588870   \n",
       "3706     -3.571971     -3.584963     -0.588870     -0.588870     -0.588870   \n",
       "3707     -3.571971     -4.065153     -0.588870     -0.588870     -0.588870   \n",
       "3708     -3.571971     -3.459432     -0.588870     -0.588870     -0.588870   \n",
       "3709     -3.571971     -3.784271     -0.588870     -0.588870     -0.588870   \n",
       "\n",
       "      p_koopw_2021  p_koopw_2022  \n",
       "0        -1.058894     -1.058894  \n",
       "1        -0.535332     -0.535332  \n",
       "2        -0.395929     -0.395929  \n",
       "3        -0.358454     -0.358454  \n",
       "4        -0.862496     -0.862496  \n",
       "...            ...           ...  \n",
       "3705     -0.588870     -0.454032  \n",
       "3706     -0.588870     -0.395929  \n",
       "3707     -0.588870     -0.434403  \n",
       "3708     -0.588870     -0.434403  \n",
       "3709     -0.588870     -0.454032  \n",
       "\n",
       "[3710 rows x 81 columns]"
      ]
     },
     "metadata": {},
     "output_type": "display_data"
    }
   ],
   "source": [
    "# percentages to log\n",
    "dfs[[x for x in dfs.columns if \"p_\" in x]] = np.log2(dfs[[x for x in dfs.columns if \"p_\" in x]].div(100))\n",
    "dfs = dfs.replace([np.inf, -np.inf, np.nan, \".\", \"-\"], np.nan)\n",
    "dfs[[x for x in dfs.columns if \"p_\" in x]] = dfs[[x for x in dfs.columns if \"p_\" in x]].fillna(-5000)\n",
    "display(dfs)"
   ]
  },
  {
   "cell_type": "code",
   "execution_count": 78,
   "metadata": {},
   "outputs": [],
   "source": [
    "# Extract features and target variable\n",
    "target = dfs['p_jz_tn_2022']\n",
    "features = dfs[[x for x in dfs.columns if \"2022\" not in x]]\n",
    "features = features[[x for x in features.columns if \"gwb_code_10\" not in x]]\n",
    "pred_set = dfs[[x for x in dfs.columns if \"2018\" not in x]]\n",
    "pred_set = pred_set[[x for x in pred_set.columns if \"gwb_code_10\" not in x]]\n",
    "pred_set.columns = features.columns"
   ]
  },
  {
   "cell_type": "code",
   "execution_count": 79,
   "metadata": {},
   "outputs": [
    {
     "name": "stdout",
     "output_type": "stream",
     "text": [
      "Mean Squared Error: 0.06259026864350963\n",
      "R^2 Score: 0.6918335585984552\n"
     ]
    }
   ],
   "source": [
    "# Split data into training and testing sets\n",
    "X_train, X_test, y_train, y_test = train_test_split(features, target, test_size=0.2, random_state=42)\n",
    "\n",
    "# Train XGBoost model\n",
    "xgb_model = xgb.XGBRegressor()\n",
    "xgb_model.fit(X_train, y_train)\n",
    "\n",
    "# Make predictions on the testing set\n",
    "y_pred = xgb_model.predict(X_test)\n",
    "\n",
    "# Calculate evaluation metrics\n",
    "mse = mean_squared_error(y_test, y_pred)\n",
    "r2 = r2_score(y_test, y_pred)\n",
    "\n",
    "print(\"Mean Squared Error:\", mse)\n",
    "print(\"R^2 Score:\", r2)"
   ]
  },
  {
   "cell_type": "code",
   "execution_count": 80,
   "metadata": {},
   "outputs": [
    {
     "data": {
      "image/png": "[encoded data removed]",
      "text/plain": [
       "<Figure size 432x288 with 1 Axes>"
      ]
     },
     "metadata": {
      "needs_background": "light"
     },
     "output_type": "display_data"
    }
   ],
   "source": [
    "import matplotlib.pyplot as plt\n",
    "feature_importance = sorted(xgb_model.get_booster().get_score(importance_type=\"gain\").items(), key=lambda x:x[1], reverse=True)\n",
    "\n",
    "features_imp = list(zip(*feature_importance))[0]\n",
    "importances = list(zip(*feature_importance))[1]\n",
    "\n",
    "plt.bar(range(len(feature_importance[:15])), importances[:15], tick_label=features_imp[:15])\n",
    "plt.xticks(rotation = 90)\n",
    "plt.show()"
   ]
  },
  {
   "cell_type": "code",
   "execution_count": 81,
   "metadata": {},
   "outputs": [],
   "source": [
    "prediction_xgb = xgb_model.predict(pred_set)\n",
    "dfs[\"prediction_xgb\"] = prediction_xgb"
   ]
  },
  {
   "cell_type": "code",
   "execution_count": 82,
   "metadata": {},
   "outputs": [
    {
     "name": "stdout",
     "output_type": "stream",
     "text": [
      "RMSE: 0.23749856732800917\n"
     ]
    }
   ],
   "source": [
    "import numpy as np\n",
    "from sklearn.ensemble import RandomForestRegressor\n",
    "from sklearn.model_selection import train_test_split\n",
    "from sklearn.metrics import mean_squared_error\n",
    "\n",
    "# Split the dataset into training and testing sets\n",
    "X_train, X_test, y_train, y_test = train_test_split(features, target, test_size=0.2, random_state=42)\n",
    "\n",
    "# Create a Random Forest regressor\n",
    "rf_regressor = RandomForestRegressor(n_estimators=100, random_state=42)\n",
    "\n",
    "# Train the regressor\n",
    "rf_regressor.fit(X_train, y_train)\n",
    "\n",
    "# Make predictions on the test set\n",
    "y_pred = rf_regressor.predict(X_test)\n",
    "\n",
    "# Calculate the root mean squared error (RMSE) of the model\n",
    "rmse = np.sqrt(mean_squared_error(y_test, y_pred))\n",
    "print(\"RMSE:\", rmse)"
   ]
  },
  {
   "cell_type": "code",
   "execution_count": 83,
   "metadata": {},
   "outputs": [],
   "source": [
    "prediction_rf = rf_regressor.predict(pred_set)\n",
    "dfs[\"prediction_rf\"] = prediction_rf"
   ]
  },
  {
   "cell_type": "code",
   "execution_count": 84,
   "metadata": {},
   "outputs": [
    {
     "data": {
      "text/html": [
       "<div>\n",
       "<style scoped>\n",
       "    .dataframe tbody tr th:only-of-type {\n",
       "        vertical-align: middle;\n",
       "    }\n",
       "\n",
       "    .dataframe tbody tr th {\n",
       "        vertical-align: top;\n",
       "    }\n",
       "\n",
       "    .dataframe thead th {\n",
       "        text-align: right;\n",
       "    }\n",
       "</style>\n",
       "<table border=\"1\" class=\"dataframe\">\n",
       "  <thead>\n",
       "    <tr style=\"text-align: right;\">\n",
       "      <th></th>\n",
       "      <th>gwb_code_10</th>\n",
       "      <th>a_soz_ao_2018</th>\n",
       "      <th>a_soz_ao_2019</th>\n",
       "      <th>a_soz_ao_2020</th>\n",
       "      <th>a_soz_ao_2021</th>\n",
       "      <th>a_soz_ao_2022</th>\n",
       "      <th>a_soz_ow_2018</th>\n",
       "      <th>a_soz_ow_2019</th>\n",
       "      <th>a_soz_ow_2020</th>\n",
       "      <th>a_soz_ow_2021</th>\n",
       "      <th>...</th>\n",
       "      <th>p_jz_tn_2020</th>\n",
       "      <th>p_jz_tn_2021</th>\n",
       "      <th>p_jz_tn_2022</th>\n",
       "      <th>p_koopw_2018</th>\n",
       "      <th>p_koopw_2019</th>\n",
       "      <th>p_koopw_2020</th>\n",
       "      <th>p_koopw_2021</th>\n",
       "      <th>p_koopw_2022</th>\n",
       "      <th>prediction_xgb</th>\n",
       "      <th>prediction_rf</th>\n",
       "    </tr>\n",
       "  </thead>\n",
       "  <tbody>\n",
       "    <tr>\n",
       "      <th>0</th>\n",
       "      <td>WK000300</td>\n",
       "      <td>710.000000</td>\n",
       "      <td>730.000000</td>\n",
       "      <td>710.000000</td>\n",
       "      <td>710.000000</td>\n",
       "      <td>710.000000</td>\n",
       "      <td>2670.000000</td>\n",
       "      <td>2670.000000</td>\n",
       "      <td>2750.000000</td>\n",
       "      <td>2750.000000</td>\n",
       "      <td>...</td>\n",
       "      <td>-3.293359</td>\n",
       "      <td>-3.293359</td>\n",
       "      <td>-3.293359</td>\n",
       "      <td>-1.029146</td>\n",
       "      <td>-1.058894</td>\n",
       "      <td>-1.058894</td>\n",
       "      <td>-1.058894</td>\n",
       "      <td>-1.058894</td>\n",
       "      <td>-3.376486</td>\n",
       "      <td>-3.316948</td>\n",
       "    </tr>\n",
       "    <tr>\n",
       "      <th>1</th>\n",
       "      <td>WK000500</td>\n",
       "      <td>580.000000</td>\n",
       "      <td>580.000000</td>\n",
       "      <td>580.000000</td>\n",
       "      <td>580.000000</td>\n",
       "      <td>580.000000</td>\n",
       "      <td>2080.000000</td>\n",
       "      <td>2080.000000</td>\n",
       "      <td>2080.000000</td>\n",
       "      <td>2080.000000</td>\n",
       "      <td>...</td>\n",
       "      <td>-3.336428</td>\n",
       "      <td>-3.336428</td>\n",
       "      <td>-3.336428</td>\n",
       "      <td>-0.535332</td>\n",
       "      <td>-0.535332</td>\n",
       "      <td>-0.535332</td>\n",
       "      <td>-0.535332</td>\n",
       "      <td>-0.535332</td>\n",
       "      <td>-3.335101</td>\n",
       "      <td>-3.332033</td>\n",
       "    </tr>\n",
       "    <tr>\n",
       "      <th>2</th>\n",
       "      <td>WK000900</td>\n",
       "      <td>150.000000</td>\n",
       "      <td>150.000000</td>\n",
       "      <td>150.000000</td>\n",
       "      <td>150.000000</td>\n",
       "      <td>150.000000</td>\n",
       "      <td>1170.000000</td>\n",
       "      <td>1170.000000</td>\n",
       "      <td>1170.000000</td>\n",
       "      <td>1170.000000</td>\n",
       "      <td>...</td>\n",
       "      <td>-3.473931</td>\n",
       "      <td>-3.473931</td>\n",
       "      <td>-3.473931</td>\n",
       "      <td>-0.395929</td>\n",
       "      <td>-0.395929</td>\n",
       "      <td>-0.395929</td>\n",
       "      <td>-0.395929</td>\n",
       "      <td>-0.395929</td>\n",
       "      <td>-3.517272</td>\n",
       "      <td>-3.470875</td>\n",
       "    </tr>\n",
       "    <tr>\n",
       "      <th>3</th>\n",
       "      <td>WK000901</td>\n",
       "      <td>50.000000</td>\n",
       "      <td>50.000000</td>\n",
       "      <td>50.000000</td>\n",
       "      <td>50.000000</td>\n",
       "      <td>50.000000</td>\n",
       "      <td>190.000000</td>\n",
       "      <td>190.000000</td>\n",
       "      <td>190.000000</td>\n",
       "      <td>190.000000</td>\n",
       "      <td>...</td>\n",
       "      <td>-3.380822</td>\n",
       "      <td>-3.380822</td>\n",
       "      <td>-3.380822</td>\n",
       "      <td>-0.358454</td>\n",
       "      <td>-0.358454</td>\n",
       "      <td>-0.358454</td>\n",
       "      <td>-0.358454</td>\n",
       "      <td>-0.358454</td>\n",
       "      <td>-3.366600</td>\n",
       "      <td>-3.402180</td>\n",
       "    </tr>\n",
       "    <tr>\n",
       "      <th>4</th>\n",
       "      <td>WK001000</td>\n",
       "      <td>870.000000</td>\n",
       "      <td>870.000000</td>\n",
       "      <td>870.000000</td>\n",
       "      <td>870.000000</td>\n",
       "      <td>870.000000</td>\n",
       "      <td>4230.000000</td>\n",
       "      <td>4230.000000</td>\n",
       "      <td>4230.000000</td>\n",
       "      <td>4230.000000</td>\n",
       "      <td>...</td>\n",
       "      <td>-3.237864</td>\n",
       "      <td>-3.237864</td>\n",
       "      <td>-3.237864</td>\n",
       "      <td>-0.862496</td>\n",
       "      <td>-0.862496</td>\n",
       "      <td>-0.862496</td>\n",
       "      <td>-0.862496</td>\n",
       "      <td>-0.862496</td>\n",
       "      <td>-3.239580</td>\n",
       "      <td>-3.245359</td>\n",
       "    </tr>\n",
       "    <tr>\n",
       "      <th>...</th>\n",
       "      <td>...</td>\n",
       "      <td>...</td>\n",
       "      <td>...</td>\n",
       "      <td>...</td>\n",
       "      <td>...</td>\n",
       "      <td>...</td>\n",
       "      <td>...</td>\n",
       "      <td>...</td>\n",
       "      <td>...</td>\n",
       "      <td>...</td>\n",
       "      <td>...</td>\n",
       "      <td>...</td>\n",
       "      <td>...</td>\n",
       "      <td>...</td>\n",
       "      <td>...</td>\n",
       "      <td>...</td>\n",
       "      <td>...</td>\n",
       "      <td>...</td>\n",
       "      <td>...</td>\n",
       "      <td>...</td>\n",
       "      <td>...</td>\n",
       "    </tr>\n",
       "    <tr>\n",
       "      <th>3705</th>\n",
       "      <td>WK199102</td>\n",
       "      <td>244.602329</td>\n",
       "      <td>244.602329</td>\n",
       "      <td>244.602329</td>\n",
       "      <td>244.602329</td>\n",
       "      <td>244.602329</td>\n",
       "      <td>1011.044925</td>\n",
       "      <td>1011.044925</td>\n",
       "      <td>1011.044925</td>\n",
       "      <td>1011.044925</td>\n",
       "      <td>...</td>\n",
       "      <td>-3.571971</td>\n",
       "      <td>-3.571971</td>\n",
       "      <td>-4.110424</td>\n",
       "      <td>-0.588870</td>\n",
       "      <td>-0.588870</td>\n",
       "      <td>-0.588870</td>\n",
       "      <td>-0.588870</td>\n",
       "      <td>-0.454032</td>\n",
       "      <td>-3.981742</td>\n",
       "      <td>-4.014440</td>\n",
       "    </tr>\n",
       "    <tr>\n",
       "      <th>3706</th>\n",
       "      <td>WK199103</td>\n",
       "      <td>244.602329</td>\n",
       "      <td>244.602329</td>\n",
       "      <td>244.602329</td>\n",
       "      <td>244.602329</td>\n",
       "      <td>244.602329</td>\n",
       "      <td>1011.044925</td>\n",
       "      <td>1011.044925</td>\n",
       "      <td>1011.044925</td>\n",
       "      <td>1011.044925</td>\n",
       "      <td>...</td>\n",
       "      <td>-3.571971</td>\n",
       "      <td>-3.571971</td>\n",
       "      <td>-3.584963</td>\n",
       "      <td>-0.588870</td>\n",
       "      <td>-0.588870</td>\n",
       "      <td>-0.588870</td>\n",
       "      <td>-0.588870</td>\n",
       "      <td>-0.395929</td>\n",
       "      <td>-3.589674</td>\n",
       "      <td>-3.609002</td>\n",
       "    </tr>\n",
       "    <tr>\n",
       "      <th>3707</th>\n",
       "      <td>WK199104</td>\n",
       "      <td>244.602329</td>\n",
       "      <td>244.602329</td>\n",
       "      <td>244.602329</td>\n",
       "      <td>244.602329</td>\n",
       "      <td>244.602329</td>\n",
       "      <td>1011.044925</td>\n",
       "      <td>1011.044925</td>\n",
       "      <td>1011.044925</td>\n",
       "      <td>1011.044925</td>\n",
       "      <td>...</td>\n",
       "      <td>-3.571971</td>\n",
       "      <td>-3.571971</td>\n",
       "      <td>-4.065153</td>\n",
       "      <td>-0.588870</td>\n",
       "      <td>-0.588870</td>\n",
       "      <td>-0.588870</td>\n",
       "      <td>-0.588870</td>\n",
       "      <td>-0.434403</td>\n",
       "      <td>-3.981742</td>\n",
       "      <td>-3.957863</td>\n",
       "    </tr>\n",
       "    <tr>\n",
       "      <th>3708</th>\n",
       "      <td>WK199105</td>\n",
       "      <td>244.602329</td>\n",
       "      <td>244.602329</td>\n",
       "      <td>244.602329</td>\n",
       "      <td>244.602329</td>\n",
       "      <td>244.602329</td>\n",
       "      <td>1011.044925</td>\n",
       "      <td>1011.044925</td>\n",
       "      <td>1011.044925</td>\n",
       "      <td>1011.044925</td>\n",
       "      <td>...</td>\n",
       "      <td>-3.571971</td>\n",
       "      <td>-3.571971</td>\n",
       "      <td>-3.459432</td>\n",
       "      <td>-0.588870</td>\n",
       "      <td>-0.588870</td>\n",
       "      <td>-0.588870</td>\n",
       "      <td>-0.588870</td>\n",
       "      <td>-0.434403</td>\n",
       "      <td>-3.481913</td>\n",
       "      <td>-3.488324</td>\n",
       "    </tr>\n",
       "    <tr>\n",
       "      <th>3709</th>\n",
       "      <td>WK199106</td>\n",
       "      <td>244.602329</td>\n",
       "      <td>244.602329</td>\n",
       "      <td>244.602329</td>\n",
       "      <td>244.602329</td>\n",
       "      <td>244.602329</td>\n",
       "      <td>1011.044925</td>\n",
       "      <td>1011.044925</td>\n",
       "      <td>1011.044925</td>\n",
       "      <td>1011.044925</td>\n",
       "      <td>...</td>\n",
       "      <td>-3.571971</td>\n",
       "      <td>-3.571971</td>\n",
       "      <td>-3.784271</td>\n",
       "      <td>-0.588870</td>\n",
       "      <td>-0.588870</td>\n",
       "      <td>-0.588870</td>\n",
       "      <td>-0.588870</td>\n",
       "      <td>-0.454032</td>\n",
       "      <td>-3.750605</td>\n",
       "      <td>-3.745004</td>\n",
       "    </tr>\n",
       "  </tbody>\n",
       "</table>\n",
       "<p>3710 rows × 83 columns</p>\n",
       "</div>"
      ],
      "text/plain": [
       "     gwb_code_10  a_soz_ao_2018  a_soz_ao_2019  a_soz_ao_2020  a_soz_ao_2021  \\\n",
       "0       WK000300     710.000000     730.000000     710.000000     710.000000   \n",
       "1       WK000500     580.000000     580.000000     580.000000     580.000000   \n",
       "2       WK000900     150.000000     150.000000     150.000000     150.000000   \n",
       "3       WK000901      50.000000      50.000000      50.000000      50.000000   \n",
       "4       WK001000     870.000000     870.000000     870.000000     870.000000   \n",
       "...          ...            ...            ...            ...            ...   \n",
       "3705    WK199102     244.602329     244.602329     244.602329     244.602329   \n",
       "3706    WK199103     244.602329     244.602329     244.602329     244.602329   \n",
       "3707    WK199104     244.602329     244.602329     244.602329     244.602329   \n",
       "3708    WK199105     244.602329     244.602329     244.602329     244.602329   \n",
       "3709    WK199106     244.602329     244.602329     244.602329     244.602329   \n",
       "\n",
       "      a_soz_ao_2022  a_soz_ow_2018  a_soz_ow_2019  a_soz_ow_2020  \\\n",
       "0        710.000000    2670.000000    2670.000000    2750.000000   \n",
       "1        580.000000    2080.000000    2080.000000    2080.000000   \n",
       "2        150.000000    1170.000000    1170.000000    1170.000000   \n",
       "3         50.000000     190.000000     190.000000     190.000000   \n",
       "4        870.000000    4230.000000    4230.000000    4230.000000   \n",
       "...             ...            ...            ...            ...   \n",
       "3705     244.602329    1011.044925    1011.044925    1011.044925   \n",
       "3706     244.602329    1011.044925    1011.044925    1011.044925   \n",
       "3707     244.602329    1011.044925    1011.044925    1011.044925   \n",
       "3708     244.602329    1011.044925    1011.044925    1011.044925   \n",
       "3709     244.602329    1011.044925    1011.044925    1011.044925   \n",
       "\n",
       "      a_soz_ow_2021  ...  p_jz_tn_2020  p_jz_tn_2021  p_jz_tn_2022  \\\n",
       "0       2750.000000  ...     -3.293359     -3.293359     -3.293359   \n",
       "1       2080.000000  ...     -3.336428     -3.336428     -3.336428   \n",
       "2       1170.000000  ...     -3.473931     -3.473931     -3.473931   \n",
       "3        190.000000  ...     -3.380822     -3.380822     -3.380822   \n",
       "4       4230.000000  ...     -3.237864     -3.237864     -3.237864   \n",
       "...             ...  ...           ...           ...           ...   \n",
       "3705    1011.044925  ...     -3.571971     -3.571971     -4.110424   \n",
       "3706    1011.044925  ...     -3.571971     -3.571971     -3.584963   \n",
       "3707    1011.044925  ...     -3.571971     -3.571971     -4.065153   \n",
       "3708    1011.044925  ...     -3.571971     -3.571971     -3.459432   \n",
       "3709    1011.044925  ...     -3.571971     -3.571971     -3.784271   \n",
       "\n",
       "      p_koopw_2018  p_koopw_2019  p_koopw_2020  p_koopw_2021  p_koopw_2022  \\\n",
       "0        -1.029146     -1.058894     -1.058894     -1.058894     -1.058894   \n",
       "1        -0.535332     -0.535332     -0.535332     -0.535332     -0.535332   \n",
       "2        -0.395929     -0.395929     -0.395929     -0.395929     -0.395929   \n",
       "3        -0.358454     -0.358454     -0.358454     -0.358454     -0.358454   \n",
       "4        -0.862496     -0.862496     -0.862496     -0.862496     -0.862496   \n",
       "...            ...           ...           ...           ...           ...   \n",
       "3705     -0.588870     -0.588870     -0.588870     -0.588870     -0.454032   \n",
       "3706     -0.588870     -0.588870     -0.588870     -0.588870     -0.395929   \n",
       "3707     -0.588870     -0.588870     -0.588870     -0.588870     -0.434403   \n",
       "3708     -0.588870     -0.588870     -0.588870     -0.588870     -0.434403   \n",
       "3709     -0.588870     -0.588870     -0.588870     -0.588870     -0.454032   \n",
       "\n",
       "      prediction_xgb  prediction_rf  \n",
       "0          -3.376486      -3.316948  \n",
       "1          -3.335101      -3.332033  \n",
       "2          -3.517272      -3.470875  \n",
       "3          -3.366600      -3.402180  \n",
       "4          -3.239580      -3.245359  \n",
       "...              ...            ...  \n",
       "3705       -3.981742      -4.014440  \n",
       "3706       -3.589674      -3.609002  \n",
       "3707       -3.981742      -3.957863  \n",
       "3708       -3.481913      -3.488324  \n",
       "3709       -3.750605      -3.745004  \n",
       "\n",
       "[3710 rows x 83 columns]"
      ]
     },
     "metadata": {},
     "output_type": "display_data"
    }
   ],
   "source": [
    "display(dfs)\n",
    "dfs.to_csv(\"data_predictions.csv\")"
   ]
  },
  {
   "attachments": {},
   "cell_type": "markdown",
   "metadata": {},
   "source": [
    "# Visualising"
   ]
  },
  {
   "attachments": {},
   "cell_type": "markdown",
   "metadata": {},
   "source": [
    "This is not needed for the prediction, merely some visualisations for checking."
   ]
  },
  {
   "cell_type": "code",
   "execution_count": 85,
   "metadata": {},
   "outputs": [],
   "source": [
    "df = pd.read_excel(\"./data/kwb-2018.xls\")\n",
    "df = df[['gwb_code_10', 'gm_naam', 'regio']]\n",
    "dfs = pd.merge(dfs, df, on='gwb_code_10', how='left')"
   ]
  },
  {
   "cell_type": "code",
   "execution_count": 86,
   "metadata": {},
   "outputs": [
    {
     "name": "stderr",
     "output_type": "stream",
     "text": [
      "C:\\Users\\stanf\\AppData\\Local\\Packages\\PythonSoftwareFoundation.Python.3.9_qbz5n2kfra8p0\\LocalCache\\local-packages\\Python39\\site-packages\\pandas\\core\\indexing.py:1667: SettingWithCopyWarning:\n",
      "\n",
      "\n",
      "A value is trying to be set on a copy of a slice from a DataFrame.\n",
      "Try using .loc[row_indexer,col_indexer] = value instead\n",
      "\n",
      "See the caveats in the documentation: https://pandas.pydata.org/pandas-docs/stable/user_guide/indexing.html#returning-a-view-versus-a-copy\n",
      "\n"
     ]
    }
   ],
   "source": [
    "ts_total, ts_2018, ts_2019, ts_2020, ts_2021, ts_2022, ts_2023 = pd.DataFrame(), pd.DataFrame(), pd.DataFrame(), pd.DataFrame(), pd.DataFrame(), pd.DataFrame(), pd.DataFrame()\n",
    "dflist = [ts_2018, ts_2019, ts_2020, ts_2021, ts_2022, ts_2023]\n",
    "\n",
    "form = \"prediction_xgb\"\n",
    "for df in range(len(dflist)):\n",
    "    if df != 5:\n",
    "        dflist[df] = dfs[['gwb_code_10', 'gm_naam', 'regio'] + [x for x in dfs.columns if \"{}\".format(2018+df) in x]]\n",
    "        dflist[df].columns = pd.Index(map(lambda x : str(x)[:-5], dflist[df].columns[3:])).insert(0, \"gwb_code_10\").insert(1, 'gm_naam').insert(2, 'regio')\n",
    "        dflist[df].loc[:, 'year'] = pd.to_datetime('{}'.format(2018+df))\n",
    "        ts_total = pd.concat([ts_total, dflist[df]])\n",
    "    elif form == \"prediction_rf\":\n",
    "        dflist[df] = dfs[['gwb_code_10', 'gm_naam', 'regio', \"prediction_rf\"] + [x for x in dfs.columns if \"2022\" in x]]\n",
    "        dflist[df].columns = pd.Index(map(lambda x : str(x)[:-5], dflist[df].columns[4:])).insert(0, \"gwb_code_10\").insert(1, 'gm_naam').insert(2, 'regio').insert(3, \"prediction_rf\")\n",
    "        dflist[df] = dflist[df].drop(\"p_jz_tn\", axis=1)\n",
    "        dflist[df] = dflist[df].rename(columns={\"prediction_rf\" : \"p_jz_tn\"})\n",
    "        dflist[df].loc[:, 'year'] = pd.to_datetime('{}'.format(2018+df))\n",
    "        ts_total = pd.concat([ts_total, dflist[df]])\n",
    "    elif form == \"prediction_xgb\":\n",
    "        dflist[df] = dfs[['gwb_code_10', 'gm_naam', 'regio', \"prediction_xgb\"] + [x for x in dfs.columns if \"2022\" in x]]\n",
    "        dflist[df].columns = pd.Index(map(lambda x : str(x)[:-5], dflist[df].columns[4:])).insert(0, \"gwb_code_10\").insert(1, 'gm_naam').insert(2, 'regio').insert(3, \"prediction_xgb\")\n",
    "        dflist[df] = dflist[df].drop(\"p_jz_tn\", axis=1)\n",
    "        dflist[df] = dflist[df].rename(columns={\"prediction_xgb\" : \"p_jz_tn\"})\n",
    "        dflist[df].loc[:, 'year'] = pd.to_datetime('{}'.format(2018+df))\n",
    "        ts_total = pd.concat([ts_total, dflist[df]])\n",
    "        \n",
    "\n",
    "ts_total[[x for x in ts_total.columns if \"p_\" in x]] = np.exp(ts_total[[x for x in ts_total.columns if \"p_\" in x]]).multiply(100)"
   ]
  },
  {
   "cell_type": "code",
   "execution_count": 87,
   "metadata": {},
   "outputs": [],
   "source": [
    "ts_amsterdam = ts_total[ts_total.gm_naam == \"Amsterdam\"]"
   ]
  },
  {
   "cell_type": "code",
   "execution_count": 88,
   "metadata": {},
   "outputs": [
    {
     "data": {
      "application/vnd.plotly.v1+json": {
       "config": {
        "plotlyServerURL": "https://plot.ly"
       },
       "data": [
        {
         "hovertemplate": "regio=Burgwallen-Oude Zijde<br>year=%{x}<br>p_jz_tn=%{y}<extra></extra>",
         "legendgroup": "Burgwallen-Oude Zijde",
         "line": {
          "color": "#636efa",
          "dash": "solid"
         },
         "marker": {
          "symbol": "circle"
         },
         "mode": "lines",
         "name": "Burgwallen-Oude Zijde",
         "orientation": "v",
         "showlegend": true,
         "type": "scatter",
         "x": [
          "2018-01-01T00:00:00",
          "2019-01-01T00:00:00",
          "2020-01-01T00:00:00",
          "2021-01-01T00:00:00",
          "2022-01-01T00:00:00",
          "2023-01-01T00:00:00"
         ],
         "xaxis": "x",
         "y": [
          1.4047026164140326,
          1.603639791750274,
          1.365896846510413,
          0.8109679770450936,
          0.7196848447982425,
          0.7039888622993042
         ],
         "yaxis": "y"
        },
        {
         "hovertemplate": "regio=Burgwallen-Nieuwe Zijde<br>year=%{x}<br>p_jz_tn=%{y}<extra></extra>",
         "legendgroup": "Burgwallen-Nieuwe Zijde",
         "line": {
          "color": "#EF553B",
          "dash": "solid"
         },
         "marker": {
          "symbol": "circle"
         },
         "mode": "lines",
         "name": "Burgwallen-Nieuwe Zijde",
         "orientation": "v",
         "showlegend": true,
         "type": "scatter",
         "x": [
          "2018-01-01T00:00:00",
          "2019-01-01T00:00:00",
          "2020-01-01T00:00:00",
          "2021-01-01T00:00:00",
          "2022-01-01T00:00:00",
          "2023-01-01T00:00:00"
         ],
         "xaxis": "x",
         "y": [
          1.365896846510413,
          1.938188384472264,
          1.1769753175152489,
          0.9007855507563173,
          0.6445364302529356,
          0.7345683578754101
         ],
         "yaxis": "y"
        },
        {
         "hovertemplate": "regio=Grachtengordel-West<br>year=%{x}<br>p_jz_tn=%{y}<extra></extra>",
         "legendgroup": "Grachtengordel-West",
         "line": {
          "color": "#00cc96",
          "dash": "solid"
         },
         "marker": {
          "symbol": "circle"
         },
         "mode": "lines",
         "name": "Grachtengordel-West",
         "orientation": "v",
         "showlegend": true,
         "type": "scatter",
         "x": [
          "2018-01-01T00:00:00",
          "2019-01-01T00:00:00",
          "2020-01-01T00:00:00",
          "2021-01-01T00:00:00",
          "2022-01-01T00:00:00",
          "2023-01-01T00:00:00"
         ],
         "xaxis": "x",
         "y": [
          0.8597095038268603,
          0.8934306305955144,
          0.7934767168985484,
          1.0316699531693407,
          1.0907274710920736,
          1.760634474587346
         ],
         "yaxis": "y"
        },
        {
         "hovertemplate": "regio=Grachtengordel-Zuid<br>year=%{x}<br>p_jz_tn=%{y}<extra></extra>",
         "legendgroup": "Grachtengordel-Zuid",
         "line": {
          "color": "#ab63fa",
          "dash": "solid"
         },
         "marker": {
          "symbol": "circle"
         },
         "mode": "lines",
         "name": "Grachtengordel-Zuid",
         "orientation": "v",
         "showlegend": true,
         "type": "scatter",
         "x": [
          "2018-01-01T00:00:00",
          "2019-01-01T00:00:00",
          "2020-01-01T00:00:00",
          "2021-01-01T00:00:00",
          "2022-01-01T00:00:00",
          "2023-01-01T00:00:00"
         ],
         "xaxis": "x",
         "y": [
          1.523096775922609,
          1.523096775922609,
          0.8934306305955144,
          0.9379031370938269,
          0.6972480154902528,
          0.6860450072638451
         ],
         "yaxis": "y"
        },
        {
         "hovertemplate": "regio=Nieuwmarkt/Lastage<br>year=%{x}<br>p_jz_tn=%{y}<extra></extra>",
         "legendgroup": "Nieuwmarkt/Lastage",
         "line": {
          "color": "#FFA15A",
          "dash": "solid"
         },
         "marker": {
          "symbol": "circle"
         },
         "mode": "lines",
         "name": "Nieuwmarkt/Lastage",
         "orientation": "v",
         "showlegend": true,
         "type": "scatter",
         "x": [
          "2018-01-01T00:00:00",
          "2019-01-01T00:00:00",
          "2020-01-01T00:00:00",
          "2021-01-01T00:00:00",
          "2022-01-01T00:00:00",
          "2023-01-01T00:00:00"
         ],
         "xaxis": "x",
         "y": [
          2.662421119747157,
          2.9027270466041943,
          2.951546874549001,
          2.018050438408837,
          2.1030054324504297,
          2.117947980359213
         ],
         "yaxis": "y"
        },
        {
         "hovertemplate": "regio=Haarlemmerbuurt<br>year=%{x}<br>p_jz_tn=%{y}<extra></extra>",
         "legendgroup": "Haarlemmerbuurt",
         "line": {
          "color": "#19d3f3",
          "dash": "solid"
         },
         "marker": {
          "symbol": "circle"
         },
         "mode": "lines",
         "name": "Haarlemmerbuurt",
         "orientation": "v",
         "showlegend": true,
         "type": "scatter",
         "x": [
          "2018-01-01T00:00:00",
          "2019-01-01T00:00:00",
          "2020-01-01T00:00:00",
          "2021-01-01T00:00:00",
          "2022-01-01T00:00:00",
          "2023-01-01T00:00:00"
         ],
         "xaxis": "x",
         "y": [
          2.854157883106342,
          3.2496415970636674,
          3.0994943883474426,
          3.1851107477790666,
          3.1715646077501667,
          3.1152348821533127
         ],
         "yaxis": "y"
        },
        {
         "hovertemplate": "regio=Jordaan<br>year=%{x}<br>p_jz_tn=%{y}<extra></extra>",
         "legendgroup": "Jordaan",
         "line": {
          "color": "#FF6692",
          "dash": "solid"
         },
         "marker": {
          "symbol": "circle"
         },
         "mode": "lines",
         "name": "Jordaan",
         "orientation": "v",
         "showlegend": true,
         "type": "scatter",
         "x": [
          "2018-01-01T00:00:00",
          "2019-01-01T00:00:00",
          "2020-01-01T00:00:00",
          "2021-01-01T00:00:00",
          "2022-01-01T00:00:00",
          "2023-01-01T00:00:00"
         ],
         "xaxis": "x",
         "y": [
          1.8527403712398967,
          2.201486955308005,
          2.382629219048356,
          1.877560967794168,
          2.2608976929556484,
          2.2497966345407674
         ],
         "yaxis": "y"
        },
        {
         "hovertemplate": "regio=De Weteringschans<br>year=%{x}<br>p_jz_tn=%{y}<extra></extra>",
         "legendgroup": "De Weteringschans",
         "line": {
          "color": "#B6E880",
          "dash": "solid"
         },
         "marker": {
          "symbol": "circle"
         },
         "mode": "lines",
         "name": "De Weteringschans",
         "orientation": "v",
         "showlegend": true,
         "type": "scatter",
         "x": [
          "2018-01-01T00:00:00",
          "2019-01-01T00:00:00",
          "2020-01-01T00:00:00",
          "2021-01-01T00:00:00",
          "2022-01-01T00:00:00",
          "2023-01-01T00:00:00"
         ],
         "xaxis": "x",
         "y": [
          2.1568933408506665,
          1.938188384472264,
          2.1125808635162797,
          1.409274933571185,
          1.3678698286361854,
          1.546248940734334
         ],
         "yaxis": "y"
        },
        {
         "hovertemplate": "regio=Weesperbuurt/Plantage<br>year=%{x}<br>p_jz_tn=%{y}<extra></extra>",
         "legendgroup": "Weesperbuurt/Plantage",
         "line": {
          "color": "#FF97FF",
          "dash": "solid"
         },
         "marker": {
          "symbol": "circle"
         },
         "mode": "lines",
         "name": "Weesperbuurt/Plantage",
         "orientation": "v",
         "showlegend": true,
         "type": "scatter",
         "x": [
          "2018-01-01T00:00:00",
          "2019-01-01T00:00:00",
          "2020-01-01T00:00:00",
          "2021-01-01T00:00:00",
          "2022-01-01T00:00:00",
          "2023-01-01T00:00:00"
         ],
         "xaxis": "x",
         "y": [
          1.214065631058735,
          1.103864847881035,
          0.9969425893725061,
          0.8204645304007977,
          0.9781393645191973,
          1.17771380815188
         ],
         "yaxis": "y"
        },
        {
         "hovertemplate": "regio=Oostelijke Eilanden/Kadijken<br>year=%{x}<br>p_jz_tn=%{y}<extra></extra>",
         "legendgroup": "Oostelijke Eilanden/Kadijken",
         "line": {
          "color": "#FECB52",
          "dash": "solid"
         },
         "marker": {
          "symbol": "circle"
         },
         "mode": "lines",
         "name": "Oostelijke Eilanden/Kadijken",
         "orientation": "v",
         "showlegend": true,
         "type": "scatter",
         "x": [
          "2018-01-01T00:00:00",
          "2019-01-01T00:00:00",
          "2020-01-01T00:00:00",
          "2021-01-01T00:00:00",
          "2022-01-01T00:00:00",
          "2023-01-01T00:00:00"
         ],
         "xaxis": "x",
         "y": [
          3.453191042873204,
          3.924764525333978,
          3.81837759658714,
          2.8211316004541103,
          3.0910767602262594,
          3.100755693690069
         ],
         "yaxis": "y"
        },
        {
         "hovertemplate": "regio=Westelijk Havengebied<br>year=%{x}<br>p_jz_tn=%{y}<extra></extra>",
         "legendgroup": "Westelijk Havengebied",
         "line": {
          "color": "#636efa",
          "dash": "solid"
         },
         "marker": {
          "symbol": "circle"
         },
         "mode": "lines",
         "name": "Westelijk Havengebied",
         "orientation": "v",
         "showlegend": true,
         "type": "scatter",
         "x": [
          "2018-01-01T00:00:00",
          "2019-01-01T00:00:00",
          "2020-01-01T00:00:00",
          "2021-01-01T00:00:00",
          "2022-01-01T00:00:00",
          "2023-01-01T00:00:00"
         ],
         "xaxis": "x",
         "y": [
          2.8100403030383623,
          2.8100403030383623,
          2.8100403030383623,
          2.8100403030383623,
          2.8100403030383623,
          2.8386218903463543
         ],
         "yaxis": "y"
        },
        {
         "hovertemplate": "regio=Bedrijventerrein Sloterdijk<br>year=%{x}<br>p_jz_tn=%{y}<extra></extra>",
         "legendgroup": "Bedrijventerrein Sloterdijk",
         "line": {
          "color": "#EF553B",
          "dash": "solid"
         },
         "marker": {
          "symbol": "circle"
         },
         "mode": "lines",
         "name": "Bedrijventerrein Sloterdijk",
         "orientation": "v",
         "showlegend": true,
         "type": "scatter",
         "x": [
          "2018-01-01T00:00:00",
          "2019-01-01T00:00:00",
          "2020-01-01T00:00:00",
          "2021-01-01T00:00:00",
          "2022-01-01T00:00:00",
          "2023-01-01T00:00:00"
         ],
         "xaxis": "x",
         "y": [
          10.887101619911041,
          5.036270483993876,
          1.1769753175152489,
          1.8736534894708043,
          2.923188887533224,
          3.0522208040773617
         ],
         "yaxis": "y"
        },
        {
         "hovertemplate": "regio=Houthavens<br>year=%{x}<br>p_jz_tn=%{y}<extra></extra>",
         "legendgroup": "Houthavens",
         "line": {
          "color": "#00cc96",
          "dash": "solid"
         },
         "marker": {
          "symbol": "circle"
         },
         "mode": "lines",
         "name": "Houthavens",
         "orientation": "v",
         "showlegend": true,
         "type": "scatter",
         "x": [
          "2018-01-01T00:00:00",
          "2019-01-01T00:00:00",
          "2020-01-01T00:00:00",
          "2021-01-01T00:00:00",
          "2022-01-01T00:00:00",
          "2023-01-01T00:00:00"
         ],
         "xaxis": "x",
         "y": [
          3.5563776806042604,
          2.0685517869047922,
          2.3369327220060963,
          1.9475471921765155,
          2.206459058868512,
          2.471736625629548
         ],
         "yaxis": "y"
        },
        {
         "hovertemplate": "regio=Spaarndammer- en Zeeheldenbuurt<br>year=%{x}<br>p_jz_tn=%{y}<extra></extra>",
         "legendgroup": "Spaarndammer- en Zeeheldenbuurt",
         "line": {
          "color": "#ab63fa",
          "dash": "solid"
         },
         "marker": {
          "symbol": "circle"
         },
         "mode": "lines",
         "name": "Spaarndammer- en Zeeheldenbuurt",
         "orientation": "v",
         "showlegend": true,
         "type": "scatter",
         "x": [
          "2018-01-01T00:00:00",
          "2019-01-01T00:00:00",
          "2020-01-01T00:00:00",
          "2021-01-01T00:00:00",
          "2022-01-01T00:00:00",
          "2023-01-01T00:00:00"
         ],
         "xaxis": "x",
         "y": [
          4.864190974123693,
          5.036270483993876,
          5.268542265641349,
          4.77023782571495,
          5.770319054519599,
          5.061626251032562
         ],
         "yaxis": "y"
        },
        {
         "hovertemplate": "regio=Staatsliedenbuurt<br>year=%{x}<br>p_jz_tn=%{y}<extra></extra>",
         "legendgroup": "Staatsliedenbuurt",
         "line": {
          "color": "#FFA15A",
          "dash": "solid"
         },
         "marker": {
          "symbol": "circle"
         },
         "mode": "lines",
         "name": "Staatsliedenbuurt",
         "orientation": "v",
         "showlegend": true,
         "type": "scatter",
         "x": [
          "2018-01-01T00:00:00",
          "2019-01-01T00:00:00",
          "2020-01-01T00:00:00",
          "2021-01-01T00:00:00",
          "2022-01-01T00:00:00",
          "2023-01-01T00:00:00"
         ],
         "xaxis": "x",
         "y": [
          2.1125808635162797,
          2.662421119747157,
          3.0006157570697254,
          2.924372590056746,
          2.6114540539471442,
          2.42205085516534
         ],
         "yaxis": "y"
        },
        {
         "hovertemplate": "regio=Centrale Markt<br>year=%{x}<br>p_jz_tn=%{y}<extra></extra>",
         "legendgroup": "Centrale Markt",
         "line": {
          "color": "#19d3f3",
          "dash": "solid"
         },
         "marker": {
          "symbol": "circle"
         },
         "mode": "lines",
         "name": "Centrale Markt",
         "orientation": "v",
         "showlegend": true,
         "type": "scatter",
         "x": [
          "2018-01-01T00:00:00",
          "2019-01-01T00:00:00",
          "2020-01-01T00:00:00",
          "2021-01-01T00:00:00",
          "2022-01-01T00:00:00",
          "2023-01-01T00:00:00"
         ],
         "xaxis": "x",
         "y": [
          3.0006157570697254,
          2.201486955308005,
          1.8953166104362853,
          2.598452888449782,
          3.7551747355110305,
          3.1595388563577234
         ],
         "yaxis": "y"
        },
        {
         "hovertemplate": "regio=Frederik Hendrikbuurt<br>year=%{x}<br>p_jz_tn=%{y}<extra></extra>",
         "legendgroup": "Frederik Hendrikbuurt",
         "line": {
          "color": "#FF6692",
          "dash": "solid"
         },
         "marker": {
          "symbol": "circle"
         },
         "mode": "lines",
         "name": "Frederik Hendrikbuurt",
         "orientation": "v",
         "showlegend": true,
         "type": "scatter",
         "x": [
          "2018-01-01T00:00:00",
          "2019-01-01T00:00:00",
          "2020-01-01T00:00:00",
          "2021-01-01T00:00:00",
          "2022-01-01T00:00:00",
          "2023-01-01T00:00:00"
         ],
         "xaxis": "x",
         "y": [
          2.3369327220060963,
          3.453191042873204,
          2.70997092470819,
          2.35172344213474,
          2.7057410550593035,
          2.3359210116749525
         ],
         "yaxis": "y"
        },
        {
         "hovertemplate": "regio=Da Costabuurt<br>year=%{x}<br>p_jz_tn=%{y}<extra></extra>",
         "legendgroup": "Da Costabuurt",
         "line": {
          "color": "#B6E880",
          "dash": "solid"
         },
         "marker": {
          "symbol": "circle"
         },
         "mode": "lines",
         "name": "Da Costabuurt",
         "orientation": "v",
         "showlegend": true,
         "type": "scatter",
         "x": [
          "2018-01-01T00:00:00",
          "2019-01-01T00:00:00",
          "2020-01-01T00:00:00",
          "2021-01-01T00:00:00",
          "2022-01-01T00:00:00",
          "2023-01-01T00:00:00"
         ],
         "xaxis": "x",
         "y": [
          2.854157883106342,
          3.199350618146515,
          2.428596248136493,
          1.9587066477765358,
          1.7044122742219208,
          1.4841498012308079
         ],
         "yaxis": "y"
        },
        {
         "hovertemplate": "regio=Kinkerbuurt<br>year=%{x}<br>p_jz_tn=%{y}<extra></extra>",
         "legendgroup": "Kinkerbuurt",
         "line": {
          "color": "#FF97FF",
          "dash": "solid"
         },
         "marker": {
          "symbol": "circle"
         },
         "mode": "lines",
         "name": "Kinkerbuurt",
         "orientation": "v",
         "showlegend": true,
         "type": "scatter",
         "x": [
          "2018-01-01T00:00:00",
          "2019-01-01T00:00:00",
          "2020-01-01T00:00:00",
          "2021-01-01T00:00:00",
          "2022-01-01T00:00:00",
          "2023-01-01T00:00:00"
         ],
         "xaxis": "x",
         "y": [
          3.6083192820787215,
          3.453191042873204,
          3.199350618146515,
          3.627687255725455,
          3.985958318062044,
          3.86026962057898
         ],
         "yaxis": "y"
        },
        {
         "hovertemplate": "regio=Van Lennepbuurt<br>year=%{x}<br>p_jz_tn=%{y}<extra></extra>",
         "legendgroup": "Van Lennepbuurt",
         "line": {
          "color": "#FECB52",
          "dash": "solid"
         },
         "marker": {
          "symbol": "circle"
         },
         "mode": "lines",
         "name": "Van Lennepbuurt",
         "orientation": "v",
         "showlegend": true,
         "type": "scatter",
         "x": [
          "2018-01-01T00:00:00",
          "2019-01-01T00:00:00",
          "2020-01-01T00:00:00",
          "2021-01-01T00:00:00",
          "2022-01-01T00:00:00",
          "2023-01-01T00:00:00"
         ],
         "xaxis": "x",
         "y": [
          3.5563776806042604,
          4.1402062889749836,
          3.6083192820787215,
          3.0917341344320985,
          2.5705109854863517,
          2.400358630162255
         ],
         "yaxis": "y"
        },
        {
         "hovertemplate": "regio=Helmersbuurt<br>year=%{x}<br>p_jz_tn=%{y}<extra></extra>",
         "legendgroup": "Helmersbuurt",
         "line": {
          "color": "#636efa",
          "dash": "solid"
         },
         "marker": {
          "symbol": "circle"
         },
         "mode": "lines",
         "name": "Helmersbuurt",
         "orientation": "v",
         "showlegend": true,
         "type": "scatter",
         "x": [
          "2018-01-01T00:00:00",
          "2019-01-01T00:00:00",
          "2020-01-01T00:00:00",
          "2021-01-01T00:00:00",
          "2022-01-01T00:00:00",
          "2023-01-01T00:00:00"
         ],
         "xaxis": "x",
         "y": [
          2.201486955308005,
          2.291508788466975,
          2.5213339839890785,
          2.2009347118604947,
          2.055061751132391,
          1.8231692571993943
         ],
         "yaxis": "y"
        },
        {
         "hovertemplate": "regio=Overtoomse Sluis<br>year=%{x}<br>p_jz_tn=%{y}<extra></extra>",
         "legendgroup": "Overtoomse Sluis",
         "line": {
          "color": "#EF553B",
          "dash": "solid"
         },
         "marker": {
          "symbol": "circle"
         },
         "mode": "lines",
         "name": "Overtoomse Sluis",
         "orientation": "v",
         "showlegend": true,
         "type": "scatter",
         "x": [
          "2018-01-01T00:00:00",
          "2019-01-01T00:00:00",
          "2020-01-01T00:00:00",
          "2021-01-01T00:00:00",
          "2022-01-01T00:00:00",
          "2023-01-01T00:00:00"
         ],
         "xaxis": "x",
         "y": [
          1.5632090995344055,
          1.603639791750274,
          2.0685517869047922,
          1.6242990039057572,
          2.3677629379567655,
          2.9330646539833234
         ],
         "yaxis": "y"
        },
        {
         "hovertemplate": "regio=Vondelbuurt<br>year=%{x}<br>p_jz_tn=%{y}<extra></extra>",
         "legendgroup": "Vondelbuurt",
         "line": {
          "color": "#00cc96",
          "dash": "solid"
         },
         "marker": {
          "symbol": "circle"
         },
         "mode": "lines",
         "name": "Vondelbuurt",
         "orientation": "v",
         "showlegend": true,
         "type": "scatter",
         "x": [
          "2018-01-01T00:00:00",
          "2019-01-01T00:00:00",
          "2020-01-01T00:00:00",
          "2021-01-01T00:00:00",
          "2022-01-01T00:00:00",
          "2023-01-01T00:00:00"
         ],
         "xaxis": "x",
         "y": [
          1.938188384472264,
          2.5213339839890785,
          2.6151304883468685,
          1.8315638888734178,
          2.1110578886237494,
          1.9836117384163674
         ],
         "yaxis": "y"
        },
        {
         "hovertemplate": "regio=Zuidas<br>year=%{x}<br>p_jz_tn=%{y}<extra></extra>",
         "legendgroup": "Zuidas",
         "line": {
          "color": "#ab63fa",
          "dash": "solid"
         },
         "marker": {
          "symbol": "circle"
         },
         "mode": "lines",
         "name": "Zuidas",
         "orientation": "v",
         "showlegend": true,
         "type": "scatter",
         "x": [
          "2018-01-01T00:00:00",
          "2019-01-01T00:00:00",
          "2020-01-01T00:00:00",
          "2021-01-01T00:00:00",
          "2022-01-01T00:00:00",
          "2023-01-01T00:00:00"
         ],
         "xaxis": "x",
         "y": [
          0.8934306305955144,
          1.103864847881035,
          1.0322112276847264,
          0.7395448055997369,
          1.0136360898310888,
          1.3413739603526285
         ],
         "yaxis": "y"
        },
        {
         "hovertemplate": "regio=Oude Pijp<br>year=%{x}<br>p_jz_tn=%{y}<extra></extra>",
         "legendgroup": "Oude Pijp",
         "line": {
          "color": "#FFA15A",
          "dash": "solid"
         },
         "marker": {
          "symbol": "circle"
         },
         "mode": "lines",
         "name": "Oude Pijp",
         "orientation": "v",
         "showlegend": true,
         "type": "scatter",
         "x": [
          "2018-01-01T00:00:00",
          "2019-01-01T00:00:00",
          "2020-01-01T00:00:00",
          "2021-01-01T00:00:00",
          "2022-01-01T00:00:00",
          "2023-01-01T00:00:00"
         ],
         "xaxis": "x",
         "y": [
          1.7268112453645974,
          2.1568933408506665,
          2.474831819564956,
          1.5836617777841226,
          1.9335374949385136,
          2.1088420082481534
         ],
         "yaxis": "y"
        },
        {
         "hovertemplate": "regio=Nieuwe Pijp<br>year=%{x}<br>p_jz_tn=%{y}<extra></extra>",
         "legendgroup": "Nieuwe Pijp",
         "line": {
          "color": "#19d3f3",
          "dash": "solid"
         },
         "marker": {
          "symbol": "circle"
         },
         "mode": "lines",
         "name": "Nieuwe Pijp",
         "orientation": "v",
         "showlegend": true,
         "type": "scatter",
         "x": [
          "2018-01-01T00:00:00",
          "2019-01-01T00:00:00",
          "2020-01-01T00:00:00",
          "2021-01-01T00:00:00",
          "2022-01-01T00:00:00",
          "2023-01-01T00:00:00"
         ],
         "xaxis": "x",
         "y": [
          2.382629219048356,
          2.662421119747157,
          3.199350618146515,
          2.318415517655125,
          1.7080856133687494,
          1.8223166195317713
         ],
         "yaxis": "y"
        },
        {
         "hovertemplate": "regio=Zuid Pijp<br>year=%{x}<br>p_jz_tn=%{y}<extra></extra>",
         "legendgroup": "Zuid Pijp",
         "line": {
          "color": "#FF6692",
          "dash": "solid"
         },
         "marker": {
          "symbol": "circle"
         },
         "mode": "lines",
         "name": "Zuid Pijp",
         "orientation": "v",
         "showlegend": true,
         "type": "scatter",
         "x": [
          "2018-01-01T00:00:00",
          "2019-01-01T00:00:00",
          "2020-01-01T00:00:00",
          "2021-01-01T00:00:00",
          "2022-01-01T00:00:00",
          "2023-01-01T00:00:00"
         ],
         "xaxis": "x",
         "y": [
          3.453191042873204,
          3.871458924173895,
          4.637630949546863,
          3.7119999971613193,
          4.130793303895352,
          4.5991903301170005
         ],
         "yaxis": "y"
        },
        {
         "hovertemplate": "regio=Weesperzijde<br>year=%{x}<br>p_jz_tn=%{y}<extra></extra>",
         "legendgroup": "Weesperzijde",
         "line": {
          "color": "#B6E880",
          "dash": "solid"
         },
         "marker": {
          "symbol": "circle"
         },
         "mode": "lines",
         "name": "Weesperzijde",
         "orientation": "v",
         "showlegend": true,
         "type": "scatter",
         "x": [
          "2018-01-01T00:00:00",
          "2019-01-01T00:00:00",
          "2020-01-01T00:00:00",
          "2021-01-01T00:00:00",
          "2022-01-01T00:00:00",
          "2023-01-01T00:00:00"
         ],
         "xaxis": "x",
         "y": [
          2.201486955308005,
          1.938188384472264,
          1.8953166104362853,
          1.054371096037062,
          1.231557998662463,
          1.3719467409146537
         ],
         "yaxis": "y"
        },
        {
         "hovertemplate": "regio=Oosterparkbuurt<br>year=%{x}<br>p_jz_tn=%{y}<extra></extra>",
         "legendgroup": "Oosterparkbuurt",
         "line": {
          "color": "#FF97FF",
          "dash": "solid"
         },
         "marker": {
          "symbol": "circle"
         },
         "mode": "lines",
         "name": "Oosterparkbuurt",
         "orientation": "v",
         "showlegend": true,
         "type": "scatter",
         "x": [
          "2018-01-01T00:00:00",
          "2019-01-01T00:00:00",
          "2020-01-01T00:00:00",
          "2021-01-01T00:00:00",
          "2022-01-01T00:00:00",
          "2023-01-01T00:00:00"
         ],
         "xaxis": "x",
         "y": [
          2.9027270466041943,
          3.401948657653443,
          2.757778136930613,
          2.631990135044894,
          2.9868169845799852,
          3.1495704723946636
         ],
         "yaxis": "y"
        },
        {
         "hovertemplate": "regio=Dapperbuurt<br>year=%{x}<br>p_jz_tn=%{y}<extra></extra>",
         "legendgroup": "Dapperbuurt",
         "line": {
          "color": "#FECB52",
          "dash": "solid"
         },
         "marker": {
          "symbol": "circle"
         },
         "mode": "lines",
         "name": "Dapperbuurt",
         "orientation": "v",
         "showlegend": true,
         "type": "scatter",
         "x": [
          "2018-01-01T00:00:00",
          "2019-01-01T00:00:00",
          "2020-01-01T00:00:00",
          "2021-01-01T00:00:00",
          "2022-01-01T00:00:00",
          "2023-01-01T00:00:00"
         ],
         "xaxis": "x",
         "y": [
          3.300172543463621,
          3.2496415970636674,
          3.401948657653443,
          2.7909617793081756,
          3.104955723433854,
          3.0222988911427975
         ],
         "yaxis": "y"
        },
        {
         "hovertemplate": "regio=Transvaalbuurt<br>year=%{x}<br>p_jz_tn=%{y}<extra></extra>",
         "legendgroup": "Transvaalbuurt",
         "line": {
          "color": "#636efa",
          "dash": "solid"
         },
         "marker": {
          "symbol": "circle"
         },
         "mode": "lines",
         "name": "Transvaalbuurt",
         "orientation": "v",
         "showlegend": true,
         "type": "scatter",
         "x": [
          "2018-01-01T00:00:00",
          "2019-01-01T00:00:00",
          "2020-01-01T00:00:00",
          "2021-01-01T00:00:00",
          "2022-01-01T00:00:00",
          "2023-01-01T00:00:00"
         ],
         "xaxis": "x",
         "y": [
          3.149301056919108,
          3.350942031223266,
          3.401948657653443,
          2.4174279914150145,
          3.005818149275626,
          3.552552204137581
         ],
         "yaxis": "y"
        },
        {
         "hovertemplate": "regio=Indische Buurt West<br>year=%{x}<br>p_jz_tn=%{y}<extra></extra>",
         "legendgroup": "Indische Buurt West",
         "line": {
          "color": "#EF553B",
          "dash": "solid"
         },
         "marker": {
          "symbol": "circle"
         },
         "mode": "lines",
         "name": "Indische Buurt West",
         "orientation": "v",
         "showlegend": true,
         "type": "scatter",
         "x": [
          "2018-01-01T00:00:00",
          "2019-01-01T00:00:00",
          "2020-01-01T00:00:00",
          "2021-01-01T00:00:00",
          "2022-01-01T00:00:00",
          "2023-01-01T00:00:00"
         ],
         "xaxis": "x",
         "y": [
          2.8058410233467925,
          2.9027270466041943,
          3.0499321128584294,
          2.3240931575320354,
          2.482737834001935,
          2.6435724108041603
         ],
         "yaxis": "y"
        },
        {
         "hovertemplate": "regio=Indische Buurt Oost<br>year=%{x}<br>p_jz_tn=%{y}<extra></extra>",
         "legendgroup": "Indische Buurt Oost",
         "line": {
          "color": "#00cc96",
          "dash": "solid"
         },
         "marker": {
          "symbol": "circle"
         },
         "mode": "lines",
         "name": "Indische Buurt Oost",
         "orientation": "v",
         "showlegend": true,
         "type": "scatter",
         "x": [
          "2018-01-01T00:00:00",
          "2019-01-01T00:00:00",
          "2020-01-01T00:00:00",
          "2021-01-01T00:00:00",
          "2022-01-01T00:00:00",
          "2023-01-01T00:00:00"
         ],
         "xaxis": "x",
         "y": [
          3.199350618146515,
          3.0994943883474426,
          3.924764525333978,
          2.9318882567718596,
          2.9059206848807864,
          2.8834453597452328
         ],
         "yaxis": "y"
        },
        {
         "hovertemplate": "regio=Oostelijk Havengebied<br>year=%{x}<br>p_jz_tn=%{y}<extra></extra>",
         "legendgroup": "Oostelijk Havengebied",
         "line": {
          "color": "#ab63fa",
          "dash": "solid"
         },
         "marker": {
          "symbol": "circle"
         },
         "mode": "lines",
         "name": "Oostelijk Havengebied",
         "orientation": "v",
         "showlegend": true,
         "type": "scatter",
         "x": [
          "2018-01-01T00:00:00",
          "2019-01-01T00:00:00",
          "2020-01-01T00:00:00",
          "2021-01-01T00:00:00",
          "2022-01-01T00:00:00",
          "2023-01-01T00:00:00"
         ],
         "xaxis": "x",
         "y": [
          3.0006157570697254,
          3.5046678292070803,
          3.660491339169286,
          3.3195395478822824,
          3.25466734454535,
          3.269747689831884
         ],
         "yaxis": "y"
        },
        {
         "hovertemplate": "regio=Zeeburgereiland/Nieuwe Diep<br>year=%{x}<br>p_jz_tn=%{y}<extra></extra>",
         "legendgroup": "Zeeburgereiland/Nieuwe Diep",
         "line": {
          "color": "#FFA15A",
          "dash": "solid"
         },
         "marker": {
          "symbol": "circle"
         },
         "mode": "lines",
         "name": "Zeeburgereiland/Nieuwe Diep",
         "orientation": "v",
         "showlegend": true,
         "type": "scatter",
         "x": [
          "2018-01-01T00:00:00",
          "2019-01-01T00:00:00",
          "2020-01-01T00:00:00",
          "2021-01-01T00:00:00",
          "2022-01-01T00:00:00",
          "2023-01-01T00:00:00"
         ],
         "xaxis": "x",
         "y": [
          0.7934767168985484,
          1.7684849841290307,
          2.291508788466975,
          2.0576187543713194,
          2.002877921147097,
          1.9563066872915325
         ],
         "yaxis": "y"
        },
        {
         "hovertemplate": "regio=IJburg West<br>year=%{x}<br>p_jz_tn=%{y}<extra></extra>",
         "legendgroup": "IJburg West",
         "line": {
          "color": "#19d3f3",
          "dash": "solid"
         },
         "marker": {
          "symbol": "circle"
         },
         "mode": "lines",
         "name": "IJburg West",
         "orientation": "v",
         "showlegend": true,
         "type": "scatter",
         "x": [
          "2018-01-01T00:00:00",
          "2019-01-01T00:00:00",
          "2020-01-01T00:00:00",
          "2021-01-01T00:00:00",
          "2022-01-01T00:00:00",
          "2023-01-01T00:00:00"
         ],
         "xaxis": "x",
         "y": [
          3.2496415970636674,
          3.660491339169286,
          3.5563776806042604,
          3.6992006646867117,
          4.24312000642157,
          4.320696052040605
         ],
         "yaxis": "y"
        },
        {
         "hovertemplate": "regio=Sloterdijk<br>year=%{x}<br>p_jz_tn=%{y}<extra></extra>",
         "legendgroup": "Sloterdijk",
         "line": {
          "color": "#FF6692",
          "dash": "solid"
         },
         "marker": {
          "symbol": "circle"
         },
         "mode": "lines",
         "name": "Sloterdijk",
         "orientation": "v",
         "showlegend": true,
         "type": "scatter",
         "x": [
          "2018-01-01T00:00:00",
          "2019-01-01T00:00:00",
          "2020-01-01T00:00:00",
          "2021-01-01T00:00:00",
          "2022-01-01T00:00:00",
          "2023-01-01T00:00:00"
         ],
         "xaxis": "x",
         "y": [
          2.8100403030383623,
          6.1675087696951465,
          6.1675087696951465,
          6.1675087696951465,
          6.1675087696951465,
          7.445249390095814
         ],
         "yaxis": "y"
        },
        {
         "hovertemplate": "regio=Landlust<br>year=%{x}<br>p_jz_tn=%{y}<extra></extra>",
         "legendgroup": "Landlust",
         "line": {
          "color": "#B6E880",
          "dash": "solid"
         },
         "marker": {
          "symbol": "circle"
         },
         "mode": "lines",
         "name": "Landlust",
         "orientation": "v",
         "showlegend": true,
         "type": "scatter",
         "x": [
          "2018-01-01T00:00:00",
          "2019-01-01T00:00:00",
          "2020-01-01T00:00:00",
          "2021-01-01T00:00:00",
          "2022-01-01T00:00:00",
          "2023-01-01T00:00:00"
         ],
         "xaxis": "x",
         "y": [
          3.149301056919108,
          2.757778136930613,
          3.0994943883474426,
          2.4821317934932825,
          2.6285606863220123,
          2.672639960855655
         ],
         "yaxis": "y"
        },
        {
         "hovertemplate": "regio=Erasmuspark<br>year=%{x}<br>p_jz_tn=%{y}<extra></extra>",
         "legendgroup": "Erasmuspark",
         "line": {
          "color": "#FF97FF",
          "dash": "solid"
         },
         "marker": {
          "symbol": "circle"
         },
         "mode": "lines",
         "name": "Erasmuspark",
         "orientation": "v",
         "showlegend": true,
         "type": "scatter",
         "x": [
          "2018-01-01T00:00:00",
          "2019-01-01T00:00:00",
          "2020-01-01T00:00:00",
          "2021-01-01T00:00:00",
          "2022-01-01T00:00:00",
          "2023-01-01T00:00:00"
         ],
         "xaxis": "x",
         "y": [
          3.199350618146515,
          2.6151304883468685,
          2.3369327220060963,
          2.1707987501042796,
          2.3469056115729128,
          2.2506303441913964
         ],
         "yaxis": "y"
        },
        {
         "hovertemplate": "regio=De Kolenkit<br>year=%{x}<br>p_jz_tn=%{y}<extra></extra>",
         "legendgroup": "De Kolenkit",
         "line": {
          "color": "#FECB52",
          "dash": "solid"
         },
         "marker": {
          "symbol": "circle"
         },
         "mode": "lines",
         "name": "De Kolenkit",
         "orientation": "v",
         "showlegend": true,
         "type": "scatter",
         "x": [
          "2018-01-01T00:00:00",
          "2019-01-01T00:00:00",
          "2020-01-01T00:00:00",
          "2021-01-01T00:00:00",
          "2022-01-01T00:00:00",
          "2023-01-01T00:00:00"
         ],
         "xaxis": "x",
         "y": [
          2.1125808635162797,
          2.3369327220060963,
          2.568100831097895,
          2.0394411239124155,
          2.058604226396311,
          2.5226912383637257
         ],
         "yaxis": "y"
        },
        {
         "hovertemplate": "regio=Geuzenbuurt<br>year=%{x}<br>p_jz_tn=%{y}<extra></extra>",
         "legendgroup": "Geuzenbuurt",
         "line": {
          "color": "#636efa",
          "dash": "solid"
         },
         "marker": {
          "symbol": "circle"
         },
         "mode": "lines",
         "name": "Geuzenbuurt",
         "orientation": "v",
         "showlegend": true,
         "type": "scatter",
         "x": [
          "2018-01-01T00:00:00",
          "2019-01-01T00:00:00",
          "2020-01-01T00:00:00",
          "2021-01-01T00:00:00",
          "2022-01-01T00:00:00",
          "2023-01-01T00:00:00"
         ],
         "xaxis": "x",
         "y": [
          1.7684849841290307,
          1.8953166104362853,
          2.5213339839890785,
          2.3677629379567655,
          2.4152279130125556,
          2.3514510800556754
         ],
         "yaxis": "y"
        },
        {
         "hovertemplate": "regio=Van Galenbuurt<br>year=%{x}<br>p_jz_tn=%{y}<extra></extra>",
         "legendgroup": "Van Galenbuurt",
         "line": {
          "color": "#EF553B",
          "dash": "solid"
         },
         "marker": {
          "symbol": "circle"
         },
         "mode": "lines",
         "name": "Van Galenbuurt",
         "orientation": "v",
         "showlegend": true,
         "type": "scatter",
         "x": [
          "2018-01-01T00:00:00",
          "2019-01-01T00:00:00",
          "2020-01-01T00:00:00",
          "2021-01-01T00:00:00",
          "2022-01-01T00:00:00",
          "2023-01-01T00:00:00"
         ],
         "xaxis": "x",
         "y": [
          4.032043839047,
          4.414417780309755,
          3.765521741871318,
          2.4989509541061596,
          3.071258152437855,
          2.731947793982474
         ],
         "yaxis": "y"
        },
        {
         "hovertemplate": "regio=Hoofdweg e.o.<br>year=%{x}<br>p_jz_tn=%{y}<extra></extra>",
         "legendgroup": "Hoofdweg e.o.",
         "line": {
          "color": "#00cc96",
          "dash": "solid"
         },
         "marker": {
          "symbol": "circle"
         },
         "mode": "lines",
         "name": "Hoofdweg e.o.",
         "orientation": "v",
         "showlegend": true,
         "type": "scatter",
         "x": [
          "2018-01-01T00:00:00",
          "2019-01-01T00:00:00",
          "2020-01-01T00:00:00",
          "2021-01-01T00:00:00",
          "2022-01-01T00:00:00",
          "2023-01-01T00:00:00"
         ],
         "xaxis": "x",
         "y": [
          2.70997092470819,
          2.70997092470819,
          3.0994943883474426,
          2.525583807772188,
          2.397024986452016,
          2.4343414507604315
         ],
         "yaxis": "y"
        },
        {
         "hovertemplate": "regio=Westindische Buurt<br>year=%{x}<br>p_jz_tn=%{y}<extra></extra>",
         "legendgroup": "Westindische Buurt",
         "line": {
          "color": "#ab63fa",
          "dash": "solid"
         },
         "marker": {
          "symbol": "circle"
         },
         "mode": "lines",
         "name": "Westindische Buurt",
         "orientation": "v",
         "showlegend": true,
         "type": "scatter",
         "x": [
          "2018-01-01T00:00:00",
          "2019-01-01T00:00:00",
          "2020-01-01T00:00:00",
          "2021-01-01T00:00:00",
          "2022-01-01T00:00:00",
          "2023-01-01T00:00:00"
         ],
         "xaxis": "x",
         "y": [
          2.951546874549001,
          3.0006157570697254,
          2.951546874549001,
          2.447611045258419,
          2.695647763706294,
          2.711043083944531
         ],
         "yaxis": "y"
        },
        {
         "hovertemplate": "regio=Hoofddorppleinbuurt<br>year=%{x}<br>p_jz_tn=%{y}<extra></extra>",
         "legendgroup": "Hoofddorppleinbuurt",
         "line": {
          "color": "#FFA15A",
          "dash": "solid"
         },
         "marker": {
          "symbol": "circle"
         },
         "mode": "lines",
         "name": "Hoofddorppleinbuurt",
         "orientation": "v",
         "showlegend": true,
         "type": "scatter",
         "x": [
          "2018-01-01T00:00:00",
          "2019-01-01T00:00:00",
          "2020-01-01T00:00:00",
          "2021-01-01T00:00:00",
          "2022-01-01T00:00:00",
          "2023-01-01T00:00:00"
         ],
         "xaxis": "x",
         "y": [
          1.8527403712398967,
          2.2463594930983692,
          2.0685517869047922,
          1.7218408642392609,
          1.9332645017376373,
          2.080643367838975
         ],
         "yaxis": "y"
        },
        {
         "hovertemplate": "regio=Schinkelbuurt<br>year=%{x}<br>p_jz_tn=%{y}<extra></extra>",
         "legendgroup": "Schinkelbuurt",
         "line": {
          "color": "#19d3f3",
          "dash": "solid"
         },
         "marker": {
          "symbol": "circle"
         },
         "mode": "lines",
         "name": "Schinkelbuurt",
         "orientation": "v",
         "showlegend": true,
         "type": "scatter",
         "x": [
          "2018-01-01T00:00:00",
          "2019-01-01T00:00:00",
          "2020-01-01T00:00:00",
          "2021-01-01T00:00:00",
          "2022-01-01T00:00:00",
          "2023-01-01T00:00:00"
         ],
         "xaxis": "x",
         "y": [
          3.765521741871318,
          2.951546874549001,
          3.401948657653443,
          2.558158566961414,
          3.1744591308760643,
          3.261608227430933
         ],
         "yaxis": "y"
        },
        {
         "hovertemplate": "regio=Willemspark<br>year=%{x}<br>p_jz_tn=%{y}<extra></extra>",
         "legendgroup": "Willemspark",
         "line": {
          "color": "#FF6692",
          "dash": "solid"
         },
         "marker": {
          "symbol": "circle"
         },
         "mode": "lines",
         "name": "Willemspark",
         "orientation": "v",
         "showlegend": true,
         "type": "scatter",
         "x": [
          "2018-01-01T00:00:00",
          "2019-01-01T00:00:00",
          "2020-01-01T00:00:00",
          "2021-01-01T00:00:00",
          "2022-01-01T00:00:00",
          "2023-01-01T00:00:00"
         ],
         "xaxis": "x",
         "y": [
          2.0685517869047922,
          2.1568933408506665,
          2.474831819564956,
          2.0102912063930423,
          2.4262623327354573,
          2.229878395682188
         ],
         "yaxis": "y"
        },
        {
         "hovertemplate": "regio=Museumkwartier<br>year=%{x}<br>p_jz_tn=%{y}<extra></extra>",
         "legendgroup": "Museumkwartier",
         "line": {
          "color": "#B6E880",
          "dash": "solid"
         },
         "marker": {
          "symbol": "circle"
         },
         "mode": "lines",
         "name": "Museumkwartier",
         "orientation": "v",
         "showlegend": true,
         "type": "scatter",
         "x": [
          "2018-01-01T00:00:00",
          "2019-01-01T00:00:00",
          "2020-01-01T00:00:00",
          "2021-01-01T00:00:00",
          "2022-01-01T00:00:00",
          "2023-01-01T00:00:00"
         ],
         "xaxis": "x",
         "y": [
          1.9813531506038313,
          2.3369327220060963,
          2.1568933408506665,
          2.101095843682167,
          2.081408875771716,
          1.9269405821840755
         ],
         "yaxis": "y"
        },
        {
         "hovertemplate": "regio=Stadionbuurt<br>year=%{x}<br>p_jz_tn=%{y}<extra></extra>",
         "legendgroup": "Stadionbuurt",
         "line": {
          "color": "#FF97FF",
          "dash": "solid"
         },
         "marker": {
          "symbol": "circle"
         },
         "mode": "lines",
         "name": "Stadionbuurt",
         "orientation": "v",
         "showlegend": true,
         "type": "scatter",
         "x": [
          "2018-01-01T00:00:00",
          "2019-01-01T00:00:00",
          "2020-01-01T00:00:00",
          "2021-01-01T00:00:00",
          "2022-01-01T00:00:00",
          "2023-01-01T00:00:00"
         ],
         "xaxis": "x",
         "y": [
          3.0994943883474426,
          3.5046678292070803,
          3.0006157570697254,
          2.7966665555296486,
          3.170721213495009,
          3.3014581858017733
         ],
         "yaxis": "y"
        },
        {
         "hovertemplate": "regio=Apollobuurt<br>year=%{x}<br>p_jz_tn=%{y}<extra></extra>",
         "legendgroup": "Apollobuurt",
         "line": {
          "color": "#FECB52",
          "dash": "solid"
         },
         "marker": {
          "symbol": "circle"
         },
         "mode": "lines",
         "name": "Apollobuurt",
         "orientation": "v",
         "showlegend": true,
         "type": "scatter",
         "x": [
          "2018-01-01T00:00:00",
          "2019-01-01T00:00:00",
          "2020-01-01T00:00:00",
          "2021-01-01T00:00:00",
          "2022-01-01T00:00:00",
          "2023-01-01T00:00:00"
         ],
         "xaxis": "x",
         "y": [
          1.9813531506038313,
          1.9813531506038313,
          1.7684849841290307,
          2.033258040461083,
          2.2949932134442226,
          2.304254655029669
         ],
         "yaxis": "y"
        },
        {
         "hovertemplate": "regio=IJburg Oost<br>year=%{x}<br>p_jz_tn=%{y}<extra></extra>",
         "legendgroup": "IJburg Oost",
         "line": {
          "color": "#636efa",
          "dash": "solid"
         },
         "marker": {
          "symbol": "circle"
         },
         "mode": "lines",
         "name": "IJburg Oost",
         "orientation": "v",
         "showlegend": true,
         "type": "scatter",
         "x": [
          "2018-01-01T00:00:00",
          "2019-01-01T00:00:00",
          "2020-01-01T00:00:00",
          "2021-01-01T00:00:00",
          "2022-01-01T00:00:00",
          "2023-01-01T00:00:00"
         ],
         "xaxis": "x",
         "y": [
          2.8100403030383623,
          2.8100403030383623,
          2.8100403030383623,
          2.8100403030383623,
          3.8854650185243993,
          4.510512453994972
         ],
         "yaxis": "y"
        },
        {
         "hovertemplate": "regio=IJburg Zuid<br>year=%{x}<br>p_jz_tn=%{y}<extra></extra>",
         "legendgroup": "IJburg Zuid",
         "line": {
          "color": "#EF553B",
          "dash": "solid"
         },
         "marker": {
          "symbol": "circle"
         },
         "mode": "lines",
         "name": "IJburg Zuid",
         "orientation": "v",
         "showlegend": true,
         "type": "scatter",
         "x": [
          "2018-01-01T00:00:00",
          "2019-01-01T00:00:00",
          "2020-01-01T00:00:00",
          "2021-01-01T00:00:00",
          "2022-01-01T00:00:00",
          "2023-01-01T00:00:00"
         ],
         "xaxis": "x",
         "y": [
          3.81837759658714,
          4.304086256819203,
          3.765521741871318,
          4.126968767155004,
          4.321853538484788,
          4.550051548083295
         ],
         "yaxis": "y"
        },
        {
         "hovertemplate": "regio=Scheldebuurt<br>year=%{x}<br>p_jz_tn=%{y}<extra></extra>",
         "legendgroup": "Scheldebuurt",
         "line": {
          "color": "#00cc96",
          "dash": "solid"
         },
         "marker": {
          "symbol": "circle"
         },
         "mode": "lines",
         "name": "Scheldebuurt",
         "orientation": "v",
         "showlegend": true,
         "type": "scatter",
         "x": [
          "2018-01-01T00:00:00",
          "2019-01-01T00:00:00",
          "2020-01-01T00:00:00",
          "2021-01-01T00:00:00",
          "2022-01-01T00:00:00",
          "2023-01-01T00:00:00"
         ],
         "xaxis": "x",
         "y": [
          1.7684849841290307,
          2.291508788466975,
          2.5213339839890785,
          2.164696510722183,
          2.5388151998337145,
          2.525975522314855
         ],
         "yaxis": "y"
        },
        {
         "hovertemplate": "regio=IJselbuurt<br>year=%{x}<br>p_jz_tn=%{y}<extra></extra>",
         "legendgroup": "IJselbuurt",
         "line": {
          "color": "#ab63fa",
          "dash": "solid"
         },
         "marker": {
          "symbol": "circle"
         },
         "mode": "lines",
         "name": "IJselbuurt",
         "orientation": "v",
         "showlegend": true,
         "type": "scatter",
         "x": [
          "2018-01-01T00:00:00",
          "2019-01-01T00:00:00",
          "2020-01-01T00:00:00",
          "2021-01-01T00:00:00",
          "2022-01-01T00:00:00",
          "2023-01-01T00:00:00"
         ],
         "xaxis": "x",
         "y": [
          2.2463594930983692,
          2.9027270466041943,
          3.765521741871318,
          2.4552219411522684,
          2.575920906631052,
          2.1535228553807952
         ],
         "yaxis": "y"
        },
        {
         "hovertemplate": "regio=Rijnbuurt<br>year=%{x}<br>p_jz_tn=%{y}<extra></extra>",
         "legendgroup": "Rijnbuurt",
         "line": {
          "color": "#FFA15A",
          "dash": "solid"
         },
         "marker": {
          "symbol": "circle"
         },
         "mode": "lines",
         "name": "Rijnbuurt",
         "orientation": "v",
         "showlegend": true,
         "type": "scatter",
         "x": [
          "2018-01-01T00:00:00",
          "2019-01-01T00:00:00",
          "2020-01-01T00:00:00",
          "2021-01-01T00:00:00",
          "2022-01-01T00:00:00",
          "2023-01-01T00:00:00"
         ],
         "xaxis": "x",
         "y": [
          3.149301056919108,
          3.5563776806042604,
          3.350942031223266,
          2.178980498612784,
          2.2791680190868293,
          2.2267364660645774
         ],
         "yaxis": "y"
        },
        {
         "hovertemplate": "regio=Frankendael<br>year=%{x}<br>p_jz_tn=%{y}<extra></extra>",
         "legendgroup": "Frankendael",
         "line": {
          "color": "#19d3f3",
          "dash": "solid"
         },
         "marker": {
          "symbol": "circle"
         },
         "mode": "lines",
         "name": "Frankendael",
         "orientation": "v",
         "showlegend": true,
         "type": "scatter",
         "x": [
          "2018-01-01T00:00:00",
          "2019-01-01T00:00:00",
          "2020-01-01T00:00:00",
          "2021-01-01T00:00:00",
          "2022-01-01T00:00:00",
          "2023-01-01T00:00:00"
         ],
         "xaxis": "x",
         "y": [
          2.9027270466041943,
          2.9027270466041943,
          3.2496415970636674,
          2.8001360758439957,
          2.8625666659160545,
          2.6106803949323427
         ],
         "yaxis": "y"
        },
        {
         "hovertemplate": "regio=Middenmeer<br>year=%{x}<br>p_jz_tn=%{y}<extra></extra>",
         "legendgroup": "Middenmeer",
         "line": {
          "color": "#FF6692",
          "dash": "solid"
         },
         "marker": {
          "symbol": "circle"
         },
         "mode": "lines",
         "name": "Middenmeer",
         "orientation": "v",
         "showlegend": true,
         "type": "scatter",
         "x": [
          "2018-01-01T00:00:00",
          "2019-01-01T00:00:00",
          "2020-01-01T00:00:00",
          "2021-01-01T00:00:00",
          "2022-01-01T00:00:00",
          "2023-01-01T00:00:00"
         ],
         "xaxis": "x",
         "y": [
          1.6854438653503223,
          1.810462272269511,
          1.6854438653503223,
          1.5622921717670661,
          1.7836230972293716,
          2.11462947313995
         ],
         "yaxis": "y"
        },
        {
         "hovertemplate": "regio=Betondorp<br>year=%{x}<br>p_jz_tn=%{y}<extra></extra>",
         "legendgroup": "Betondorp",
         "line": {
          "color": "#B6E880",
          "dash": "solid"
         },
         "marker": {
          "symbol": "circle"
         },
         "mode": "lines",
         "name": "Betondorp",
         "orientation": "v",
         "showlegend": true,
         "type": "scatter",
         "x": [
          "2018-01-01T00:00:00",
          "2019-01-01T00:00:00",
          "2020-01-01T00:00:00",
          "2021-01-01T00:00:00",
          "2022-01-01T00:00:00",
          "2023-01-01T00:00:00"
         ],
         "xaxis": "x",
         "y": [
          4.921346695820886,
          6.228966699443981,
          5.923557833261669,
          5.2551577646783505,
          4.5360690165414255,
          4.567402562902146
         ],
         "yaxis": "y"
        },
        {
         "hovertemplate": "regio=Omval/Overamstel<br>year=%{x}<br>p_jz_tn=%{y}<extra></extra>",
         "legendgroup": "Omval/Overamstel",
         "line": {
          "color": "#FF97FF",
          "dash": "solid"
         },
         "marker": {
          "symbol": "circle"
         },
         "mode": "lines",
         "name": "Omval/Overamstel",
         "orientation": "v",
         "showlegend": true,
         "type": "scatter",
         "x": [
          "2018-01-01T00:00:00",
          "2019-01-01T00:00:00",
          "2020-01-01T00:00:00",
          "2021-01-01T00:00:00",
          "2022-01-01T00:00:00",
          "2023-01-01T00:00:00"
         ],
         "xaxis": "x",
         "y": [
          1.251506971071487,
          0.7609776754007229,
          1.4047026164140326,
          1.1568936987277185,
          0.9905057000630096,
          1.4612593362865909
         ],
         "yaxis": "y"
        },
        {
         "hovertemplate": "regio=Prinses Irenebuurt e.o.<br>year=%{x}<br>p_jz_tn=%{y}<extra></extra>",
         "legendgroup": "Prinses Irenebuurt e.o.",
         "line": {
          "color": "#FECB52",
          "dash": "solid"
         },
         "marker": {
          "symbol": "circle"
         },
         "mode": "lines",
         "name": "Prinses Irenebuurt e.o.",
         "orientation": "v",
         "showlegend": true,
         "type": "scatter",
         "x": [
          "2018-01-01T00:00:00",
          "2019-01-01T00:00:00",
          "2020-01-01T00:00:00",
          "2021-01-01T00:00:00",
          "2022-01-01T00:00:00",
          "2023-01-01T00:00:00"
         ],
         "xaxis": "x",
         "y": [
          1.7268112453645974,
          2.201486955308005,
          3.401948657653443,
          2.923188887533224,
          2.923188887533224,
          3.0123124430849675
         ],
         "yaxis": "y"
        },
        {
         "hovertemplate": "regio=Volewijck<br>year=%{x}<br>p_jz_tn=%{y}<extra></extra>",
         "legendgroup": "Volewijck",
         "line": {
          "color": "#636efa",
          "dash": "solid"
         },
         "marker": {
          "symbol": "circle"
         },
         "mode": "lines",
         "name": "Volewijck",
         "orientation": "v",
         "showlegend": true,
         "type": "scatter",
         "x": [
          "2018-01-01T00:00:00",
          "2019-01-01T00:00:00",
          "2020-01-01T00:00:00",
          "2021-01-01T00:00:00",
          "2022-01-01T00:00:00",
          "2023-01-01T00:00:00"
         ],
         "xaxis": "x",
         "y": [
          5.444839812864491,
          5.622906733569783,
          6.727290363615654,
          5.815715769735537,
          5.742590172446622,
          5.039433982592412
         ],
         "yaxis": "y"
        },
        {
         "hovertemplate": "regio=IJplein/Vogelbuurt<br>year=%{x}<br>p_jz_tn=%{y}<extra></extra>",
         "legendgroup": "IJplein/Vogelbuurt",
         "line": {
          "color": "#EF553B",
          "dash": "solid"
         },
         "marker": {
          "symbol": "circle"
         },
         "mode": "lines",
         "name": "IJplein/Vogelbuurt",
         "orientation": "v",
         "showlegend": true,
         "type": "scatter",
         "x": [
          "2018-01-01T00:00:00",
          "2019-01-01T00:00:00",
          "2020-01-01T00:00:00",
          "2021-01-01T00:00:00",
          "2022-01-01T00:00:00",
          "2023-01-01T00:00:00"
         ],
         "xaxis": "x",
         "y": [
          5.802721165823766,
          5.682651767633903,
          5.2101735010154115,
          3.620749957885868,
          3.620749957885868,
          3.8266954065155336
         ],
         "yaxis": "y"
        },
        {
         "hovertemplate": "regio=Tuindorp Nieuwendam<br>year=%{x}<br>p_jz_tn=%{y}<extra></extra>",
         "legendgroup": "Tuindorp Nieuwendam",
         "line": {
          "color": "#00cc96",
          "dash": "solid"
         },
         "marker": {
          "symbol": "circle"
         },
         "mode": "lines",
         "name": "Tuindorp Nieuwendam",
         "orientation": "v",
         "showlegend": true,
         "type": "scatter",
         "x": [
          "2018-01-01T00:00:00",
          "2019-01-01T00:00:00",
          "2020-01-01T00:00:00",
          "2021-01-01T00:00:00",
          "2022-01-01T00:00:00",
          "2023-01-01T00:00:00"
         ],
         "xaxis": "x",
         "y": [
          4.921346695820886,
          4.750496498578435,
          4.5256020630522515,
          3.3343933197665354,
          4.762515840943444,
          5.014742677791673
         ],
         "yaxis": "y"
        },
        {
         "hovertemplate": "regio=Tuindorp Buiksloot<br>year=%{x}<br>p_jz_tn=%{y}<extra></extra>",
         "legendgroup": "Tuindorp Buiksloot",
         "line": {
          "color": "#ab63fa",
          "dash": "solid"
         },
         "marker": {
          "symbol": "circle"
         },
         "mode": "lines",
         "name": "Tuindorp Buiksloot",
         "orientation": "v",
         "showlegend": true,
         "type": "scatter",
         "x": [
          "2018-01-01T00:00:00",
          "2019-01-01T00:00:00",
          "2020-01-01T00:00:00",
          "2021-01-01T00:00:00",
          "2022-01-01T00:00:00",
          "2023-01-01T00:00:00"
         ],
         "xaxis": "x",
         "y": [
          4.1402062889749836,
          4.249242889346202,
          6.1675087696951465,
          6.036445008581692,
          6.036445008581692,
          5.0660172342622
         ],
         "yaxis": "y"
        },
        {
         "hovertemplate": "regio=Nieuwendammerdijk/Buiksloterdijk<br>year=%{x}<br>p_jz_tn=%{y}<extra></extra>",
         "legendgroup": "Nieuwendammerdijk/Buiksloterdijk",
         "line": {
          "color": "#FFA15A",
          "dash": "solid"
         },
         "marker": {
          "symbol": "circle"
         },
         "mode": "lines",
         "name": "Nieuwendammerdijk/Buiksloterdijk",
         "orientation": "v",
         "showlegend": true,
         "type": "scatter",
         "x": [
          "2018-01-01T00:00:00",
          "2019-01-01T00:00:00",
          "2020-01-01T00:00:00",
          "2021-01-01T00:00:00",
          "2022-01-01T00:00:00",
          "2023-01-01T00:00:00"
         ],
         "xaxis": "x",
         "y": [
          3.300172543463621,
          2.70997092470819,
          3.453191042873204,
          3.1864707491040623,
          2.631990135044894,
          2.649808148902036
         ],
         "yaxis": "y"
        },
        {
         "hovertemplate": "regio=Tuindorp Oostzaan<br>year=%{x}<br>p_jz_tn=%{y}<extra></extra>",
         "legendgroup": "Tuindorp Oostzaan",
         "line": {
          "color": "#19d3f3",
          "dash": "solid"
         },
         "marker": {
          "symbol": "circle"
         },
         "mode": "lines",
         "name": "Tuindorp Oostzaan",
         "orientation": "v",
         "showlegend": true,
         "type": "scatter",
         "x": [
          "2018-01-01T00:00:00",
          "2019-01-01T00:00:00",
          "2020-01-01T00:00:00",
          "2021-01-01T00:00:00",
          "2022-01-01T00:00:00",
          "2023-01-01T00:00:00"
         ],
         "xaxis": "x",
         "y": [
          5.268542265641349,
          6.045155685162273,
          4.637630949546863,
          3.6083192820787215,
          4.048676200797908,
          4.412904138676331
         ],
         "yaxis": "y"
        },
        {
         "hovertemplate": "regio=Oostzanerwerf<br>year=%{x}<br>p_jz_tn=%{y}<extra></extra>",
         "legendgroup": "Oostzanerwerf",
         "line": {
          "color": "#FF6692",
          "dash": "solid"
         },
         "marker": {
          "symbol": "circle"
         },
         "mode": "lines",
         "name": "Oostzanerwerf",
         "orientation": "v",
         "showlegend": true,
         "type": "scatter",
         "x": [
          "2018-01-01T00:00:00",
          "2019-01-01T00:00:00",
          "2020-01-01T00:00:00",
          "2021-01-01T00:00:00",
          "2022-01-01T00:00:00",
          "2023-01-01T00:00:00"
         ],
         "xaxis": "x",
         "y": [
          4.978706836786395,
          5.923557833261669,
          4.249242889346202,
          3.239716774627399,
          3.6379905732926274,
          3.702463031529373
         ],
         "yaxis": "y"
        },
        {
         "hovertemplate": "regio=Kadoelen<br>year=%{x}<br>p_jz_tn=%{y}<extra></extra>",
         "legendgroup": "Kadoelen",
         "line": {
          "color": "#B6E880",
          "dash": "solid"
         },
         "marker": {
          "symbol": "circle"
         },
         "mode": "lines",
         "name": "Kadoelen",
         "orientation": "v",
         "showlegend": true,
         "type": "scatter",
         "x": [
          "2018-01-01T00:00:00",
          "2019-01-01T00:00:00",
          "2020-01-01T00:00:00",
          "2021-01-01T00:00:00",
          "2022-01-01T00:00:00",
          "2023-01-01T00:00:00"
         ],
         "xaxis": "x",
         "y": [
          3.660491339169286,
          4.194615872028364,
          2.9027270466041943,
          3.3303311464172958,
          4.361080684060096,
          3.7333287267306967
         ],
         "yaxis": "y"
        },
        {
         "hovertemplate": "regio=Waterlandpleinbuurt<br>year=%{x}<br>p_jz_tn=%{y}<extra></extra>",
         "legendgroup": "Waterlandpleinbuurt",
         "line": {
          "color": "#FF97FF",
          "dash": "solid"
         },
         "marker": {
          "symbol": "circle"
         },
         "mode": "lines",
         "name": "Waterlandpleinbuurt",
         "orientation": "v",
         "showlegend": true,
         "type": "scatter",
         "x": [
          "2018-01-01T00:00:00",
          "2019-01-01T00:00:00",
          "2020-01-01T00:00:00",
          "2021-01-01T00:00:00",
          "2022-01-01T00:00:00",
          "2023-01-01T00:00:00"
         ],
         "xaxis": "x",
         "y": [
          3.453191042873204,
          3.6083192820787215,
          3.660491339169286,
          3.63058690883564,
          3.7061253333694326,
          3.7328587861873297
         ],
         "yaxis": "y"
        },
        {
         "hovertemplate": "regio=Buikslotermeer<br>year=%{x}<br>p_jz_tn=%{y}<extra></extra>",
         "legendgroup": "Buikslotermeer",
         "line": {
          "color": "#FECB52",
          "dash": "solid"
         },
         "marker": {
          "symbol": "circle"
         },
         "mode": "lines",
         "name": "Buikslotermeer",
         "orientation": "v",
         "showlegend": true,
         "type": "scatter",
         "x": [
          "2018-01-01T00:00:00",
          "2019-01-01T00:00:00",
          "2020-01-01T00:00:00",
          "2021-01-01T00:00:00",
          "2022-01-01T00:00:00",
          "2023-01-01T00:00:00"
         ],
         "xaxis": "x",
         "y": [
          3.350942031223266,
          3.7128925774187715,
          3.350942031223266,
          3.2580990228831803,
          3.204633062062294,
          3.390754097407911
         ],
         "yaxis": "y"
        },
        {
         "hovertemplate": "regio=Banne Buiksloot<br>year=%{x}<br>p_jz_tn=%{y}<extra></extra>",
         "legendgroup": "Banne Buiksloot",
         "line": {
          "color": "#636efa",
          "dash": "solid"
         },
         "marker": {
          "symbol": "circle"
         },
         "mode": "lines",
         "name": "Banne Buiksloot",
         "orientation": "v",
         "showlegend": true,
         "type": "scatter",
         "x": [
          "2018-01-01T00:00:00",
          "2019-01-01T00:00:00",
          "2020-01-01T00:00:00",
          "2021-01-01T00:00:00",
          "2022-01-01T00:00:00",
          "2023-01-01T00:00:00"
         ],
         "xaxis": "x",
         "y": [
          4.750496498578435,
          4.864190974123693,
          4.469903841625893,
          3.56400490040423,
          3.422330585803881,
          3.1666700282846545
         ],
         "yaxis": "y"
        },
        {
         "hovertemplate": "regio=Noordelijke IJ-oevers West<br>year=%{x}<br>p_jz_tn=%{y}<extra></extra>",
         "legendgroup": "Noordelijke IJ-oevers West",
         "line": {
          "color": "#EF553B",
          "dash": "solid"
         },
         "marker": {
          "symbol": "circle"
         },
         "mode": "lines",
         "name": "Noordelijke IJ-oevers West",
         "orientation": "v",
         "showlegend": true,
         "type": "scatter",
         "x": [
          "2018-01-01T00:00:00",
          "2019-01-01T00:00:00",
          "2020-01-01T00:00:00",
          "2021-01-01T00:00:00",
          "2022-01-01T00:00:00",
          "2023-01-01T00:00:00"
         ],
         "xaxis": "x",
         "y": [
          0.7609776754007229,
          1.214065631058735,
          1.4833060342873665,
          1.7520316661364155,
          1.9784981494449394,
          2.342523784288125
         ],
         "yaxis": "y"
        },
        {
         "hovertemplate": "regio=Noordelijke IJ-oevers Oost<br>year=%{x}<br>p_jz_tn=%{y}<extra></extra>",
         "legendgroup": "Noordelijke IJ-oevers Oost",
         "line": {
          "color": "#00cc96",
          "dash": "solid"
         },
         "marker": {
          "symbol": "circle"
         },
         "mode": "lines",
         "name": "Noordelijke IJ-oevers Oost",
         "orientation": "v",
         "showlegend": true,
         "type": "scatter",
         "x": [
          "2018-01-01T00:00:00",
          "2019-01-01T00:00:00",
          "2020-01-01T00:00:00",
          "2021-01-01T00:00:00",
          "2022-01-01T00:00:00",
          "2023-01-01T00:00:00"
         ],
         "xaxis": "x",
         "y": [
          2.8100403030383623,
          2.8100403030383623,
          2.8100403030383623,
          2.8100403030383623,
          2.8100403030383623,
          2.8711214277783785
         ],
         "yaxis": "y"
        },
        {
         "hovertemplate": "regio=Waterland<br>year=%{x}<br>p_jz_tn=%{y}<extra></extra>",
         "legendgroup": "Waterland",
         "line": {
          "color": "#ab63fa",
          "dash": "solid"
         },
         "marker": {
          "symbol": "circle"
         },
         "mode": "lines",
         "name": "Waterland",
         "orientation": "v",
         "showlegend": true,
         "type": "scatter",
         "x": [
          "2018-01-01T00:00:00",
          "2019-01-01T00:00:00",
          "2020-01-01T00:00:00",
          "2021-01-01T00:00:00",
          "2022-01-01T00:00:00",
          "2023-01-01T00:00:00"
         ],
         "xaxis": "x",
         "y": [
          2.662421119747157,
          3.765521741871318,
          3.6083192820787215,
          3.5352286836920093,
          3.684005647113861,
          3.9092649881763704
         ],
         "yaxis": "y"
        },
        {
         "hovertemplate": "regio=Elzenhagen<br>year=%{x}<br>p_jz_tn=%{y}<extra></extra>",
         "legendgroup": "Elzenhagen",
         "line": {
          "color": "#FFA15A",
          "dash": "solid"
         },
         "marker": {
          "symbol": "circle"
         },
         "mode": "lines",
         "name": "Elzenhagen",
         "orientation": "v",
         "showlegend": true,
         "type": "scatter",
         "x": [
          "2018-01-01T00:00:00",
          "2019-01-01T00:00:00",
          "2020-01-01T00:00:00",
          "2021-01-01T00:00:00",
          "2022-01-01T00:00:00",
          "2023-01-01T00:00:00"
         ],
         "xaxis": "x",
         "y": [
          2.6151304883468685,
          2.9027270466041943,
          2.1125808635162797,
          2.3032959985469015,
          2.0974343436998266,
          2.1203898496736575
         ],
         "yaxis": "y"
        },
        {
         "hovertemplate": "regio=Chassébuurt<br>year=%{x}<br>p_jz_tn=%{y}<extra></extra>",
         "legendgroup": "Chassébuurt",
         "line": {
          "color": "#19d3f3",
          "dash": "solid"
         },
         "marker": {
          "symbol": "circle"
         },
         "mode": "lines",
         "name": "Chassébuurt",
         "orientation": "v",
         "showlegend": true,
         "type": "scatter",
         "x": [
          "2018-01-01T00:00:00",
          "2019-01-01T00:00:00",
          "2020-01-01T00:00:00",
          "2021-01-01T00:00:00",
          "2022-01-01T00:00:00",
          "2023-01-01T00:00:00"
         ],
         "xaxis": "x",
         "y": [
          3.453191042873204,
          3.0006157570697254,
          3.453191042873204,
          2.7737707754715957,
          2.5470160495244394,
          2.5482178262333477
         ],
         "yaxis": "y"
        },
        {
         "hovertemplate": "regio=Slotermeer-Noordoost<br>year=%{x}<br>p_jz_tn=%{y}<extra></extra>",
         "legendgroup": "Slotermeer-Noordoost",
         "line": {
          "color": "#FF6692",
          "dash": "solid"
         },
         "marker": {
          "symbol": "circle"
         },
         "mode": "lines",
         "name": "Slotermeer-Noordoost",
         "orientation": "v",
         "showlegend": true,
         "type": "scatter",
         "x": [
          "2018-01-01T00:00:00",
          "2019-01-01T00:00:00",
          "2020-01-01T00:00:00",
          "2021-01-01T00:00:00",
          "2022-01-01T00:00:00",
          "2023-01-01T00:00:00"
         ],
         "xaxis": "x",
         "y": [
          3.5046678292070803,
          3.7128925774187715,
          3.6083192820787215,
          2.959922622975708,
          3.8072129155959775,
          3.808974831026886
         ],
         "yaxis": "y"
        },
        {
         "hovertemplate": "regio=Slotermeer-Zuidwest<br>year=%{x}<br>p_jz_tn=%{y}<extra></extra>",
         "legendgroup": "Slotermeer-Zuidwest",
         "line": {
          "color": "#B6E880",
          "dash": "solid"
         },
         "marker": {
          "symbol": "circle"
         },
         "mode": "lines",
         "name": "Slotermeer-Zuidwest",
         "orientation": "v",
         "showlegend": true,
         "type": "scatter",
         "x": [
          "2018-01-01T00:00:00",
          "2019-01-01T00:00:00",
          "2020-01-01T00:00:00",
          "2021-01-01T00:00:00",
          "2022-01-01T00:00:00",
          "2023-01-01T00:00:00"
         ],
         "xaxis": "x",
         "y": [
          3.5563776806042604,
          3.5046678292070803,
          3.660491339169286,
          3.105146899694017,
          2.898673612609105,
          2.8563416076788464
         ],
         "yaxis": "y"
        },
        {
         "hovertemplate": "regio=Geuzenveld<br>year=%{x}<br>p_jz_tn=%{y}<extra></extra>",
         "legendgroup": "Geuzenveld",
         "line": {
          "color": "#FF97FF",
          "dash": "solid"
         },
         "marker": {
          "symbol": "circle"
         },
         "mode": "lines",
         "name": "Geuzenveld",
         "orientation": "v",
         "showlegend": true,
         "type": "scatter",
         "x": [
          "2018-01-01T00:00:00",
          "2019-01-01T00:00:00",
          "2020-01-01T00:00:00",
          "2021-01-01T00:00:00",
          "2022-01-01T00:00:00",
          "2023-01-01T00:00:00"
         ],
         "xaxis": "x",
         "y": [
          2.662421119747157,
          2.8058410233467925,
          2.568100831097895,
          2.309755290645126,
          2.133295816809251,
          2.271916641518715
         ],
         "yaxis": "y"
        },
        {
         "hovertemplate": "regio=Eendracht<br>year=%{x}<br>p_jz_tn=%{y}<extra></extra>",
         "legendgroup": "Eendracht",
         "line": {
          "color": "#FECB52",
          "dash": "solid"
         },
         "marker": {
          "symbol": "circle"
         },
         "mode": "lines",
         "name": "Eendracht",
         "orientation": "v",
         "showlegend": true,
         "type": "scatter",
         "x": [
          "2018-01-01T00:00:00",
          "2019-01-01T00:00:00",
          "2020-01-01T00:00:00",
          "2021-01-01T00:00:00",
          "2022-01-01T00:00:00",
          "2023-01-01T00:00:00"
         ],
         "xaxis": "x",
         "y": [
          1.5632090995344055,
          1.8527403712398967,
          1.8527403712398967,
          1.8500706927399264,
          2.548025607453525,
          2.625161517242433
         ],
         "yaxis": "y"
        },
        {
         "hovertemplate": "regio=Lutkemeer/Ookmeer<br>year=%{x}<br>p_jz_tn=%{y}<extra></extra>",
         "legendgroup": "Lutkemeer/Ookmeer",
         "line": {
          "color": "#636efa",
          "dash": "solid"
         },
         "marker": {
          "symbol": "circle"
         },
         "mode": "lines",
         "name": "Lutkemeer/Ookmeer",
         "orientation": "v",
         "showlegend": true,
         "type": "scatter",
         "x": [
          "2018-01-01T00:00:00",
          "2019-01-01T00:00:00",
          "2020-01-01T00:00:00",
          "2021-01-01T00:00:00",
          "2022-01-01T00:00:00",
          "2023-01-01T00:00:00"
         ],
         "xaxis": "x",
         "y": [
          12.91318830824408,
          13.377607294796878,
          9.59687688228643,
          12.668023649327603,
          18.15419001782986,
          9.014617877269487
         ],
         "yaxis": "y"
        },
        {
         "hovertemplate": "regio=Osdorp-Oost<br>year=%{x}<br>p_jz_tn=%{y}<extra></extra>",
         "legendgroup": "Osdorp-Oost",
         "line": {
          "color": "#EF553B",
          "dash": "solid"
         },
         "marker": {
          "symbol": "circle"
         },
         "mode": "lines",
         "name": "Osdorp-Oost",
         "orientation": "v",
         "showlegend": true,
         "type": "scatter",
         "x": [
          "2018-01-01T00:00:00",
          "2019-01-01T00:00:00",
          "2020-01-01T00:00:00",
          "2021-01-01T00:00:00",
          "2022-01-01T00:00:00",
          "2023-01-01T00:00:00"
         ],
         "xaxis": "x",
         "y": [
          3.149301056919108,
          3.350942031223266,
          3.199350618146515,
          2.6302958985289178,
          2.47474143178779,
          2.4476897904991954
         ],
         "yaxis": "y"
        },
        {
         "hovertemplate": "regio=Osdorp-Midden<br>year=%{x}<br>p_jz_tn=%{y}<extra></extra>",
         "legendgroup": "Osdorp-Midden",
         "line": {
          "color": "#00cc96",
          "dash": "solid"
         },
         "marker": {
          "symbol": "circle"
         },
         "mode": "lines",
         "name": "Osdorp-Midden",
         "orientation": "v",
         "showlegend": true,
         "type": "scatter",
         "x": [
          "2018-01-01T00:00:00",
          "2019-01-01T00:00:00",
          "2020-01-01T00:00:00",
          "2021-01-01T00:00:00",
          "2022-01-01T00:00:00",
          "2023-01-01T00:00:00"
         ],
         "xaxis": "x",
         "y": [
          2.757778136930613,
          2.951546874549001,
          2.9027270466041943,
          3.0178244896030804,
          2.777608315683433,
          2.823349616498087
         ],
         "yaxis": "y"
        },
        {
         "hovertemplate": "regio=De Punt<br>year=%{x}<br>p_jz_tn=%{y}<extra></extra>",
         "legendgroup": "De Punt",
         "line": {
          "color": "#ab63fa",
          "dash": "solid"
         },
         "marker": {
          "symbol": "circle"
         },
         "mode": "lines",
         "name": "De Punt",
         "orientation": "v",
         "showlegend": true,
         "type": "scatter",
         "x": [
          "2018-01-01T00:00:00",
          "2019-01-01T00:00:00",
          "2020-01-01T00:00:00",
          "2021-01-01T00:00:00",
          "2022-01-01T00:00:00",
          "2023-01-01T00:00:00"
         ],
         "xaxis": "x",
         "y": [
          3.6083192820787215,
          3.149301056919108,
          2.854157883106342,
          2.7636965358122643,
          2.7737707754715957,
          2.789409616606839
         ],
         "yaxis": "y"
        },
        {
         "hovertemplate": "regio=Middelveldsche Akerpolder<br>year=%{x}<br>p_jz_tn=%{y}<extra></extra>",
         "legendgroup": "Middelveldsche Akerpolder",
         "line": {
          "color": "#FFA15A",
          "dash": "solid"
         },
         "marker": {
          "symbol": "circle"
         },
         "mode": "lines",
         "name": "Middelveldsche Akerpolder",
         "orientation": "v",
         "showlegend": true,
         "type": "scatter",
         "x": [
          "2018-01-01T00:00:00",
          "2019-01-01T00:00:00",
          "2020-01-01T00:00:00",
          "2021-01-01T00:00:00",
          "2022-01-01T00:00:00",
          "2023-01-01T00:00:00"
         ],
         "xaxis": "x",
         "y": [
          2.70997092470819,
          2.70997092470819,
          2.9027270466041943,
          2.8051934742207045,
          2.8272839284626676,
          2.893469512558848
         ],
         "yaxis": "y"
        },
        {
         "hovertemplate": "regio=Slotervaart Noord<br>year=%{x}<br>p_jz_tn=%{y}<extra></extra>",
         "legendgroup": "Slotervaart Noord",
         "line": {
          "color": "#19d3f3",
          "dash": "solid"
         },
         "marker": {
          "symbol": "circle"
         },
         "mode": "lines",
         "name": "Slotervaart Noord",
         "orientation": "v",
         "showlegend": true,
         "type": "scatter",
         "x": [
          "2018-01-01T00:00:00",
          "2019-01-01T00:00:00",
          "2020-01-01T00:00:00",
          "2021-01-01T00:00:00",
          "2022-01-01T00:00:00",
          "2023-01-01T00:00:00"
         ],
         "xaxis": "x",
         "y": [
          3.6083192820787215,
          3.350942031223266,
          3.2496415970636674,
          2.85320055515897,
          3.1356201575781255,
          3.162420761425147
         ],
         "yaxis": "y"
        },
        {
         "hovertemplate": "regio=Overtoomse Veld<br>year=%{x}<br>p_jz_tn=%{y}<extra></extra>",
         "legendgroup": "Overtoomse Veld",
         "line": {
          "color": "#FF6692",
          "dash": "solid"
         },
         "marker": {
          "symbol": "circle"
         },
         "mode": "lines",
         "name": "Overtoomse Veld",
         "orientation": "v",
         "showlegend": true,
         "type": "scatter",
         "x": [
          "2018-01-01T00:00:00",
          "2019-01-01T00:00:00",
          "2020-01-01T00:00:00",
          "2021-01-01T00:00:00",
          "2022-01-01T00:00:00",
          "2023-01-01T00:00:00"
         ],
         "xaxis": "x",
         "y": [
          2.3369327220060963,
          2.0248084262936006,
          1.938188384472264,
          1.3974389551237623,
          1.766411342046122,
          2.304762335407861
         ],
         "yaxis": "y"
        },
        {
         "hovertemplate": "regio=Westlandgracht<br>year=%{x}<br>p_jz_tn=%{y}<extra></extra>",
         "legendgroup": "Westlandgracht",
         "line": {
          "color": "#B6E880",
          "dash": "solid"
         },
         "marker": {
          "symbol": "circle"
         },
         "mode": "lines",
         "name": "Westlandgracht",
         "orientation": "v",
         "showlegend": true,
         "type": "scatter",
         "x": [
          "2018-01-01T00:00:00",
          "2019-01-01T00:00:00",
          "2020-01-01T00:00:00",
          "2021-01-01T00:00:00",
          "2022-01-01T00:00:00",
          "2023-01-01T00:00:00"
         ],
         "xaxis": "x",
         "y": [
          2.662421119747157,
          2.428596248136493,
          2.428596248136493,
          1.9640522453033122,
          1.6328685673278571,
          1.397207958765455
         ],
         "yaxis": "y"
        },
        {
         "hovertemplate": "regio=Sloter-/Riekerpolder<br>year=%{x}<br>p_jz_tn=%{y}<extra></extra>",
         "legendgroup": "Sloter-/Riekerpolder",
         "line": {
          "color": "#FF97FF",
          "dash": "solid"
         },
         "marker": {
          "symbol": "circle"
         },
         "mode": "lines",
         "name": "Sloter-/Riekerpolder",
         "orientation": "v",
         "showlegend": true,
         "type": "scatter",
         "x": [
          "2018-01-01T00:00:00",
          "2019-01-01T00:00:00",
          "2020-01-01T00:00:00",
          "2021-01-01T00:00:00",
          "2022-01-01T00:00:00",
          "2023-01-01T00:00:00"
         ],
         "xaxis": "x",
         "y": [
          2.951546874549001,
          2.8058410233467925,
          2.70997092470819,
          2.597328724036899,
          2.4759215085842516,
          2.500987754582505
         ],
         "yaxis": "y"
        },
        {
         "hovertemplate": "regio=Slotervaart Zuid<br>year=%{x}<br>p_jz_tn=%{y}<extra></extra>",
         "legendgroup": "Slotervaart Zuid",
         "line": {
          "color": "#FECB52",
          "dash": "solid"
         },
         "marker": {
          "symbol": "circle"
         },
         "mode": "lines",
         "name": "Slotervaart Zuid",
         "orientation": "v",
         "showlegend": true,
         "type": "scatter",
         "x": [
          "2018-01-01T00:00:00",
          "2019-01-01T00:00:00",
          "2020-01-01T00:00:00",
          "2021-01-01T00:00:00",
          "2022-01-01T00:00:00",
          "2023-01-01T00:00:00"
         ],
         "xaxis": "x",
         "y": [
          2.757778136930613,
          2.854157883106342,
          2.8058410233467925,
          2.1172509423450347,
          2.259386362419414,
          2.286086786128797
         ],
         "yaxis": "y"
        },
        {
         "hovertemplate": "regio=Buitenveldert-West<br>year=%{x}<br>p_jz_tn=%{y}<extra></extra>",
         "legendgroup": "Buitenveldert-West",
         "line": {
          "color": "#636efa",
          "dash": "solid"
         },
         "marker": {
          "symbol": "circle"
         },
         "mode": "lines",
         "name": "Buitenveldert-West",
         "orientation": "v",
         "showlegend": true,
         "type": "scatter",
         "x": [
          "2018-01-01T00:00:00",
          "2019-01-01T00:00:00",
          "2020-01-01T00:00:00",
          "2021-01-01T00:00:00",
          "2022-01-01T00:00:00",
          "2023-01-01T00:00:00"
         ],
         "xaxis": "x",
         "y": [
          2.201486955308005,
          2.6151304883468685,
          2.291508788466975,
          2.33234939217002,
          2.482060511077266,
          2.7061145266110147
         ],
         "yaxis": "y"
        },
        {
         "hovertemplate": "regio=Buitenveldert-Oost<br>year=%{x}<br>p_jz_tn=%{y}<extra></extra>",
         "legendgroup": "Buitenveldert-Oost",
         "line": {
          "color": "#EF553B",
          "dash": "solid"
         },
         "marker": {
          "symbol": "circle"
         },
         "mode": "lines",
         "name": "Buitenveldert-Oost",
         "orientation": "v",
         "showlegend": true,
         "type": "scatter",
         "x": [
          "2018-01-01T00:00:00",
          "2019-01-01T00:00:00",
          "2020-01-01T00:00:00",
          "2021-01-01T00:00:00",
          "2022-01-01T00:00:00",
          "2023-01-01T00:00:00"
         ],
         "xaxis": "x",
         "y": [
          3.6083192820787215,
          3.765521741871318,
          2.854157883106342,
          3.1052733336525553,
          2.750932841594569,
          2.6463710595109444
         ],
         "yaxis": "y"
        },
        {
         "hovertemplate": "regio=Amstel III/Bullewijk<br>year=%{x}<br>p_jz_tn=%{y}<extra></extra>",
         "legendgroup": "Amstel III/Bullewijk",
         "line": {
          "color": "#00cc96",
          "dash": "solid"
         },
         "marker": {
          "symbol": "circle"
         },
         "mode": "lines",
         "name": "Amstel III/Bullewijk",
         "orientation": "v",
         "showlegend": true,
         "type": "scatter",
         "x": [
          "2018-01-01T00:00:00",
          "2019-01-01T00:00:00",
          "2020-01-01T00:00:00",
          "2021-01-01T00:00:00",
          "2022-01-01T00:00:00",
          "2023-01-01T00:00:00"
         ],
         "xaxis": "x",
         "y": [
          4.750496498578435,
          3.0499321128584294,
          1.810462272269511,
          0.20913928460804557,
          0.2672308686472971,
          0.3184494705150471
         ],
         "yaxis": "y"
        },
        {
         "hovertemplate": "regio=Bijlmer Centrum (D,F,H)<br>year=%{x}<br>p_jz_tn=%{y}<extra></extra>",
         "legendgroup": "Bijlmer Centrum (D,F,H)",
         "line": {
          "color": "#ab63fa",
          "dash": "solid"
         },
         "marker": {
          "symbol": "circle"
         },
         "mode": "lines",
         "name": "Bijlmer Centrum (D,F,H)",
         "orientation": "v",
         "showlegend": true,
         "type": "scatter",
         "x": [
          "2018-01-01T00:00:00",
          "2019-01-01T00:00:00",
          "2020-01-01T00:00:00",
          "2021-01-01T00:00:00",
          "2022-01-01T00:00:00",
          "2023-01-01T00:00:00"
         ],
         "xaxis": "x",
         "y": [
          4.5256020630522515,
          4.304086256819203,
          3.81837759658714,
          3.152867988077858,
          3.1254869218067363,
          2.856776802964803
         ],
         "yaxis": "y"
        },
        {
         "hovertemplate": "regio=Bijlmer Oost (E,G,K)<br>year=%{x}<br>p_jz_tn=%{y}<extra></extra>",
         "legendgroup": "Bijlmer Oost (E,G,K)",
         "line": {
          "color": "#FFA15A",
          "dash": "solid"
         },
         "marker": {
          "symbol": "circle"
         },
         "mode": "lines",
         "name": "Bijlmer Oost (E,G,K)",
         "orientation": "v",
         "showlegend": true,
         "type": "scatter",
         "x": [
          "2018-01-01T00:00:00",
          "2019-01-01T00:00:00",
          "2020-01-01T00:00:00",
          "2021-01-01T00:00:00",
          "2022-01-01T00:00:00",
          "2023-01-01T00:00:00"
         ],
         "xaxis": "x",
         "y": [
          4.194615872028364,
          3.871458924173895,
          3.6083192820787215,
          3.271491880964029,
          3.4619417876162433,
          3.4419605745565858
         ],
         "yaxis": "y"
        },
        {
         "hovertemplate": "regio=Nellestein<br>year=%{x}<br>p_jz_tn=%{y}<extra></extra>",
         "legendgroup": "Nellestein",
         "line": {
          "color": "#19d3f3",
          "dash": "solid"
         },
         "marker": {
          "symbol": "circle"
         },
         "mode": "lines",
         "name": "Nellestein",
         "orientation": "v",
         "showlegend": true,
         "type": "scatter",
         "x": [
          "2018-01-01T00:00:00",
          "2019-01-01T00:00:00",
          "2020-01-01T00:00:00",
          "2021-01-01T00:00:00",
          "2022-01-01T00:00:00",
          "2023-01-01T00:00:00"
         ],
         "xaxis": "x",
         "y": [
          3.871458924173895,
          4.194615872028364,
          4.5256020630522515,
          3.2147991201876946,
          4.919453978284563,
          4.441943041513877
         ],
         "yaxis": "y"
        },
        {
         "hovertemplate": "regio=Holendrecht/Reigersbos<br>year=%{x}<br>p_jz_tn=%{y}<extra></extra>",
         "legendgroup": "Holendrecht/Reigersbos",
         "line": {
          "color": "#FF6692",
          "dash": "solid"
         },
         "marker": {
          "symbol": "circle"
         },
         "mode": "lines",
         "name": "Holendrecht/Reigersbos",
         "orientation": "v",
         "showlegend": true,
         "type": "scatter",
         "x": [
          "2018-01-01T00:00:00",
          "2019-01-01T00:00:00",
          "2020-01-01T00:00:00",
          "2021-01-01T00:00:00",
          "2022-01-01T00:00:00",
          "2023-01-01T00:00:00"
         ],
         "xaxis": "x",
         "y": [
          5.622906733569783,
          5.563355861380728,
          5.385876265046472,
          5.052785348110104,
          4.958217164909778,
          4.869831061986026
         ],
         "yaxis": "y"
        },
        {
         "hovertemplate": "regio=Gein<br>year=%{x}<br>p_jz_tn=%{y}<extra></extra>",
         "legendgroup": "Gein",
         "line": {
          "color": "#B6E880",
          "dash": "solid"
         },
         "marker": {
          "symbol": "circle"
         },
         "mode": "lines",
         "name": "Gein",
         "orientation": "v",
         "showlegend": true,
         "type": "scatter",
         "x": [
          "2018-01-01T00:00:00",
          "2019-01-01T00:00:00",
          "2020-01-01T00:00:00",
          "2021-01-01T00:00:00",
          "2022-01-01T00:00:00",
          "2023-01-01T00:00:00"
         ],
         "xaxis": "x",
         "y": [
          5.09403673572183,
          4.304086256819203,
          4.194615872028364,
          3.6592991902483525,
          3.9733536474646254,
          3.720767524101974
         ],
         "yaxis": "y"
        },
        {
         "hovertemplate": "regio=Driemond<br>year=%{x}<br>p_jz_tn=%{y}<extra></extra>",
         "legendgroup": "Driemond",
         "line": {
          "color": "#FF97FF",
          "dash": "solid"
         },
         "marker": {
          "symbol": "circle"
         },
         "mode": "lines",
         "name": "Driemond",
         "orientation": "v",
         "showlegend": true,
         "type": "scatter",
         "x": [
          "2018-01-01T00:00:00",
          "2019-01-01T00:00:00",
          "2020-01-01T00:00:00",
          "2021-01-01T00:00:00",
          "2022-01-01T00:00:00",
          "2023-01-01T00:00:00"
         ],
         "xaxis": "x",
         "y": [
          3.924764525333978,
          3.0006157570697254,
          4.637630949546863,
          3.238733457637873,
          4.693959629453317,
          4.898256291453107
         ],
         "yaxis": "y"
        }
       ],
       "layout": {
        "legend": {
         "title": {
          "text": "regio"
         },
         "tracegroupgap": 0
        },
        "margin": {
         "t": 60
        },
        "template": {
         "data": {
          "bar": [
           {
            "error_x": {
             "color": "#2a3f5f"
            },
            "error_y": {
             "color": "#2a3f5f"
            },
            "marker": {
             "line": {
              "color": "#E5ECF6",
              "width": 0.5
             },
             "pattern": {
              "fillmode": "overlay",
              "size": 10,
              "solidity": 0.2
             }
            },
            "type": "bar"
           }
          ],
          "barpolar": [
           {
            "marker": {
             "line": {
              "color": "#E5ECF6",
              "width": 0.5
             },
             "pattern": {
              "fillmode": "overlay",
              "size": 10,
              "solidity": 0.2
             }
            },
            "type": "barpolar"
           }
          ],
          "carpet": [
           {
            "aaxis": {
             "endlinecolor": "#2a3f5f",
             "gridcolor": "white",
             "linecolor": "white",
             "minorgridcolor": "white",
             "startlinecolor": "#2a3f5f"
            },
            "baxis": {
             "endlinecolor": "#2a3f5f",
             "gridcolor": "white",
             "linecolor": "white",
             "minorgridcolor": "white",
             "startlinecolor": "#2a3f5f"
            },
            "type": "carpet"
           }
          ],
          "choropleth": [
           {
            "colorbar": {
             "outlinewidth": 0,
             "ticks": ""
            },
            "type": "choropleth"
           }
          ],
          "contour": [
           {
            "colorbar": {
             "outlinewidth": 0,
             "ticks": ""
            },
            "colorscale": [
             [
              0,
              "#0d0887"
             ],
             [
              0.1111111111111111,
              "#46039f"
             ],
             [
              0.2222222222222222,
              "#7201a8"
             ],
             [
              0.3333333333333333,
              "#9c179e"
             ],
             [
              0.4444444444444444,
              "#bd3786"
             ],
             [
              0.5555555555555556,
              "#d8576b"
             ],
             [
              0.6666666666666666,
              "#ed7953"
             ],
             [
              0.7777777777777778,
              "#fb9f3a"
             ],
             [
              0.8888888888888888,
              "#fdca26"
             ],
             [
              1,
              "#f0f921"
             ]
            ],
            "type": "contour"
           }
          ],
          "contourcarpet": [
           {
            "colorbar": {
             "outlinewidth": 0,
             "ticks": ""
            },
            "type": "contourcarpet"
           }
          ],
          "heatmap": [
           {
            "colorbar": {
             "outlinewidth": 0,
             "ticks": ""
            },
            "colorscale": [
             [
              0,
              "#0d0887"
             ],
             [
              0.1111111111111111,
              "#46039f"
             ],
             [
              0.2222222222222222,
              "#7201a8"
             ],
             [
              0.3333333333333333,
              "#9c179e"
             ],
             [
              0.4444444444444444,
              "#bd3786"
             ],
             [
              0.5555555555555556,
              "#d8576b"
             ],
             [
              0.6666666666666666,
              "#ed7953"
             ],
             [
              0.7777777777777778,
              "#fb9f3a"
             ],
             [
              0.8888888888888888,
              "#fdca26"
             ],
             [
              1,
              "#f0f921"
             ]
            ],
            "type": "heatmap"
           }
          ],
          "heatmapgl": [
           {
            "colorbar": {
             "outlinewidth": 0,
             "ticks": ""
            },
            "colorscale": [
             [
              0,
              "#0d0887"
             ],
             [
              0.1111111111111111,
              "#46039f"
             ],
             [
              0.2222222222222222,
              "#7201a8"
             ],
             [
              0.3333333333333333,
              "#9c179e"
             ],
             [
              0.4444444444444444,
              "#bd3786"
             ],
             [
              0.5555555555555556,
              "#d8576b"
             ],
             [
              0.6666666666666666,
              "#ed7953"
             ],
             [
              0.7777777777777778,
              "#fb9f3a"
             ],
             [
              0.8888888888888888,
              "#fdca26"
             ],
             [
              1,
              "#f0f921"
             ]
            ],
            "type": "heatmapgl"
           }
          ],
          "histogram": [
           {
            "marker": {
             "pattern": {
              "fillmode": "overlay",
              "size": 10,
              "solidity": 0.2
             }
            },
            "type": "histogram"
           }
          ],
          "histogram2d": [
           {
            "colorbar": {
             "outlinewidth": 0,
             "ticks": ""
            },
            "colorscale": [
             [
              0,
              "#0d0887"
             ],
             [
              0.1111111111111111,
              "#46039f"
             ],
             [
              0.2222222222222222,
              "#7201a8"
             ],
             [
              0.3333333333333333,
              "#9c179e"
             ],
             [
              0.4444444444444444,
              "#bd3786"
             ],
             [
              0.5555555555555556,
              "#d8576b"
             ],
             [
              0.6666666666666666,
              "#ed7953"
             ],
             [
              0.7777777777777778,
              "#fb9f3a"
             ],
             [
              0.8888888888888888,
              "#fdca26"
             ],
             [
              1,
              "#f0f921"
             ]
            ],
            "type": "histogram2d"
           }
          ],
          "histogram2dcontour": [
           {
            "colorbar": {
             "outlinewidth": 0,
             "ticks": ""
            },
            "colorscale": [
             [
              0,
              "#0d0887"
             ],
             [
              0.1111111111111111,
              "#46039f"
             ],
             [
              0.2222222222222222,
              "#7201a8"
             ],
             [
              0.3333333333333333,
              "#9c179e"
             ],
             [
              0.4444444444444444,
              "#bd3786"
             ],
             [
              0.5555555555555556,
              "#d8576b"
             ],
             [
              0.6666666666666666,
              "#ed7953"
             ],
             [
              0.7777777777777778,
              "#fb9f3a"
             ],
             [
              0.8888888888888888,
              "#fdca26"
             ],
             [
              1,
              "#f0f921"
             ]
            ],
            "type": "histogram2dcontour"
           }
          ],
          "mesh3d": [
           {
            "colorbar": {
             "outlinewidth": 0,
             "ticks": ""
            },
            "type": "mesh3d"
           }
          ],
          "parcoords": [
           {
            "line": {
             "colorbar": {
              "outlinewidth": 0,
              "ticks": ""
             }
            },
            "type": "parcoords"
           }
          ],
          "pie": [
           {
            "automargin": true,
            "type": "pie"
           }
          ],
          "scatter": [
           {
            "fillpattern": {
             "fillmode": "overlay",
             "size": 10,
             "solidity": 0.2
            },
            "type": "scatter"
           }
          ],
          "scatter3d": [
           {
            "line": {
             "colorbar": {
              "outlinewidth": 0,
              "ticks": ""
             }
            },
            "marker": {
             "colorbar": {
              "outlinewidth": 0,
              "ticks": ""
             }
            },
            "type": "scatter3d"
           }
          ],
          "scattercarpet": [
           {
            "marker": {
             "colorbar": {
              "outlinewidth": 0,
              "ticks": ""
             }
            },
            "type": "scattercarpet"
           }
          ],
          "scattergeo": [
           {
            "marker": {
             "colorbar": {
              "outlinewidth": 0,
              "ticks": ""
             }
            },
            "type": "scattergeo"
           }
          ],
          "scattergl": [
           {
            "marker": {
             "colorbar": {
              "outlinewidth": 0,
              "ticks": ""
             }
            },
            "type": "scattergl"
           }
          ],
          "scattermapbox": [
           {
            "marker": {
             "colorbar": {
              "outlinewidth": 0,
              "ticks": ""
             }
            },
            "type": "scattermapbox"
           }
          ],
          "scatterpolar": [
           {
            "marker": {
             "colorbar": {
              "outlinewidth": 0,
              "ticks": ""
             }
            },
            "type": "scatterpolar"
           }
          ],
          "scatterpolargl": [
           {
            "marker": {
             "colorbar": {
              "outlinewidth": 0,
              "ticks": ""
             }
            },
            "type": "scatterpolargl"
           }
          ],
          "scatterternary": [
           {
            "marker": {
             "colorbar": {
              "outlinewidth": 0,
              "ticks": ""
             }
            },
            "type": "scatterternary"
           }
          ],
          "surface": [
           {
            "colorbar": {
             "outlinewidth": 0,
             "ticks": ""
            },
            "colorscale": [
             [
              0,
              "#0d0887"
             ],
             [
              0.1111111111111111,
              "#46039f"
             ],
             [
              0.2222222222222222,
              "#7201a8"
             ],
             [
              0.3333333333333333,
              "#9c179e"
             ],
             [
              0.4444444444444444,
              "#bd3786"
             ],
             [
              0.5555555555555556,
              "#d8576b"
             ],
             [
              0.6666666666666666,
              "#ed7953"
             ],
             [
              0.7777777777777778,
              "#fb9f3a"
             ],
             [
              0.8888888888888888,
              "#fdca26"
             ],
             [
              1,
              "#f0f921"
             ]
            ],
            "type": "surface"
           }
          ],
          "table": [
           {
            "cells": {
             "fill": {
              "color": "#EBF0F8"
             },
             "line": {
              "color": "white"
             }
            },
            "header": {
             "fill": {
              "color": "#C8D4E3"
             },
             "line": {
              "color": "white"
             }
            },
            "type": "table"
           }
          ]
         },
         "layout": {
          "annotationdefaults": {
           "arrowcolor": "#2a3f5f",
           "arrowhead": 0,
           "arrowwidth": 1
          },
          "autotypenumbers": "strict",
          "coloraxis": {
           "colorbar": {
            "outlinewidth": 0,
            "ticks": ""
           }
          },
          "colorscale": {
           "diverging": [
            [
             0,
             "#8e0152"
            ],
            [
             0.1,
             "#c51b7d"
            ],
            [
             0.2,
             "#de77ae"
            ],
            [
             0.3,
             "#f1b6da"
            ],
            [
             0.4,
             "#fde0ef"
            ],
            [
             0.5,
             "#f7f7f7"
            ],
            [
             0.6,
             "#e6f5d0"
            ],
            [
             0.7,
             "#b8e186"
            ],
            [
             0.8,
             "#7fbc41"
            ],
            [
             0.9,
             "#4d9221"
            ],
            [
             1,
             "#276419"
            ]
           ],
           "sequential": [
            [
             0,
             "#0d0887"
            ],
            [
             0.1111111111111111,
             "#46039f"
            ],
            [
             0.2222222222222222,
             "#7201a8"
            ],
            [
             0.3333333333333333,
             "#9c179e"
            ],
            [
             0.4444444444444444,
             "#bd3786"
            ],
            [
             0.5555555555555556,
             "#d8576b"
            ],
            [
             0.6666666666666666,
             "#ed7953"
            ],
            [
             0.7777777777777778,
             "#fb9f3a"
            ],
            [
             0.8888888888888888,
             "#fdca26"
            ],
            [
             1,
             "#f0f921"
            ]
           ],
           "sequentialminus": [
            [
             0,
             "#0d0887"
            ],
            [
             0.1111111111111111,
             "#46039f"
            ],
            [
             0.2222222222222222,
             "#7201a8"
            ],
            [
             0.3333333333333333,
             "#9c179e"
            ],
            [
             0.4444444444444444,
             "#bd3786"
            ],
            [
             0.5555555555555556,
             "#d8576b"
            ],
            [
             0.6666666666666666,
             "#ed7953"
            ],
            [
             0.7777777777777778,
             "#fb9f3a"
            ],
            [
             0.8888888888888888,
             "#fdca26"
            ],
            [
             1,
             "#f0f921"
            ]
           ]
          },
          "colorway": [
           "#636efa",
           "#EF553B",
           "#00cc96",
           "#ab63fa",
           "#FFA15A",
           "#19d3f3",
           "#FF6692",
           "#B6E880",
           "#FF97FF",
           "#FECB52"
          ],
          "font": {
           "color": "#2a3f5f"
          },
          "geo": {
           "bgcolor": "white",
           "lakecolor": "white",
           "landcolor": "#E5ECF6",
           "showlakes": true,
           "showland": true,
           "subunitcolor": "white"
          },
          "hoverlabel": {
           "align": "left"
          },
          "hovermode": "closest",
          "mapbox": {
           "style": "light"
          },
          "paper_bgcolor": "white",
          "plot_bgcolor": "#E5ECF6",
          "polar": {
           "angularaxis": {
            "gridcolor": "white",
            "linecolor": "white",
            "ticks": ""
           },
           "bgcolor": "#E5ECF6",
           "radialaxis": {
            "gridcolor": "white",
            "linecolor": "white",
            "ticks": ""
           }
          },
          "scene": {
           "xaxis": {
            "backgroundcolor": "#E5ECF6",
            "gridcolor": "white",
            "gridwidth": 2,
            "linecolor": "white",
            "showbackground": true,
            "ticks": "",
            "zerolinecolor": "white"
           },
           "yaxis": {
            "backgroundcolor": "#E5ECF6",
            "gridcolor": "white",
            "gridwidth": 2,
            "linecolor": "white",
            "showbackground": true,
            "ticks": "",
            "zerolinecolor": "white"
           },
           "zaxis": {
            "backgroundcolor": "#E5ECF6",
            "gridcolor": "white",
            "gridwidth": 2,
            "linecolor": "white",
            "showbackground": true,
            "ticks": "",
            "zerolinecolor": "white"
           }
          },
          "shapedefaults": {
           "line": {
            "color": "#2a3f5f"
           }
          },
          "ternary": {
           "aaxis": {
            "gridcolor": "white",
            "linecolor": "white",
            "ticks": ""
           },
           "baxis": {
            "gridcolor": "white",
            "linecolor": "white",
            "ticks": ""
           },
           "bgcolor": "#E5ECF6",
           "caxis": {
            "gridcolor": "white",
            "linecolor": "white",
            "ticks": ""
           }
          },
          "title": {
           "x": 0.05
          },
          "xaxis": {
           "automargin": true,
           "gridcolor": "white",
           "linecolor": "white",
           "ticks": "",
           "title": {
            "standoff": 15
           },
           "zerolinecolor": "white",
           "zerolinewidth": 2
          },
          "yaxis": {
           "automargin": true,
           "gridcolor": "white",
           "linecolor": "white",
           "ticks": "",
           "title": {
            "standoff": 15
           },
           "zerolinecolor": "white",
           "zerolinewidth": 2
          }
         }
        },
        "xaxis": {
         "anchor": "y",
         "domain": [
          0,
          1
         ],
         "title": {
          "text": "year"
         }
        },
        "yaxis": {
         "anchor": "x",
         "domain": [
          0,
          1
         ],
         "title": {
          "text": "p_jz_tn"
         }
        }
       }
      }
     },
     "metadata": {},
     "output_type": "display_data"
    }
   ],
   "source": [
    "import plotly.io as pio\n",
    "pio.renderers.default = \"vscode\"\n",
    "import plotly.express as px\n",
    "fig = px.line(ts_amsterdam, x=\"year\", y=\"p_jz_tn\", color=\"regio\")\n",
    "fig.show()"
   ]
  },
  {
   "cell_type": "code",
   "execution_count": null,
   "metadata": {},
   "outputs": [],
   "source": []
  }
 ],
 "metadata": {
  "kernelspec": {
   "display_name": "Python 3",
   "language": "python",
   "name": "python3"
  },
  "language_info": {
   "codemirror_mode": {
    "name": "ipython",
    "version": 3
   },
   "file_extension": ".py",
   "mimetype": "text/x-python",
   "name": "python",
   "nbconvert_exporter": "python",
   "pygments_lexer": "ipython3",
   "version": "3.9.13"
  },
  "orig_nbformat": 4
 },
 "nbformat": 4,
 "nbformat_minor": 2
}
