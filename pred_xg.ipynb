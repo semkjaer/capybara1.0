{
 "cells": [
  {
   "attachments": {},
   "cell_type": "markdown",
   "metadata": {},
   "source": [
    "# Data conversion, XGB and RANDOM FOREST!"
   ]
  },
  {
   "cell_type": "code",
   "execution_count": 223,
   "metadata": {},
   "outputs": [],
   "source": [
    "# Gewoon alle code runnen, dan krijg je een file met alle predictions, je moet zorgen dat je de zorg21  en zorg 22  datasets hebt, en alle kwb files van 2018-2022\n",
    "import pandas as pd\n",
    "import xgboost as xgb\n",
    "import numpy as np\n",
    "from sklearn.model_selection import train_test_split\n",
    "from sklearn.metrics import mean_squared_error, r2_score\n",
    "\n",
    "def append_str_to_columns(df, str):\n",
    "    new_columns = []\n",
    "    for column in df.columns:\n",
    "        if column != \"gwb_code_10\":\n",
    "            new_columns.append(column + '{}'.format(str))\n",
    "        else:\n",
    "            new_columns.append(column)\n",
    "    df.columns = new_columns\n",
    "    return df\n",
    "\n",
    "# adding data about youth care to 2021 and 2022 datasets, because they did not exist before\n",
    "\n",
    "zorg21 = pd.read_csv('./data/zorg21.csv')\n",
    "zorg21 = zorg21[zorg21['VormenVanJeugdzorg'] == 'T001203']\n",
    "zorg21 = zorg21[zorg21['Wijken'].str[:2] != 'BU']\n",
    "zorg21 = zorg21[['Wijken', 'p_jz_tn']]\n",
    "kwb_2021 = pd.read_excel('./data/kwb-2021.xls')\n",
    "kwb_2021 = kwb_2021.applymap(lambda x: x.strip() if isinstance(x, str) else x)\n",
    "kwb_2021 = kwb_2021[kwb_2021['gwb_code_10'].str[:2] != 'BU']\n",
    "kwb_2021 = kwb_2021[[x for x in kwb_2021.columns if \"p_jz_tn\" not in x ]]\n",
    "kwb_2021= kwb_2021.merge(zorg21, left_on='gwb_code_10', right_on='Wijken', how='left')\n",
    "\n",
    "zorg22 = pd.read_csv('./data/zorg22.csv')\n",
    "zorg22 = zorg22[zorg22['VormenVanJeugdzorg'] == 'T001203']\n",
    "zorg22 = zorg22[zorg22['Wijken'].str[:2] != 'BU']\n",
    "zorg22 = zorg22[['Wijken', 'p_jz_tn']]\n",
    "kwb_2022 = pd.read_excel('./data/kwb-2022.xls')\n",
    "kwb_2022 = kwb_2022.applymap(lambda x: x.strip() if isinstance(x, str) else x)\n",
    "kwb_2022 = kwb_2022[kwb_2022['gwb_code_10'].str[:2] != 'BU']\n",
    "kwb_2022 = kwb_2022[[x for x in kwb_2022.columns if \"p_jz_tn\" not in x ]]\n",
    "kwb_2022= kwb_2022.merge(zorg22, left_on='gwb_code_10', right_on='Wijken', how='left')"
   ]
  },
  {
   "cell_type": "code",
   "execution_count": 224,
   "metadata": {},
   "outputs": [
    {
     "name": "stdout",
     "output_type": "stream",
     "text": [
      "./data/kwb-2018.xls\n"
     ]
    },
    {
     "name": "stderr",
     "output_type": "stream",
     "text": [
      "C:\\Users\\stanf\\AppData\\Local\\Temp/ipykernel_5652/3222761454.py:18: FutureWarning: Dropping of nuisance columns in DataFrame reductions (with 'numeric_only=None') is deprecated; in a future version this will raise TypeError.  Select only valid columns before calling the reduction.\n",
      "  df = df.fillna(df.mean())\n"
     ]
    },
    {
     "name": "stdout",
     "output_type": "stream",
     "text": [
      "./data/kwb-2019.xlsx\n",
      "./data/kwb-2020.xls\n"
     ]
    }
   ],
   "source": [
    "dflist = [\"./data/kwb-2018.xls\", \"./data/kwb-2019.xlsx\",\"./data/kwb-2020.xls\", kwb_2021, kwb_2022]\n",
    "columnlist = [\"gwb_code_10\", \"p_00_14\",\t\"p_15_24\",\t\"p_25_44\",\t\"p_45_64\",\t\"p_65_oo\",\t\"p_ongeh\",\t\"p_gehuwd\",\t\"p_gesch\",\t\"p_verwed\",\t\"p_marok\", \"p_jz_tn\", \"p_antaru\",\t\"p_suri\",\"p_tur\", \"p_hh_z_k\",\t\"p_hh_m_k\", \"bev_dich\", \"p_koopw\",\t\"p_huurw\", \"g_ink_po\",\t\"g_ink_pi\",\t\"p_ink_li\",\t\"p_ink_hi\",\t\"p_n_act\",\t\"p_hh_li\",\t\"p_hh_hi\",\t\"p_hh_lkk\",\t\"p_hh_osm\",\t\"a_soz_wb\",\t\"a_soz_ao\",\t\"a_soz_ww\",\t\"a_soz_ow\"]\n",
    "stringlist = [\"_2018\", \"_2019\", \"_2020\", \"_2021\", \"_2022\"]\n",
    "\n",
    "# getting all data and combining into dfs, also performing stripping, and turning useless values into nan\n",
    "\n",
    "dfs = pd.DataFrame\n",
    "for i in range(len(dflist)):\n",
    "    if i == 0:\n",
    "        print(dflist[i])\n",
    "        df = pd.read_excel(dflist[i])\n",
    "        df = df[df['gwb_code_10'].str[:2] != 'BU']\n",
    "        df = df[df['gwb_code_10'].str[:2] != 'GM']\n",
    "        df = df[df['gwb_code_10'].str[:2] != 'NL']\n",
    "        df = df[[x for x in df.columns if x in columnlist]]\n",
    "        df = df.applymap(lambda x: x.strip() if isinstance(x, str) else x)\n",
    "        df = df.replace([np.inf, -np.inf, np.nan, \".\", \"-\"], np.nan)\n",
    "        # comma to dot because the dutch system is stupid!\n",
    "        df = df.applymap(lambda x: str(x.replace(',','.')) if isinstance(x, str) else x)\n",
    "        df = df.apply(pd.to_numeric, errors='ignore')\n",
    "        df = df.fillna(df.mean())\n",
    "        df = append_str_to_columns(df, stringlist[i])\n",
    "        dfs = df\n",
    "    elif 0 < i < 3:\n",
    "        print(dflist[i])\n",
    "        df = pd.read_excel(dflist[i])\n",
    "        df = df[df['gwb_code_10'].str[:2] != 'BU']\n",
    "        df = df[df['gwb_code_10'].str[:2] != 'GM']\n",
    "        df = df[df['gwb_code_10'].str[:2] != 'NL']\n",
    "        df = df[[x for x in df.columns if x in columnlist]]\n",
    "        df = df.applymap(lambda x: x.strip() if isinstance(x, str) else x)\n",
    "        df = df.replace([np.inf, -np.inf, np.nan, \".\", \"-\"], np.nan)\n",
    "        df = df.applymap(lambda x: str(x.replace(',','.')) if isinstance(x, str) else x)\n",
    "        df = append_str_to_columns(df, stringlist[i])\n",
    "        dfs = pd.merge(dfs, df, on='gwb_code_10', how='outer')\n",
    "    else:\n",
    "        df = dflist[i]\n",
    "        df = df[df['gwb_code_10'].str[:2] != 'BU']\n",
    "        df = df[df['gwb_code_10'].str[:2] != 'GM']\n",
    "        df = df[df['gwb_code_10'].str[:2] != 'NL']\n",
    "        df = df[[x for x in df.columns if x in columnlist]]\n",
    "        df = df.applymap(lambda x: x.strip() if isinstance(x, str) else x)\n",
    "        df = df.replace([np.inf, -np.inf, np.nan, \".\", \"-\"], np.nan)\n",
    "        df = df.applymap(lambda x: str(x.replace(',','.')) if isinstance(x, str) else x)\n",
    "        df = append_str_to_columns(df, stringlist[i])\n",
    "        dfs = pd.merge(dfs, df, on='gwb_code_10', how='outer')"
   ]
  },
  {
   "cell_type": "code",
   "execution_count": 225,
   "metadata": {},
   "outputs": [
    {
     "data": {
      "text/html": [
       "<div>\n",
       "<style scoped>\n",
       "    .dataframe tbody tr th:only-of-type {\n",
       "        vertical-align: middle;\n",
       "    }\n",
       "\n",
       "    .dataframe tbody tr th {\n",
       "        vertical-align: top;\n",
       "    }\n",
       "\n",
       "    .dataframe thead th {\n",
       "        text-align: right;\n",
       "    }\n",
       "</style>\n",
       "<table border=\"1\" class=\"dataframe\">\n",
       "  <thead>\n",
       "    <tr style=\"text-align: right;\">\n",
       "      <th></th>\n",
       "      <th>gwb_code_10</th>\n",
       "      <th>a_soz_ao_2018</th>\n",
       "      <th>a_soz_ao_2019</th>\n",
       "      <th>a_soz_ao_2020</th>\n",
       "      <th>a_soz_ao_2021</th>\n",
       "      <th>a_soz_ao_2022</th>\n",
       "      <th>a_soz_ow_2018</th>\n",
       "      <th>a_soz_ow_2019</th>\n",
       "      <th>a_soz_ow_2020</th>\n",
       "      <th>a_soz_ow_2021</th>\n",
       "      <th>...</th>\n",
       "      <th>p_jz_tn_2018</th>\n",
       "      <th>p_jz_tn_2019</th>\n",
       "      <th>p_jz_tn_2020</th>\n",
       "      <th>p_jz_tn_2021</th>\n",
       "      <th>p_jz_tn_2022</th>\n",
       "      <th>p_koopw_2018</th>\n",
       "      <th>p_koopw_2019</th>\n",
       "      <th>p_koopw_2020</th>\n",
       "      <th>p_koopw_2021</th>\n",
       "      <th>p_koopw_2022</th>\n",
       "    </tr>\n",
       "  </thead>\n",
       "  <tbody>\n",
       "    <tr>\n",
       "      <th>0</th>\n",
       "      <td>WK000300</td>\n",
       "      <td>710.000000</td>\n",
       "      <td>730.000000</td>\n",
       "      <td>710.000000</td>\n",
       "      <td>710.000000</td>\n",
       "      <td>710.000000</td>\n",
       "      <td>2670.000000</td>\n",
       "      <td>2670.000000</td>\n",
       "      <td>2750.000000</td>\n",
       "      <td>2750.000000</td>\n",
       "      <td>...</td>\n",
       "      <td>9.900000</td>\n",
       "      <td>11.500000</td>\n",
       "      <td>10.200000</td>\n",
       "      <td>10.200000</td>\n",
       "      <td>10.200000</td>\n",
       "      <td>49.000000</td>\n",
       "      <td>48.000000</td>\n",
       "      <td>48.000000</td>\n",
       "      <td>48.000000</td>\n",
       "      <td>48.0</td>\n",
       "    </tr>\n",
       "    <tr>\n",
       "      <th>1</th>\n",
       "      <td>WK000500</td>\n",
       "      <td>580.000000</td>\n",
       "      <td>580.000000</td>\n",
       "      <td>580.000000</td>\n",
       "      <td>580.000000</td>\n",
       "      <td>580.000000</td>\n",
       "      <td>2080.000000</td>\n",
       "      <td>2080.000000</td>\n",
       "      <td>2080.000000</td>\n",
       "      <td>2080.000000</td>\n",
       "      <td>...</td>\n",
       "      <td>9.900000</td>\n",
       "      <td>9.900000</td>\n",
       "      <td>9.900000</td>\n",
       "      <td>9.900000</td>\n",
       "      <td>9.900000</td>\n",
       "      <td>69.000000</td>\n",
       "      <td>69.000000</td>\n",
       "      <td>69.000000</td>\n",
       "      <td>69.000000</td>\n",
       "      <td>69.0</td>\n",
       "    </tr>\n",
       "    <tr>\n",
       "      <th>2</th>\n",
       "      <td>WK000900</td>\n",
       "      <td>150.000000</td>\n",
       "      <td>150.000000</td>\n",
       "      <td>150.000000</td>\n",
       "      <td>150.000000</td>\n",
       "      <td>150.000000</td>\n",
       "      <td>1170.000000</td>\n",
       "      <td>1170.000000</td>\n",
       "      <td>1170.000000</td>\n",
       "      <td>1170.000000</td>\n",
       "      <td>...</td>\n",
       "      <td>9.000000</td>\n",
       "      <td>9.000000</td>\n",
       "      <td>9.000000</td>\n",
       "      <td>9.000000</td>\n",
       "      <td>9.000000</td>\n",
       "      <td>76.000000</td>\n",
       "      <td>76.000000</td>\n",
       "      <td>76.000000</td>\n",
       "      <td>76.000000</td>\n",
       "      <td>76.0</td>\n",
       "    </tr>\n",
       "    <tr>\n",
       "      <th>3</th>\n",
       "      <td>WK000901</td>\n",
       "      <td>50.000000</td>\n",
       "      <td>50.000000</td>\n",
       "      <td>50.000000</td>\n",
       "      <td>50.000000</td>\n",
       "      <td>50.000000</td>\n",
       "      <td>190.000000</td>\n",
       "      <td>190.000000</td>\n",
       "      <td>190.000000</td>\n",
       "      <td>190.000000</td>\n",
       "      <td>...</td>\n",
       "      <td>9.600000</td>\n",
       "      <td>9.600000</td>\n",
       "      <td>9.600000</td>\n",
       "      <td>9.600000</td>\n",
       "      <td>9.600000</td>\n",
       "      <td>78.000000</td>\n",
       "      <td>78.000000</td>\n",
       "      <td>78.000000</td>\n",
       "      <td>78.000000</td>\n",
       "      <td>78.0</td>\n",
       "    </tr>\n",
       "    <tr>\n",
       "      <th>4</th>\n",
       "      <td>WK001000</td>\n",
       "      <td>870.000000</td>\n",
       "      <td>870.000000</td>\n",
       "      <td>870.000000</td>\n",
       "      <td>870.000000</td>\n",
       "      <td>870.000000</td>\n",
       "      <td>4230.000000</td>\n",
       "      <td>4230.000000</td>\n",
       "      <td>4230.000000</td>\n",
       "      <td>4230.000000</td>\n",
       "      <td>...</td>\n",
       "      <td>10.600000</td>\n",
       "      <td>10.600000</td>\n",
       "      <td>10.600000</td>\n",
       "      <td>10.600000</td>\n",
       "      <td>10.600000</td>\n",
       "      <td>55.000000</td>\n",
       "      <td>55.000000</td>\n",
       "      <td>55.000000</td>\n",
       "      <td>55.000000</td>\n",
       "      <td>55.0</td>\n",
       "    </tr>\n",
       "    <tr>\n",
       "      <th>...</th>\n",
       "      <td>...</td>\n",
       "      <td>...</td>\n",
       "      <td>...</td>\n",
       "      <td>...</td>\n",
       "      <td>...</td>\n",
       "      <td>...</td>\n",
       "      <td>...</td>\n",
       "      <td>...</td>\n",
       "      <td>...</td>\n",
       "      <td>...</td>\n",
       "      <td>...</td>\n",
       "      <td>...</td>\n",
       "      <td>...</td>\n",
       "      <td>...</td>\n",
       "      <td>...</td>\n",
       "      <td>...</td>\n",
       "      <td>...</td>\n",
       "      <td>...</td>\n",
       "      <td>...</td>\n",
       "      <td>...</td>\n",
       "      <td>...</td>\n",
       "    </tr>\n",
       "    <tr>\n",
       "      <th>3705</th>\n",
       "      <td>WK199102</td>\n",
       "      <td>244.602329</td>\n",
       "      <td>244.602329</td>\n",
       "      <td>244.602329</td>\n",
       "      <td>244.602329</td>\n",
       "      <td>244.602329</td>\n",
       "      <td>1011.044925</td>\n",
       "      <td>1011.044925</td>\n",
       "      <td>1011.044925</td>\n",
       "      <td>1011.044925</td>\n",
       "      <td>...</td>\n",
       "      <td>8.408712</td>\n",
       "      <td>8.408712</td>\n",
       "      <td>8.408712</td>\n",
       "      <td>8.408712</td>\n",
       "      <td>17.272727</td>\n",
       "      <td>66.486352</td>\n",
       "      <td>66.486352</td>\n",
       "      <td>66.486352</td>\n",
       "      <td>66.486352</td>\n",
       "      <td>73.0</td>\n",
       "    </tr>\n",
       "    <tr>\n",
       "      <th>3706</th>\n",
       "      <td>WK199103</td>\n",
       "      <td>244.602329</td>\n",
       "      <td>244.602329</td>\n",
       "      <td>244.602329</td>\n",
       "      <td>244.602329</td>\n",
       "      <td>244.602329</td>\n",
       "      <td>1011.044925</td>\n",
       "      <td>1011.044925</td>\n",
       "      <td>1011.044925</td>\n",
       "      <td>1011.044925</td>\n",
       "      <td>...</td>\n",
       "      <td>8.408712</td>\n",
       "      <td>8.408712</td>\n",
       "      <td>8.408712</td>\n",
       "      <td>8.408712</td>\n",
       "      <td>12.000000</td>\n",
       "      <td>66.486352</td>\n",
       "      <td>66.486352</td>\n",
       "      <td>66.486352</td>\n",
       "      <td>66.486352</td>\n",
       "      <td>76.0</td>\n",
       "    </tr>\n",
       "    <tr>\n",
       "      <th>3707</th>\n",
       "      <td>WK199104</td>\n",
       "      <td>244.602329</td>\n",
       "      <td>244.602329</td>\n",
       "      <td>244.602329</td>\n",
       "      <td>244.602329</td>\n",
       "      <td>244.602329</td>\n",
       "      <td>1011.044925</td>\n",
       "      <td>1011.044925</td>\n",
       "      <td>1011.044925</td>\n",
       "      <td>1011.044925</td>\n",
       "      <td>...</td>\n",
       "      <td>8.408712</td>\n",
       "      <td>8.408712</td>\n",
       "      <td>8.408712</td>\n",
       "      <td>8.408712</td>\n",
       "      <td>16.739130</td>\n",
       "      <td>66.486352</td>\n",
       "      <td>66.486352</td>\n",
       "      <td>66.486352</td>\n",
       "      <td>66.486352</td>\n",
       "      <td>74.0</td>\n",
       "    </tr>\n",
       "    <tr>\n",
       "      <th>3708</th>\n",
       "      <td>WK199105</td>\n",
       "      <td>244.602329</td>\n",
       "      <td>244.602329</td>\n",
       "      <td>244.602329</td>\n",
       "      <td>244.602329</td>\n",
       "      <td>244.602329</td>\n",
       "      <td>1011.044925</td>\n",
       "      <td>1011.044925</td>\n",
       "      <td>1011.044925</td>\n",
       "      <td>1011.044925</td>\n",
       "      <td>...</td>\n",
       "      <td>8.408712</td>\n",
       "      <td>8.408712</td>\n",
       "      <td>8.408712</td>\n",
       "      <td>8.408712</td>\n",
       "      <td>11.000000</td>\n",
       "      <td>66.486352</td>\n",
       "      <td>66.486352</td>\n",
       "      <td>66.486352</td>\n",
       "      <td>66.486352</td>\n",
       "      <td>74.0</td>\n",
       "    </tr>\n",
       "    <tr>\n",
       "      <th>3709</th>\n",
       "      <td>WK199106</td>\n",
       "      <td>244.602329</td>\n",
       "      <td>244.602329</td>\n",
       "      <td>244.602329</td>\n",
       "      <td>244.602329</td>\n",
       "      <td>244.602329</td>\n",
       "      <td>1011.044925</td>\n",
       "      <td>1011.044925</td>\n",
       "      <td>1011.044925</td>\n",
       "      <td>1011.044925</td>\n",
       "      <td>...</td>\n",
       "      <td>8.408712</td>\n",
       "      <td>8.408712</td>\n",
       "      <td>8.408712</td>\n",
       "      <td>8.408712</td>\n",
       "      <td>13.777778</td>\n",
       "      <td>66.486352</td>\n",
       "      <td>66.486352</td>\n",
       "      <td>66.486352</td>\n",
       "      <td>66.486352</td>\n",
       "      <td>73.0</td>\n",
       "    </tr>\n",
       "  </tbody>\n",
       "</table>\n",
       "<p>3710 rows × 81 columns</p>\n",
       "</div>"
      ],
      "text/plain": [
       "     gwb_code_10  a_soz_ao_2018  a_soz_ao_2019  a_soz_ao_2020  a_soz_ao_2021  \\\n",
       "0       WK000300     710.000000     730.000000     710.000000     710.000000   \n",
       "1       WK000500     580.000000     580.000000     580.000000     580.000000   \n",
       "2       WK000900     150.000000     150.000000     150.000000     150.000000   \n",
       "3       WK000901      50.000000      50.000000      50.000000      50.000000   \n",
       "4       WK001000     870.000000     870.000000     870.000000     870.000000   \n",
       "...          ...            ...            ...            ...            ...   \n",
       "3705    WK199102     244.602329     244.602329     244.602329     244.602329   \n",
       "3706    WK199103     244.602329     244.602329     244.602329     244.602329   \n",
       "3707    WK199104     244.602329     244.602329     244.602329     244.602329   \n",
       "3708    WK199105     244.602329     244.602329     244.602329     244.602329   \n",
       "3709    WK199106     244.602329     244.602329     244.602329     244.602329   \n",
       "\n",
       "      a_soz_ao_2022  a_soz_ow_2018  a_soz_ow_2019  a_soz_ow_2020  \\\n",
       "0        710.000000    2670.000000    2670.000000    2750.000000   \n",
       "1        580.000000    2080.000000    2080.000000    2080.000000   \n",
       "2        150.000000    1170.000000    1170.000000    1170.000000   \n",
       "3         50.000000     190.000000     190.000000     190.000000   \n",
       "4        870.000000    4230.000000    4230.000000    4230.000000   \n",
       "...             ...            ...            ...            ...   \n",
       "3705     244.602329    1011.044925    1011.044925    1011.044925   \n",
       "3706     244.602329    1011.044925    1011.044925    1011.044925   \n",
       "3707     244.602329    1011.044925    1011.044925    1011.044925   \n",
       "3708     244.602329    1011.044925    1011.044925    1011.044925   \n",
       "3709     244.602329    1011.044925    1011.044925    1011.044925   \n",
       "\n",
       "      a_soz_ow_2021  ...  p_jz_tn_2018  p_jz_tn_2019  p_jz_tn_2020  \\\n",
       "0       2750.000000  ...      9.900000     11.500000     10.200000   \n",
       "1       2080.000000  ...      9.900000      9.900000      9.900000   \n",
       "2       1170.000000  ...      9.000000      9.000000      9.000000   \n",
       "3        190.000000  ...      9.600000      9.600000      9.600000   \n",
       "4       4230.000000  ...     10.600000     10.600000     10.600000   \n",
       "...             ...  ...           ...           ...           ...   \n",
       "3705    1011.044925  ...      8.408712      8.408712      8.408712   \n",
       "3706    1011.044925  ...      8.408712      8.408712      8.408712   \n",
       "3707    1011.044925  ...      8.408712      8.408712      8.408712   \n",
       "3708    1011.044925  ...      8.408712      8.408712      8.408712   \n",
       "3709    1011.044925  ...      8.408712      8.408712      8.408712   \n",
       "\n",
       "      p_jz_tn_2021  p_jz_tn_2022  p_koopw_2018  p_koopw_2019  p_koopw_2020  \\\n",
       "0        10.200000     10.200000     49.000000     48.000000     48.000000   \n",
       "1         9.900000      9.900000     69.000000     69.000000     69.000000   \n",
       "2         9.000000      9.000000     76.000000     76.000000     76.000000   \n",
       "3         9.600000      9.600000     78.000000     78.000000     78.000000   \n",
       "4        10.600000     10.600000     55.000000     55.000000     55.000000   \n",
       "...            ...           ...           ...           ...           ...   \n",
       "3705      8.408712     17.272727     66.486352     66.486352     66.486352   \n",
       "3706      8.408712     12.000000     66.486352     66.486352     66.486352   \n",
       "3707      8.408712     16.739130     66.486352     66.486352     66.486352   \n",
       "3708      8.408712     11.000000     66.486352     66.486352     66.486352   \n",
       "3709      8.408712     13.777778     66.486352     66.486352     66.486352   \n",
       "\n",
       "      p_koopw_2021  p_koopw_2022  \n",
       "0        48.000000          48.0  \n",
       "1        69.000000          69.0  \n",
       "2        76.000000          76.0  \n",
       "3        78.000000          78.0  \n",
       "4        55.000000          55.0  \n",
       "...            ...           ...  \n",
       "3705     66.486352          73.0  \n",
       "3706     66.486352          76.0  \n",
       "3707     66.486352          74.0  \n",
       "3708     66.486352          74.0  \n",
       "3709     66.486352          73.0  \n",
       "\n",
       "[3710 rows x 81 columns]"
      ]
     },
     "metadata": {},
     "output_type": "display_data"
    }
   ],
   "source": [
    "from IPython.display import display\n",
    "# handling missing data, and sorting columns for forward fill\n",
    "\n",
    "cols = sorted(dfs.columns)\n",
    "cols.remove(\"gwb_code_10\")\n",
    "cols = [\"gwb_code_10\"] + cols\n",
    "dfs = dfs[cols]\n",
    "\n",
    "for x in dfs.columns:\n",
    "    if \"2018\" in x:\n",
    "        dfs[x] = dfs[x].fillna(dfs[x].mean())\n",
    "\n",
    "dfs = dfs.ffill(axis='columns')\n",
    "dfs = dfs.apply(pd.to_numeric, errors='ignore')\n",
    "\n",
    "display(dfs)"
   ]
  },
  {
   "cell_type": "code",
   "execution_count": 226,
   "metadata": {},
   "outputs": [
    {
     "data": {
      "text/html": [
       "<div>\n",
       "<style scoped>\n",
       "    .dataframe tbody tr th:only-of-type {\n",
       "        vertical-align: middle;\n",
       "    }\n",
       "\n",
       "    .dataframe tbody tr th {\n",
       "        vertical-align: top;\n",
       "    }\n",
       "\n",
       "    .dataframe thead th {\n",
       "        text-align: right;\n",
       "    }\n",
       "</style>\n",
       "<table border=\"1\" class=\"dataframe\">\n",
       "  <thead>\n",
       "    <tr style=\"text-align: right;\">\n",
       "      <th></th>\n",
       "      <th>gwb_code_10</th>\n",
       "      <th>a_soz_ao_2018</th>\n",
       "      <th>a_soz_ao_2019</th>\n",
       "      <th>a_soz_ao_2020</th>\n",
       "      <th>a_soz_ao_2021</th>\n",
       "      <th>a_soz_ao_2022</th>\n",
       "      <th>a_soz_ow_2018</th>\n",
       "      <th>a_soz_ow_2019</th>\n",
       "      <th>a_soz_ow_2020</th>\n",
       "      <th>a_soz_ow_2021</th>\n",
       "      <th>...</th>\n",
       "      <th>p_jz_tn_2018</th>\n",
       "      <th>p_jz_tn_2019</th>\n",
       "      <th>p_jz_tn_2020</th>\n",
       "      <th>p_jz_tn_2021</th>\n",
       "      <th>p_jz_tn_2022</th>\n",
       "      <th>p_koopw_2018</th>\n",
       "      <th>p_koopw_2019</th>\n",
       "      <th>p_koopw_2020</th>\n",
       "      <th>p_koopw_2021</th>\n",
       "      <th>p_koopw_2022</th>\n",
       "    </tr>\n",
       "  </thead>\n",
       "  <tbody>\n",
       "    <tr>\n",
       "      <th>0</th>\n",
       "      <td>WK000300</td>\n",
       "      <td>710.000000</td>\n",
       "      <td>730.000000</td>\n",
       "      <td>710.000000</td>\n",
       "      <td>710.000000</td>\n",
       "      <td>710.000000</td>\n",
       "      <td>2670.000000</td>\n",
       "      <td>2670.000000</td>\n",
       "      <td>2750.000000</td>\n",
       "      <td>2750.000000</td>\n",
       "      <td>...</td>\n",
       "      <td>-3.336428</td>\n",
       "      <td>-3.120294</td>\n",
       "      <td>-3.293359</td>\n",
       "      <td>-3.293359</td>\n",
       "      <td>-3.293359</td>\n",
       "      <td>-1.029146</td>\n",
       "      <td>-1.058894</td>\n",
       "      <td>-1.058894</td>\n",
       "      <td>-1.058894</td>\n",
       "      <td>-1.058894</td>\n",
       "    </tr>\n",
       "    <tr>\n",
       "      <th>1</th>\n",
       "      <td>WK000500</td>\n",
       "      <td>580.000000</td>\n",
       "      <td>580.000000</td>\n",
       "      <td>580.000000</td>\n",
       "      <td>580.000000</td>\n",
       "      <td>580.000000</td>\n",
       "      <td>2080.000000</td>\n",
       "      <td>2080.000000</td>\n",
       "      <td>2080.000000</td>\n",
       "      <td>2080.000000</td>\n",
       "      <td>...</td>\n",
       "      <td>-3.336428</td>\n",
       "      <td>-3.336428</td>\n",
       "      <td>-3.336428</td>\n",
       "      <td>-3.336428</td>\n",
       "      <td>-3.336428</td>\n",
       "      <td>-0.535332</td>\n",
       "      <td>-0.535332</td>\n",
       "      <td>-0.535332</td>\n",
       "      <td>-0.535332</td>\n",
       "      <td>-0.535332</td>\n",
       "    </tr>\n",
       "    <tr>\n",
       "      <th>2</th>\n",
       "      <td>WK000900</td>\n",
       "      <td>150.000000</td>\n",
       "      <td>150.000000</td>\n",
       "      <td>150.000000</td>\n",
       "      <td>150.000000</td>\n",
       "      <td>150.000000</td>\n",
       "      <td>1170.000000</td>\n",
       "      <td>1170.000000</td>\n",
       "      <td>1170.000000</td>\n",
       "      <td>1170.000000</td>\n",
       "      <td>...</td>\n",
       "      <td>-3.473931</td>\n",
       "      <td>-3.473931</td>\n",
       "      <td>-3.473931</td>\n",
       "      <td>-3.473931</td>\n",
       "      <td>-3.473931</td>\n",
       "      <td>-0.395929</td>\n",
       "      <td>-0.395929</td>\n",
       "      <td>-0.395929</td>\n",
       "      <td>-0.395929</td>\n",
       "      <td>-0.395929</td>\n",
       "    </tr>\n",
       "    <tr>\n",
       "      <th>3</th>\n",
       "      <td>WK000901</td>\n",
       "      <td>50.000000</td>\n",
       "      <td>50.000000</td>\n",
       "      <td>50.000000</td>\n",
       "      <td>50.000000</td>\n",
       "      <td>50.000000</td>\n",
       "      <td>190.000000</td>\n",
       "      <td>190.000000</td>\n",
       "      <td>190.000000</td>\n",
       "      <td>190.000000</td>\n",
       "      <td>...</td>\n",
       "      <td>-3.380822</td>\n",
       "      <td>-3.380822</td>\n",
       "      <td>-3.380822</td>\n",
       "      <td>-3.380822</td>\n",
       "      <td>-3.380822</td>\n",
       "      <td>-0.358454</td>\n",
       "      <td>-0.358454</td>\n",
       "      <td>-0.358454</td>\n",
       "      <td>-0.358454</td>\n",
       "      <td>-0.358454</td>\n",
       "    </tr>\n",
       "    <tr>\n",
       "      <th>4</th>\n",
       "      <td>WK001000</td>\n",
       "      <td>870.000000</td>\n",
       "      <td>870.000000</td>\n",
       "      <td>870.000000</td>\n",
       "      <td>870.000000</td>\n",
       "      <td>870.000000</td>\n",
       "      <td>4230.000000</td>\n",
       "      <td>4230.000000</td>\n",
       "      <td>4230.000000</td>\n",
       "      <td>4230.000000</td>\n",
       "      <td>...</td>\n",
       "      <td>-3.237864</td>\n",
       "      <td>-3.237864</td>\n",
       "      <td>-3.237864</td>\n",
       "      <td>-3.237864</td>\n",
       "      <td>-3.237864</td>\n",
       "      <td>-0.862496</td>\n",
       "      <td>-0.862496</td>\n",
       "      <td>-0.862496</td>\n",
       "      <td>-0.862496</td>\n",
       "      <td>-0.862496</td>\n",
       "    </tr>\n",
       "    <tr>\n",
       "      <th>...</th>\n",
       "      <td>...</td>\n",
       "      <td>...</td>\n",
       "      <td>...</td>\n",
       "      <td>...</td>\n",
       "      <td>...</td>\n",
       "      <td>...</td>\n",
       "      <td>...</td>\n",
       "      <td>...</td>\n",
       "      <td>...</td>\n",
       "      <td>...</td>\n",
       "      <td>...</td>\n",
       "      <td>...</td>\n",
       "      <td>...</td>\n",
       "      <td>...</td>\n",
       "      <td>...</td>\n",
       "      <td>...</td>\n",
       "      <td>...</td>\n",
       "      <td>...</td>\n",
       "      <td>...</td>\n",
       "      <td>...</td>\n",
       "      <td>...</td>\n",
       "    </tr>\n",
       "    <tr>\n",
       "      <th>3705</th>\n",
       "      <td>WK199102</td>\n",
       "      <td>244.602329</td>\n",
       "      <td>244.602329</td>\n",
       "      <td>244.602329</td>\n",
       "      <td>244.602329</td>\n",
       "      <td>244.602329</td>\n",
       "      <td>1011.044925</td>\n",
       "      <td>1011.044925</td>\n",
       "      <td>1011.044925</td>\n",
       "      <td>1011.044925</td>\n",
       "      <td>...</td>\n",
       "      <td>-3.571971</td>\n",
       "      <td>-3.571971</td>\n",
       "      <td>-3.571971</td>\n",
       "      <td>-3.571971</td>\n",
       "      <td>-2.533432</td>\n",
       "      <td>-0.588870</td>\n",
       "      <td>-0.588870</td>\n",
       "      <td>-0.588870</td>\n",
       "      <td>-0.588870</td>\n",
       "      <td>-0.454032</td>\n",
       "    </tr>\n",
       "    <tr>\n",
       "      <th>3706</th>\n",
       "      <td>WK199103</td>\n",
       "      <td>244.602329</td>\n",
       "      <td>244.602329</td>\n",
       "      <td>244.602329</td>\n",
       "      <td>244.602329</td>\n",
       "      <td>244.602329</td>\n",
       "      <td>1011.044925</td>\n",
       "      <td>1011.044925</td>\n",
       "      <td>1011.044925</td>\n",
       "      <td>1011.044925</td>\n",
       "      <td>...</td>\n",
       "      <td>-3.571971</td>\n",
       "      <td>-3.571971</td>\n",
       "      <td>-3.571971</td>\n",
       "      <td>-3.571971</td>\n",
       "      <td>-3.058894</td>\n",
       "      <td>-0.588870</td>\n",
       "      <td>-0.588870</td>\n",
       "      <td>-0.588870</td>\n",
       "      <td>-0.588870</td>\n",
       "      <td>-0.395929</td>\n",
       "    </tr>\n",
       "    <tr>\n",
       "      <th>3707</th>\n",
       "      <td>WK199104</td>\n",
       "      <td>244.602329</td>\n",
       "      <td>244.602329</td>\n",
       "      <td>244.602329</td>\n",
       "      <td>244.602329</td>\n",
       "      <td>244.602329</td>\n",
       "      <td>1011.044925</td>\n",
       "      <td>1011.044925</td>\n",
       "      <td>1011.044925</td>\n",
       "      <td>1011.044925</td>\n",
       "      <td>...</td>\n",
       "      <td>-3.571971</td>\n",
       "      <td>-3.571971</td>\n",
       "      <td>-3.571971</td>\n",
       "      <td>-3.571971</td>\n",
       "      <td>-2.578704</td>\n",
       "      <td>-0.588870</td>\n",
       "      <td>-0.588870</td>\n",
       "      <td>-0.588870</td>\n",
       "      <td>-0.588870</td>\n",
       "      <td>-0.434403</td>\n",
       "    </tr>\n",
       "    <tr>\n",
       "      <th>3708</th>\n",
       "      <td>WK199105</td>\n",
       "      <td>244.602329</td>\n",
       "      <td>244.602329</td>\n",
       "      <td>244.602329</td>\n",
       "      <td>244.602329</td>\n",
       "      <td>244.602329</td>\n",
       "      <td>1011.044925</td>\n",
       "      <td>1011.044925</td>\n",
       "      <td>1011.044925</td>\n",
       "      <td>1011.044925</td>\n",
       "      <td>...</td>\n",
       "      <td>-3.571971</td>\n",
       "      <td>-3.571971</td>\n",
       "      <td>-3.571971</td>\n",
       "      <td>-3.571971</td>\n",
       "      <td>-3.184425</td>\n",
       "      <td>-0.588870</td>\n",
       "      <td>-0.588870</td>\n",
       "      <td>-0.588870</td>\n",
       "      <td>-0.588870</td>\n",
       "      <td>-0.434403</td>\n",
       "    </tr>\n",
       "    <tr>\n",
       "      <th>3709</th>\n",
       "      <td>WK199106</td>\n",
       "      <td>244.602329</td>\n",
       "      <td>244.602329</td>\n",
       "      <td>244.602329</td>\n",
       "      <td>244.602329</td>\n",
       "      <td>244.602329</td>\n",
       "      <td>1011.044925</td>\n",
       "      <td>1011.044925</td>\n",
       "      <td>1011.044925</td>\n",
       "      <td>1011.044925</td>\n",
       "      <td>...</td>\n",
       "      <td>-3.571971</td>\n",
       "      <td>-3.571971</td>\n",
       "      <td>-3.571971</td>\n",
       "      <td>-3.571971</td>\n",
       "      <td>-2.859585</td>\n",
       "      <td>-0.588870</td>\n",
       "      <td>-0.588870</td>\n",
       "      <td>-0.588870</td>\n",
       "      <td>-0.588870</td>\n",
       "      <td>-0.454032</td>\n",
       "    </tr>\n",
       "  </tbody>\n",
       "</table>\n",
       "<p>3710 rows × 81 columns</p>\n",
       "</div>"
      ],
      "text/plain": [
       "     gwb_code_10  a_soz_ao_2018  a_soz_ao_2019  a_soz_ao_2020  a_soz_ao_2021  \\\n",
       "0       WK000300     710.000000     730.000000     710.000000     710.000000   \n",
       "1       WK000500     580.000000     580.000000     580.000000     580.000000   \n",
       "2       WK000900     150.000000     150.000000     150.000000     150.000000   \n",
       "3       WK000901      50.000000      50.000000      50.000000      50.000000   \n",
       "4       WK001000     870.000000     870.000000     870.000000     870.000000   \n",
       "...          ...            ...            ...            ...            ...   \n",
       "3705    WK199102     244.602329     244.602329     244.602329     244.602329   \n",
       "3706    WK199103     244.602329     244.602329     244.602329     244.602329   \n",
       "3707    WK199104     244.602329     244.602329     244.602329     244.602329   \n",
       "3708    WK199105     244.602329     244.602329     244.602329     244.602329   \n",
       "3709    WK199106     244.602329     244.602329     244.602329     244.602329   \n",
       "\n",
       "      a_soz_ao_2022  a_soz_ow_2018  a_soz_ow_2019  a_soz_ow_2020  \\\n",
       "0        710.000000    2670.000000    2670.000000    2750.000000   \n",
       "1        580.000000    2080.000000    2080.000000    2080.000000   \n",
       "2        150.000000    1170.000000    1170.000000    1170.000000   \n",
       "3         50.000000     190.000000     190.000000     190.000000   \n",
       "4        870.000000    4230.000000    4230.000000    4230.000000   \n",
       "...             ...            ...            ...            ...   \n",
       "3705     244.602329    1011.044925    1011.044925    1011.044925   \n",
       "3706     244.602329    1011.044925    1011.044925    1011.044925   \n",
       "3707     244.602329    1011.044925    1011.044925    1011.044925   \n",
       "3708     244.602329    1011.044925    1011.044925    1011.044925   \n",
       "3709     244.602329    1011.044925    1011.044925    1011.044925   \n",
       "\n",
       "      a_soz_ow_2021  ...  p_jz_tn_2018  p_jz_tn_2019  p_jz_tn_2020  \\\n",
       "0       2750.000000  ...     -3.336428     -3.120294     -3.293359   \n",
       "1       2080.000000  ...     -3.336428     -3.336428     -3.336428   \n",
       "2       1170.000000  ...     -3.473931     -3.473931     -3.473931   \n",
       "3        190.000000  ...     -3.380822     -3.380822     -3.380822   \n",
       "4       4230.000000  ...     -3.237864     -3.237864     -3.237864   \n",
       "...             ...  ...           ...           ...           ...   \n",
       "3705    1011.044925  ...     -3.571971     -3.571971     -3.571971   \n",
       "3706    1011.044925  ...     -3.571971     -3.571971     -3.571971   \n",
       "3707    1011.044925  ...     -3.571971     -3.571971     -3.571971   \n",
       "3708    1011.044925  ...     -3.571971     -3.571971     -3.571971   \n",
       "3709    1011.044925  ...     -3.571971     -3.571971     -3.571971   \n",
       "\n",
       "      p_jz_tn_2021  p_jz_tn_2022  p_koopw_2018  p_koopw_2019  p_koopw_2020  \\\n",
       "0        -3.293359     -3.293359     -1.029146     -1.058894     -1.058894   \n",
       "1        -3.336428     -3.336428     -0.535332     -0.535332     -0.535332   \n",
       "2        -3.473931     -3.473931     -0.395929     -0.395929     -0.395929   \n",
       "3        -3.380822     -3.380822     -0.358454     -0.358454     -0.358454   \n",
       "4        -3.237864     -3.237864     -0.862496     -0.862496     -0.862496   \n",
       "...            ...           ...           ...           ...           ...   \n",
       "3705     -3.571971     -2.533432     -0.588870     -0.588870     -0.588870   \n",
       "3706     -3.571971     -3.058894     -0.588870     -0.588870     -0.588870   \n",
       "3707     -3.571971     -2.578704     -0.588870     -0.588870     -0.588870   \n",
       "3708     -3.571971     -3.184425     -0.588870     -0.588870     -0.588870   \n",
       "3709     -3.571971     -2.859585     -0.588870     -0.588870     -0.588870   \n",
       "\n",
       "      p_koopw_2021  p_koopw_2022  \n",
       "0        -1.058894     -1.058894  \n",
       "1        -0.535332     -0.535332  \n",
       "2        -0.395929     -0.395929  \n",
       "3        -0.358454     -0.358454  \n",
       "4        -0.862496     -0.862496  \n",
       "...            ...           ...  \n",
       "3705     -0.588870     -0.454032  \n",
       "3706     -0.588870     -0.395929  \n",
       "3707     -0.588870     -0.434403  \n",
       "3708     -0.588870     -0.434403  \n",
       "3709     -0.588870     -0.454032  \n",
       "\n",
       "[3710 rows x 81 columns]"
      ]
     },
     "metadata": {},
     "output_type": "display_data"
    }
   ],
   "source": [
    "# percentages to log\n",
    "dfs[[x for x in dfs.columns if \"p_\" in x]] = np.log2(dfs[[x for x in dfs.columns if \"p_\" in x]].div(100))\n",
    "dfs = dfs.replace([np.inf, -np.inf, np.nan, \".\", \"-\"], np.nan)\n",
    "dfs[[x for x in dfs.columns if \"p_\" in x]] = dfs[[x for x in dfs.columns if \"p_\" in x]].fillna(-0.1)\n",
    "display(dfs)"
   ]
  },
  {
   "cell_type": "code",
   "execution_count": 231,
   "metadata": {},
   "outputs": [],
   "source": [
    "# Extract features and target variable\n",
    "target = dfs['p_jz_tn_2022']\n",
    "features = dfs[[x for x in dfs.columns if \"2022\" not in x]]\n",
    "features = features[[x for x in features.columns if \"gwb_code_10\" not in x]]\n",
    "pred_set = dfs[[x for x in dfs.columns if \"2018\" not in x]]\n",
    "pred_set = pred_set[[x for x in pred_set.columns if \"gwb_code_10\" not in x]]\n",
    "pred_set.columns = features.columns"
   ]
  },
  {
   "cell_type": "code",
   "execution_count": 232,
   "metadata": {},
   "outputs": [
    {
     "name": "stdout",
     "output_type": "stream",
     "text": [
      "Mean Squared Error: 0.07474003921394574\n",
      "R^2 Score: 0.6973223258481437\n"
     ]
    }
   ],
   "source": [
    "# Split data into training and testing sets\n",
    "X_train, X_test, y_train, y_test = train_test_split(features, target, test_size=0.2, random_state=42)\n",
    "\n",
    "# Train XGBoost model\n",
    "xgb_model = xgb.XGBRegressor()\n",
    "xgb_model.fit(X_train, y_train)\n",
    "\n",
    "# Make predictions on the testing set\n",
    "y_pred = xgb_model.predict(X_test)\n",
    "\n",
    "# Calculate evaluation metrics\n",
    "mse = mean_squared_error(y_test, y_pred)\n",
    "r2 = r2_score(y_test, y_pred)\n",
    "\n",
    "print(\"Mean Squared Error:\", mse)\n",
    "print(\"R^2 Score:\", r2)"
   ]
  },
  {
   "cell_type": "code",
   "execution_count": 233,
   "metadata": {},
   "outputs": [
    {
     "data": {
      "image/png": "[encoded data removed]",
      "text/plain": [
       "<Figure size 432x288 with 1 Axes>"
      ]
     },
     "metadata": {
      "needs_background": "light"
     },
     "output_type": "display_data"
    }
   ],
   "source": [
    "import matplotlib.pyplot as plt\n",
    "feature_importance = sorted(xgb_model.get_booster().get_score(importance_type=\"gain\").items(), key=lambda x:x[1], reverse=True)\n",
    "\n",
    "features_imp = list(zip(*feature_importance))[0]\n",
    "importances = list(zip(*feature_importance))[1]\n",
    "\n",
    "plt.bar(range(len(feature_importance[:15])), importances[:15], tick_label=features_imp[:15])\n",
    "plt.xticks(rotation = 90)\n",
    "plt.show()"
   ]
  },
  {
   "cell_type": "code",
   "execution_count": 242,
   "metadata": {},
   "outputs": [],
   "source": [
    "prediction_xgb = xgb_model.predict(pred_set)\n",
    "dfs[\"prediction_xgb\"] = prediction_xgb"
   ]
  },
  {
   "cell_type": "code",
   "execution_count": 235,
   "metadata": {},
   "outputs": [
    {
     "name": "stdout",
     "output_type": "stream",
     "text": [
      "RMSE: 0.264206862791088\n"
     ]
    }
   ],
   "source": [
    "import numpy as np\n",
    "from sklearn.ensemble import RandomForestRegressor\n",
    "from sklearn.model_selection import train_test_split\n",
    "from sklearn.metrics import mean_squared_error\n",
    "\n",
    "# Split the dataset into training and testing sets\n",
    "X_train, X_test, y_train, y_test = train_test_split(features, target, test_size=0.2, random_state=42)\n",
    "\n",
    "# Create a Random Forest regressor\n",
    "rf_regressor = RandomForestRegressor(n_estimators=100, random_state=42)\n",
    "\n",
    "# Train the regressor\n",
    "rf_regressor.fit(X_train, y_train)\n",
    "\n",
    "# Make predictions on the test set\n",
    "y_pred = rf_regressor.predict(X_test)\n",
    "\n",
    "# Calculate the root mean squared error (RMSE) of the model\n",
    "rmse = np.sqrt(mean_squared_error(y_test, y_pred))\n",
    "print(\"RMSE:\", rmse)"
   ]
  },
  {
   "cell_type": "code",
   "execution_count": 239,
   "metadata": {},
   "outputs": [],
   "source": [
    "prediction_rf = rf_regressor.predict(pred_set)\n",
    "dfs[\"prediction_rf\"] = prediction_rf"
   ]
  },
  {
   "cell_type": "code",
   "execution_count": 244,
   "metadata": {},
   "outputs": [
    {
     "data": {
      "text/html": [
       "<div>\n",
       "<style scoped>\n",
       "    .dataframe tbody tr th:only-of-type {\n",
       "        vertical-align: middle;\n",
       "    }\n",
       "\n",
       "    .dataframe tbody tr th {\n",
       "        vertical-align: top;\n",
       "    }\n",
       "\n",
       "    .dataframe thead th {\n",
       "        text-align: right;\n",
       "    }\n",
       "</style>\n",
       "<table border=\"1\" class=\"dataframe\">\n",
       "  <thead>\n",
       "    <tr style=\"text-align: right;\">\n",
       "      <th></th>\n",
       "      <th>gwb_code_10</th>\n",
       "      <th>a_soz_ao_2018</th>\n",
       "      <th>a_soz_ao_2019</th>\n",
       "      <th>a_soz_ao_2020</th>\n",
       "      <th>a_soz_ao_2021</th>\n",
       "      <th>a_soz_ao_2022</th>\n",
       "      <th>a_soz_ow_2018</th>\n",
       "      <th>a_soz_ow_2019</th>\n",
       "      <th>a_soz_ow_2020</th>\n",
       "      <th>a_soz_ow_2021</th>\n",
       "      <th>...</th>\n",
       "      <th>p_jz_tn_2020</th>\n",
       "      <th>p_jz_tn_2021</th>\n",
       "      <th>p_jz_tn_2022</th>\n",
       "      <th>p_koopw_2018</th>\n",
       "      <th>p_koopw_2019</th>\n",
       "      <th>p_koopw_2020</th>\n",
       "      <th>p_koopw_2021</th>\n",
       "      <th>p_koopw_2022</th>\n",
       "      <th>prediction_rf</th>\n",
       "      <th>prediction_xgb</th>\n",
       "    </tr>\n",
       "  </thead>\n",
       "  <tbody>\n",
       "    <tr>\n",
       "      <th>0</th>\n",
       "      <td>WK000300</td>\n",
       "      <td>710.000000</td>\n",
       "      <td>730.000000</td>\n",
       "      <td>710.000000</td>\n",
       "      <td>710.000000</td>\n",
       "      <td>710.000000</td>\n",
       "      <td>2670.000000</td>\n",
       "      <td>2670.000000</td>\n",
       "      <td>2750.000000</td>\n",
       "      <td>2750.000000</td>\n",
       "      <td>...</td>\n",
       "      <td>-3.293359</td>\n",
       "      <td>-3.293359</td>\n",
       "      <td>-3.293359</td>\n",
       "      <td>-1.029146</td>\n",
       "      <td>-1.058894</td>\n",
       "      <td>-1.058894</td>\n",
       "      <td>-1.058894</td>\n",
       "      <td>-1.058894</td>\n",
       "      <td>-3.281651</td>\n",
       "      <td>-3.122224</td>\n",
       "    </tr>\n",
       "    <tr>\n",
       "      <th>1</th>\n",
       "      <td>WK000500</td>\n",
       "      <td>580.000000</td>\n",
       "      <td>580.000000</td>\n",
       "      <td>580.000000</td>\n",
       "      <td>580.000000</td>\n",
       "      <td>580.000000</td>\n",
       "      <td>2080.000000</td>\n",
       "      <td>2080.000000</td>\n",
       "      <td>2080.000000</td>\n",
       "      <td>2080.000000</td>\n",
       "      <td>...</td>\n",
       "      <td>-3.336428</td>\n",
       "      <td>-3.336428</td>\n",
       "      <td>-3.336428</td>\n",
       "      <td>-0.535332</td>\n",
       "      <td>-0.535332</td>\n",
       "      <td>-0.535332</td>\n",
       "      <td>-0.535332</td>\n",
       "      <td>-0.535332</td>\n",
       "      <td>-3.340716</td>\n",
       "      <td>-3.320928</td>\n",
       "    </tr>\n",
       "    <tr>\n",
       "      <th>2</th>\n",
       "      <td>WK000900</td>\n",
       "      <td>150.000000</td>\n",
       "      <td>150.000000</td>\n",
       "      <td>150.000000</td>\n",
       "      <td>150.000000</td>\n",
       "      <td>150.000000</td>\n",
       "      <td>1170.000000</td>\n",
       "      <td>1170.000000</td>\n",
       "      <td>1170.000000</td>\n",
       "      <td>1170.000000</td>\n",
       "      <td>...</td>\n",
       "      <td>-3.473931</td>\n",
       "      <td>-3.473931</td>\n",
       "      <td>-3.473931</td>\n",
       "      <td>-0.395929</td>\n",
       "      <td>-0.395929</td>\n",
       "      <td>-0.395929</td>\n",
       "      <td>-0.395929</td>\n",
       "      <td>-0.395929</td>\n",
       "      <td>-3.467850</td>\n",
       "      <td>-3.482716</td>\n",
       "    </tr>\n",
       "    <tr>\n",
       "      <th>3</th>\n",
       "      <td>WK000901</td>\n",
       "      <td>50.000000</td>\n",
       "      <td>50.000000</td>\n",
       "      <td>50.000000</td>\n",
       "      <td>50.000000</td>\n",
       "      <td>50.000000</td>\n",
       "      <td>190.000000</td>\n",
       "      <td>190.000000</td>\n",
       "      <td>190.000000</td>\n",
       "      <td>190.000000</td>\n",
       "      <td>...</td>\n",
       "      <td>-3.380822</td>\n",
       "      <td>-3.380822</td>\n",
       "      <td>-3.380822</td>\n",
       "      <td>-0.358454</td>\n",
       "      <td>-0.358454</td>\n",
       "      <td>-0.358454</td>\n",
       "      <td>-0.358454</td>\n",
       "      <td>-0.358454</td>\n",
       "      <td>-3.372595</td>\n",
       "      <td>-3.368351</td>\n",
       "    </tr>\n",
       "    <tr>\n",
       "      <th>4</th>\n",
       "      <td>WK001000</td>\n",
       "      <td>870.000000</td>\n",
       "      <td>870.000000</td>\n",
       "      <td>870.000000</td>\n",
       "      <td>870.000000</td>\n",
       "      <td>870.000000</td>\n",
       "      <td>4230.000000</td>\n",
       "      <td>4230.000000</td>\n",
       "      <td>4230.000000</td>\n",
       "      <td>4230.000000</td>\n",
       "      <td>...</td>\n",
       "      <td>-3.237864</td>\n",
       "      <td>-3.237864</td>\n",
       "      <td>-3.237864</td>\n",
       "      <td>-0.862496</td>\n",
       "      <td>-0.862496</td>\n",
       "      <td>-0.862496</td>\n",
       "      <td>-0.862496</td>\n",
       "      <td>-0.862496</td>\n",
       "      <td>-3.254779</td>\n",
       "      <td>-3.247366</td>\n",
       "    </tr>\n",
       "    <tr>\n",
       "      <th>...</th>\n",
       "      <td>...</td>\n",
       "      <td>...</td>\n",
       "      <td>...</td>\n",
       "      <td>...</td>\n",
       "      <td>...</td>\n",
       "      <td>...</td>\n",
       "      <td>...</td>\n",
       "      <td>...</td>\n",
       "      <td>...</td>\n",
       "      <td>...</td>\n",
       "      <td>...</td>\n",
       "      <td>...</td>\n",
       "      <td>...</td>\n",
       "      <td>...</td>\n",
       "      <td>...</td>\n",
       "      <td>...</td>\n",
       "      <td>...</td>\n",
       "      <td>...</td>\n",
       "      <td>...</td>\n",
       "      <td>...</td>\n",
       "      <td>...</td>\n",
       "    </tr>\n",
       "    <tr>\n",
       "      <th>3705</th>\n",
       "      <td>WK199102</td>\n",
       "      <td>244.602329</td>\n",
       "      <td>244.602329</td>\n",
       "      <td>244.602329</td>\n",
       "      <td>244.602329</td>\n",
       "      <td>244.602329</td>\n",
       "      <td>1011.044925</td>\n",
       "      <td>1011.044925</td>\n",
       "      <td>1011.044925</td>\n",
       "      <td>1011.044925</td>\n",
       "      <td>...</td>\n",
       "      <td>-3.571971</td>\n",
       "      <td>-3.571971</td>\n",
       "      <td>-2.533432</td>\n",
       "      <td>-0.588870</td>\n",
       "      <td>-0.588870</td>\n",
       "      <td>-0.588870</td>\n",
       "      <td>-0.588870</td>\n",
       "      <td>-0.454032</td>\n",
       "      <td>-2.639659</td>\n",
       "      <td>-2.636184</td>\n",
       "    </tr>\n",
       "    <tr>\n",
       "      <th>3706</th>\n",
       "      <td>WK199103</td>\n",
       "      <td>244.602329</td>\n",
       "      <td>244.602329</td>\n",
       "      <td>244.602329</td>\n",
       "      <td>244.602329</td>\n",
       "      <td>244.602329</td>\n",
       "      <td>1011.044925</td>\n",
       "      <td>1011.044925</td>\n",
       "      <td>1011.044925</td>\n",
       "      <td>1011.044925</td>\n",
       "      <td>...</td>\n",
       "      <td>-3.571971</td>\n",
       "      <td>-3.571971</td>\n",
       "      <td>-3.058894</td>\n",
       "      <td>-0.588870</td>\n",
       "      <td>-0.588870</td>\n",
       "      <td>-0.588870</td>\n",
       "      <td>-0.588870</td>\n",
       "      <td>-0.395929</td>\n",
       "      <td>-3.037504</td>\n",
       "      <td>-3.018377</td>\n",
       "    </tr>\n",
       "    <tr>\n",
       "      <th>3707</th>\n",
       "      <td>WK199104</td>\n",
       "      <td>244.602329</td>\n",
       "      <td>244.602329</td>\n",
       "      <td>244.602329</td>\n",
       "      <td>244.602329</td>\n",
       "      <td>244.602329</td>\n",
       "      <td>1011.044925</td>\n",
       "      <td>1011.044925</td>\n",
       "      <td>1011.044925</td>\n",
       "      <td>1011.044925</td>\n",
       "      <td>...</td>\n",
       "      <td>-3.571971</td>\n",
       "      <td>-3.571971</td>\n",
       "      <td>-2.578704</td>\n",
       "      <td>-0.588870</td>\n",
       "      <td>-0.588870</td>\n",
       "      <td>-0.588870</td>\n",
       "      <td>-0.588870</td>\n",
       "      <td>-0.434403</td>\n",
       "      <td>-2.703510</td>\n",
       "      <td>-2.733212</td>\n",
       "    </tr>\n",
       "    <tr>\n",
       "      <th>3708</th>\n",
       "      <td>WK199105</td>\n",
       "      <td>244.602329</td>\n",
       "      <td>244.602329</td>\n",
       "      <td>244.602329</td>\n",
       "      <td>244.602329</td>\n",
       "      <td>244.602329</td>\n",
       "      <td>1011.044925</td>\n",
       "      <td>1011.044925</td>\n",
       "      <td>1011.044925</td>\n",
       "      <td>1011.044925</td>\n",
       "      <td>...</td>\n",
       "      <td>-3.571971</td>\n",
       "      <td>-3.571971</td>\n",
       "      <td>-3.184425</td>\n",
       "      <td>-0.588870</td>\n",
       "      <td>-0.588870</td>\n",
       "      <td>-0.588870</td>\n",
       "      <td>-0.588870</td>\n",
       "      <td>-0.434403</td>\n",
       "      <td>-3.147533</td>\n",
       "      <td>-3.152646</td>\n",
       "    </tr>\n",
       "    <tr>\n",
       "      <th>3709</th>\n",
       "      <td>WK199106</td>\n",
       "      <td>244.602329</td>\n",
       "      <td>244.602329</td>\n",
       "      <td>244.602329</td>\n",
       "      <td>244.602329</td>\n",
       "      <td>244.602329</td>\n",
       "      <td>1011.044925</td>\n",
       "      <td>1011.044925</td>\n",
       "      <td>1011.044925</td>\n",
       "      <td>1011.044925</td>\n",
       "      <td>...</td>\n",
       "      <td>-3.571971</td>\n",
       "      <td>-3.571971</td>\n",
       "      <td>-2.859585</td>\n",
       "      <td>-0.588870</td>\n",
       "      <td>-0.588870</td>\n",
       "      <td>-0.588870</td>\n",
       "      <td>-0.588870</td>\n",
       "      <td>-0.454032</td>\n",
       "      <td>-2.884906</td>\n",
       "      <td>-2.872157</td>\n",
       "    </tr>\n",
       "  </tbody>\n",
       "</table>\n",
       "<p>3710 rows × 83 columns</p>\n",
       "</div>"
      ],
      "text/plain": [
       "     gwb_code_10  a_soz_ao_2018  a_soz_ao_2019  a_soz_ao_2020  a_soz_ao_2021  \\\n",
       "0       WK000300     710.000000     730.000000     710.000000     710.000000   \n",
       "1       WK000500     580.000000     580.000000     580.000000     580.000000   \n",
       "2       WK000900     150.000000     150.000000     150.000000     150.000000   \n",
       "3       WK000901      50.000000      50.000000      50.000000      50.000000   \n",
       "4       WK001000     870.000000     870.000000     870.000000     870.000000   \n",
       "...          ...            ...            ...            ...            ...   \n",
       "3705    WK199102     244.602329     244.602329     244.602329     244.602329   \n",
       "3706    WK199103     244.602329     244.602329     244.602329     244.602329   \n",
       "3707    WK199104     244.602329     244.602329     244.602329     244.602329   \n",
       "3708    WK199105     244.602329     244.602329     244.602329     244.602329   \n",
       "3709    WK199106     244.602329     244.602329     244.602329     244.602329   \n",
       "\n",
       "      a_soz_ao_2022  a_soz_ow_2018  a_soz_ow_2019  a_soz_ow_2020  \\\n",
       "0        710.000000    2670.000000    2670.000000    2750.000000   \n",
       "1        580.000000    2080.000000    2080.000000    2080.000000   \n",
       "2        150.000000    1170.000000    1170.000000    1170.000000   \n",
       "3         50.000000     190.000000     190.000000     190.000000   \n",
       "4        870.000000    4230.000000    4230.000000    4230.000000   \n",
       "...             ...            ...            ...            ...   \n",
       "3705     244.602329    1011.044925    1011.044925    1011.044925   \n",
       "3706     244.602329    1011.044925    1011.044925    1011.044925   \n",
       "3707     244.602329    1011.044925    1011.044925    1011.044925   \n",
       "3708     244.602329    1011.044925    1011.044925    1011.044925   \n",
       "3709     244.602329    1011.044925    1011.044925    1011.044925   \n",
       "\n",
       "      a_soz_ow_2021  ...  p_jz_tn_2020  p_jz_tn_2021  p_jz_tn_2022  \\\n",
       "0       2750.000000  ...     -3.293359     -3.293359     -3.293359   \n",
       "1       2080.000000  ...     -3.336428     -3.336428     -3.336428   \n",
       "2       1170.000000  ...     -3.473931     -3.473931     -3.473931   \n",
       "3        190.000000  ...     -3.380822     -3.380822     -3.380822   \n",
       "4       4230.000000  ...     -3.237864     -3.237864     -3.237864   \n",
       "...             ...  ...           ...           ...           ...   \n",
       "3705    1011.044925  ...     -3.571971     -3.571971     -2.533432   \n",
       "3706    1011.044925  ...     -3.571971     -3.571971     -3.058894   \n",
       "3707    1011.044925  ...     -3.571971     -3.571971     -2.578704   \n",
       "3708    1011.044925  ...     -3.571971     -3.571971     -3.184425   \n",
       "3709    1011.044925  ...     -3.571971     -3.571971     -2.859585   \n",
       "\n",
       "      p_koopw_2018  p_koopw_2019  p_koopw_2020  p_koopw_2021  p_koopw_2022  \\\n",
       "0        -1.029146     -1.058894     -1.058894     -1.058894     -1.058894   \n",
       "1        -0.535332     -0.535332     -0.535332     -0.535332     -0.535332   \n",
       "2        -0.395929     -0.395929     -0.395929     -0.395929     -0.395929   \n",
       "3        -0.358454     -0.358454     -0.358454     -0.358454     -0.358454   \n",
       "4        -0.862496     -0.862496     -0.862496     -0.862496     -0.862496   \n",
       "...            ...           ...           ...           ...           ...   \n",
       "3705     -0.588870     -0.588870     -0.588870     -0.588870     -0.454032   \n",
       "3706     -0.588870     -0.588870     -0.588870     -0.588870     -0.395929   \n",
       "3707     -0.588870     -0.588870     -0.588870     -0.588870     -0.434403   \n",
       "3708     -0.588870     -0.588870     -0.588870     -0.588870     -0.434403   \n",
       "3709     -0.588870     -0.588870     -0.588870     -0.588870     -0.454032   \n",
       "\n",
       "      prediction_rf  prediction_xgb  \n",
       "0         -3.281651       -3.122224  \n",
       "1         -3.340716       -3.320928  \n",
       "2         -3.467850       -3.482716  \n",
       "3         -3.372595       -3.368351  \n",
       "4         -3.254779       -3.247366  \n",
       "...             ...             ...  \n",
       "3705      -2.639659       -2.636184  \n",
       "3706      -3.037504       -3.018377  \n",
       "3707      -2.703510       -2.733212  \n",
       "3708      -3.147533       -3.152646  \n",
       "3709      -2.884906       -2.872157  \n",
       "\n",
       "[3710 rows x 83 columns]"
      ]
     },
     "metadata": {},
     "output_type": "display_data"
    }
   ],
   "source": [
    "display(dfs)\n",
    "dfs.to_csv(\"data_predictions.csv\")"
   ]
  },
  {
   "attachments": {},
   "cell_type": "markdown",
   "metadata": {},
   "source": [
    "# Visualising"
   ]
  },
  {
   "attachments": {},
   "cell_type": "markdown",
   "metadata": {},
   "source": [
    "This is not needed for the prediction, merely some visualisations for checking."
   ]
  },
  {
   "cell_type": "code",
   "execution_count": 265,
   "metadata": {},
   "outputs": [],
   "source": [
    "df = pd.read_excel(\"./data/kwb-2018.xls\")\n",
    "df = df[['gwb_code_10', 'gm_naam', 'regio']]\n",
    "dfs = pd.merge(dfs, df, on='gwb_code_10', how='left')"
   ]
  },
  {
   "cell_type": "code",
   "execution_count": 360,
   "metadata": {},
   "outputs": [
    {
     "name": "stderr",
     "output_type": "stream",
     "text": [
      "C:\\Users\\stanf\\AppData\\Local\\Packages\\PythonSoftwareFoundation.Python.3.9_qbz5n2kfra8p0\\LocalCache\\local-packages\\Python39\\site-packages\\pandas\\core\\indexing.py:1667: SettingWithCopyWarning:\n",
      "\n",
      "\n",
      "A value is trying to be set on a copy of a slice from a DataFrame.\n",
      "Try using .loc[row_indexer,col_indexer] = value instead\n",
      "\n",
      "See the caveats in the documentation: https://pandas.pydata.org/pandas-docs/stable/user_guide/indexing.html#returning-a-view-versus-a-copy\n",
      "\n"
     ]
    }
   ],
   "source": [
    "ts_total, ts_2018, ts_2019, ts_2020, ts_2021, ts_2022, ts_2023 = pd.DataFrame(), pd.DataFrame(), pd.DataFrame(), pd.DataFrame(), pd.DataFrame(), pd.DataFrame(), pd.DataFrame()\n",
    "dflist = [ts_2018, ts_2019, ts_2020, ts_2021, ts_2022, ts_2023]\n",
    "\n",
    "form = \"prediction_xgb\"\n",
    "for df in range(len(dflist)):\n",
    "    if df != 5:\n",
    "        dflist[df] = dfs[['gwb_code_10', 'gm_naam', 'regio'] + [x for x in dfs.columns if \"{}\".format(2018+df) in x]]\n",
    "        dflist[df].columns = pd.Index(map(lambda x : str(x)[:-5], dflist[df].columns[3:])).insert(0, \"gwb_code_10\").insert(1, 'gm_naam').insert(2, 'regio')\n",
    "        dflist[df].loc[:, 'year'] = pd.to_datetime('{}'.format(2018+df))\n",
    "        ts_total = pd.concat([ts_total, dflist[df]])\n",
    "    elif form == \"prediction_rf\":\n",
    "        dflist[df] = dfs[['gwb_code_10', 'gm_naam', 'regio', \"prediction_rf\"] + [x for x in dfs.columns if \"2022\" in x]]\n",
    "        dflist[df].columns = pd.Index(map(lambda x : str(x)[:-5], dflist[df].columns[4:])).insert(0, \"gwb_code_10\").insert(1, 'gm_naam').insert(2, 'regio').insert(3, \"prediction_rf\")\n",
    "        dflist[df] = dflist[df].drop(\"p_jz_tn\", axis=1)\n",
    "        dflist[df] = dflist[df].rename(columns={\"prediction_rf\" : \"p_jz_tn\"})\n",
    "        dflist[df].loc[:, 'year'] = pd.to_datetime('{}'.format(2018+df))\n",
    "        ts_total = pd.concat([ts_total, dflist[df]])\n",
    "    elif form == \"prediction_xgb\":\n",
    "        dflist[df] = dfs[['gwb_code_10', 'gm_naam', 'regio', \"prediction_xgb\"] + [x for x in dfs.columns if \"2022\" in x]]\n",
    "        dflist[df].columns = pd.Index(map(lambda x : str(x)[:-5], dflist[df].columns[4:])).insert(0, \"gwb_code_10\").insert(1, 'gm_naam').insert(2, 'regio').insert(3, \"prediction_xgb\")\n",
    "        dflist[df] = dflist[df].drop(\"p_jz_tn\", axis=1)\n",
    "        dflist[df] = dflist[df].rename(columns={\"prediction_xgb\" : \"p_jz_tn\"})\n",
    "        dflist[df].loc[:, 'year'] = pd.to_datetime('{}'.format(2018+df))\n",
    "        ts_total = pd.concat([ts_total, dflist[df]])\n",
    "        \n",
    "\n",
    "ts_total[[x for x in ts_total.columns if \"p_\" in x]] = np.exp(ts_total[[x for x in ts_total.columns if \"p_\" in x]]).multiply(100)"
   ]
  },
  {
   "cell_type": "code",
   "execution_count": 365,
   "metadata": {},
   "outputs": [],
   "source": [
    "ts_amsterdam = ts_total[ts_total.gm_naam == \"Haarlem\"]"
   ]
  },
  {
   "cell_type": "code",
   "execution_count": 366,
   "metadata": {},
   "outputs": [
    {
     "data": {
      "application/vnd.plotly.v1+json": {
       "config": {
        "plotlyServerURL": "https://plot.ly"
       },
       "data": [
        {
         "hovertemplate": "regio=Oude Stad<br>year=%{x}<br>p_jz_tn=%{y}<extra></extra>",
         "legendgroup": "Oude Stad",
         "line": {
          "color": "#636efa",
          "dash": "solid"
         },
         "marker": {
          "symbol": "circle"
         },
         "mode": "lines",
         "name": "Oude Stad",
         "orientation": "v",
         "showlegend": true,
         "type": "scatter",
         "x": [
          "2018-01-01T00:00:00",
          "2019-01-01T00:00:00",
          "2020-01-01T00:00:00",
          "2021-01-01T00:00:00",
          "2022-01-01T00:00:00",
          "2023-01-01T00:00:00"
         ],
         "xaxis": "x",
         "y": [
          2.0248084262936006,
          2.1568933408506665,
          1.7268112453645974,
          6.727290363615654,
          6.373093111016055,
          7.0741601478145135
         ],
         "yaxis": "y"
        },
        {
         "hovertemplate": "regio=Haarlemmerhoutkwartier<br>year=%{x}<br>p_jz_tn=%{y}<extra></extra>",
         "legendgroup": "Haarlemmerhoutkwartier",
         "line": {
          "color": "#EF553B",
          "dash": "solid"
         },
         "marker": {
          "symbol": "circle"
         },
         "mode": "lines",
         "name": "Haarlemmerhoutkwartier",
         "orientation": "v",
         "showlegend": true,
         "type": "scatter",
         "x": [
          "2018-01-01T00:00:00",
          "2019-01-01T00:00:00",
          "2020-01-01T00:00:00",
          "2021-01-01T00:00:00",
          "2022-01-01T00:00:00",
          "2023-01-01T00:00:00"
         ],
         "xaxis": "x",
         "y": [
          1.6854438653503223,
          1.810462272269511,
          1.8953166104362853,
          5.949550641302306,
          5.291044853513643,
          4.956517681937908
         ],
         "yaxis": "y"
        },
        {
         "hovertemplate": "regio=Zijlwegkwartier<br>year=%{x}<br>p_jz_tn=%{y}<extra></extra>",
         "legendgroup": "Zijlwegkwartier",
         "line": {
          "color": "#00cc96",
          "dash": "solid"
         },
         "marker": {
          "symbol": "circle"
         },
         "mode": "lines",
         "name": "Zijlwegkwartier",
         "orientation": "v",
         "showlegend": true,
         "type": "scatter",
         "x": [
          "2018-01-01T00:00:00",
          "2019-01-01T00:00:00",
          "2020-01-01T00:00:00",
          "2021-01-01T00:00:00",
          "2022-01-01T00:00:00",
          "2023-01-01T00:00:00"
         ],
         "xaxis": "x",
         "y": [
          1.938188384472264,
          2.428596248136493,
          2.382629219048356,
          5.441365918870615,
          5.085772043562788,
          4.627954226171716
         ],
         "yaxis": "y"
        },
        {
         "hovertemplate": "regio=Houtvaartkwartier<br>year=%{x}<br>p_jz_tn=%{y}<extra></extra>",
         "legendgroup": "Houtvaartkwartier",
         "line": {
          "color": "#ab63fa",
          "dash": "solid"
         },
         "marker": {
          "symbol": "circle"
         },
         "mode": "lines",
         "name": "Houtvaartkwartier",
         "orientation": "v",
         "showlegend": true,
         "type": "scatter",
         "x": [
          "2018-01-01T00:00:00",
          "2019-01-01T00:00:00",
          "2020-01-01T00:00:00",
          "2021-01-01T00:00:00",
          "2022-01-01T00:00:00",
          "2023-01-01T00:00:00"
         ],
         "xaxis": "x",
         "y": [
          1.7268112453645974,
          2.3369327220060963,
          2.70997092470819,
          4.747799560095966,
          4.951367047584554,
          5.103171680409665
         ],
         "yaxis": "y"
        },
        {
         "hovertemplate": "regio=Duinwijk<br>year=%{x}<br>p_jz_tn=%{y}<extra></extra>",
         "legendgroup": "Duinwijk",
         "line": {
          "color": "#FFA15A",
          "dash": "solid"
         },
         "marker": {
          "symbol": "circle"
         },
         "mode": "lines",
         "name": "Duinwijk",
         "orientation": "v",
         "showlegend": true,
         "type": "scatter",
         "x": [
          "2018-01-01T00:00:00",
          "2019-01-01T00:00:00",
          "2020-01-01T00:00:00",
          "2021-01-01T00:00:00",
          "2022-01-01T00:00:00",
          "2023-01-01T00:00:00"
         ],
         "xaxis": "x",
         "y": [
          1.3274264810592593,
          1.9813531506038313,
          2.0248084262936006,
          5.355380242822966,
          5.182141286504106,
          4.729023539604242
         ],
         "yaxis": "y"
        },
        {
         "hovertemplate": "regio=Waarder- en Veerpolder<br>year=%{x}<br>p_jz_tn=%{y}<extra></extra>",
         "legendgroup": "Waarder- en Veerpolder",
         "line": {
          "color": "#19d3f3",
          "dash": "solid"
         },
         "marker": {
          "symbol": "circle"
         },
         "mode": "lines",
         "name": "Waarder- en Veerpolder",
         "orientation": "v",
         "showlegend": true,
         "type": "scatter",
         "x": [
          "2018-01-01T00:00:00",
          "2019-01-01T00:00:00",
          "2020-01-01T00:00:00",
          "2021-01-01T00:00:00",
          "2022-01-01T00:00:00",
          "2023-01-01T00:00:00"
         ],
         "xaxis": "x",
         "y": [
          2.1125808635162797,
          2.70997092470819,
          2.662421119747157,
          4.693959629453317,
          2.7883341359897873,
          2.461378907613875
         ],
         "yaxis": "y"
        },
        {
         "hovertemplate": "regio=Amsterdamsewijk<br>year=%{x}<br>p_jz_tn=%{y}<extra></extra>",
         "legendgroup": "Amsterdamsewijk",
         "line": {
          "color": "#FF6692",
          "dash": "solid"
         },
         "marker": {
          "symbol": "circle"
         },
         "mode": "lines",
         "name": "Amsterdamsewijk",
         "orientation": "v",
         "showlegend": true,
         "type": "scatter",
         "x": [
          "2018-01-01T00:00:00",
          "2019-01-01T00:00:00",
          "2020-01-01T00:00:00",
          "2021-01-01T00:00:00",
          "2022-01-01T00:00:00",
          "2023-01-01T00:00:00"
         ],
         "xaxis": "x",
         "y": [
          2.474831819564956,
          3.2496415970636674,
          3.2496415970636674,
          4.2392945806546125,
          4.858670657918771,
          4.601584683435356
         ],
         "yaxis": "y"
        },
        {
         "hovertemplate": "regio=Slachthuiswijk<br>year=%{x}<br>p_jz_tn=%{y}<extra></extra>",
         "legendgroup": "Slachthuiswijk",
         "line": {
          "color": "#B6E880",
          "dash": "solid"
         },
         "marker": {
          "symbol": "circle"
         },
         "mode": "lines",
         "name": "Slachthuiswijk",
         "orientation": "v",
         "showlegend": true,
         "type": "scatter",
         "x": [
          "2018-01-01T00:00:00",
          "2019-01-01T00:00:00",
          "2020-01-01T00:00:00",
          "2021-01-01T00:00:00",
          "2022-01-01T00:00:00",
          "2023-01-01T00:00:00"
         ],
         "xaxis": "x",
         "y": [
          3.871458924173895,
          3.660491339169286,
          3.7128925774187715,
          3.3146538322157206,
          3.300172543463621,
          3.540968999024516
         ],
         "yaxis": "y"
        },
        {
         "hovertemplate": "regio=Parkwijk<br>year=%{x}<br>p_jz_tn=%{y}<extra></extra>",
         "legendgroup": "Parkwijk",
         "line": {
          "color": "#FF97FF",
          "dash": "solid"
         },
         "marker": {
          "symbol": "circle"
         },
         "mode": "lines",
         "name": "Parkwijk",
         "orientation": "v",
         "showlegend": true,
         "type": "scatter",
         "x": [
          "2018-01-01T00:00:00",
          "2019-01-01T00:00:00",
          "2020-01-01T00:00:00",
          "2021-01-01T00:00:00",
          "2022-01-01T00:00:00",
          "2023-01-01T00:00:00"
         ],
         "xaxis": "x",
         "y": [
          2.2463594930983692,
          2.757778136930613,
          3.149301056919108,
          4.159613253572389,
          5.1752481700196,
          4.2857098622673115
         ],
         "yaxis": "y"
        },
        {
         "hovertemplate": "regio=Transvaalwijk<br>year=%{x}<br>p_jz_tn=%{y}<extra></extra>",
         "legendgroup": "Transvaalwijk",
         "line": {
          "color": "#FECB52",
          "dash": "solid"
         },
         "marker": {
          "symbol": "circle"
         },
         "mode": "lines",
         "name": "Transvaalwijk",
         "orientation": "v",
         "showlegend": true,
         "type": "scatter",
         "x": [
          "2018-01-01T00:00:00",
          "2019-01-01T00:00:00",
          "2020-01-01T00:00:00",
          "2021-01-01T00:00:00",
          "2022-01-01T00:00:00",
          "2023-01-01T00:00:00"
         ],
         "xaxis": "x",
         "y": [
          2.1125808635162797,
          2.291508788466975,
          1.810462272269511,
          6.678553278679425,
          6.302190338973045,
          6.06239324830597
         ],
         "yaxis": "y"
        },
        {
         "hovertemplate": "regio=Indischewijk<br>year=%{x}<br>p_jz_tn=%{y}<extra></extra>",
         "legendgroup": "Indischewijk",
         "line": {
          "color": "#636efa",
          "dash": "solid"
         },
         "marker": {
          "symbol": "circle"
         },
         "mode": "lines",
         "name": "Indischewijk",
         "orientation": "v",
         "showlegend": true,
         "type": "scatter",
         "x": [
          "2018-01-01T00:00:00",
          "2019-01-01T00:00:00",
          "2020-01-01T00:00:00",
          "2021-01-01T00:00:00",
          "2022-01-01T00:00:00",
          "2023-01-01T00:00:00"
         ],
         "xaxis": "x",
         "y": [
          2.291508788466975,
          2.70997092470819,
          2.70997092470819,
          4.010517033313156,
          3.9289548069074143,
          3.919781350496139
         ],
         "yaxis": "y"
        },
        {
         "hovertemplate": "regio=Ter Kleefkwartier<br>year=%{x}<br>p_jz_tn=%{y}<extra></extra>",
         "legendgroup": "Ter Kleefkwartier",
         "line": {
          "color": "#EF553B",
          "dash": "solid"
         },
         "marker": {
          "symbol": "circle"
         },
         "mode": "lines",
         "name": "Ter Kleefkwartier",
         "orientation": "v",
         "showlegend": true,
         "type": "scatter",
         "x": [
          "2018-01-01T00:00:00",
          "2019-01-01T00:00:00",
          "2020-01-01T00:00:00",
          "2021-01-01T00:00:00",
          "2022-01-01T00:00:00",
          "2023-01-01T00:00:00"
         ],
         "xaxis": "x",
         "y": [
          2.2463594930983692,
          2.201486955308005,
          2.1125808635162797,
          4.351791351775204,
          4.232193028257786,
          3.9497287695263688
         ],
         "yaxis": "y"
        },
        {
         "hovertemplate": "regio=Te Zaanenkwartier<br>year=%{x}<br>p_jz_tn=%{y}<extra></extra>",
         "legendgroup": "Te Zaanenkwartier",
         "line": {
          "color": "#00cc96",
          "dash": "solid"
         },
         "marker": {
          "symbol": "circle"
         },
         "mode": "lines",
         "name": "Te Zaanenkwartier",
         "orientation": "v",
         "showlegend": true,
         "type": "scatter",
         "x": [
          "2018-01-01T00:00:00",
          "2019-01-01T00:00:00",
          "2020-01-01T00:00:00",
          "2021-01-01T00:00:00",
          "2022-01-01T00:00:00",
          "2023-01-01T00:00:00"
         ],
         "xaxis": "x",
         "y": [
          2.382629219048356,
          2.951546874549001,
          2.9027270466041943,
          4.51940292633896,
          4.107002084637788,
          3.899714859678395
         ],
         "yaxis": "y"
        },
        {
         "hovertemplate": "regio=Vogelenwijk<br>year=%{x}<br>p_jz_tn=%{y}<extra></extra>",
         "legendgroup": "Vogelenwijk",
         "line": {
          "color": "#ab63fa",
          "dash": "solid"
         },
         "marker": {
          "symbol": "circle"
         },
         "mode": "lines",
         "name": "Vogelenwijk",
         "orientation": "v",
         "showlegend": true,
         "type": "scatter",
         "x": [
          "2018-01-01T00:00:00",
          "2019-01-01T00:00:00",
          "2020-01-01T00:00:00",
          "2021-01-01T00:00:00",
          "2022-01-01T00:00:00",
          "2023-01-01T00:00:00"
         ],
         "xaxis": "x",
         "y": [
          2.3369327220060963,
          2.568100831097895,
          2.951546874549001,
          3.972745456167496,
          4.542782503381203,
          4.588886808315705
         ],
         "yaxis": "y"
        },
        {
         "hovertemplate": "regio=Delftwijk<br>year=%{x}<br>p_jz_tn=%{y}<extra></extra>",
         "legendgroup": "Delftwijk",
         "line": {
          "color": "#FFA15A",
          "dash": "solid"
         },
         "marker": {
          "symbol": "circle"
         },
         "mode": "lines",
         "name": "Delftwijk",
         "orientation": "v",
         "showlegend": true,
         "type": "scatter",
         "x": [
          "2018-01-01T00:00:00",
          "2019-01-01T00:00:00",
          "2020-01-01T00:00:00",
          "2021-01-01T00:00:00",
          "2022-01-01T00:00:00",
          "2023-01-01T00:00:00"
         ],
         "xaxis": "x",
         "y": [
          2.757778136930613,
          2.662421119747157,
          3.401948657653443,
          3.4286544874534632,
          3.9349433029040806,
          3.9819076364838315
         ],
         "yaxis": "y"
        },
        {
         "hovertemplate": "regio=Vondelkwartier<br>year=%{x}<br>p_jz_tn=%{y}<extra></extra>",
         "legendgroup": "Vondelkwartier",
         "line": {
          "color": "#19d3f3",
          "dash": "solid"
         },
         "marker": {
          "symbol": "circle"
         },
         "mode": "lines",
         "name": "Vondelkwartier",
         "orientation": "v",
         "showlegend": true,
         "type": "scatter",
         "x": [
          "2018-01-01T00:00:00",
          "2019-01-01T00:00:00",
          "2020-01-01T00:00:00",
          "2021-01-01T00:00:00",
          "2022-01-01T00:00:00",
          "2023-01-01T00:00:00"
         ],
         "xaxis": "x",
         "y": [
          2.951546874549001,
          3.765521741871318,
          3.401948657653443,
          3.715982113410358,
          3.799131134379895,
          3.440172891965353
         ],
         "yaxis": "y"
        },
        {
         "hovertemplate": "regio=Spaarndam<br>year=%{x}<br>p_jz_tn=%{y}<extra></extra>",
         "legendgroup": "Spaarndam",
         "line": {
          "color": "#FF6692",
          "dash": "solid"
         },
         "marker": {
          "symbol": "circle"
         },
         "mode": "lines",
         "name": "Spaarndam",
         "orientation": "v",
         "showlegend": true,
         "type": "scatter",
         "x": [
          "2018-01-01T00:00:00",
          "2019-01-01T00:00:00",
          "2020-01-01T00:00:00",
          "2021-01-01T00:00:00",
          "2022-01-01T00:00:00",
          "2023-01-01T00:00:00"
         ],
         "xaxis": "x",
         "y": [
          2.568100831097895,
          4.1402062889749836,
          5.923557833261669,
          2.2688996796154206,
          3.6083192820787215,
          3.7322696640083253
         ],
         "yaxis": "y"
        },
        {
         "hovertemplate": "regio=Europawijk<br>year=%{x}<br>p_jz_tn=%{y}<extra></extra>",
         "legendgroup": "Europawijk",
         "line": {
          "color": "#B6E880",
          "dash": "solid"
         },
         "marker": {
          "symbol": "circle"
         },
         "mode": "lines",
         "name": "Europawijk",
         "orientation": "v",
         "showlegend": true,
         "type": "scatter",
         "x": [
          "2018-01-01T00:00:00",
          "2019-01-01T00:00:00",
          "2020-01-01T00:00:00",
          "2021-01-01T00:00:00",
          "2022-01-01T00:00:00",
          "2023-01-01T00:00:00"
         ],
         "xaxis": "x",
         "y": [
          2.1125808635162797,
          2.3369327220060963,
          3.300172543463621,
          3.9338600697393677,
          4.613554058847093,
          4.4698812151094405
         ],
         "yaxis": "y"
        },
        {
         "hovertemplate": "regio=Boerhaavewijk<br>year=%{x}<br>p_jz_tn=%{y}<extra></extra>",
         "legendgroup": "Boerhaavewijk",
         "line": {
          "color": "#FF97FF",
          "dash": "solid"
         },
         "marker": {
          "symbol": "circle"
         },
         "mode": "lines",
         "name": "Boerhaavewijk",
         "orientation": "v",
         "showlegend": true,
         "type": "scatter",
         "x": [
          "2018-01-01T00:00:00",
          "2019-01-01T00:00:00",
          "2020-01-01T00:00:00",
          "2021-01-01T00:00:00",
          "2022-01-01T00:00:00",
          "2023-01-01T00:00:00"
         ],
         "xaxis": "x",
         "y": [
          1.6854438653503223,
          1.9813531506038313,
          2.291508788466975,
          5.984261986203381,
          5.42728953718474,
          4.317484257766188
         ],
         "yaxis": "y"
        },
        {
         "hovertemplate": "regio=Molenwijk<br>year=%{x}<br>p_jz_tn=%{y}<extra></extra>",
         "legendgroup": "Molenwijk",
         "line": {
          "color": "#FECB52",
          "dash": "solid"
         },
         "marker": {
          "symbol": "circle"
         },
         "mode": "lines",
         "name": "Molenwijk",
         "orientation": "v",
         "showlegend": true,
         "type": "scatter",
         "x": [
          "2018-01-01T00:00:00",
          "2019-01-01T00:00:00",
          "2020-01-01T00:00:00",
          "2021-01-01T00:00:00",
          "2022-01-01T00:00:00",
          "2023-01-01T00:00:00"
         ],
         "xaxis": "x",
         "y": [
          3.0994943883474426,
          3.2496415970636674,
          3.978293218427021,
          3.38917484514182,
          3.2496415970636674,
          3.4099272053513228
         ],
         "yaxis": "y"
        },
        {
         "hovertemplate": "regio=Meerwijk<br>year=%{x}<br>p_jz_tn=%{y}<extra></extra>",
         "legendgroup": "Meerwijk",
         "line": {
          "color": "#636efa",
          "dash": "solid"
         },
         "marker": {
          "symbol": "circle"
         },
         "mode": "lines",
         "name": "Meerwijk",
         "orientation": "v",
         "showlegend": true,
         "type": "scatter",
         "x": [
          "2018-01-01T00:00:00",
          "2019-01-01T00:00:00",
          "2020-01-01T00:00:00",
          "2021-01-01T00:00:00",
          "2022-01-01T00:00:00",
          "2023-01-01T00:00:00"
         ],
         "xaxis": "x",
         "y": [
          2.1568933408506665,
          2.201486955308005,
          2.6151304883468685,
          5.09403673572183,
          6.159217997581244,
          5.245912392832248
         ],
         "yaxis": "y"
        }
       ],
       "layout": {
        "legend": {
         "title": {
          "text": "regio"
         },
         "tracegroupgap": 0
        },
        "margin": {
         "t": 60
        },
        "template": {
         "data": {
          "bar": [
           {
            "error_x": {
             "color": "#2a3f5f"
            },
            "error_y": {
             "color": "#2a3f5f"
            },
            "marker": {
             "line": {
              "color": "#E5ECF6",
              "width": 0.5
             },
             "pattern": {
              "fillmode": "overlay",
              "size": 10,
              "solidity": 0.2
             }
            },
            "type": "bar"
           }
          ],
          "barpolar": [
           {
            "marker": {
             "line": {
              "color": "#E5ECF6",
              "width": 0.5
             },
             "pattern": {
              "fillmode": "overlay",
              "size": 10,
              "solidity": 0.2
             }
            },
            "type": "barpolar"
           }
          ],
          "carpet": [
           {
            "aaxis": {
             "endlinecolor": "#2a3f5f",
             "gridcolor": "white",
             "linecolor": "white",
             "minorgridcolor": "white",
             "startlinecolor": "#2a3f5f"
            },
            "baxis": {
             "endlinecolor": "#2a3f5f",
             "gridcolor": "white",
             "linecolor": "white",
             "minorgridcolor": "white",
             "startlinecolor": "#2a3f5f"
            },
            "type": "carpet"
           }
          ],
          "choropleth": [
           {
            "colorbar": {
             "outlinewidth": 0,
             "ticks": ""
            },
            "type": "choropleth"
           }
          ],
          "contour": [
           {
            "colorbar": {
             "outlinewidth": 0,
             "ticks": ""
            },
            "colorscale": [
             [
              0,
              "#0d0887"
             ],
             [
              0.1111111111111111,
              "#46039f"
             ],
             [
              0.2222222222222222,
              "#7201a8"
             ],
             [
              0.3333333333333333,
              "#9c179e"
             ],
             [
              0.4444444444444444,
              "#bd3786"
             ],
             [
              0.5555555555555556,
              "#d8576b"
             ],
             [
              0.6666666666666666,
              "#ed7953"
             ],
             [
              0.7777777777777778,
              "#fb9f3a"
             ],
             [
              0.8888888888888888,
              "#fdca26"
             ],
             [
              1,
              "#f0f921"
             ]
            ],
            "type": "contour"
           }
          ],
          "contourcarpet": [
           {
            "colorbar": {
             "outlinewidth": 0,
             "ticks": ""
            },
            "type": "contourcarpet"
           }
          ],
          "heatmap": [
           {
            "colorbar": {
             "outlinewidth": 0,
             "ticks": ""
            },
            "colorscale": [
             [
              0,
              "#0d0887"
             ],
             [
              0.1111111111111111,
              "#46039f"
             ],
             [
              0.2222222222222222,
              "#7201a8"
             ],
             [
              0.3333333333333333,
              "#9c179e"
             ],
             [
              0.4444444444444444,
              "#bd3786"
             ],
             [
              0.5555555555555556,
              "#d8576b"
             ],
             [
              0.6666666666666666,
              "#ed7953"
             ],
             [
              0.7777777777777778,
              "#fb9f3a"
             ],
             [
              0.8888888888888888,
              "#fdca26"
             ],
             [
              1,
              "#f0f921"
             ]
            ],
            "type": "heatmap"
           }
          ],
          "heatmapgl": [
           {
            "colorbar": {
             "outlinewidth": 0,
             "ticks": ""
            },
            "colorscale": [
             [
              0,
              "#0d0887"
             ],
             [
              0.1111111111111111,
              "#46039f"
             ],
             [
              0.2222222222222222,
              "#7201a8"
             ],
             [
              0.3333333333333333,
              "#9c179e"
             ],
             [
              0.4444444444444444,
              "#bd3786"
             ],
             [
              0.5555555555555556,
              "#d8576b"
             ],
             [
              0.6666666666666666,
              "#ed7953"
             ],
             [
              0.7777777777777778,
              "#fb9f3a"
             ],
             [
              0.8888888888888888,
              "#fdca26"
             ],
             [
              1,
              "#f0f921"
             ]
            ],
            "type": "heatmapgl"
           }
          ],
          "histogram": [
           {
            "marker": {
             "pattern": {
              "fillmode": "overlay",
              "size": 10,
              "solidity": 0.2
             }
            },
            "type": "histogram"
           }
          ],
          "histogram2d": [
           {
            "colorbar": {
             "outlinewidth": 0,
             "ticks": ""
            },
            "colorscale": [
             [
              0,
              "#0d0887"
             ],
             [
              0.1111111111111111,
              "#46039f"
             ],
             [
              0.2222222222222222,
              "#7201a8"
             ],
             [
              0.3333333333333333,
              "#9c179e"
             ],
             [
              0.4444444444444444,
              "#bd3786"
             ],
             [
              0.5555555555555556,
              "#d8576b"
             ],
             [
              0.6666666666666666,
              "#ed7953"
             ],
             [
              0.7777777777777778,
              "#fb9f3a"
             ],
             [
              0.8888888888888888,
              "#fdca26"
             ],
             [
              1,
              "#f0f921"
             ]
            ],
            "type": "histogram2d"
           }
          ],
          "histogram2dcontour": [
           {
            "colorbar": {
             "outlinewidth": 0,
             "ticks": ""
            },
            "colorscale": [
             [
              0,
              "#0d0887"
             ],
             [
              0.1111111111111111,
              "#46039f"
             ],
             [
              0.2222222222222222,
              "#7201a8"
             ],
             [
              0.3333333333333333,
              "#9c179e"
             ],
             [
              0.4444444444444444,
              "#bd3786"
             ],
             [
              0.5555555555555556,
              "#d8576b"
             ],
             [
              0.6666666666666666,
              "#ed7953"
             ],
             [
              0.7777777777777778,
              "#fb9f3a"
             ],
             [
              0.8888888888888888,
              "#fdca26"
             ],
             [
              1,
              "#f0f921"
             ]
            ],
            "type": "histogram2dcontour"
           }
          ],
          "mesh3d": [
           {
            "colorbar": {
             "outlinewidth": 0,
             "ticks": ""
            },
            "type": "mesh3d"
           }
          ],
          "parcoords": [
           {
            "line": {
             "colorbar": {
              "outlinewidth": 0,
              "ticks": ""
             }
            },
            "type": "parcoords"
           }
          ],
          "pie": [
           {
            "automargin": true,
            "type": "pie"
           }
          ],
          "scatter": [
           {
            "fillpattern": {
             "fillmode": "overlay",
             "size": 10,
             "solidity": 0.2
            },
            "type": "scatter"
           }
          ],
          "scatter3d": [
           {
            "line": {
             "colorbar": {
              "outlinewidth": 0,
              "ticks": ""
             }
            },
            "marker": {
             "colorbar": {
              "outlinewidth": 0,
              "ticks": ""
             }
            },
            "type": "scatter3d"
           }
          ],
          "scattercarpet": [
           {
            "marker": {
             "colorbar": {
              "outlinewidth": 0,
              "ticks": ""
             }
            },
            "type": "scattercarpet"
           }
          ],
          "scattergeo": [
           {
            "marker": {
             "colorbar": {
              "outlinewidth": 0,
              "ticks": ""
             }
            },
            "type": "scattergeo"
           }
          ],
          "scattergl": [
           {
            "marker": {
             "colorbar": {
              "outlinewidth": 0,
              "ticks": ""
             }
            },
            "type": "scattergl"
           }
          ],
          "scattermapbox": [
           {
            "marker": {
             "colorbar": {
              "outlinewidth": 0,
              "ticks": ""
             }
            },
            "type": "scattermapbox"
           }
          ],
          "scatterpolar": [
           {
            "marker": {
             "colorbar": {
              "outlinewidth": 0,
              "ticks": ""
             }
            },
            "type": "scatterpolar"
           }
          ],
          "scatterpolargl": [
           {
            "marker": {
             "colorbar": {
              "outlinewidth": 0,
              "ticks": ""
             }
            },
            "type": "scatterpolargl"
           }
          ],
          "scatterternary": [
           {
            "marker": {
             "colorbar": {
              "outlinewidth": 0,
              "ticks": ""
             }
            },
            "type": "scatterternary"
           }
          ],
          "surface": [
           {
            "colorbar": {
             "outlinewidth": 0,
             "ticks": ""
            },
            "colorscale": [
             [
              0,
              "#0d0887"
             ],
             [
              0.1111111111111111,
              "#46039f"
             ],
             [
              0.2222222222222222,
              "#7201a8"
             ],
             [
              0.3333333333333333,
              "#9c179e"
             ],
             [
              0.4444444444444444,
              "#bd3786"
             ],
             [
              0.5555555555555556,
              "#d8576b"
             ],
             [
              0.6666666666666666,
              "#ed7953"
             ],
             [
              0.7777777777777778,
              "#fb9f3a"
             ],
             [
              0.8888888888888888,
              "#fdca26"
             ],
             [
              1,
              "#f0f921"
             ]
            ],
            "type": "surface"
           }
          ],
          "table": [
           {
            "cells": {
             "fill": {
              "color": "#EBF0F8"
             },
             "line": {
              "color": "white"
             }
            },
            "header": {
             "fill": {
              "color": "#C8D4E3"
             },
             "line": {
              "color": "white"
             }
            },
            "type": "table"
           }
          ]
         },
         "layout": {
          "annotationdefaults": {
           "arrowcolor": "#2a3f5f",
           "arrowhead": 0,
           "arrowwidth": 1
          },
          "autotypenumbers": "strict",
          "coloraxis": {
           "colorbar": {
            "outlinewidth": 0,
            "ticks": ""
           }
          },
          "colorscale": {
           "diverging": [
            [
             0,
             "#8e0152"
            ],
            [
             0.1,
             "#c51b7d"
            ],
            [
             0.2,
             "#de77ae"
            ],
            [
             0.3,
             "#f1b6da"
            ],
            [
             0.4,
             "#fde0ef"
            ],
            [
             0.5,
             "#f7f7f7"
            ],
            [
             0.6,
             "#e6f5d0"
            ],
            [
             0.7,
             "#b8e186"
            ],
            [
             0.8,
             "#7fbc41"
            ],
            [
             0.9,
             "#4d9221"
            ],
            [
             1,
             "#276419"
            ]
           ],
           "sequential": [
            [
             0,
             "#0d0887"
            ],
            [
             0.1111111111111111,
             "#46039f"
            ],
            [
             0.2222222222222222,
             "#7201a8"
            ],
            [
             0.3333333333333333,
             "#9c179e"
            ],
            [
             0.4444444444444444,
             "#bd3786"
            ],
            [
             0.5555555555555556,
             "#d8576b"
            ],
            [
             0.6666666666666666,
             "#ed7953"
            ],
            [
             0.7777777777777778,
             "#fb9f3a"
            ],
            [
             0.8888888888888888,
             "#fdca26"
            ],
            [
             1,
             "#f0f921"
            ]
           ],
           "sequentialminus": [
            [
             0,
             "#0d0887"
            ],
            [
             0.1111111111111111,
             "#46039f"
            ],
            [
             0.2222222222222222,
             "#7201a8"
            ],
            [
             0.3333333333333333,
             "#9c179e"
            ],
            [
             0.4444444444444444,
             "#bd3786"
            ],
            [
             0.5555555555555556,
             "#d8576b"
            ],
            [
             0.6666666666666666,
             "#ed7953"
            ],
            [
             0.7777777777777778,
             "#fb9f3a"
            ],
            [
             0.8888888888888888,
             "#fdca26"
            ],
            [
             1,
             "#f0f921"
            ]
           ]
          },
          "colorway": [
           "#636efa",
           "#EF553B",
           "#00cc96",
           "#ab63fa",
           "#FFA15A",
           "#19d3f3",
           "#FF6692",
           "#B6E880",
           "#FF97FF",
           "#FECB52"
          ],
          "font": {
           "color": "#2a3f5f"
          },
          "geo": {
           "bgcolor": "white",
           "lakecolor": "white",
           "landcolor": "#E5ECF6",
           "showlakes": true,
           "showland": true,
           "subunitcolor": "white"
          },
          "hoverlabel": {
           "align": "left"
          },
          "hovermode": "closest",
          "mapbox": {
           "style": "light"
          },
          "paper_bgcolor": "white",
          "plot_bgcolor": "#E5ECF6",
          "polar": {
           "angularaxis": {
            "gridcolor": "white",
            "linecolor": "white",
            "ticks": ""
           },
           "bgcolor": "#E5ECF6",
           "radialaxis": {
            "gridcolor": "white",
            "linecolor": "white",
            "ticks": ""
           }
          },
          "scene": {
           "xaxis": {
            "backgroundcolor": "#E5ECF6",
            "gridcolor": "white",
            "gridwidth": 2,
            "linecolor": "white",
            "showbackground": true,
            "ticks": "",
            "zerolinecolor": "white"
           },
           "yaxis": {
            "backgroundcolor": "#E5ECF6",
            "gridcolor": "white",
            "gridwidth": 2,
            "linecolor": "white",
            "showbackground": true,
            "ticks": "",
            "zerolinecolor": "white"
           },
           "zaxis": {
            "backgroundcolor": "#E5ECF6",
            "gridcolor": "white",
            "gridwidth": 2,
            "linecolor": "white",
            "showbackground": true,
            "ticks": "",
            "zerolinecolor": "white"
           }
          },
          "shapedefaults": {
           "line": {
            "color": "#2a3f5f"
           }
          },
          "ternary": {
           "aaxis": {
            "gridcolor": "white",
            "linecolor": "white",
            "ticks": ""
           },
           "baxis": {
            "gridcolor": "white",
            "linecolor": "white",
            "ticks": ""
           },
           "bgcolor": "#E5ECF6",
           "caxis": {
            "gridcolor": "white",
            "linecolor": "white",
            "ticks": ""
           }
          },
          "title": {
           "x": 0.05
          },
          "xaxis": {
           "automargin": true,
           "gridcolor": "white",
           "linecolor": "white",
           "ticks": "",
           "title": {
            "standoff": 15
           },
           "zerolinecolor": "white",
           "zerolinewidth": 2
          },
          "yaxis": {
           "automargin": true,
           "gridcolor": "white",
           "linecolor": "white",
           "ticks": "",
           "title": {
            "standoff": 15
           },
           "zerolinecolor": "white",
           "zerolinewidth": 2
          }
         }
        },
        "xaxis": {
         "anchor": "y",
         "domain": [
          0,
          1
         ],
         "title": {
          "text": "year"
         }
        },
        "yaxis": {
         "anchor": "x",
         "domain": [
          0,
          1
         ],
         "title": {
          "text": "p_jz_tn"
         }
        }
       }
      }
     },
     "metadata": {},
     "output_type": "display_data"
    }
   ],
   "source": [
    "import plotly.io as pio\n",
    "pio.renderers.default = \"vscode\"\n",
    "import plotly.express as px\n",
    "fig = px.line(ts_amsterdam, x=\"year\", y=\"p_jz_tn\", color=\"regio\")\n",
    "fig.show()"
   ]
  },
  {
   "cell_type": "code",
   "execution_count": null,
   "metadata": {},
   "outputs": [],
   "source": []
  }
 ],
 "metadata": {
  "kernelspec": {
   "display_name": "Python 3",
   "language": "python",
   "name": "python3"
  },
  "language_info": {
   "codemirror_mode": {
    "name": "ipython",
    "version": 3
   },
   "file_extension": ".py",
   "mimetype": "text/x-python",
   "name": "python",
   "nbconvert_exporter": "python",
   "pygments_lexer": "ipython3",
   "version": "3.9.13"
  },
  "orig_nbformat": 4
 },
 "nbformat": 4,
 "nbformat_minor": 2
}
