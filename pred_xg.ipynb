{
 "cells": [
  {
   "attachments": {},
   "cell_type": "markdown",
   "metadata": {},
   "source": [
    "# XGBOOST 2020, 2021, 2022"
   ]
  },
  {
   "cell_type": "code",
   "execution_count": 2,
   "metadata": {},
   "outputs": [
    {
     "ename": "NameError",
     "evalue": "name 'pd' is not defined",
     "output_type": "error",
     "traceback": [
      "\u001b[1;31m---------------------------------------------------------------------------\u001b[0m",
      "\u001b[1;31mNameError\u001b[0m                                 Traceback (most recent call last)",
      "\u001b[1;32m~\\AppData\\Local\\Temp/ipykernel_16720/1425217967.py\u001b[0m in \u001b[0;36m<module>\u001b[1;34m\u001b[0m\n\u001b[0;32m     17\u001b[0m \u001b[1;33m\u001b[0m\u001b[0m\n\u001b[0;32m     18\u001b[0m \u001b[1;32mfor\u001b[0m \u001b[0mi\u001b[0m \u001b[1;32min\u001b[0m \u001b[0mrange\u001b[0m\u001b[1;33m(\u001b[0m\u001b[0mlen\u001b[0m\u001b[1;33m(\u001b[0m\u001b[0mstringlist\u001b[0m\u001b[1;33m)\u001b[0m\u001b[1;33m)\u001b[0m\u001b[1;33m:\u001b[0m\u001b[1;33m\u001b[0m\u001b[1;33m\u001b[0m\u001b[0m\n\u001b[1;32m---> 19\u001b[1;33m     \u001b[0mdf\u001b[0m \u001b[1;33m=\u001b[0m \u001b[0mappend_str_to_columns\u001b[0m\u001b[1;33m(\u001b[0m\u001b[0mpd\u001b[0m\u001b[1;33m.\u001b[0m\u001b[0mread_excel\u001b[0m\u001b[1;33m(\u001b[0m\u001b[0mdflist\u001b[0m\u001b[1;33m[\u001b[0m\u001b[0mi\u001b[0m\u001b[1;33m]\u001b[0m\u001b[1;33m)\u001b[0m\u001b[1;33m,\u001b[0m \u001b[0mstringlist\u001b[0m\u001b[1;33m[\u001b[0m\u001b[0mi\u001b[0m\u001b[1;33m]\u001b[0m\u001b[1;33m,\u001b[0m \u001b[0mexclude_columns\u001b[0m\u001b[1;33m)\u001b[0m\u001b[1;33m\u001b[0m\u001b[1;33m\u001b[0m\u001b[0m\n\u001b[0m\u001b[0;32m     20\u001b[0m     \u001b[0msavestring\u001b[0m \u001b[1;33m=\u001b[0m \u001b[1;34m'{}.csv'\u001b[0m\u001b[1;33m.\u001b[0m\u001b[0mformat\u001b[0m\u001b[1;33m(\u001b[0m\u001b[0mdflist\u001b[0m\u001b[1;33m[\u001b[0m\u001b[0mi\u001b[0m\u001b[1;33m]\u001b[0m\u001b[1;33m[\u001b[0m\u001b[1;33m:\u001b[0m\u001b[1;36m15\u001b[0m\u001b[1;33m]\u001b[0m\u001b[1;33m)\u001b[0m\u001b[1;33m\u001b[0m\u001b[1;33m\u001b[0m\u001b[0m\n\u001b[0;32m     21\u001b[0m     \u001b[0mdf\u001b[0m\u001b[1;33m.\u001b[0m\u001b[0mto_csv\u001b[0m\u001b[1;33m(\u001b[0m\u001b[0msavestring\u001b[0m\u001b[1;33m,\u001b[0m \u001b[0mindex\u001b[0m\u001b[1;33m=\u001b[0m\u001b[1;32mFalse\u001b[0m\u001b[1;33m)\u001b[0m\u001b[1;33m\u001b[0m\u001b[1;33m\u001b[0m\u001b[0m\n",
      "\u001b[1;31mNameError\u001b[0m: name 'pd' is not defined"
     ]
    }
   ],
   "source": [
    "# Deze code is al gerund, dus opnieuw runnen heeft geen zin.\n",
    "\n",
    "# def append_str_to_columns(df, str, exclude_columns):\n",
    "#     new_columns = []\n",
    "#     for column in df.columns:\n",
    "#         if column not in exclude_columns:\n",
    "#             new_columns.append(column[:7] + '{}'.format(str))\n",
    "#         else:\n",
    "#             new_columns.append(column)\n",
    "#     df.columns = new_columns\n",
    "#     return df\n",
    "\n",
    "# stringlist = [\"_2019\",\"_2020\"]\n",
    "# dflist = [\"./data/kwb-2019.xlsx\",\"./data/kwb-2020.xls\"]\n",
    "\n",
    "# exclude_columns = ['gwb_code_10', 'gwb_code_8', 'regio', 'gm_naam', 'recs', 'gwb_code']\n",
    "\n",
    "# for i in range(len(stringlist)):\n",
    "#     df = append_str_to_columns(pd.read_excel(dflist[i]), stringlist[i], exclude_columns)\n",
    "#     savestring = '{}.csv'.format(dflist[i][:15])\n",
    "#     df.to_csv(savestring, index=False)\n",
    "\n",
    "# Dit is ook uitgevoerd dus hoeft niet nog een keer.\n",
    "\n",
    "# zorg21 = zorg21[zorg21['VormenVanJeugdzorg'] == 'T001203']\n",
    "# zorg21 = zorg21[zorg21['Wijken'].str[:2] != 'BU']\n",
    "# kern21 = pd.read_excel('./data/kwb-2021.xls')\n",
    "# kern21 = kern21.applymap(lambda x: x.strip() if isinstance(x, str) else x)\n",
    "# kern21 = kern21[kern21['gwb_code_10'].str[:2] != 'BU']\n",
    "# df = kern21.merge(zorg21, left_on='gwb_code_10', right_on='Wijken', how='left')\n",
    "# df = df.replace('.', np.nan)\n",
    "\n",
    "\n",
    "# df = pd.read_excel(\"./data/kwb-2022.xls\")\n",
    "# zorg = pd.read_csv('./data/zorg22.csv')\n",
    "# zorg = zorg[['Wijken', 'p_jz_tn']]\n",
    "\n",
    "# df = df.drop('p_jz_tn', axis=1)\n",
    "# df = pd.merge(df, zorg, left_on='gwb_code_10', right_on='Wijken', how='left')\n",
    "# df.to_csv(\"./data/kwb-2022.csv\", index=False)"
   ]
  },
  {
   "cell_type": "code",
   "execution_count": 3,
   "metadata": {},
   "outputs": [],
   "source": [
    "import pandas as pd\n",
    "import xgboost as xgb\n",
    "import numpy as np\n",
    "from sklearn.model_selection import train_test_split\n",
    "from sklearn.metrics import mean_squared_error, r2_score\n",
    "\n",
    "kwb_20 = pd.read_excel('./data/kwb-2020.xls')\n",
    "zorg21 = pd.read_csv('./data/zorg21.csv')\n",
    "zorg22 = pd.read_csv('./data/zorg22.csv')\n",
    "kwb_20 = kwb_20[['gwb_code_10', 'p_jz_tn']]\n",
    "zorg21 = zorg21[['Wijken', 'p_jz_tn']]\n",
    "zorg22 = zorg22[['Wijken', 'p_jz_tn']]\n",
    "df = pd.merge(kwb_20, zorg21, left_on='gwb_code_10', right_on='Wijken', how='inner')\n",
    "df = pd.merge(df, zorg22, on='Wijken', how='inner')\n",
    "df.columns = ['gwb_code_10', 'p_jz_tn_20', 'Wijken', 'p_jz_tn_21', 'p_jz_tn_22']"
   ]
  },
  {
   "cell_type": "code",
   "execution_count": 4,
   "metadata": {},
   "outputs": [
    {
     "name": "stderr",
     "output_type": "stream",
     "text": [
      "C:\\Users\\stanf\\AppData\\Local\\Packages\\PythonSoftwareFoundation.Python.3.9_qbz5n2kfra8p0\\LocalCache\\local-packages\\Python39\\site-packages\\IPython\\core\\interactiveshell.py:3457: DtypeWarning: Columns (106,107) have mixed types.Specify dtype option on import or set low_memory=False.\n",
      "  exec(code_obj, self.user_global_ns, self.user_ns)\n",
      "C:\\Users\\stanf\\AppData\\Local\\Temp/ipykernel_16720/2915219861.py:16: FutureWarning: Dropping of nuisance columns in DataFrame reductions (with 'numeric_only=None') is deprecated; in a future version this will raise TypeError.  Select only valid columns before calling the reduction.\n",
      "  merged_df = combined_df.fillna(combined_df.mean())\n"
     ]
    },
    {
     "name": "stdout",
     "output_type": "stream",
     "text": [
      "Index(['a_inw_2013', 'a_man_2013', 'a_vrouw_2013', 'a_geb_2013', 'a_ste_2013',\n",
      "       'a_hh_2013', 'a_woning_2013', 'a_pau_2013', 'a_lftj6j_2013',\n",
      "       'a_lfto6j_2013',\n",
      "       ...\n",
      "       'Huisarts_11_2022', 'Jeugdarts_12_2022',\n",
      "       'GecertificeerdeInstelling_13_2022', 'MedischSpecialist_14_2022',\n",
      "       'RechterOfficierVanJustitie_15_2022', 'GeenVerwijzer_16_2022',\n",
      "       'VerwijzerOnbekend_17_2022', 'IndelingswijzigingWijken_21_2022',\n",
      "       'a_00_24_2022', 'p_jz_tn_y_2022'],\n",
      "      dtype='object', length=524)\n"
     ]
    }
   ],
   "source": [
    "# List of columns to exclude from merging\n",
    "exclude_columns = ['gwb_code_8', 'regio', 'gm_naam', 'recs', 'gwb_code']\n",
    "\n",
    "# Load and combine datasets\n",
    "dfs = []\n",
    "for year in range(2013, 2023):\n",
    "    filename = f'./data/kwb-{year}.csv'\n",
    "    df = pd.read_csv(filename)\n",
    "    if year == 2013:\n",
    "        combined_df = df\n",
    "    else:\n",
    "        combined_df = pd.merge(combined_df, df, on='gwb_code_10', how='outer', suffixes=('', f'_{year}'))\n",
    "\n",
    "# Merge datasets based on 'gwb_code_10'\n",
    "merged_df = combined_df.replace([np.inf, -np.inf, np.nan], np.nan)\n",
    "merged_df = combined_df.fillna(combined_df.mean())\n",
    "merged_df = merged_df.drop(exclude_columns, axis=1)\n",
    "\n",
    "for col in merged_df.columns:\n",
    "    try:\n",
    "        merged_df[col] = merged_df[col].astype(float)\n",
    "    except ValueError:\n",
    "        merged_df = merged_df.drop(col, axis=1)\n",
    "\n",
    "print(merged_df.columns)\n",
    "\n",
    "# Extract features and target variable\n",
    "target = merged_df['p_jz_tn_y_2022']\n",
    "features = merged_df.drop('p_jz_tn_y_2022', axis=1)"
   ]
  },
  {
   "cell_type": "code",
   "execution_count": 5,
   "metadata": {},
   "outputs": [
    {
     "name": "stdout",
     "output_type": "stream",
     "text": [
      "Mean Squared Error: 0.5749127657914481\n",
      "R^2 Score: 0.8563592789189866\n"
     ]
    }
   ],
   "source": [
    "# Split data into training and testing sets\n",
    "X_train, X_test, y_train, y_test = train_test_split(features, target, test_size=0.2, random_state=42)\n",
    "\n",
    "# Train XGBoost model\n",
    "xgb_model = xgb.XGBRegressor()\n",
    "xgb_model.fit(X_train, y_train)\n",
    "\n",
    "# Make predictions on the testing set\n",
    "y_pred = xgb_model.predict(X_test)\n",
    "\n",
    "# Calculate evaluation metrics\n",
    "mse = mean_squared_error(y_test, y_pred)\n",
    "r2 = r2_score(y_test, y_pred)\n",
    "\n",
    "print(\"Mean Squared Error:\", mse)\n",
    "print(\"R^2 Score:\", r2)"
   ]
  },
  {
   "cell_type": "code",
   "execution_count": 6,
   "metadata": {},
   "outputs": [],
   "source": [
    "predictions_2023 = xgb_model.predict(features)\n",
    "\n",
    "# Optional: Save predictions to a CSV file\n",
    "predictions_2023_df = pd.DataFrame({'p_jz_tn_2023': predictions_2023})\n",
    "predictions_2023_df.to_csv('predictions_2023.csv', index=False)"
   ]
  },
  {
   "cell_type": "code",
   "execution_count": null,
   "metadata": {},
   "outputs": [],
   "source": []
  }
 ],
 "metadata": {
  "kernelspec": {
   "display_name": "Python 3",
   "language": "python",
   "name": "python3"
  },
  "language_info": {
   "codemirror_mode": {
    "name": "ipython",
    "version": 3
   },
   "file_extension": ".py",
   "mimetype": "text/x-python",
   "name": "python",
   "nbconvert_exporter": "python",
   "pygments_lexer": "ipython3",
   "version": "3.9.13"
  },
  "orig_nbformat": 4
 },
 "nbformat": 4,
 "nbformat_minor": 2
}
